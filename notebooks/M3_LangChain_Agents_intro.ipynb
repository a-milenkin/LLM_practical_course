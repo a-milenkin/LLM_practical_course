{
 "cells": [
  {
   "cell_type": "markdown",
   "id": "3d6bf25d-6a5e-48de-810c-4eafdec8783a",
   "metadata": {},
   "source": [
    "# <center id=\"c1\"> 🛠 Tools и tools calling в LangChain 🦜🔗</center>\n"
   ]
  },
  {
   "cell_type": "markdown",
   "id": "ec30b379-e427-4557-bf9f-7262ee23828c",
   "metadata": {},
   "source": [
    "\n",
    "<img src='../images/agent_tool_calling.png' align=\"right\" width=\"500\" height=\"500\" />\n",
    "\n",
    "### Оглавление \n",
    "\n",
    "<p><font size=\"3\" face=\"Arial\" font-size=\"large\"><ul type=\"square\">\n",
    "    \n",
    "<li><a href=\"#c1\">🚀 Введение </a></li>\n",
    "<li><a href=\"#c2\">🛠 Инструменты для LLM 🤖</a></li>\n",
    "<li><a href=\"#c3\">Встроенные инструменты LangChain </a>\n",
    "<li><a href=\"#c4\">✍️🪡 Пишем инструменты сами!</a>\n",
    "<li><a href=\"#c6\">🗣 Tools calling = function calling</a>\n",
    "<li><a href=\"#c7\">🛠🪚 Пример с несколькими инструментами.</a>\n",
    "<li><a href=\"#c7\">Инструменты от OpenAI.</a>\n",
    "<li><a href=\"#c5\"> 🧸 Выводы и заключения ✅</a>\n",
    "    \n",
    "</ul></font></p>"
   ]
  },
  {
   "cell_type": "markdown",
   "id": "e36031fd-9692-49c2-b91a-922b8a1370c1",
   "metadata": {},
   "source": [
    "### 🛠 В этом ноутбуке узнаем, как создавать инструменты и передавать их модели."
   ]
  },
  {
   "cell_type": "markdown",
   "id": "0249700b-40ed-4d3c-9975-140cac0bfc3e",
   "metadata": {},
   "source": [
    "<div class=\"alert alert-info\" style=\"padding:10px; border-width:3px; border-color:#efe6ef; border-style:solid; border-radius:6px\">\n",
    "    \n",
    "📖 При всех выдающихся результатах `LLM` в решении различных задач, модель не сможет ответить на такой простой вопрос: \"Какой сегодня день недели?\" или о каком-то событии, которое произошло месяц назад, так не сохранила данную информацию в весах во время обучения. "
   ]
  },
  {
   "cell_type": "markdown",
   "id": "46213bcb-7dac-451c-9b97-3ccc1f0a0dff",
   "metadata": {},
   "source": [
    "<div class=\"alert alert-success\" style=\"background-color:#e6ffe6; padding:13px; border-width:3px; border-color:#efe6ef; border-style:solid; border-radius:6px\">\n",
    "    \n",
    "☝️  На помощь LLM приходят инструменты (`tools`) взаимодействия с внешним миром, которыми она может пользоваться при необходимости. "
   ]
  },
  {
   "cell_type": "markdown",
   "id": "3de7b6dc-c16a-4926-adf2-552ce5dfb9a1",
   "metadata": {},
   "source": [
    "<div class=\"alert alert-info\" style=\"padding:10px; border-width:3px; border-color:#efe6ef; border-style:solid; border-radius:6px\">\n",
    "    \n",
    "Модель с инструментами, это основа для концепции  **автономных агентов**, кторую мы будем подробно рассматривать в следующем модуле."
   ]
  },
  {
   "cell_type": "code",
   "execution_count": 1,
   "id": "f136edc2-cfc9-4174-b19d-7297869fbf2c",
   "metadata": {
    "tags": []
   },
   "outputs": [],
   "source": [
    "from getpass import getpass\n",
    "import warnings, os\n",
    "warnings.filterwarnings('ignore')"
   ]
  },
  {
   "cell_type": "code",
   "execution_count": 2,
   "id": "5187a29a-8918-4c17-b8e3-b5bef1c57c3b",
   "metadata": {
    "tags": []
   },
   "outputs": [],
   "source": [
    "!pip install langchain langchain_experimental langchain-classic langchain-community langchain-openai openai numexpr wikipedia -q -U"
   ]
  },
  {
   "cell_type": "code",
   "execution_count": 3,
   "id": "4ac87aa2-1813-409c-bbaf-51a715b38dca",
   "metadata": {
    "jupyter": {
     "source_hidden": true
    },
    "tags": []
   },
   "outputs": [],
   "source": [
    "# # Если используете ключ от OpenAI, запустите эту ячейку\n",
    "# from langchain_openai import ChatOpenAI\n",
    "\n",
    "# # os.environ['OPENAI_API_KEY'] = \"Введите ваш OpenAI API ключ\"\n",
    "# os.environ['OPENAI_API_KEY'] = getpass(prompt='Введите ваш OpenAI API ключ')\n",
    "\n",
    "# # инициализируем языковую модель\n",
    "# llm = ChatOpenAI(temperature=0.0)"
   ]
  },
  {
   "cell_type": "code",
   "execution_count": 5,
   "id": "a32eddae-5c2f-4b38-8c77-39a93741d6ae",
   "metadata": {
    "tags": []
   },
   "outputs": [
    {
     "name": "stdin",
     "output_type": "stream",
     "text": [
      "Введите ваш ключ, полученный в боте курса ········\n"
     ]
    }
   ],
   "source": [
    "# Если используете ключ из курса, запустите эту ячейку\n",
    "from langchain_openai import ChatOpenAI\n",
    "\n",
    "#course_api_key= \"Введите ваш ключ, полученный в боте курса\"\n",
    "course_api_key = getpass(prompt=\"Введите ваш ключ, полученный в боте курса\")\n",
    "\n",
    "# инициализируем языковую модель\n",
    "llm = ChatOpenAI(api_key=course_api_key, model='gpt-4o-mini', \n",
    "                 base_url=\"https://aleron-llm.neuraldeep.tech/\")"
   ]
  },
  {
   "cell_type": "markdown",
   "id": "6f4043e3-fc75-4919-b942-aa2343397bc5",
   "metadata": {},
   "source": [
    " #  <center id=\"c2\"> 🛠🪚  Инструменты для LLM 🤖\n",
    "\n",
    "📖 В `LangChain` существует несколько возможностей создавать и использовать инструменты:"
   ]
  },
  {
   "cell_type": "markdown",
   "id": "2fd6b93e-a9ac-4f0e-b951-f06726575320",
   "metadata": {},
   "source": [
    "<div class=\"alert alert-info\" style=\"padding:10px; border-width:3px; border-color:#efe6ef; border-style:solid; border-radius:6px\">\n",
    "\n",
    "* **Встроенные интеграции в фреймворк** (импортируются из `LangChain`):\n",
    "   - `Tools` - просто импортируем и используем, например, Wikipedia, веб-поиск, Python REPL и пр.([полный список](https://python.langchain.com/docs/integrations/tools/))\n",
    "   - `Toolkits` - целый ящик инструментов под задачу (например, `SQLToolkit`, `GitHubToolkit`)\n",
    "* **Самописные инструменты** - их можно создавать различными способами из Python-функций или из сторонних API, на основе базовых классов.\n",
    "* **Инструменты от вендоров моделей** - крупные вендоры (`OpenAI`, `Google`, `Anthropic`) предоставляют инструменты, которые можно использовать при обращении к моделям по API."
   ]
  },
  {
   "cell_type": "markdown",
   "id": "90869dc2-067c-4bd1-bc26-7467e624f258",
   "metadata": {},
   "source": [
    "## <center>Встроенные инструменты `LangChain`</center>"
   ]
  },
  {
   "cell_type": "markdown",
   "id": "219e4276-b822-4f8d-ae68-657d2d90775b",
   "metadata": {},
   "source": [
    "<div class=\"alert alert-info\" style=\"padding:10px; border-width:3px; border-color:#efe6ef; border-style:solid; border-radius:6px\">\n",
    "\n",
    "Начнём с инструментов, встроенных в `LangChain`, для примера возьмём инструмент `Wikipedia`, чтобы им воспользоваться необходимо дополнительно установить пакет для доступа к Википедии по АПИ: `!pip install wikipedia`"
   ]
  },
  {
   "cell_type": "code",
   "execution_count": null,
   "id": "07a807a2-8801-49d0-9bac-2c2d59dd7200",
   "metadata": {},
   "outputs": [],
   "source": [
    "#!pip install wikipedia -q"
   ]
  },
  {
   "cell_type": "code",
   "execution_count": 6,
   "id": "73333bea-1f9e-4414-b018-7501471d78c1",
   "metadata": {
    "tags": []
   },
   "outputs": [
    {
     "name": "stdout",
     "output_type": "stream",
     "text": [
      "Page: Large language model\n",
      "Summary: A large language model (LLM) is a language model trained with self-supervised machine learning on \n"
     ]
    }
   ],
   "source": [
    "from langchain_community.tools import WikipediaQueryRun\n",
    "from langchain_community.utilities import WikipediaAPIWrapper\n",
    "\n",
    "# Импортируем обёртку для доступа по API\n",
    "api_wrapper = WikipediaAPIWrapper(top_k_results=1, # сколько результатов из поиска выводить\n",
    "                                  doc_content_chars_max=134) # Максимальная длина саммари ответа\n",
    "\n",
    "# Инициализируем инструмент\n",
    "tool = WikipediaQueryRun(api_wrapper=api_wrapper)\n",
    "\n",
    "print(tool.invoke({\"query\": \"LLM\"}))"
   ]
  },
  {
   "cell_type": "markdown",
   "id": "b3aa3146-2d85-4602-a7fe-290da7f93310",
   "metadata": {},
   "source": [
    "<div class=\"alert alert-success\">\n",
    "\n",
    "☝️ Как вы уже догадались, `tool` в `LangChain` тоже является `Runnable`, его можно также вызывать, использовать в цепочках и.т.п. "
   ]
  },
  {
   "cell_type": "markdown",
   "id": "e9fa8d23-6b55-4060-a2c8-777f0bed768f",
   "metadata": {},
   "source": [
    "<div class=\"alert alert-info\" style=\"padding:10px; border-width:3px; border-color:#efe6ef; border-style:solid; border-radius:6px\">\n",
    "\n",
    "Ещё один способ вызвать встроенный инструмент, это загрузить его по зарезервированному имени с помощью `load_tools`. <br>\n",
    "Часто встречающиеся имена : `serpapi`, `llm-math`, `wikipedia`, `google-search`, `python_repl`, `requests`, `openweathermap`, `wolfram-alpha`, `arxiv` и др. Закрепленные имена смотрите в описании к каждому инструменту."
   ]
  },
  {
   "cell_type": "markdown",
   "id": "5b378669-68a8-49a7-ae97-dc32cf39f151",
   "metadata": {},
   "source": [
    "Для примера возьмём Википедию и калькулятор. "
   ]
  },
  {
   "cell_type": "code",
   "execution_count": 7,
   "id": "ba3cec33-6539-4bd1-94e9-35f25b621d2b",
   "metadata": {},
   "outputs": [
    {
     "data": {
      "text/plain": [
       "(list, 2)"
      ]
     },
     "execution_count": 7,
     "metadata": {},
     "output_type": "execute_result"
    }
   ],
   "source": [
    "from langchain.agents import load_tools\n",
    "\n",
    "tools = load_tools([\"wikipedia\", \"llm-math\"], llm=llm)\n",
    "\n",
    "# Получаем список из 2-х тулов\n",
    "type(tools), len(tools)"
   ]
  },
  {
   "cell_type": "code",
   "execution_count": 8,
   "id": "b4bb5103-c2dd-4582-89b4-6d370d305419",
   "metadata": {},
   "outputs": [
    {
     "data": {
      "text/plain": [
       "WikipediaQueryRun(api_wrapper=WikipediaAPIWrapper(wiki_client=<module 'wikipedia' from '/home/jovyan/venvs/sinara/lib/python3.10/site-packages/wikipedia/__init__.py'>, top_k_results=3, lang='en', load_all_available_meta=False, doc_content_chars_max=4000))"
      ]
     },
     "execution_count": 8,
     "metadata": {},
     "output_type": "execute_result"
    }
   ],
   "source": [
    "# Видим, что tool Wikipedia загрузился с параметрами по умолчанию\n",
    "# Загружать топ-3 результата, на Английском, и 4000 символов\n",
    "tools[0]"
   ]
  },
  {
   "cell_type": "code",
   "execution_count": 9,
   "id": "c46ee6e0-cbbd-483a-8bf3-43a39c8f4749",
   "metadata": {
    "tags": []
   },
   "outputs": [
    {
     "data": {
      "text/plain": [
       "('Calculator', 'Useful for when you need to answer questions about math.')"
      ]
     },
     "execution_count": 9,
     "metadata": {},
     "output_type": "execute_result"
    }
   ],
   "source": [
    "# Каждый инструмент должен иметь имя и описание, которые можно достать методами\n",
    "tools[1].name, tools[1].description"
   ]
  },
  {
   "cell_type": "code",
   "execution_count": 10,
   "id": "56d8c1c1-9f6c-4ab2-b0f6-e00aacbb8018",
   "metadata": {
    "tags": []
   },
   "outputs": [
    {
     "data": {
      "text/plain": [
       "'Answer: 11.650000000000002'"
      ]
     },
     "execution_count": 10,
     "metadata": {},
     "output_type": "execute_result"
    }
   ],
   "source": [
    "# Проверим калькулятор\n",
    "tools[1].invoke(\"Сколько будет (4.5*2.1)+2.2?\")"
   ]
  },
  {
   "cell_type": "code",
   "execution_count": 11,
   "id": "f8ba035a-bf2f-431c-9c03-42192b49eaf8",
   "metadata": {
    "tags": []
   },
   "outputs": [
    {
     "data": {
      "text/plain": [
       "11.650000000000002"
      ]
     },
     "execution_count": 11,
     "metadata": {},
     "output_type": "execute_result"
    }
   ],
   "source": [
    "# Проверим\n",
    "(4.5*2.1)+2.2"
   ]
  },
  {
   "cell_type": "markdown",
   "id": "7fc54b9c-91dd-4ef7-827b-3fb728a87ecc",
   "metadata": {},
   "source": [
    "<div  class=\"alert alert-success\" style=\"background-color:#e6ffe6; padding:13px; border-width:3px; border-color:#efe6ef; border-style:solid; border-radius:6px\">\n",
    "    \n",
    "✅ Верно! Попробуем по сложнее:"
   ]
  },
  {
   "cell_type": "code",
   "execution_count": 12,
   "id": "bc2e8361-9eca-4767-a1a2-2defab14527c",
   "metadata": {
    "tags": []
   },
   "outputs": [
    {
     "data": {
      "text/plain": [
       "'Answer: 23.0'"
      ]
     },
     "execution_count": 12,
     "metadata": {},
     "output_type": "execute_result"
    }
   ],
   "source": [
    "tools[1].invoke('''У Маши было 3 яблока, Гриша принёс ещё 2 с половиной ящика яблок.\n",
    "            Сколько всего яблок у ребят, если ящик вмещает 8 яблок?''')"
   ]
  },
  {
   "cell_type": "markdown",
   "id": "bf5d8edf-8cc8-46da-a17a-8437ed0dac4d",
   "metadata": {},
   "source": [
    "<div style=\"background-color:#e6ffe6; padding:13px; border-width:3px; border-color:#efe6ef; border-style:solid; border-radius:6px\">\n",
    "✅ Тоже верно! Но может получиться не с первого раза"
   ]
  },
  {
   "cell_type": "markdown",
   "id": "e2fbb35b-3e75-4e64-befd-924c2372664d",
   "metadata": {},
   "source": [
    "### Так же с помощью `load_tools` можно подгрузить такой интересный tool:\n",
    "```python\n",
    "tools = load_tools([\"human\"])\n",
    "```\n",
    "\n",
    "<div class=\"alert alert-info\" style=\"padding:10px; border-width:3px; border-color:#efe6ef; border-style:solid; border-radius:6px\">\n",
    "\n",
    "📖 В документации к этому tool сказано:\n",
    "> Human are AGI so they can certainly be used as a tool to help out AI agent when it is confused.\n",
    "\n",
    "[Здесь](https://python.langchain.com/docs/integrations/tools/human_tools) можно прочитать про этот инструмент подробнее, пока ещё ИИ не может справиться без нас 🫣"
   ]
  },
  {
   "cell_type": "markdown",
   "id": "f1628c4e-b0b0-4266-ba92-9b04c14726c5",
   "metadata": {},
   "source": [
    "## <center>✍️🪡 Пишем инструменты сами!</center>\n"
   ]
  },
  {
   "cell_type": "markdown",
   "id": "1b7a757f-f716-4b96-a434-450a1de74904",
   "metadata": {},
   "source": [
    "<div class=\"alert alert-info\" style=\"padding:10px; border-width:3px; border-color:#efe6ef; border-style:solid; border-radius:6px\">\n",
    "    \n",
    "Тут важно заметить, что в `LangChain` есть 2 типа инструментов:\n",
    "* класс `Tool` - принимает 1 аргумент на вход (функция с одним аргументом)\n",
    "* класс `StructuredTool` - принимает на вход любое количество аргументов"
   ]
  },
  {
   "cell_type": "markdown",
   "id": "138d795a-6a15-4ad5-a2a4-63fbf585d6ed",
   "metadata": {},
   "source": [
    "☝️ Это стоит учитывать при написании собственных тулов.  "
   ]
  },
  {
   "cell_type": "code",
   "execution_count": 14,
   "id": "179bee1c-c828-42cb-b3d3-1870d95b38b6",
   "metadata": {},
   "outputs": [
    {
     "data": {
      "text/plain": [
       "9"
      ]
     },
     "execution_count": 14,
     "metadata": {},
     "output_type": "execute_result"
    }
   ],
   "source": [
    "# Напишем функцию, которая считает количество символов в слове\n",
    "def word_len(word):\n",
    "    return len(word)\n",
    "    \n",
    "word_len('langchain')"
   ]
  },
  {
   "cell_type": "code",
   "execution_count": 15,
   "id": "6dcaef08-4907-4763-8064-280c60e13f1d",
   "metadata": {
    "tags": []
   },
   "outputs": [
    {
     "data": {
      "text/plain": [
       "Tool(name='Word Length', description='Считает количество символов в слове', func=<function word_len at 0x7f16bd8724d0>)"
      ]
     },
     "execution_count": 15,
     "metadata": {},
     "output_type": "execute_result"
    }
   ],
   "source": [
    "from langchain_core.tools import Tool, StructuredTool\n",
    "\n",
    "# создаём tool, так как 1 аргумент используем класс Tool\n",
    "word_len_tool = Tool(\n",
    "    name='Word Length',\n",
    "    func=word_len,\n",
    "    description='Считает количество символов в слове'\n",
    ")\n",
    "\n",
    "word_len_tool"
   ]
  },
  {
   "cell_type": "code",
   "execution_count": 16,
   "id": "9adacb22-d86c-44bb-9195-7391ce827719",
   "metadata": {},
   "outputs": [
    {
     "data": {
      "text/plain": [
       "3"
      ]
     },
     "execution_count": 16,
     "metadata": {},
     "output_type": "execute_result"
    }
   ],
   "source": [
    "# Вызовем tool\n",
    "word_len_tool.invoke('LLM')"
   ]
  },
  {
   "cell_type": "code",
   "execution_count": 17,
   "id": "87526b59-279b-4c7e-84fb-2efc236145d4",
   "metadata": {},
   "outputs": [
    {
     "data": {
      "text/plain": [
       "10"
      ]
     },
     "execution_count": 17,
     "metadata": {},
     "output_type": "execute_result"
    }
   ],
   "source": [
    "word_len_tool.invoke('Автомобиль')"
   ]
  },
  {
   "cell_type": "markdown",
   "id": "f26cff1c-4915-4bd0-84ec-60a1e5e49c92",
   "metadata": {},
   "source": [
    "<div style=\"background-color:#e6ffe6; padding:13px; border-width:3px; border-color:#efe6ef; border-style:solid; border-radius:6px\">\n",
    "✅ Работает! Теперь попробуем с несколькими аргументами"
   ]
  },
  {
   "cell_type": "code",
   "execution_count": 23,
   "id": "589c5c06-4e90-4f77-8ec2-86e0e2b5a82e",
   "metadata": {},
   "outputs": [],
   "source": [
    "# Добавим к функции несколько аргументов, и аннотации типов\n",
    "def word_len_plus(word: str, b: int, g: int) -> int:\n",
    "    \"\"\"Считает количество символов в слове и прибавляет к ним числа\"\"\" # Обязательно добавляем docstring\n",
    "    return len(word) + b - g"
   ]
  },
  {
   "cell_type": "code",
   "execution_count": 24,
   "id": "0e1d19cd-7884-4ff6-8595-12737a5ba9d7",
   "metadata": {},
   "outputs": [
    {
     "data": {
      "text/plain": [
       "StructuredTool(name='word_len_plus', description='Считает количество символов в слове и прибавляет к ним числа', args_schema=<class 'langchain_core.utils.pydantic.word_len_plus'>, func=<function word_len_plus at 0x7f163c14b9a0>)"
      ]
     },
     "execution_count": 24,
     "metadata": {},
     "output_type": "execute_result"
    }
   ],
   "source": [
    "# другой способ создания тула методом from_function\n",
    "word_len_tool_plus = StructuredTool.from_function(func=word_len_plus)\n",
    "\n",
    "# Видим, что описание, название и пр. подхватились автоматически из docstring и аннотации\n",
    "word_len_tool_plus"
   ]
  },
  {
   "cell_type": "code",
   "execution_count": 25,
   "id": "ad63936b-a3b3-4610-b8cc-1dedb40a2bd8",
   "metadata": {
    "tags": []
   },
   "outputs": [
    {
     "data": {
      "text/plain": [
       "2"
      ]
     },
     "execution_count": 25,
     "metadata": {},
     "output_type": "execute_result"
    }
   ],
   "source": [
    "word_len_tool_plus.invoke({'word': 'LLM', 'b': 2, 'g': 3})"
   ]
  },
  {
   "cell_type": "markdown",
   "id": "ce040845-5c14-4a09-b47c-08eff46db6fe",
   "metadata": {},
   "source": [
    "<div style=\"background-color:#e6ffe6; padding:13px; border-width:3px; border-color:#efe6ef; border-style:solid; border-radius:6px\">\n",
    "    \n",
    "✅ **Отработал верно!** Если бы мы использовали просто `Tool` - упал бы с ошибкой."
   ]
  },
  {
   "cell_type": "markdown",
   "id": "aad3cf84-b42d-4813-8346-0a676f6eaa33",
   "metadata": {},
   "source": [
    "<div class=\"alert alert-info\" style=\"padding:10px; border-width:3px; border-color:#efe6ef; border-style:solid; border-radius:6px\">\n",
    "\n",
    "📖 Самый простой способ создавать `tools` и не думать сколько там аргументов у функции, это декоратор `@tool`, который автоматически определяет какой будет инструмент."
   ]
  },
  {
   "cell_type": "code",
   "execution_count": 26,
   "id": "1c14dfff-0206-491e-bd06-04ca34bd2024",
   "metadata": {},
   "outputs": [
    {
     "name": "stdout",
     "output_type": "stream",
     "text": [
      "summ\n",
      "Складывает 2 целых числа\n",
      "{'a': {'title': 'A', 'type': 'integer'}, 'b': {'title': 'B', 'type': 'integer'}}\n"
     ]
    }
   ],
   "source": [
    "from langchain_core.tools import tool\n",
    "\n",
    "@tool\n",
    "def summ(a: int, b: int) -> int:\n",
    "    \"\"\"Складывает 2 целых числа\"\"\"\n",
    "    return a + b\n",
    "\n",
    "print(summ.name)\n",
    "print(summ.description)\n",
    "print(summ.args)"
   ]
  },
  {
   "cell_type": "code",
   "execution_count": 27,
   "id": "667d6d5f-db56-456c-9f80-e1734db7fd82",
   "metadata": {},
   "outputs": [
    {
     "data": {
      "text/plain": [
       "StructuredTool(name='summ', description='Складывает 2 целых числа', args_schema=<class 'langchain_core.utils.pydantic.summ'>, func=<function summ at 0x7f163c14bb50>)"
      ]
     },
     "execution_count": 27,
     "metadata": {},
     "output_type": "execute_result"
    }
   ],
   "source": [
    "summ # Декоратор сам определил, что это StructuredTool"
   ]
  },
  {
   "cell_type": "code",
   "execution_count": 28,
   "id": "6697aecb-4634-4b91-97b8-a7551fbb1909",
   "metadata": {},
   "outputs": [
    {
     "data": {
      "text/plain": [
       "8"
      ]
     },
     "execution_count": 28,
     "metadata": {},
     "output_type": "execute_result"
    }
   ],
   "source": [
    "# попробуем сложить 2 числа \n",
    "summ.invoke({'a': 3, 'b': 5})"
   ]
  },
  {
   "cell_type": "markdown",
   "id": "2b52b3ec-9ac5-4352-829c-12771fcef9ae",
   "metadata": {},
   "source": [
    "<div class=\"alert alert-warning\">\n",
    "    \n",
    "<img src='../images/verr.png'>\n",
    "\n",
    "Получим `ValidationError`, потому что на вход ожидаются целые числа."
   ]
  },
  {
   "cell_type": "markdown",
   "id": "ae785597-40d0-43fe-a24e-f1c4c847178d",
   "metadata": {},
   "source": [
    "## <center>🗣 Tools calling = LLM с инструментами </center>\n"
   ]
  },
  {
   "cell_type": "markdown",
   "id": "3a7cc1e5-a15f-4bcf-b5e1-7289e49c9226",
   "metadata": {},
   "source": [
    "\n",
    "Наделали мы кучу разных инструментов, как же их теперь использовать с нашей LLM?! "
   ]
  },
  {
   "cell_type": "markdown",
   "id": "4d8bdb53-3cc7-4410-8f19-4957828a7399",
   "metadata": {},
   "source": [
    "<img src='../images/tc2.png'>\n",
    "\n",
    "📖 **Смотрим на схему:**\n",
    "\n",
    "<div class=\"alert alert-info\" style=\"padding:10px; border-width:3px; border-color:#efe6ef; border-style:solid; border-radius:6px\">\n",
    "    \n",
    "1. **Создание инструмента** - с этим пунктом разобрались, инструмент импортировали или написали.\n",
    "2. **Привязка инструмента** - инструмент должен быть подключен к модели, которая поддерживает вызов инструмента. Это дает модели информацию об инструменте и связанной схеме ввода, требуемой инструментом. Так же важно, чтобы ваша модель поддерживала `tool calling`\n",
    "3. **Вызов инструмента** - при необходимости модель может принять решение о вызове инструмента и убедиться, что его ответ соответствует схеме ввода инструмента. Так же важо, чтобы ваша модель поддерживала `tool calling` (возможно вы слышали как `function calling`) - [список вендоров моделей](https://python.langchain.com/docs/integrations/chat/).\n",
    "4. **Использование инструмента** - инструмент может быть запущен с использованием аргументов, предоставленных моделью."
   ]
  },
  {
   "cell_type": "markdown",
   "id": "d07bca19-3750-4f96-8386-2e6a90fc62cf",
   "metadata": {},
   "source": [
    "<div class=\"alert alert-info\" style=\"padding:10px; border-width:3px; border-color:#efe6ef; border-style:solid; border-radius:6px\">\n",
    "\n",
    "Обобщив, можно сказать, что модель после получения пользовательского ввода смотрит какие у неё есть инструменты, решает какой(-ие) в данной ситуации применить (или никакого), вычленяет из запроса конкретные аргументы для подачи в инструмент."
   ]
  },
  {
   "cell_type": "markdown",
   "id": "628e6312-4b34-4ce4-9842-27dc01320598",
   "metadata": {
    "tags": []
   },
   "source": [
    "\n",
    "Для примера возьмём наш инструмент `summ`, привяжем его к модели и сделаем запрос на естественном языке:"
   ]
  },
  {
   "cell_type": "code",
   "execution_count": 29,
   "id": "70431088-ae23-4721-a15e-3496b414ac05",
   "metadata": {},
   "outputs": [
    {
     "data": {
      "text/plain": [
       "AIMessage(content='', additional_kwargs={'tool_calls': [{'id': 'call_7ORv47m67OprAXSuXczm0MXX', 'function': {'arguments': '{\"a\":22,\"b\":17}', 'name': 'summ'}, 'type': 'function'}], 'refusal': None}, response_metadata={'token_usage': {'completion_tokens': 18, 'prompt_tokens': 59, 'total_tokens': 77, 'completion_tokens_details': {'accepted_prediction_tokens': 0, 'audio_tokens': 0, 'reasoning_tokens': 0, 'rejected_prediction_tokens': 0}, 'prompt_tokens_details': {'audio_tokens': 0, 'cached_tokens': 0}}, 'model_name': 'gpt-4o-mini-2024-07-18', 'system_fingerprint': 'fp_34a54ae93c', 'id': 'chatcmpl-BjEtuITwPJqaZAERVmWOay3DISd68', 'service_tier': 'default', 'finish_reason': 'tool_calls', 'logprobs': None}, id='run--dc9177d8-1617-46bf-8d58-57b606a1d7a7-0', tool_calls=[{'name': 'summ', 'args': {'a': 22, 'b': 17}, 'id': 'call_7ORv47m67OprAXSuXczm0MXX', 'type': 'tool_call'}], usage_metadata={'input_tokens': 59, 'output_tokens': 18, 'total_tokens': 77, 'input_token_details': {'audio': 0, 'cache_read': 0}, 'output_token_details': {'audio': 0, 'reasoning': 0}})"
      ]
     },
     "execution_count": 29,
     "metadata": {},
     "output_type": "execute_result"
    }
   ],
   "source": [
    "# Tool binding / привязка инструмента к LLM\n",
    "model_with_tools = llm.bind_tools([summ])\n",
    "\n",
    "# Tool calling \n",
    "response = model_with_tools.invoke(\"Сколько будет двадцать два плюс 17?\")\n",
    "response"
   ]
  },
  {
   "cell_type": "code",
   "execution_count": 30,
   "id": "560df53a-f45f-4b34-9154-7cf1c718e37b",
   "metadata": {
    "scrolled": true
   },
   "outputs": [
    {
     "data": {
      "text/plain": [
       "[{'name': 'summ',\n",
       "  'args': {'a': 22, 'b': 17},\n",
       "  'id': 'call_7ORv47m67OprAXSuXczm0MXX',\n",
       "  'type': 'tool_call'}]"
      ]
     },
     "execution_count": 30,
     "metadata": {},
     "output_type": "execute_result"
    }
   ],
   "source": [
    "# Появился ключ tool_calls\n",
    "response.tool_calls"
   ]
  },
  {
   "cell_type": "markdown",
   "id": "8cb9bc3c-ccf0-4df8-b405-71d8fccbf391",
   "metadata": {},
   "source": [
    "<div style=\"background-color:#e6ffe6; padding:13px; border-width:3px; border-color:#efe6ef; border-style:solid; border-radius:6px\">\n",
    "✅ Модель верно решила использовать наш инструмент и достала правильные аргументы. Хотя написано \"плюс\" и числительные словами и цифрами."
   ]
  },
  {
   "cell_type": "markdown",
   "id": "08280f2c-a349-4f6e-b559-2f86d77359d2",
   "metadata": {
    "tags": []
   },
   "source": [
    "<div class=\"alert alert-info\" style=\"padding:10px; border-width:3px; border-color:#efe6ef; border-style:solid; border-radius:6px\">\n",
    "\n",
    "**Как теперь использовать результат вызова?!** Передадим `tool_call` в инструмент и получим `ToolMessage` с результатом работы инструента:"
   ]
  },
  {
   "cell_type": "code",
   "execution_count": 31,
   "id": "b7364997-4fef-438d-8a86-c1330e2b7409",
   "metadata": {},
   "outputs": [
    {
     "data": {
      "text/plain": [
       "{'name': 'summ',\n",
       " 'args': {'a': 22, 'b': 17},\n",
       " 'id': 'call_7ORv47m67OprAXSuXczm0MXX',\n",
       " 'type': 'tool_call'}"
      ]
     },
     "execution_count": 31,
     "metadata": {},
     "output_type": "execute_result"
    }
   ],
   "source": [
    "response.tool_calls[0]"
   ]
  },
  {
   "cell_type": "code",
   "execution_count": 32,
   "id": "63234ea0-bde5-46d5-9f35-5a41ae278977",
   "metadata": {},
   "outputs": [
    {
     "data": {
      "text/plain": [
       "ToolMessage(content='39', name='summ', tool_call_id='call_7ORv47m67OprAXSuXczm0MXX')"
      ]
     },
     "execution_count": 32,
     "metadata": {},
     "output_type": "execute_result"
    }
   ],
   "source": [
    "summ.invoke(response.tool_calls[0])"
   ]
  },
  {
   "cell_type": "markdown",
   "id": "362e7c34-ac9c-4b71-a85f-eae0f834d3fb",
   "metadata": {},
   "source": [
    "<div style=\"background-color:#e6ffe6; padding:13px; border-width:3px; border-color:#efe6ef; border-style:solid; border-radius:6px\">\n",
    "✅ Возвращаем результат работы модели в инструмент и получаем правильный ответ."
   ]
  },
  {
   "cell_type": "markdown",
   "id": "b2853719-025b-4e1d-a391-fcd829a181f2",
   "metadata": {},
   "source": [
    "Рассмотрим такой пример:"
   ]
  },
  {
   "cell_type": "code",
   "execution_count": 33,
   "id": "f0d02eee-ff03-44a3-aa4c-00acca0963db",
   "metadata": {},
   "outputs": [
    {
     "data": {
      "text/plain": [
       "AIMessage(content='Столицей Хорватии является Загреб.', additional_kwargs={'refusal': None}, response_metadata={'token_usage': {'completion_tokens': 12, 'prompt_tokens': 58, 'total_tokens': 70, 'completion_tokens_details': {'accepted_prediction_tokens': 0, 'audio_tokens': 0, 'reasoning_tokens': 0, 'rejected_prediction_tokens': 0}, 'prompt_tokens_details': {'audio_tokens': 0, 'cached_tokens': 0}}, 'model_name': 'gpt-4o-mini-2024-07-18', 'system_fingerprint': 'fp_34a54ae93c', 'id': 'chatcmpl-BjEvBseV0xBsQogr1ZkzfguJEMzoO', 'service_tier': 'default', 'finish_reason': 'stop', 'logprobs': None}, id='run--3ff5bec8-4b72-409c-8c4f-7f3ecfe5a877-0', usage_metadata={'input_tokens': 58, 'output_tokens': 12, 'total_tokens': 70, 'input_token_details': {'audio': 0, 'cache_read': 0}, 'output_token_details': {'audio': 0, 'reasoning': 0}})"
      ]
     },
     "execution_count": 33,
     "metadata": {},
     "output_type": "execute_result"
    }
   ],
   "source": [
    "# Спросим нейтральный вопрос - модель выдала ответ, tool_calls не было.\n",
    "model_with_tools.invoke('Какая столица Хорватии?')"
   ]
  },
  {
   "cell_type": "code",
   "execution_count": 34,
   "id": "e84fe0ce-d6c8-48e8-878a-fcd53e99aece",
   "metadata": {
    "tags": []
   },
   "outputs": [
    {
     "data": {
      "text/plain": [
       "'В слове \"зачёт\" 6 букв.'"
      ]
     },
     "execution_count": 34,
     "metadata": {},
     "output_type": "execute_result"
    }
   ],
   "source": [
    "llm.invoke(\"Сколько букв в слове зачёт?\").content"
   ]
  },
  {
   "cell_type": "markdown",
   "id": "ea07af4d-2cc5-4507-8b8f-a1b41dfef090",
   "metadata": {},
   "source": [
    "<div class=\"alert alert-warning\" style=\"padding:10px; border-width:3px; border-color:#efe6ef; border-style:solid; border-radius:6px\">\n",
    "\n",
    "**🤯 Ошибка!** Из-за особенностей токенизации, модель может галлюцинировать на такие простые вопросы."
   ]
  },
  {
   "cell_type": "markdown",
   "id": "dbe9cf43-a6a0-4a46-8a10-8029298ee5f5",
   "metadata": {},
   "source": [
    "Напишем `tool` ей в помощь:"
   ]
  },
  {
   "cell_type": "code",
   "execution_count": 35,
   "id": "0c89b312-d8b6-4e13-bca0-f5dc5689d18b",
   "metadata": {
    "tags": []
   },
   "outputs": [],
   "source": [
    "@tool\n",
    "def get_word_length(word: str) -> int:\n",
    "    \"\"\"Возвращает длину слова\"\"\" # добавляем docstring, чтобмы LLM понимала суть инструмента\n",
    "    return len(word)\n",
    "\n",
    "tools = [get_word_length]"
   ]
  },
  {
   "cell_type": "code",
   "execution_count": 37,
   "id": "7a3c8b89-715b-4a81-b18a-e28ef8a4f217",
   "metadata": {},
   "outputs": [
    {
     "data": {
      "text/plain": [
       "[{'name': 'get_word_length',\n",
       "  'args': {'word': 'зачёт'},\n",
       "  'id': 'call_D2zPUdWZ0RdHjJW7PAuM6GfY',\n",
       "  'type': 'tool_call'}]"
      ]
     },
     "execution_count": 37,
     "metadata": {},
     "output_type": "execute_result"
    }
   ],
   "source": [
    "# Tool binding\n",
    "model_with_tools = llm.bind_tools(tools)\n",
    "\n",
    "# Tool calling \n",
    "resp = model_with_tools.invoke(\"Сколько букв в слове зачёт?\")\n",
    "resp.tool_calls"
   ]
  },
  {
   "cell_type": "code",
   "execution_count": 38,
   "id": "06d98b62-0c97-4f3e-9380-a052dd308ae3",
   "metadata": {},
   "outputs": [
    {
     "data": {
      "text/plain": [
       "ToolMessage(content='5', name='get_word_length', tool_call_id='call_D2zPUdWZ0RdHjJW7PAuM6GfY')"
      ]
     },
     "execution_count": 38,
     "metadata": {},
     "output_type": "execute_result"
    }
   ],
   "source": [
    "tool_message = get_word_length.invoke(resp.tool_calls[0])\n",
    "tool_message"
   ]
  },
  {
   "cell_type": "code",
   "execution_count": 39,
   "id": "0a5d1b9c-7456-4801-9c79-833e57a25606",
   "metadata": {},
   "outputs": [
    {
     "data": {
      "text/plain": [
       "'В слове \"зачёт\" 5 букв.'"
      ]
     },
     "execution_count": 39,
     "metadata": {},
     "output_type": "execute_result"
    }
   ],
   "source": [
    "from langchain_core.messages import HumanMessage\n",
    "\n",
    "# теперь соберём все сообщения вместе \n",
    "# важно чтобы id в tool_calling и ToolMessage совпадали.\n",
    "messages = [\n",
    "    HumanMessage(\"Сколько букв в слове зачёт?\"),\n",
    "    resp,\n",
    "    tool_message\n",
    "]\n",
    "\n",
    "model_with_tools.invoke(messages).content"
   ]
  },
  {
   "cell_type": "markdown",
   "id": "069bb3d2-7278-4d70-a1ba-a10bfb8fb020",
   "metadata": {},
   "source": [
    "<div style=\"background-color:#e6ffe6; padding:13px; border-width:3px; border-color:#efe6ef; border-style:solid; border-radius:6px\">\n",
    "✅ Теперь модель справилась с задачей!"
   ]
  },
  {
   "cell_type": "markdown",
   "id": "45bcecb1-72cc-4b5a-9a6b-2593967095c0",
   "metadata": {},
   "source": [
    "# <center id=\"c4\"> ✍️🤖 Пример с несколькими инструментами 🪭."
   ]
  },
  {
   "cell_type": "markdown",
   "id": "24e7d5c2-5889-4260-9275-e81e6aa74404",
   "metadata": {},
   "source": [
    "<div class=\"alert alert-info\" style=\"padding:10px; border-width:3px; border-color:#efe6ef; border-style:solid; border-radius:6px\">\n",
    "    \n",
    "Возьмём `Wikipedia`, калькулятор, кастомный инструмент, и зададим модели каверзный вопрос."
   ]
  },
  {
   "cell_type": "code",
   "execution_count": 40,
   "id": "f7f1e810-0416-453f-9828-5e2dc005fe22",
   "metadata": {},
   "outputs": [],
   "source": [
    "import datetime\n",
    "\n",
    "# Создадим инструмент, показывающий текущее время\n",
    "@tool\n",
    "def get_current_time(nothing: None ) -> str:\n",
    "    \"\"\"Возвращает текущее время\"\"\" \n",
    "\n",
    "    # Получаем текущее время и дату\n",
    "    now = datetime.datetime.now()\n",
    "    \n",
    "    # Возвращаем текущее время\n",
    "    return now.strftime('%H:%M:%S')\n",
    "\n",
    "# Загрузим готовые инструменты\n",
    "tools = load_tools([\"wikipedia\",\n",
    "                    \"llm-math\"], llm=llm)"
   ]
  },
  {
   "cell_type": "code",
   "execution_count": 41,
   "id": "69b5e23d-b675-4b66-9462-24ac170d54bb",
   "metadata": {},
   "outputs": [],
   "source": [
    "# Привязка инструментов к LLM\n",
    "llm_with_tools = llm.bind_tools(tools + [get_current_time])"
   ]
  },
  {
   "cell_type": "code",
   "execution_count": 42,
   "id": "22f27bfe-060a-4749-b001-ce165b7b5aed",
   "metadata": {},
   "outputs": [
    {
     "data": {
      "text/plain": [
       "[{'name': 'Calculator',\n",
       "  'args': {'__arg1': 'sqrt(9)'},\n",
       "  'id': 'call_cPOURxHwSv4JmcKKEZmpAfuk',\n",
       "  'type': 'tool_call'},\n",
       " {'name': 'wikipedia',\n",
       "  'args': {'query': 'The Beatles'},\n",
       "  'id': 'call_28d0Agl8REOi3OBK9rlL0OJY',\n",
       "  'type': 'tool_call'},\n",
       " {'name': 'get_current_time',\n",
       "  'args': {'nothing': None},\n",
       "  'id': 'call_fp2xpPenmWZIhDrYeobfhD4L',\n",
       "  'type': 'tool_call'}]"
      ]
     },
     "execution_count": 42,
     "metadata": {},
     "output_type": "execute_result"
    }
   ],
   "source": [
    "task = \"Извлеки квадратный корень из девяти и назови количество участников группы Beatles. А еще скажи время\"\n",
    "\n",
    "messages = [HumanMessage(task)]\n",
    "\n",
    "response = llm_with_tools.invoke(messages)\n",
    "messages.append(response)\n",
    "response.tool_calls"
   ]
  },
  {
   "cell_type": "code",
   "execution_count": 45,
   "id": "d8c46d79-d1b9-4664-9314-750e75528020",
   "metadata": {},
   "outputs": [
    {
     "data": {
      "text/plain": [
       "[HumanMessage(content='Извлеки квадратный корень из девяти и назови количество участников группы Beatles. А еще скажи время', additional_kwargs={}, response_metadata={}),\n",
       " AIMessage(content='', additional_kwargs={'tool_calls': [{'id': 'call_cPOURxHwSv4JmcKKEZmpAfuk', 'function': {'arguments': '{\"__arg1\": \"sqrt(9)\"}', 'name': 'Calculator'}, 'type': 'function'}, {'id': 'call_28d0Agl8REOi3OBK9rlL0OJY', 'function': {'arguments': '{\"query\": \"The Beatles\"}', 'name': 'wikipedia'}, 'type': 'function'}, {'id': 'call_fp2xpPenmWZIhDrYeobfhD4L', 'function': {'arguments': '{\"nothing\": null}', 'name': 'get_current_time'}, 'type': 'function'}], 'refusal': None}, response_metadata={'token_usage': {'completion_tokens': 64, 'prompt_tokens': 159, 'total_tokens': 223, 'completion_tokens_details': {'accepted_prediction_tokens': 0, 'audio_tokens': 0, 'reasoning_tokens': 0, 'rejected_prediction_tokens': 0}, 'prompt_tokens_details': {'audio_tokens': 0, 'cached_tokens': 0}}, 'model_name': 'gpt-4o-mini-2024-07-18', 'system_fingerprint': 'fp_34a54ae93c', 'id': 'chatcmpl-BjEzE7ZthPotrqsDwTHlRzjtXhaem', 'service_tier': 'default', 'finish_reason': 'tool_calls', 'logprobs': None}, id='run--3ad05cef-e70d-479a-a8fb-530c6feeee6c-0', tool_calls=[{'name': 'Calculator', 'args': {'__arg1': 'sqrt(9)'}, 'id': 'call_cPOURxHwSv4JmcKKEZmpAfuk', 'type': 'tool_call'}, {'name': 'wikipedia', 'args': {'query': 'The Beatles'}, 'id': 'call_28d0Agl8REOi3OBK9rlL0OJY', 'type': 'tool_call'}, {'name': 'get_current_time', 'args': {'nothing': None}, 'id': 'call_fp2xpPenmWZIhDrYeobfhD4L', 'type': 'tool_call'}], usage_metadata={'input_tokens': 159, 'output_tokens': 64, 'total_tokens': 223, 'input_token_details': {'audio': 0, 'cache_read': 0}, 'output_token_details': {'audio': 0, 'reasoning': 0}})]"
      ]
     },
     "execution_count": 45,
     "metadata": {},
     "output_type": "execute_result"
    }
   ],
   "source": [
    "messages"
   ]
  },
  {
   "cell_type": "markdown",
   "id": "2b93d869-be40-4900-8b10-c655e4e03697",
   "metadata": {},
   "source": [
    "<div style=\"background-color:#e6ffe6; padding:13px; border-width:3px; border-color:#efe6ef; border-style:solid; border-radius:6px\">\n",
    "✅ Модель правильно определила аргументы для инструментов!"
   ]
  },
  {
   "cell_type": "code",
   "execution_count": null,
   "id": "d9ebd24f-9249-47f4-bfaf-b44ed56d51b7",
   "metadata": {},
   "outputs": [],
   "source": [
    "# Соберём ToolMessages\n",
    "for tool_call in response.tool_calls:\n",
    "\n",
    "    if tool_call[\"name\"] == 'wikipedia':\n",
    "        tool_msg = tools[0].invoke(tool_call)\n",
    "        \n",
    "    elif tool_call[\"name\"] == 'get_current_time':\n",
    "        tool_msg = get_current_time.invoke(tool_call)\n",
    "        \n",
    "    else:\n",
    "        tool_msg = tools[1].invoke(tool_call)\n",
    "        \n",
    "    messages.append(tool_msg)"
   ]
  },
  {
   "cell_type": "code",
   "execution_count": 47,
   "id": "ac4831f8-9ff1-4efd-8f4e-0d426a2910d9",
   "metadata": {},
   "outputs": [
    {
     "name": "stdout",
     "output_type": "stream",
     "text": [
      "Квадратный корень из девяти равен 3.0.\n",
      "\n",
      "Количество участников группы Beatles — четыре: Джон Леннон, Пол Маккартни, Джордж Харрисон и Ринго Старр.\n",
      "\n",
      "Текущее время: 01:04:03.\n"
     ]
    }
   ],
   "source": [
    "print(llm_with_tools.invoke(messages).content)"
   ]
  },
  {
   "cell_type": "markdown",
   "id": "aada2ff8-5a03-4f25-944d-ace025c5cb33",
   "metadata": {},
   "source": [
    "<div style=\"background-color:#e6ffe6; padding:13px; border-width:3px; border-color:#efe6ef; border-style:solid; border-radius:6px\">\n",
    "✅ Модель справилась, владея сразу тремя инструментами!"
   ]
  },
  {
   "cell_type": "markdown",
   "id": "5589be68-e732-4fe0-b328-6da53b3f7275",
   "metadata": {},
   "source": [
    "## <center> Инструменты от `OpenAI`.</center>\n"
   ]
  },
  {
   "cell_type": "markdown",
   "id": "8e52d918-141e-4385-bb6c-d13f80a80915",
   "metadata": {},
   "source": [
    "<div class=\"alert alert-info\" style=\"padding:10px; border-width:3px; border-color:#efe6ef; border-style:solid; border-radius:6px\">\n",
    "\n",
    "📖 Как правило, крупные вендоры языковых моделей предоставляют набор инструментов, доступных при обращении по `API`, у каждой компании это свой список. "
   ]
  },
  {
   "cell_type": "markdown",
   "id": "d14ca09e-7a2b-4efb-821e-138c2ebba9c9",
   "metadata": {},
   "source": [
    "<div class=\"alert alert-info\" style=\"padding:10px; border-width:3px; border-color:#efe6ef; border-style:solid; border-radius:6px\">\n",
    "    \n",
    "Инструметы от `OpenAI`:\n",
    "* **Web search** - для поиска в интернете \n",
    "* **File search** - для поиска по файлу\n",
    "* **Code interpreter** - для выполнений кода \n",
    "* **Remote MCP servers** - обращение к внешнем MCP серверку (аналог API)\n",
    "* И некототорые другие ([список](https://platform.openai.com/docs/guides/tools?api-mode=responses) постоянно пополняется)"
   ]
  },
  {
   "cell_type": "markdown",
   "id": "b946b950-f057-41f5-bc14-ef3885abaa5b",
   "metadata": {},
   "source": [
    "<div class=\"alert alert-info\" style=\"padding:10px; border-width:3px; border-color:#efe6ef; border-style:solid; border-radius:6px\">\n",
    "\n",
    "В данном случае указываем инструмент и сразу получаем ответ с его использованием."
   ]
  },
  {
   "cell_type": "markdown",
   "id": "15451bb2-20b0-48b8-89f6-f9eec4f252ba",
   "metadata": {},
   "source": [
    "<div class=\"alert alert-warning\" style=\"padding:10px; border-width:3px; border-color:#efe6ef; border-style:solid; border-radius:6px\">\n",
    "\n",
    "⚠️ **ВАЖНО!** Каждый запрос с поиском тарифицируется по отдельной стоимости и может быстро исчерпать лимит на токены. (за 30 запросов можно исчерпать весь лимит на ключе курса по тарифу на 06.2025). Не рекомендуем запускать ячеки ниже без необходимости!"
   ]
  },
  {
   "cell_type": "code",
   "execution_count": 48,
   "id": "66b11da6-5ec3-4190-9ad1-67604e2de9f2",
   "metadata": {},
   "outputs": [
    {
     "name": "stdout",
     "output_type": "stream",
     "text": [
      "В Сочи сейчас облачная погода с температурой около 15 °C.\n",
      "\n",
      "## Погода для Сочи, Россия:\n",
      "Текущие условия: Облачно, 59°F (15°C)\n",
      "\n",
      "Ежедневный прогноз:\n",
      "* вторник, июня 17: мин.: 58°F (15°C), макс.: 70°F (21°C), описание: Кратковременный ливень\n",
      "* среда, июня 18: мин.: 64°F (18°C), макс.: 74°F (23°C), описание: Кратковременный ливень\n",
      "* четверг, июня 19: мин.: 60°F (16°C), макс.: 75°F (24°C), описание: Кратковременный ливень\n",
      "* пятница, июня 20: мин.: 63°F (17°C), макс.: 76°F (24°C), описание: Солнечно\n",
      "* суббота, июня 21: мин.: 61°F (16°C), макс.: 73°F (23°C), описание: Небольшая облачность\n",
      "* воскресенье, июня 22: мин.: 59°F (15°C), макс.: 74°F (24°C), описание: Солнечно\n",
      "* понедельник, июня 23: мин.: 59°F (15°C), макс.: 73°F (23°C), описание: Преимущественно ясно\n",
      "\n",
      "\n",
      "В течение дня ожидаются кратковременные ливни, с максимальной температурой около 21 °C и минимальной около 15 °C. \n"
     ]
    }
   ],
   "source": [
    "# Рассмотрим инструмент WebSearch\n",
    "tool = {\"type\": \"web_search_preview\"}\n",
    "llm_with_tools = llm.bind_tools([tool])\n",
    "\n",
    "print(llm_with_tools.invoke(\"Какая температура в Сочи?\").content[0]['text'])"
   ]
  },
  {
   "cell_type": "markdown",
   "id": "0ba0524d-8ee9-4efd-a718-0474d2ed2b14",
   "metadata": {},
   "source": [
    "<div style=\"background-color:#e6ffe6; padding:13px; border-width:3px; border-color:#efe6ef; border-style:solid; border-radius:6px\">\n",
    "✅ Видим актуальную температуру на эту неделю!"
   ]
  },
  {
   "cell_type": "markdown",
   "id": "89794786-2a59-4659-9ff6-a1a413fd84ad",
   "metadata": {},
   "source": [
    "<div class=\"alert alert-info\" style=\"padding:10px; border-width:3px; border-color:#efe6ef; border-style:solid; border-radius:6px\">\n",
    "    \n",
    "Так же возможен такой вызов инструмента:\n",
    "```python\n",
    "llm.invoke(\"...\", tools=[{\"type\": \"web_search_preview\"}])\n",
    "```"
   ]
  },
  {
   "cell_type": "markdown",
   "id": "b948f1dd-9243-41e5-9555-152235d7dfbd",
   "metadata": {},
   "source": [
    "## <center> Так а где Агенты то?! 🕵‍♂️ </center>\n",
    "### В следующем модуле!\n",
    "\n",
    "Пример ниже работает только в версии `langchain < 1.0`"
   ]
  },
  {
   "cell_type": "code",
   "execution_count": 49,
   "id": "a83c3993-ea5a-469c-afc8-adfb7428de33",
   "metadata": {},
   "outputs": [
    {
     "name": "stdout",
     "output_type": "stream",
     "text": [
      "\n",
      "\n",
      "\u001b[1m> Entering new AgentExecutor chain...\u001b[0m\n",
      "\u001b[32;1m\u001b[1;3m\n",
      "Invoking: `python_repl_ast` with `{'query': 'len(df)'}`\n",
      "\n",
      "\n",
      "\u001b[0m\u001b[36;1m\u001b[1;3m891\u001b[0m\u001b[32;1m\u001b[1;3m\n",
      "Invoking: `python_repl_ast` with `{'query': 'import datetime\\ndatetime.datetime.now()'}`\n",
      "\n",
      "\n",
      "\u001b[0m\u001b[36;1m\u001b[1;3m2025-06-17 01:08:40.219960\u001b[0m\u001b[32;1m\u001b[1;3mThere are 891 rows in the dataframe. The current time is 2025-06-17 01:08:40.\u001b[0m\n",
      "\n",
      "\u001b[1m> Finished chain.\u001b[0m\n"
     ]
    },
    {
     "data": {
      "text/plain": [
       "{'input': 'how many rows are there? And what is current time?',\n",
       " 'output': 'There are 891 rows in the dataframe. The current time is 2025-06-17 01:08:40.'}"
      ]
     },
     "execution_count": 49,
     "metadata": {},
     "output_type": "execute_result"
    }
   ],
   "source": [
    "# import pandas as pd\n",
    "# from langchain_classic.agents.agent_types import AgentType\n",
    "# from langchain_experimental.agents.agent_toolkits import create_pandas_dataframe_agent\n",
    "\n",
    "\n",
    "# url = \"https://raw.githubusercontent.com/pandas-dev/pandas/main/doc/data/titanic.csv\"\n",
    "# df = pd.read_csv(url)\n",
    "\n",
    "# agent = create_pandas_dataframe_agent(\n",
    "#     llm,\n",
    "#     df,\n",
    "#     tools = [get_current_time],\n",
    "#     verbose=True,\n",
    "#     agent_type=AgentType.OPENAI_FUNCTIONS,\n",
    "#     allow_dangerous_code=True\n",
    "# )\n",
    "\n",
    "# agent.invoke(\"how many rows are there? And what is current time?\")"
   ]
  },
  {
   "cell_type": "markdown",
   "id": "ad1db05f-4c34-4ae4-9f06-3ef7f6ba6020",
   "metadata": {},
   "source": [
    "<div style=\"background-color:#e6ffe6; padding:13px; border-width:3px; border-color:#efe6ef; border-style:solid; border-radius:6px\">\n",
    "✅ Агент пояснил нам и за pandas и текущее время и даже не закашлял!"
   ]
  },
  {
   "cell_type": "markdown",
   "id": "709e7b4a-8c43-4aee-a5e5-a485cd0bc567",
   "metadata": {},
   "source": [
    "# <center id=\"c5\"> 🧸 Выводы и заключения ✅ "
   ]
  },
  {
   "cell_type": "markdown",
   "id": "652dc8b4-4590-4d1d-82d4-7eeea54c7bc0",
   "metadata": {},
   "source": [
    "<div class=\"alert alert-info\" style=\"padding:10px; border-width:3px; border-color:#efe6ef; border-style:solid; border-radius:6px\">\n",
    "    \n",
    "Мы познакомились с одной из важных концепций в работе с LLM - `Tool Calling`, и посмотрели её реализацию в `LangChain`:"
   ]
  },
  {
   "cell_type": "markdown",
   "id": "b0900b35-1507-423c-9e52-e8ed21b693b0",
   "metadata": {},
   "source": [
    "<div class=\"alert alert-success\" style=\"background-color:#e6ffe6; padding:13px; border-width:3px; border-color:#efe6ef; border-style:solid; border-radius:6px\">\n",
    "    \n",
    "* **`Tool Calling`**: помогает вычленить из запроса на естественном языке необходимые аргументы и потом подать их в инструмент в нужном виде.\n",
    "* Сразу будет проверено соответствие типов входных данных.\n",
    "* Это позволяет получать более точные ответы от LLM в сложных случаях и уменьшить галлюцинации.\n",
    "* Можно использовать сразу серию инструментов. Причем не писать инструменты с нуля, а брать готовые.\n",
    "* Также `Function calling` является составной частью более сложной концепции **автономных агентов**, о которой мы расскажем в следующем модуле. "
   ]
  },
  {
   "cell_type": "code",
   "execution_count": null,
   "id": "1fc2fc31-432b-48d3-9c08-4ef27817acfb",
   "metadata": {},
   "outputs": [],
   "source": []
  }
 ],
 "metadata": {
  "kernelspec": {
   "display_name": "cv",
   "language": "python",
   "name": "python3"
  },
  "language_info": {
   "codemirror_mode": {
    "name": "ipython",
    "version": 3
   },
   "file_extension": ".py",
   "mimetype": "text/x-python",
   "name": "python",
   "nbconvert_exporter": "python",
   "pygments_lexer": "ipython3",
   "version": "3.10.12"
  }
 },
 "nbformat": 4,
 "nbformat_minor": 5
}
