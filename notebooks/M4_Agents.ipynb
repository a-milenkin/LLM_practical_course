{
 "cells": [
  {
   "cell_type": "markdown",
   "id": "aaf53a2d-2b29-4d83-bca8-aa6cf7d3a471",
   "metadata": {},
   "source": [
    "# <center> 🤿 Погружение в Агентов LangChain  </center>\n",
    "### <center> 😎 Создаём \"суперагента\" 🕵️‍♂️ </center>"
   ]
  },
  {
   "cell_type": "markdown",
   "id": "903691fb-7206-4e21-acad-e637c2c146b7",
   "metadata": {
    "jp-MarkdownHeadingCollapsed": true
   },
   "source": [
    "### Оглавление ноутбука\n",
    "<img src='../images/LangChain_Agent.png' align=\"right\" width=\"500\" height=\"528\" style=\"border-radius: 0.75rem;\">\n",
    "\n",
    "<p><font size=\"3\" face=\"Arial\" font-size=\"large\"><ul type=\"square\">\n",
    "    \n",
    "<li><a href=\"#p1\">🤖 Основные типы агентов и их суперспособности 🦾</a></li>\n",
    "<li><a href=\"#p1\">🗣🕶 Tool calling Agent - базовый агент!</a></li>\n",
    "<li><a href=\"#p5\">😎 Агент, который всё помнит! 🫣</a></li>\n",
    "<li><a href=\"#p2\">🚀 ReAct Agent, который думает 🔄</a></li><ul type=\"square\">\n",
    "<li><a href=\"#p2.1\">🔎 Инструмент поиск Google (SerpAPI) 🔎</a></li></ul>\n",
    "<li><a href=\"#p3\">💬 Structured Chat Agent правильно вызывает tools💬</a></li>\n",
    "<li><a href=\"#p4\">🙋🏻 Self-Ask with search Agent, который рассуждает❓</a></li>\n",
    "<li><a href=\"#p6\">🪛 Agent + RAG 🦞</a></li>\n",
    "<li><a href=\"#p7\">🙋🏻 Agent с sql базой 📊</a></li><ul type=\"square\">\n",
    "<li><a href=\"#p7.1\"> 🫂 SQL агент + python агент = super агент 😎</a></li></ul>\n",
    "<li><a href=\"#p8\">Задеплой Агента с помощью LangServe 🛋 </a></li>\n",
    "<li><a href=\"#p9\">🥁 Выводы и заключения ✅ </a></li>    \n",
    "</ul></font></p>"
   ]
  },
  {
   "cell_type": "markdown",
   "id": "550b310f-8e4e-4a1f-8291-7c1d11d86031",
   "metadata": {},
   "source": [
    "### 🧑‍🎓 В этом уроке более подробно погрузимся в возможности агентов с LangChain."
   ]
  },
  {
   "cell_type": "markdown",
   "id": "57eda240-f2be-4012-91d2-b3fa76b635c2",
   "metadata": {},
   "source": [
    "\n",
    "<div class=\"alert alert-info\" style=\"padding:10px; border-width:3px; border-color:#efe6ef; border-style:solid; border-radius:6px\">\n",
    "\n",
    "<img src='../images/agent_tool_seqs.jpg' align=\"right\" width=\"600\" height=\"528\" style=\"border-radius: 0.75rem;\">\n",
    "\n",
    "\n",
    "В прошлом модуле курса мы разобрались с инструментами (`tools`) для моделей, и тем как их можно вызывать (`tools calling`). Неудобство было в том, что мы не могли сразу воспользоваться результатом вызова инструмента для получения финального ответа.\n",
    "\n",
    "\n",
    "</div>\n",
    "\n",
    "📖 Здесь нам на помощь приходит концепция **агентов**, специальный вид `Runnables` в `LangChain`, который может:\n",
    "\n",
    "<div class=\"alert alert-info\" style=\"padding:10px; border-width:3px; border-color:#efe6ef; border-style:solid; border-radius:6px\">\n",
    "\n",
    "* Составлять план действий для решения задачи\n",
    "* Использовать необходимое количество инструментов \n",
    "* Определять последовательность использования инструментов и с какими параметрами их вызывать (!)\n",
    "* Повторять операции несколько раз до получения ответа\n",
    "\n",
    "- из минусов можно отметить использование большого количества токенов для работы."
   ]
  },
  {
   "cell_type": "markdown",
   "id": "fd014e50-ac2f-4f95-9b93-a32d86126e41",
   "metadata": {},
   "source": [
    "# <center  id=\"p1\"> 🤖 Основные типы агентов и их суперспособности 🦾 </center>"
   ]
  },
  {
   "cell_type": "markdown",
   "id": "2679b3d0-e7a6-45fc-bc0d-d82391a4cb3e",
   "metadata": {},
   "source": [
    "<div class=\"alert alert-info\">\n",
    "    \n",
    "📖 Основные концепции агентов в `LangChain`:\n",
    "* `Tool_Calling_Agent` - базовый тип агента, который можно кастомизировать собственными промптами.\n",
    "* `ReAct (Reasoning and Acting)` - агенты составляющие план и работающие по циклу, пока не добьются результата. Работают с инструментами, принимающими один параметр на вход.\n",
    "* `Structured chat` - могут работать с инструментами, которые принимают много параметров на вход\n",
    "* `Self Ask with Search` - реализация техники промптинга `Self-Ask`, работает только с инструментами поиска\n",
    "* `XMLAgent, JSONAgent` - для работы с чат моделями в форматах `XML` и `JSON` (например, модели от `Anthropic`)\n",
    "* `OpenAI Tools Agents` - могут вызывать сразу один или несколько инструментов в запросе, тем самым сокращая время для получения ответа - работает с последними моделями от `OpenAI`."
   ]
  },
  {
   "cell_type": "markdown",
   "id": "024f33ed-a522-40ef-a061-e17184cf380a",
   "metadata": {},
   "source": [
    "<div class=\"alert alert-success\" style=\"background-color:#e6ffe6; padding:13px; border-width:3px; border-color:#efe6ef; border-style:solid; border-radius:6px\">\n",
    "    \n",
    "Разберем подробнее первые 4 типа. Каждый агент \"под капотом\" содержит свой промпт, завернутый в удобную обертку агента `LangChain`."
   ]
  },
  {
   "cell_type": "markdown",
   "id": "b42e17bc-2e17-40ab-a896-901a9d0e8bd6",
   "metadata": {},
   "source": [
    "### 🤖 Готовим LLM к бою 🤺"
   ]
  },
  {
   "cell_type": "code",
   "execution_count": 1,
   "id": "2318c74b-038b-4d04-b3e5-0275d99c7811",
   "metadata": {
    "tags": []
   },
   "outputs": [],
   "source": [
    "!pip install langchain langchain-openai openai langchainhub google-search-results numexpr faiss-cpu langchain-experimental langserve[all] -q -U"
   ]
  },
  {
   "cell_type": "code",
   "execution_count": 6,
   "id": "493f4994-0e2e-468c-adbf-916a3eceec38",
   "metadata": {
    "tags": []
   },
   "outputs": [],
   "source": [
    "import os\n",
    "from getpass import getpass"
   ]
  },
  {
   "cell_type": "code",
   "execution_count": 3,
   "id": "410165ef-1236-4cb5-8a7f-b74ed6554d84",
   "metadata": {
    "jupyter": {
     "source_hidden": true
    },
    "tags": []
   },
   "outputs": [],
   "source": [
    "# Для работы в колабе загрузите необходимые файлы!\n",
    "# !mkdir ../data/\n",
    "# !wget -P ../data https://raw.githubusercontent.com/a-milenkin/LLM_practical_course/main/data/pizzeria.db"
   ]
  },
  {
   "cell_type": "code",
   "execution_count": 5,
   "id": "d8c8b9c2-9f11-409c-933f-7c0d623cb3d2",
   "metadata": {
    "jupyter": {
     "source_hidden": true
    },
    "tags": []
   },
   "outputs": [],
   "source": [
    "# Если используете ключ от OpenAI, запустите эту ячейку\n",
    "from langchain_openai import ChatOpenAI\n",
    "\n",
    "# os.environ['OPENAI_API_KEY'] = \"Введите ваш OpenAI API ключ\"\n",
    "os.environ['OPENAI_API_KEY'] = getpass(prompt='Введите ваш OpenAI API ключ')\n",
    "\n",
    "# инициализируем языковую модель\n",
    "llm = ChatOpenAI(temperature=0.0)"
   ]
  },
  {
   "cell_type": "code",
   "execution_count": 15,
   "id": "8347a770-e986-433c-94fc-582aef674d51",
   "metadata": {
    "tags": []
   },
   "outputs": [
    {
     "name": "stdin",
     "output_type": "stream",
     "text": [
      "Введите ваш ключ, полученный в боте курса: ········\n"
     ]
    }
   ],
   "source": [
    "# Если используете ключ из курса, запустите эту ячейку\n",
    "from langchain_openai import ChatOpenAI\n",
    "\n",
    "# course_api_key= \"Введите ваш ключ, полученный в боте курса\"\n",
    "course_api_key = getpass(prompt=\"Введите ваш ключ, полученный в боте курса:\")\n",
    "\n",
    "# инициализируем языковую модель\n",
    "llm = ChatOpenAI(api_key=course_api_key, model='gpt-4o-mini', \n",
    "                 base_url=\"https://aleron-llm.neuraldeep.tech/\")"
   ]
  },
  {
   "cell_type": "markdown",
   "id": "ab5edd74-4ad5-40ca-a2f1-4333852bac20",
   "metadata": {},
   "source": [
    "# <center  id=\"p1\"> 🗣🕶 `Tool calling Agent` - базовый агент!</center>\n",
    "\n",
    "\n",
    "Для начала разберёмся с самым простым агентом и его составными частями!"
   ]
  },
  {
   "cell_type": "markdown",
   "id": "57f922b9-c41c-467c-beb0-3467e565f6da",
   "metadata": {},
   "source": [
    "<div class=\"alert alert-info\" style=\"padding:10px; border-width:3px; border-color:#efe6ef; border-style:solid; border-radius:6px\">\n",
    "    \n",
    "📖 Для создания агента нам понадобятся:\n",
    "- специально составленный промпт\n",
    "- инструменты\n",
    "- модель\n",
    "- специальные методы и классы из `LangChain` для создания агента."
   ]
  },
  {
   "cell_type": "code",
   "execution_count": 16,
   "id": "602f5ca0-198b-447b-914c-d6eff7a61320",
   "metadata": {},
   "outputs": [
    {
     "data": {
      "text/plain": [
       "2"
      ]
     },
     "execution_count": 16,
     "metadata": {},
     "output_type": "execute_result"
    }
   ],
   "source": [
    "# Загрузим уже знакомые нам инструменты\n",
    "from langchain.agents import load_tools, tool\n",
    "\n",
    "tools = load_tools([\"llm-math\"], llm=llm)\n",
    "\n",
    "@tool\n",
    "def get_word_length(word: str) -> int:\n",
    "    \"\"\"Возвращает длину слова\"\"\" # добавляем docstring\n",
    "    return len(word)\n",
    "\n",
    "\n",
    "tools.append(get_word_length)\n",
    "len(tools)"
   ]
  },
  {
   "cell_type": "markdown",
   "id": "8c2b6ae1-f689-49ee-b022-818144d7079b",
   "metadata": {},
   "source": [
    "<div class=\"alert alert-info\" style=\"padding:10px; border-width:3px; border-color:#efe6ef; border-style:solid; border-radius:6px\">\n",
    "    \n",
    "Теперь составим промпт, основное его отличие - это наличие обязательного ключа `agent_scratchpad`, в котором будут храниться все промежуточные шаги агента и результаты вызова инструментов агентом."
   ]
  },
  {
   "cell_type": "code",
   "execution_count": 9,
   "id": "20894ded-a82d-4bcd-b585-cdab607d9293",
   "metadata": {},
   "outputs": [
    {
     "data": {
      "text/plain": [
       "[SystemMessagePromptTemplate(prompt=PromptTemplate(input_variables=[], input_types={}, partial_variables={}, template='Ты полезный ассистент'), additional_kwargs={}),\n",
       " HumanMessagePromptTemplate(prompt=PromptTemplate(input_variables=['input'], input_types={}, partial_variables={}, template='{input}'), additional_kwargs={}),\n",
       " MessagesPlaceholder(variable_name='agent_scratchpad', optional=True)]"
      ]
     },
     "execution_count": 9,
     "metadata": {},
     "output_type": "execute_result"
    }
   ],
   "source": [
    "from langchain_core.prompts import ChatPromptTemplate\n",
    "\n",
    "prompt = ChatPromptTemplate.from_messages(\n",
    "    [\n",
    "        (\"system\", \"Ты полезный ассистент\"),\n",
    "        (\"human\", \"{input}\"),\n",
    "        (\"placeholder\", \"{agent_scratchpad}\"), # <--- новый элемент !\n",
    "    ]\n",
    ")\n",
    "\n",
    "prompt.messages"
   ]
  },
  {
   "cell_type": "code",
   "execution_count": 17,
   "id": "5a9ec64a-d175-4cff-8919-b68453cd3bf8",
   "metadata": {},
   "outputs": [],
   "source": [
    "# создаём агента, передадим модель, инструменты и промпт\n",
    "from langchain.agents import AgentExecutor, create_tool_calling_agent\n",
    "\n",
    "agent = create_tool_calling_agent(llm, tools, prompt)"
   ]
  },
  {
   "cell_type": "code",
   "execution_count": 18,
   "id": "20951eea-5233-4deb-bf9e-45e15306f6b8",
   "metadata": {},
   "outputs": [
    {
     "name": "stdout",
     "output_type": "stream",
     "text": [
      "\n",
      "\n",
      "\u001b[1m> Entering new AgentExecutor chain...\u001b[0m\n",
      "\u001b[32;1m\u001b[1;3m\n",
      "Invoking: `get_word_length` with `{'word': 'зачёт'}`\n",
      "\n",
      "\n",
      "\u001b[0m\u001b[33;1m\u001b[1;3m5\u001b[0m\u001b[32;1m\u001b[1;3mВ слове \"зачёт\" 5 букв.\u001b[0m\n",
      "\n",
      "\u001b[1m> Finished chain.\u001b[0m\n"
     ]
    },
    {
     "data": {
      "text/plain": [
       "{'input': 'Сколько букв в слове зачёт?', 'output': 'В слове \"зачёт\" 5 букв.'}"
      ]
     },
     "execution_count": 18,
     "metadata": {},
     "output_type": "execute_result"
    }
   ],
   "source": [
    "# Для запуска агента используется класс AgentExecutor\n",
    "agent_executor = AgentExecutor(\n",
    "    agent=agent, \n",
    "    tools=tools,\n",
    "    max_iterations=5, # максимальное количество итераций агента (15 по умолчанию) \n",
    "    handle_parsing_errors = True, # Агент не упадёт с ошибкой, если не распарсит ответ\n",
    "    verbose=True # показывать промежуточные шаги агента или сразу выводить ответ\n",
    "                              )\n",
    "\n",
    "# так как это Runnable используем invoke\n",
    "agent_executor.invoke({\"input\": \"Сколько букв в слове зачёт?\"})"
   ]
  },
  {
   "cell_type": "markdown",
   "id": "e05b13f6-0701-4ab1-b58c-5ed0db8803e6",
   "metadata": {},
   "source": [
    "<div class=\"alert alert-success\" style=\"background-color:#e6ffe6; padding:13px; border-width:3px; border-color:#efe6ef; border-style:solid; border-radius:6px\">\n",
    "    \n",
    "Видим рассуждения агента - он вызвал инструмент `get_word_length` с аргументом `{'word': 'зачёт'}` и сразу использовал результат для окончательного ответа."
   ]
  },
  {
   "cell_type": "markdown",
   "id": "04c4315b-1240-40d9-8df1-c37ac062c960",
   "metadata": {},
   "source": [
    "# <center id=\"p5\"> 😎 Агент, который всё помнит! 🫣 </center>\n",
    "    \n",
    "#### <center> Как добавить агенту память? 🧠</center>\n",
    "\n",
    "<div class=\"alert alert-info\">\n",
    "\n",
    "Тут такой же механизм, как и с добавлением памяти к любому `Runnable`."
   ]
  },
  {
   "cell_type": "code",
   "execution_count": 12,
   "id": "6b40efca-3a36-4b7b-9d36-ac7d54b76a07",
   "metadata": {},
   "outputs": [],
   "source": [
    "# Добавляем в промпт ещё один ключ chat-history\n",
    "prompt = ChatPromptTemplate.from_messages(\n",
    "    [\n",
    "        (\"system\", \"Ты полезный ассистент\"),\n",
    "        (\"placeholder\", \"{chat_history}\"), # <-- история диалога\n",
    "        (\"human\", \"{input}\"),\n",
    "        (\"placeholder\", \"{agent_scratchpad}\"),\n",
    "    ]\n",
    ")"
   ]
  },
  {
   "cell_type": "code",
   "execution_count": 13,
   "id": "7aa6a16f-9d30-41d7-9741-bd7ca1ce6ec8",
   "metadata": {},
   "outputs": [],
   "source": [
    "from langchain_core.chat_history import InMemoryChatMessageHistory\n",
    "from langchain_core.runnables.history import RunnableWithMessageHistory\n",
    "\n",
    "# Создадим словарь, который будет мапить session_id с историей диалога этой сессии\n",
    "store = {}\n",
    "\n",
    "# Напишем функцию, которая возвращает историю диалога по session ID.\n",
    "def get_session_history(session_id: str) -> InMemoryChatMessageHistory:\n",
    "    if session_id not in store:\n",
    "        store[session_id] = InMemoryChatMessageHistory()\n",
    "    return store[session_id]"
   ]
  },
  {
   "cell_type": "code",
   "execution_count": 14,
   "id": "5dfe4b35-ce71-4f77-a158-df71148428ef",
   "metadata": {},
   "outputs": [
    {
     "name": "stdout",
     "output_type": "stream",
     "text": [
      "\n",
      "\n",
      "\u001b[1m> Entering new AgentExecutor chain...\u001b[0m\n",
      "\u001b[32;1m\u001b[1;3m\n",
      "Invoking: `get_word_length` with `{'word': 'зачёт'}`\n",
      "\n",
      "\n",
      "\u001b[0m\u001b[33;1m\u001b[1;3m5\u001b[0m\u001b[32;1m\u001b[1;3mВ слове \"зачёт\" 5 букв.\u001b[0m\n",
      "\n",
      "\u001b[1m> Finished chain.\u001b[0m\n"
     ]
    },
    {
     "data": {
      "text/plain": [
       "{'input': 'Сколько букв в слове зачёт?',\n",
       " 'chat_history': [],\n",
       " 'output': 'В слове \"зачёт\" 5 букв.'}"
      ]
     },
     "execution_count": 14,
     "metadata": {},
     "output_type": "execute_result"
    }
   ],
   "source": [
    "agent_with_history = RunnableWithMessageHistory(\n",
    "    agent_executor,\n",
    "    get_session_history,\n",
    "    input_messages_key=\"input\",  # указываем название переменой запроса\n",
    "    history_messages_key=\"chat_history\", # название переменной для истории из шаблона\n",
    ")\n",
    "\n",
    "agent_with_history.invoke({\"input\": \"Сколько букв в слове зачёт?\"},\n",
    "                            config={\"configurable\": {\"session_id\": \"1\"}})"
   ]
  },
  {
   "cell_type": "markdown",
   "id": "8a70b939-31f0-4fd5-bfdf-5e6d477a3032",
   "metadata": {},
   "source": [
    "<div class=\"alert alert-success\" style=\"background-color:#e6ffe6; padding:13px; border-width:3px; border-color:#efe6ef; border-style:solid; border-radius:6px\">\n",
    "    \n",
    "✅ Видим, что в ответе появился ключ `chat_history`, но он пока пустой. "
   ]
  },
  {
   "cell_type": "code",
   "execution_count": 15,
   "id": "1d80885b-a64f-4f63-b9bb-3b14e66ad8c5",
   "metadata": {},
   "outputs": [
    {
     "name": "stdout",
     "output_type": "stream",
     "text": [
      "\n",
      "\n",
      "\u001b[1m> Entering new AgentExecutor chain...\u001b[0m\n",
      "\u001b[32;1m\u001b[1;3m\n",
      "Invoking: `get_word_length` with `{'word': 'ёж'}`\n",
      "\n",
      "\n",
      "\u001b[0m\u001b[33;1m\u001b[1;3m2\u001b[0m\u001b[32;1m\u001b[1;3mВ слове \"ёж\" 2 буквы.\u001b[0m\n",
      "\n",
      "\u001b[1m> Finished chain.\u001b[0m\n"
     ]
    },
    {
     "data": {
      "text/plain": [
       "{'input': 'А в слове ёж?',\n",
       " 'chat_history': [HumanMessage(content='Сколько букв в слове зачёт?', additional_kwargs={}, response_metadata={}),\n",
       "  AIMessage(content='В слове \"зачёт\" 5 букв.', additional_kwargs={}, response_metadata={})],\n",
       " 'output': 'В слове \"ёж\" 2 буквы.'}"
      ]
     },
     "execution_count": 15,
     "metadata": {},
     "output_type": "execute_result"
    }
   ],
   "source": [
    "agent_with_history.invoke({\"input\": \"А в слове ёж?\"},\n",
    "                            config={\"configurable\": {\"session_id\": \"1\"}})"
   ]
  },
  {
   "cell_type": "markdown",
   "id": "c7a2f73b-27d4-4131-ab1b-fcd97a0e9129",
   "metadata": {},
   "source": [
    "<div class=\"alert alert-success\" style=\"background-color:#e6ffe6; padding:13px; border-width:3px; border-color:#efe6ef; border-style:solid; border-radius:6px\">\n",
    "    \n",
    "✅ По истории диалога агент понял, что мы хотим посчитать количество букв в новом слове. <br>\n",
    "А в `chat_history` появилась запись с предыдущим диалогом."
   ]
  },
  {
   "cell_type": "markdown",
   "id": "1ca3c18e-ce5a-417a-a656-fd3318bcf110",
   "metadata": {},
   "source": [
    "<div class=\"alert alert-info\" style=\"padding:10px; border-width:3px; border-color:#efe6ef; border-style:solid; border-radius:6px\">\n",
    "    \n",
    "Рассмотренный тип агента даёт большие возможности для кастомизации за счёт промптинга, но в базовом варианте использования не сможет справится со сложными задачами. Для решения более сложных задач, в `Langchain` предусмотрены несколько других."
   ]
  },
  {
   "cell_type": "markdown",
   "id": "8aece752-2a4e-4057-befc-fad3191e4bdd",
   "metadata": {},
   "source": [
    "# <center  id=\"p2\"> `ReAct` `Agent` - сначала придумай план, потом делай!🚀</center>\n",
    "\n",
    "<div class=\"alert alert-info\" style=\"padding:10px; border-width:3px; border-color:#efe6ef; border-style:solid; border-radius:6px\">\n",
    "\n",
    "<img src='../images/react_sch.png' align=\"right\" width=\"550\" height=\"428\" style=\"border-radius: 0.75rem;\">\n",
    "\n",
    "📖 Этот тип агента реализуется на основе техники `ReAct Prompting` представленной командой GoogleResearch в 2022 году в статье [ReAct: Synergizing Reasoning and Acting in Language Models](https://arxiv.org/abs/2210.03629).\n",
    "\n",
    "\n",
    "\n",
    "**`ReAct`** объединила в себе два подхода:\n",
    "* **`Reasoning`** (техника Chain of Thoughts)\n",
    "* **`Acting`** (Action Plan Generation - генерация плана действий)\n"
   ]
  },
  {
   "cell_type": "markdown",
   "id": "d0c94c2a-ecde-45a5-9ebe-f8d9f18422fb",
   "metadata": {},
   "source": [
    "<div style=\"background-color:#e6ffe6; padding:13px; border-width:3px; border-color:#efe6ef; border-style:solid; border-radius:6px\">\n",
    "\n",
    "    \n",
    "#### Посмотрим как выглядит шаблон промпта ReAct агента в `LangChain`:\n",
    "\n",
    "```\n",
    "Answer the following questions as best you can. You have access to the\n",
    "following tools:\n",
    "{tools}\n",
    "Use the following format:\n",
    "Question: the input question you must answer\n",
    "Thought: you should always think about what to do\n",
    "Action: the action to take, should be one of [{tool_names}]\n",
    "Action Input: the input to the action\n",
    "Observation: the result of the action\n",
    "... (this Thought/Action/Action Input/Observation can repeat N times)\n",
    "Thought: I now know the final answer\n",
    "Final Answer: the final answer to the original input question\n",
    "Begin!\n",
    "Question: {input}\n",
    "Thought:{agent_scratchpad}\n",
    "```"
   ]
  },
  {
   "cell_type": "markdown",
   "id": "5e2b8035-71da-4fac-bb9d-2157f1809f22",
   "metadata": {},
   "source": [
    "<div class=\"alert alert-success\" style=\"background-color:#e6ffe6; padding:13px; border-width:3px; border-color:#efe6ef; border-style:solid; border-radius:6px\">\n",
    "\n",
    "Шаблоны промптов, используемые в агентах (и не только) хранятся в [LangChain Hub](https://smith.langchain.com/hub). Туда, примерно так же, как на `GitHub`, можно загружать свои промпты и потом удобно ими пользоваться. 🤗"
   ]
  },
  {
   "cell_type": "code",
   "execution_count": 19,
   "id": "2190a01a-26ba-4f0d-9846-3a2caa2703d2",
   "metadata": {},
   "outputs": [
    {
     "name": "stderr",
     "output_type": "stream",
     "text": [
      "/home/jovyan/venvs/sinara/lib/python3.10/site-packages/langsmith/client.py:272: LangSmithMissingAPIKeyWarning: API key must be provided when using hosted LangSmith API\n",
      "  warnings.warn(\n"
     ]
    },
    {
     "name": "stdout",
     "output_type": "stream",
     "text": [
      "input_variables=['agent_scratchpad', 'input', 'tool_names', 'tools'] input_types={} partial_variables={} metadata={'lc_hub_owner': 'hwchase17', 'lc_hub_repo': 'react', 'lc_hub_commit_hash': 'd15fe3c426f1c4b3f37c9198853e4a86e20c425ca7f4752ec0c9b0e97ca7ea4d'} template='Answer the following questions as best you can. You have access to the following tools:\\n\\n{tools}\\n\\nUse the following format:\\n\\nQuestion: the input question you must answer\\nThought: you should always think about what to do\\nAction: the action to take, should be one of [{tool_names}]\\nAction Input: the input to the action\\nObservation: the result of the action\\n... (this Thought/Action/Action Input/Observation can repeat N times)\\nThought: I now know the final answer\\nFinal Answer: the final answer to the original input question\\n\\nBegin!\\n\\nQuestion: {input}\\nThought:{agent_scratchpad}'\n"
     ]
    }
   ],
   "source": [
    "from langchain import hub\n",
    "\n",
    "prompt = hub.pull(\"hwchase17/react\")\n",
    "print(prompt)"
   ]
  },
  {
   "cell_type": "markdown",
   "id": "5c2c92f5-accf-42e4-b459-c0dc82e58922",
   "metadata": {},
   "source": [
    "<div style=\"background-color:#e6ffe6; padding:13px; border-width:3px; border-color:#efe6ef; border-style:solid; border-radius:6px\">\n",
    "🤔 Видим шаблон промпта, который обсуждали выше и служебные переменные."
   ]
  },
  {
   "cell_type": "markdown",
   "id": "6c79ee15-de4b-45cb-9cec-3dc44d43d8e7",
   "metadata": {},
   "source": [
    "<div style=\"background-color:#e6ffe6; padding:13px; border-width:3px; border-color:#efe6ef; border-style:solid; border-radius:6px\">\n",
    "    \n",
    "Так же это открывает простой путь к кастомизации промптов агентов, если дефолтные промпты не подходят вашей конкретной задаче:\n",
    "* Берем стандартный промпт, изменяем его. Или пишем собственный с нуля.\n",
    "* Загружаем на `langchainhub`\n",
    "* При необходимости подгружаем с хаба и пользуемся."
   ]
  },
  {
   "cell_type": "markdown",
   "id": "0fb03f05-140d-49d8-ba25-d33b83e91b8a",
   "metadata": {},
   "source": [
    "### <center  id=\"p2.1\"> 🚮 Добавим инструмент - Google-поиск (SerpAPI) 🔎</center>\n",
    "\n",
    "<div class=\"alert alert-info\" style=\"padding:10px; border-width:3px; border-color:#efe6ef; border-style:solid; border-radius:6px\">\n",
    "    \n",
    "📖 Для использования поисковика Google по API необходимо: зарегистрироваться на сайте [serpapi.com](https://serpapi.com) и получить API-ключ.\n",
    "На бесплатном тарифе доступно 100 запросов в месяц."
   ]
  },
  {
   "cell_type": "markdown",
   "id": "ac0c0a5b-60fa-4b39-a40a-14593586f8c8",
   "metadata": {},
   "source": [
    "<div style=\"background-color:#fff0ff; padding:10px; border-width:3px; border-color:#efe6ef; border-style:solid; border-radius:6px\">\n",
    "\n",
    "Если у вас возникли проблемы с регистрацией аккаунта `serpapi`, можете воспользоваться сервисом [Serper](serper.dev) или другими альтернативами.    "
   ]
  },
  {
   "cell_type": "code",
   "execution_count": 18,
   "id": "2ab693ef-2f59-4240-a435-eb2b811aecef",
   "metadata": {},
   "outputs": [
    {
     "name": "stdin",
     "output_type": "stream",
     "text": [
      "Введите ваш ключ SerpApi: ········\n"
     ]
    }
   ],
   "source": [
    "# Добавляем полученный ключ в переменную среды\n",
    "os.environ[\"SERPAPI_API_KEY\"] = getpass(prompt=\"Введите ваш ключ SerpApi:\")"
   ]
  },
  {
   "cell_type": "code",
   "execution_count": 19,
   "id": "1acbf1c0-f0b9-41bc-a99f-664f03a21421",
   "metadata": {},
   "outputs": [
    {
     "name": "stderr",
     "output_type": "stream",
     "text": [
      "/home/jovyan/venvs/sinara/lib/python3.10/site-packages/langsmith/client.py:272: LangSmithMissingAPIKeyWarning: API key must be provided when using hosted LangSmith API\n",
      "  warnings.warn(\n"
     ]
    },
    {
     "name": "stdout",
     "output_type": "stream",
     "text": [
      "\n",
      "\n",
      "\u001b[1m> Entering new AgentExecutor chain...\u001b[0m\n",
      "\u001b[32;1m\u001b[1;3mМне нужно узнать текущую температуру в Сочи, а затем возвести это значение в квадрат. Я начну с поиска информации о температуре в Сочи.  \n",
      "Action: Search  \n",
      "Action Input: \"Температура в Сочи\"  \u001b[0m\u001b[36;1m\u001b[1;3m{'type': 'weather_result', 'temperature': '59', 'unit': 'Fahrenheit', 'precipitation': '0%', 'humidity': '89%', 'wind': '5 mph', 'location': 'Sochi, Russia', 'date': 'Thursday 3:00 AM', 'weather': 'Mostly cloudy'}\u001b[0m\u001b[32;1m\u001b[1;3mТемпература в Сочи составила 59 градусов по Фаренгейту. Мне нужно преобразовать это значение в Цельсии и затем возвести в квадрат. Сначала переведу Фаренгейт в Цельсий, используя формулу:  \n",
      "\\[ C = \\frac{5}{9} \\times (F - 32) \\]\n",
      "где \\( F \\) — температура в Фаренгейтах. Затем я возведу полученное значение в квадрат.\n",
      "\n",
      "Action: Calculator  \n",
      "Action Input: (5/9) * (59 - 32)  \u001b[0m\u001b[33;1m\u001b[1;3mAnswer: 15.0\u001b[0m\u001b[32;1m\u001b[1;3mТеперь у меня есть температура в Сочи в Цельсиях — 15.0. Теперь мне нужно возвести это значение в квадрат.\n",
      "\n",
      "Action: Calculator  \n",
      "Action Input: 15.0 ** 2  \u001b[0m\u001b[33;1m\u001b[1;3mAnswer: 225.0\u001b[0m\u001b[32;1m\u001b[1;3mТеперь я знаю окончательный ответ.  \n",
      "Final Answer: 225.0\u001b[0m\n",
      "\n",
      "\u001b[1m> Finished chain.\u001b[0m\n"
     ]
    },
    {
     "data": {
      "text/plain": [
       "{'input': 'Температура в Сочи? Ответь в Цельсиях и возведи в квадрат',\n",
       " 'output': '225.0'}"
      ]
     },
     "execution_count": 19,
     "metadata": {},
     "output_type": "execute_result"
    }
   ],
   "source": [
    "import langchain\n",
    "from langchain.agents import create_react_agent\n",
    "\n",
    "tools = load_tools([\"serpapi\", \"llm-math\"], llm=llm)\n",
    "#langchain.debug = False\n",
    "\n",
    "# В новом интерфейсе явно задается используемый промпт\n",
    "prompt = hub.pull(\"hwchase17/react\")\n",
    "\n",
    "agent = create_react_agent(llm, tools, prompt)\n",
    "\n",
    "agent_executor = AgentExecutor(agent=agent,\n",
    "                               tools=tools, \n",
    "                               verbose=True,\n",
    "                               max_iterations=15, # максимальное количество итераций агента (15 по умолчанию)\n",
    "                               handle_parsing_errors=True)\n",
    "\n",
    "agent_executor.invoke({\"input\": \"Температура в Сочи? Ответь в Цельсиях и возведи в квадрат\"})"
   ]
  },
  {
   "cell_type": "markdown",
   "id": "3abc0bd9-51e7-4c41-b5ba-dfd248051d96",
   "metadata": {},
   "source": [
    "<div class=\"alert alert-success\">\n",
    "\n",
    "✅ Видим как агент последовательно применяет инструменты пока не добивается итоговой цели!"
   ]
  },
  {
   "cell_type": "code",
   "execution_count": 20,
   "id": "ace6e30d-3712-4299-9cd0-bc1d7bb94a27",
   "metadata": {},
   "outputs": [
    {
     "name": "stderr",
     "output_type": "stream",
     "text": [
      "/home/jovyan/venvs/sinara/lib/python3.10/site-packages/langsmith/client.py:272: LangSmithMissingAPIKeyWarning: API key must be provided when using hosted LangSmith API\n",
      "  warnings.warn(\n"
     ]
    },
    {
     "name": "stdout",
     "output_type": "stream",
     "text": [
      "['agent_scratchpad', 'chat_history', 'input', 'tool_names', 'tools']\n"
     ]
    }
   ],
   "source": [
    "# Если мы захотим добавить память к ReAct агенту, можем взять промпт с припиской chat\n",
    "# Видим, что в input_variables добавилась переменная chat_history\n",
    "prompt = hub.pull(\"hwchase17/react-chat\")\n",
    "print(prompt.input_variables)"
   ]
  },
  {
   "cell_type": "code",
   "execution_count": 21,
   "id": "7a89525d-37e9-452a-824d-d88c667961e9",
   "metadata": {},
   "outputs": [],
   "source": [
    "# Создадим свой tool, вычисляющий площадь треугольника\n",
    "@tool\n",
    "def compute_triangle_area(a, b, c):\n",
    "    \"\"\"Вычисляет площадь треугольника по длинам его сторон\"\"\"\n",
    "    s = (a + b + c) / 2\n",
    "    return (s * (s - a) * (s - b) * (s - c)) ** 0.5"
   ]
  },
  {
   "cell_type": "code",
   "execution_count": 22,
   "id": "7d9a5b5b-7420-43cc-80b2-fdf3943abd84",
   "metadata": {},
   "outputs": [],
   "source": [
    "# Добавим его к поиску\n",
    "tools.append(compute_triangle_area)"
   ]
  },
  {
   "cell_type": "code",
   "execution_count": null,
   "id": "5bae43a8-8ee6-4882-a56a-efedcb8b0595",
   "metadata": {},
   "outputs": [],
   "source": [
    "agent = create_react_agent(llm, tools, prompt)\n",
    "\n",
    "agent_executor = AgentExecutor(agent=agent, tools=tools, verbose=True)\n",
    "\n",
    "agent_executor.invoke({\"input\": \"Посчитай площадь треугольника со сторонами 2, 2, 2\"})"
   ]
  },
  {
   "cell_type": "markdown",
   "id": "035517e7-044e-4978-8436-c0849122f859",
   "metadata": {},
   "source": [
    "<div class=\"alert alert-warning\" style=\" padding:13px; border-width:3px; border-color:#efe6ef; border-style:solid; border-radius:6px\">\n",
    "    \n",
    "Получим ошибку: `ValidationError` <br>\n",
    "\n",
    "<img src='../images/ag_err.png'  width=\"808\" height=\"628\" >\n",
    "\n",
    "Это происходит из-за того, что `ReAct` агент не может применять `StructuredTool` - инструменты, принимающие на вход несколько параметров."
   ]
  },
  {
   "cell_type": "markdown",
   "id": "bc730c09-92d9-4673-b0e6-c8422e3472ad",
   "metadata": {},
   "source": [
    "<div class=\"alert alert-success\" style=\"background-color:#e6ffe6; padding:13px; border-width:3px; border-color:#efe6ef; border-style:solid; border-radius:6px\">\n",
    "    \n",
    "🤗 Для работы с такими инструментами применяется другой тип агента `Structured Chat Agent`."
   ]
  },
  {
   "cell_type": "markdown",
   "id": "16cfd3a1-335a-46fe-8899-ad6be3f9d5db",
   "metadata": {},
   "source": [
    "# <center id=\"p3\"> Structured Chat Agent 💬</center>\n",
    "\n",
    "<div class=\"alert alert-info\" style=\"padding:10px; border-width:3px; border-color:#efe6ef; border-style:solid; border-radius:6px\">\n",
    "    \n",
    "Не сильно отличается от `ReAct` агента - просто в промпт добавлены специальные инструкции и шаги для `multi-input tools`. "
   ]
  },
  {
   "cell_type": "code",
   "execution_count": 20,
   "id": "65733e96-9f03-4b29-8f55-21cac1cbd486",
   "metadata": {},
   "outputs": [
    {
     "name": "stderr",
     "output_type": "stream",
     "text": [
      "/home/jovyan/venvs/sinara/lib/python3.10/site-packages/langsmith/client.py:272: LangSmithMissingAPIKeyWarning: API key must be provided when using hosted LangSmith API\n",
      "  warnings.warn(\n"
     ]
    },
    {
     "name": "stdout",
     "output_type": "stream",
     "text": [
      "Respond to the human as helpfully and accurately as possible. You have access to the following tools:\n",
      "\n",
      "{tools}\n",
      "\n",
      "Use a json blob to specify a tool by providing an action key (tool name) and an action_input key (tool input).\n",
      "\n",
      "Valid \"action\" values: \"Final Answer\" or {tool_names}\n",
      "\n",
      "Provide only ONE action per $JSON_BLOB, as shown:\n",
      "\n",
      "```\n",
      "{{\n",
      "  \"action\": $TOOL_NAME,\n",
      "  \"action_input\": $INPUT\n",
      "}}\n",
      "```\n",
      "\n",
      "Follow this format:\n",
      "\n",
      "Question: input question to answer\n",
      "Thought: consider previous and subsequent steps\n",
      "Action:\n",
      "```\n",
      "$JSON_BLOB\n",
      "```\n",
      "Observation: action result\n",
      "... (repeat Thought/Action/Observation N times)\n",
      "Thought: I know what to respond\n",
      "Action:\n",
      "```\n",
      "{{\n",
      "  \"action\": \"Final Answer\",\n",
      "  \"action_input\": \"Final response to human\"\n",
      "}}\n",
      "\n",
      "Begin! Reminder to ALWAYS respond with a valid json blob of a single action. Use tools if necessary. Respond directly if appropriate. Format is Action:```$JSON_BLOB```then Observation\n"
     ]
    }
   ],
   "source": [
    "# Посмотрим на промпт Structured Chat агента, используемый по умолчанию\n",
    "prompt = hub.pull(\"hwchase17/structured-chat-agent\")\n",
    "print(prompt.messages[0].prompt.template)"
   ]
  },
  {
   "cell_type": "markdown",
   "id": "9cd62957-d9a1-4e05-a042-fb3cdb880ee1",
   "metadata": {},
   "source": [
    "<div class=\"alert alert-success\" style=\"background-color:#e6ffe6; padding:13px; border-width:3px; border-color:#efe6ef; border-style:solid; border-radius:6px\">\n",
    "    \n",
    "Видим, что по сути, промпт совпадает с промптом `ReAct` агента. "
   ]
  },
  {
   "cell_type": "markdown",
   "id": "57f8b52d-c4e3-411f-89a7-97879757ee51",
   "metadata": {},
   "source": [
    "Посмотрим, как справится с задачей `structured_chat_agent`."
   ]
  },
  {
   "cell_type": "code",
   "execution_count": 23,
   "id": "e1dd61c3-c616-457c-92e4-0660f5d07867",
   "metadata": {},
   "outputs": [
    {
     "name": "stdout",
     "output_type": "stream",
     "text": [
      "\n",
      "\n",
      "\u001b[1m> Entering new AgentExecutor chain...\u001b[0m\n",
      "\u001b[32;1m\u001b[1;3mThought: Для нахождения площади треугольника со сторонами 2, 2, 2, я могу использовать формулу Герона, но также известно, что это равносторонний треугольник, площадь которого можно найти и другим способом. Я решу через инструмент, который вычисляет площадь по длинам сторон.\n",
      "\n",
      "Action:\n",
      "```\n",
      "{\n",
      "  \"action\": \"compute_triangle_area\",\n",
      "  \"action_input\": {\"a\": 2, \"b\": 2, \"c\": 2}\n",
      "}\n",
      "```\u001b[0m\u001b[38;5;200m\u001b[1;3m1.7320508075688772\u001b[0m\u001b[32;1m\u001b[1;3mAction:\n",
      "```\n",
      "{\n",
      "  \"action\": \"Final Answer\",\n",
      "  \"action_input\": \"Площадь треугольника со сторонами 2, 2, 2 равна 1.732.\"\n",
      "}\n",
      "```\u001b[0m\n",
      "\n",
      "\u001b[1m> Finished chain.\u001b[0m\n"
     ]
    },
    {
     "data": {
      "text/plain": [
       "{'input': 'Посчитай площадь треугольника со сторонами 2, 2, 2',\n",
       " 'output': 'Площадь треугольника со сторонами 2, 2, 2 равна 1.732.'}"
      ]
     },
     "execution_count": 23,
     "metadata": {},
     "output_type": "execute_result"
    }
   ],
   "source": [
    "from langchain.agents import create_structured_chat_agent\n",
    "\n",
    "agent = create_structured_chat_agent(llm, tools, prompt)\n",
    "\n",
    "agent_executor = AgentExecutor(agent=agent, tools=tools, verbose=True)\n",
    "\n",
    "agent_executor.invoke({\"input\": \"Посчитай площадь треугольника со сторонами 2, 2, 2\"})"
   ]
  },
  {
   "cell_type": "markdown",
   "id": "f6e21868-b9a2-40a8-909a-394c957cf2c5",
   "metadata": {},
   "source": [
    "# <center id=\"p4\"> 🙋🏻 `Self-Ask` with search Agent ❓ </center>\n",
    "\n",
    "<img src='../images/self.webp' align=\"right\" width=\"508\" height=\"428\" style=\"border-radius: 0.75rem;\" >\n",
    "\n",
    "\n",
    "<div class=\"alert alert-info\" style=\"padding:10px; border-width:3px; border-color:#efe6ef; border-style:solid; border-radius:6px\">\n",
    "    \n",
    "📖 Техника `Self-Ask with search` позволяет LLM не сразу отвечать на запрос, а сначала делать промежуточные поисковые запросы и, основываясь на результатах этих запросов, генерировать окончательный ответ. Что даёт прирост в качестве ответов по сравнению с `Zero-shot` и `Chain-of-Taughts` при ответах на сложные запросы.\n",
    "\n",
    "Агент `Self-Ask with search` может использовать только один инструмент: любой поисковик."
   ]
  },
  {
   "cell_type": "code",
   "execution_count": 17,
   "id": "ca89c1b0-e8ff-4df2-a695-107953f81910",
   "metadata": {},
   "outputs": [
    {
     "name": "stdout",
     "output_type": "stream",
     "text": [
      "\n",
      "\n",
      "\u001b[1m> Entering new AgentExecutor chain...\u001b[0m\n",
      "\u001b[32;1m\u001b[1;3mAction:\n",
      "```\n",
      "{\n",
      "  \"action\": \"Search\",\n",
      "  \"action_input\": \"What is the largest river that flows through the city where the author of 'The Captain's Daughter' was born?\"\n",
      "}\n",
      "```\u001b[0m\u001b[36;1m\u001b[1;3m[\"The Captain's Daughter is a historical novel by the Russian writer Alexander Pushkin. It was first published in 1836 in the fourth issue of the literary ...\", \"Found in the seedy wharf district of London, down by the reeking River Thames, the Captain's Daughter was a watering hole renowned for the roughness of its grog ...\", 'Sacagawea traveled with the expedition thousands of miles from North Dakota to the Pacific Ocean, helping to establish cultural contacts with Native American ...', 'A love triangle ensues with Shavbran trying to keep Masha and Grinyov apart. As this dramatic love story develops, Pugachev arrives to take over the fort, ...', 'Captain John Smith was an adventurer, soldier, explorer and author. Through the telling of his early life, we can trace the developments of a ...', 'In either 1836 or 1837, Dred Scott married Harriet Robinson, a teen-aged slave owned by Major Lawrence Taliaferro, Indian agent for the territory. Unusual for ...', 'Once captured, Smith was displayed at several Powhatan Indian towns before being brought to the capital of the Powhatan Chiefdom, Werowocomoco, ...', \"Statue of Liberty in front of the skyline of Manhattan, New York City, New ... Byron sailed up the Rhine River into ... birth to Byron's daughter ...\", 'In the film, authors, historians, curators and representatives of the Pamunkey tribe of Virginia, which descends from Pocahontas, paint a ...', 'The longest river in the world, measured from its mouth to its most distant, year-round source, is likely the Amazon, which flows 4,345 ...']\u001b[0m\u001b[32;1m\u001b[1;3mAction:\n",
      "```\n",
      "{\n",
      "  \"action\": \"Final Answer\",\n",
      "  \"action_input\": \"The largest river that flows through the city where the author of 'The Captain's Daughter' was born is the Neva River.\"\n",
      "}\n",
      "```\u001b[0m\n",
      "\n",
      "\u001b[1m> Finished chain.\u001b[0m\n"
     ]
    },
    {
     "data": {
      "text/plain": [
       "{'input': \"Какая самая большая река протекает в городе, в котором родился автор 'Капитанской дочки'?\",\n",
       " 'output': \"The largest river that flows through the city where the author of 'The Captain's Daughter' was born is the Neva River.\"}"
      ]
     },
     "execution_count": 17,
     "metadata": {},
     "output_type": "execute_result"
    }
   ],
   "source": [
    "# Если спросить предыдущего агента:\n",
    "agent_executor.invoke(\n",
    "    {\"input\": \"Какая самая большая река протекает в городе, в котором родился автор 'Капитанской дочки'?\"})"
   ]
  },
  {
   "cell_type": "markdown",
   "id": "52b887e9-87ac-49c0-805d-f148d6af519e",
   "metadata": {},
   "source": [
    "<div class=\"alert alert-success\" style=\"background-color:#fff6ff; padding:13px; border-width:3px; border-color:#efe6ef; border-style:solid; border-radius:6px\">\n",
    "    \n",
    "Агент пытается получить ответ на сложный вопрос одним поисковым запросом и приходит к неправильному выводу! <br>\n",
    "Для ответа на подобные вопросы хорошо подходит агент, реализующий технику промптинга `Self-Ask`."
   ]
  },
  {
   "cell_type": "markdown",
   "id": "70fd1335-43f6-4622-80f1-16e3ecc8d8f7",
   "metadata": {},
   "source": [
    "<div class=\"alert alert-success\" style=\"background-color:#e6ffe6; padding:13px; border-width:3px; border-color:#efe6ef; border-style:solid; border-radius:6px\">\n",
    "    \n",
    "#### Посмотрим как выглядит шаблон промпта Self-Ask агента в `LangChain` (по сути это `Few-shot` + `CoT`):\n",
    "```\n",
    "Question: Who lived longer, Muhammad Ali or Alan Turing?\n",
    "Are follow up questions needed here: Yes.\n",
    "Follow up: How old was Muhammad Ali when he died?\n",
    "Intermediate answer: Muhammad Ali was 74 years old when he died.\n",
    "Follow up: How old was Alan Turing when he died?\n",
    "Intermediate answer: Alan Turing was 41 years old when he died.\n",
    "So the final answer is: Muhammad Ali\n",
    "\n",
    "Question: When was the founder of craigslist born?\n",
    "Are follow up questions needed here: Yes.\n",
    "Follow up: Who was the founder of craigslist?\n",
    "Intermediate answer: Craigslist was founded by Craig Newmark.\n",
    "Follow up: When was Craig Newmark born?\n",
    "Intermediate answer: Craig Newmark was born on December 6, 1952.\n",
    "So the final answer is: December 6, 1952\n",
    "\n",
    "Question: Who was the maternal grandfather of George Washington?\n",
    "Are follow up questions needed here: Yes.\n",
    "Follow up: Who was the mother of George Washington?\n",
    "Intermediate answer: The mother of George Washington was Mary Ball Washington.\n",
    "Follow up: Who was the father of Mary Ball Washington?\n",
    "Intermediate answer: The father of Mary Ball Washington was Joseph Ball.\n",
    "So the final answer is: Joseph Ball\n",
    "\n",
    "Question: Are both the directors of Jaws and Casino Royale from the same country?\n",
    "Are follow up questions needed here: Yes.\n",
    "Follow up: Who is the director of Jaws?\n",
    "Intermediate answer: The director of Jaws is Steven Spielberg.\n",
    "Follow up: Where is Steven Spielberg from?\n",
    "Intermediate answer: The United States.\n",
    "Follow up: Who is the director of Casino Royale?\n",
    "Intermediate answer: The director of Casino Royale is Martin Campbell.\n",
    "Follow up: Where is Martin Campbell from?\n",
    "Intermediate answer: New Zealand.\n",
    "So the final answer is: No\n",
    "\n",
    "Question: {input}\n",
    "Are followup questions needed here:{agent_scratchpad}\n",
    "```"
   ]
  },
  {
   "cell_type": "code",
   "execution_count": 33,
   "id": "6e98bc6b-8a6a-46cb-9583-38ad16e54a25",
   "metadata": {},
   "outputs": [
    {
     "name": "stderr",
     "output_type": "stream",
     "text": [
      "/home/jovyan/venvs/sinara/lib/python3.10/site-packages/langsmith/client.py:272: LangSmithMissingAPIKeyWarning: API key must be provided when using hosted LangSmith API\n",
      "  warnings.warn(\n"
     ]
    }
   ],
   "source": [
    "from langchain.agents import create_self_ask_with_search_agent, Tool\n",
    "from langchain_community.utilities import SerpAPIWrapper\n",
    "\n",
    "prompt = hub.pull(\"hwchase17/self-ask-with-search\")"
   ]
  },
  {
   "cell_type": "markdown",
   "id": "ce95ab9b-ef00-464f-a28e-ee61115509cd",
   "metadata": {},
   "source": [
    "<div class=\"alert alert-info\" style=\"padding:10px; border-width:3px; border-color:#efe6ef; border-style:solid; border-radius:6px\">\n",
    "\n",
    "Создадим инструмент - поиск, который **ОБЯЗАТЕЛЬНО** должен называться `Intermediate Answer`."
   ]
  },
  {
   "cell_type": "code",
   "execution_count": 34,
   "id": "a4f133f5-b9b8-4214-8e2e-d4ef169a0484",
   "metadata": {},
   "outputs": [],
   "source": [
    "search = SerpAPIWrapper()\n",
    "tools = [\n",
    "    Tool(\n",
    "        name=\"Intermediate Answer\",\n",
    "        func=search.run,\n",
    "        description='useful for when you need to answer questions'\n",
    "    )\n",
    "]"
   ]
  },
  {
   "cell_type": "code",
   "execution_count": 35,
   "id": "08682b2a-26ed-4932-82c3-ef3f53840a0a",
   "metadata": {},
   "outputs": [
    {
     "name": "stdout",
     "output_type": "stream",
     "text": [
      "\n",
      "\n",
      "\u001b[1m> Entering new AgentExecutor chain...\u001b[0m\n",
      "\u001b[32;1m\u001b[1;3mДа.  \n",
      "Follow up: Кто является автором романа Капитанская дочка?  \u001b[0m\u001b[36;1m\u001b[1;3mAlexander Pushkin\u001b[0m\u001b[32;1m\u001b[1;3mFollow up: В каком городе родился Александр Пушкин?  \u001b[0m\u001b[36;1m\u001b[1;3mMoscow, Russia\u001b[0m\u001b[32;1m\u001b[1;3mCould not parse output: Follow up: Какая самая большая река в Москве?  \n",
      "\n",
      "For troubleshooting, visit: https://python.langchain.com/docs/troubleshooting/errors/OUTPUT_PARSING_FAILURE \u001b[0mInvalid or incomplete response\u001b[32;1m\u001b[1;3mThe largest river that flows through Moscow, the city where Alexander Pushkin was born, is the Moskva River. \n",
      "\n",
      "So the final answer is: Moskva River.\u001b[0m\n",
      "\n",
      "\u001b[1m> Finished chain.\u001b[0m\n"
     ]
    },
    {
     "data": {
      "text/plain": [
       "{'input': 'Какая самая большая река протекает в городе, в котором родился автор романа Капитанская дочка?',\n",
       " 'output': 'Moskva River.'}"
      ]
     },
     "execution_count": 35,
     "metadata": {},
     "output_type": "execute_result"
    }
   ],
   "source": [
    "agent = create_self_ask_with_search_agent(llm, tools, prompt)\n",
    "\n",
    "agent_executor = AgentExecutor(agent=agent, tools=tools, verbose=True, handle_parsing_errors=True)\n",
    "\n",
    "agent_executor.invoke({\"input\": \"Какая самая большая река протекает в городе, в котором родился автор романа Капитанская дочка?\"})\n"
   ]
  },
  {
   "cell_type": "markdown",
   "id": "a2c900e6-5eaf-4276-8baa-623afca342ac",
   "metadata": {},
   "source": [
    "<div class=\"alert alert-success\" style=\"background-color:#e6ffe6; padding:13px; border-width:3px; border-color:#efe6ef; border-style:solid; border-radius:6px\">\n",
    "    \n",
    "**Обратите внимание:** Работа `ReAct` агента завершается при достижении лимита итераций, а `Self-Ask` агент, когда заканчиваются промежуточные вопросы."
   ]
  },
  {
   "cell_type": "markdown",
   "id": "3385a437-d615-4c3b-ab54-3dcabedd20e3",
   "metadata": {},
   "source": [
    "# <center id=\"p6\"> 🪛 Agent + RAG 🦞 </center>"
   ]
  },
  {
   "cell_type": "markdown",
   "id": "33b72e0c-27c1-4753-956e-76f02ecbe13f",
   "metadata": {},
   "source": [
    "<div class=\"alert alert-info\" style=\"padding:10px; border-width:3px; border-color:#efe6ef; border-style:solid; border-radius:6px\">\n",
    "    \n",
    "📖 **В этом блоке разберем довольно часто встречающийся кейс:** у вас есть готовый лэндинг или сайт, и вы хотите, чтобы LLM могла отвечать на запросы, опираясь на информацию с сайта.\n"
   ]
  },
  {
   "cell_type": "markdown",
   "id": "95007a64-c76a-4924-9d5d-33320bc20bf9",
   "metadata": {},
   "source": [
    "<div class=\"alert alert-info\" style=\"padding:10px; border-width:3px; border-color:#efe6ef; border-style:solid; border-radius:6px\">\n",
    "\n",
    "Сделать это достаточно просто:\n",
    "* Cоздадим агента и в качестве инструмента дадим ему ретривер\n",
    "* Ретривер сможет доставать релевантную информацию из базы знаний.\n",
    "* А **базу знаний** создадим, распарсив веб страницу\n",
    "* В качестве веб страницы будем использовать [страницу пиццерии](https://allopizza.su/spb/kupchino) 🍕\n",
    "* Заставим агента отвечать на вопросы по ней."
   ]
  },
  {
   "cell_type": "code",
   "execution_count": 36,
   "id": "7a78f979-2f21-48ff-b93c-ffc5b5646861",
   "metadata": {},
   "outputs": [
    {
     "name": "stderr",
     "output_type": "stream",
     "text": [
      "USER_AGENT environment variable not set, consider setting it to identify your requests.\n"
     ]
    }
   ],
   "source": [
    "from langchain_community.document_loaders import WebBaseLoader"
   ]
  },
  {
   "cell_type": "code",
   "execution_count": 37,
   "id": "55d30e24-2a56-4f48-9ff4-56dc30e9f076",
   "metadata": {},
   "outputs": [],
   "source": [
    "loader = WebBaseLoader(\"https://allopizza.su/spb/kupchino/about\")"
   ]
  },
  {
   "cell_type": "code",
   "execution_count": 38,
   "id": "70c8fb08-a68e-4ff2-a048-4f2d12ab43b1",
   "metadata": {},
   "outputs": [],
   "source": [
    "data = loader.load()"
   ]
  },
  {
   "cell_type": "markdown",
   "id": "32d5da09-961f-4e7f-bb8b-642bfbe4dcda",
   "metadata": {},
   "source": [
    "<div class=\"alert alert-success\" style=\"background-color:#e6ffe6; padding:13px; border-width:3px; border-color:#efe6ef; border-style:solid; border-radius:6px\">\n",
    "    \n",
    "Засплитим данные, сформируем эмбединги и создадим ретривер"
   ]
  },
  {
   "cell_type": "code",
   "execution_count": 39,
   "id": "ea844884-ba0a-44e2-a35f-e81fdedd9afa",
   "metadata": {},
   "outputs": [],
   "source": [
    "from langchain_community.vectorstores import FAISS\n",
    "from langchain_text_splitters import CharacterTextSplitter\n",
    "from langchain_openai import OpenAIEmbeddings\n",
    "\n",
    "text_splitter = CharacterTextSplitter(chunk_size=1000, chunk_overlap=0)\n",
    "texts = text_splitter.split_documents(data)\n",
    "\n",
    "embeddings = OpenAIEmbeddings(api_key=course_api_key, model='gpt-4o-mini', \n",
    "                              base_url=\"https://aleron-llm.neuraldeep.tech/\")\n",
    "\n",
    "db_embed = FAISS.from_documents(texts, embeddings)\n",
    "\n",
    "retriever = db_embed.as_retriever()"
   ]
  },
  {
   "cell_type": "markdown",
   "id": "70ddf5d5-dbf0-4adf-a070-bcb5b3d2fadf",
   "metadata": {},
   "source": [
    "<div class=\"alert alert-success\" style=\"background-color:#e6ffe6; padding:13px; border-width:3px; border-color:#efe6ef; border-style:solid; border-radius:6px\">\n",
    "    \n",
    "Создадим `tool`, чтобы ретривить документы"
   ]
  },
  {
   "cell_type": "code",
   "execution_count": 40,
   "id": "d54fc358-2631-416b-bbc4-7fbc89446cd8",
   "metadata": {},
   "outputs": [],
   "source": [
    "from langchain.tools.retriever import create_retriever_tool\n",
    "\n",
    "tool = create_retriever_tool(\n",
    "    retriever, # наш ретривер\n",
    "    \"search_web\", # имя инструмента\n",
    "    \"Searches and returns data from page\", # описание инструмента подается в ЛЛМ\n",
    ")\n",
    "tools = [tool]"
   ]
  },
  {
   "cell_type": "markdown",
   "id": "f6a32cfe-938b-4de6-9bfa-2424191b27af",
   "metadata": {},
   "source": [
    "<div class=\"alert alert-success\" style=\"background-color:#e6ffe6; padding:13px; border-width:3px; border-color:#efe6ef; border-style:solid; border-radius:6px\">\n",
    "\n",
    "В качестве агента возьмём `react-agent`."
   ]
  },
  {
   "cell_type": "code",
   "execution_count": 41,
   "id": "ea892bc7-3d28-4d18-a021-c872a62c9649",
   "metadata": {},
   "outputs": [
    {
     "name": "stderr",
     "output_type": "stream",
     "text": [
      "/home/jovyan/venvs/sinara/lib/python3.10/site-packages/langsmith/client.py:272: LangSmithMissingAPIKeyWarning: API key must be provided when using hosted LangSmith API\n",
      "  warnings.warn(\n"
     ]
    }
   ],
   "source": [
    "prompt = hub.pull(\"hwchase17/react\")"
   ]
  },
  {
   "cell_type": "markdown",
   "id": "4e697f82-6152-4929-97dd-0428b9492a49",
   "metadata": {},
   "source": [
    "<div class=\"alert alert-success\" style=\"background-color:#e6ffe6; padding:13px; border-width:3px; border-color:#efe6ef; border-style:solid; border-radius:6px\">\n",
    "    \n",
    "🤔 Создадим агента и протестируем на запросах по веб-странице пиццерии."
   ]
  },
  {
   "cell_type": "code",
   "execution_count": 42,
   "id": "63c55465-9248-4ba9-9605-45aa45352a2a",
   "metadata": {},
   "outputs": [],
   "source": [
    "from langchain.agents import create_react_agent\n",
    "\n",
    "agent = create_react_agent(llm, tools, prompt)\n",
    "agent_executor = AgentExecutor(agent=agent, tools=tools)"
   ]
  },
  {
   "cell_type": "code",
   "execution_count": 43,
   "id": "f810ae0f-0328-4de5-853d-106292d4afec",
   "metadata": {},
   "outputs": [
    {
     "data": {
      "text/plain": [
       "'Автопарк компании \"Алло! Пицца\" насчитывает более 200 легковых автомобилей.'"
      ]
     },
     "execution_count": 43,
     "metadata": {},
     "output_type": "execute_result"
    }
   ],
   "source": [
    "result = agent_executor.invoke({\"input\": \"Из скольки авто состоит автопарк компании?\"})\n",
    "result[\"output\"]"
   ]
  },
  {
   "cell_type": "code",
   "execution_count": 44,
   "id": "b59bacbb-9a53-4986-885a-ac122fdd810c",
   "metadata": {},
   "outputs": [
    {
     "data": {
      "text/plain": [
       "'Кафе \"Алло! Пицца\" в Купчино открывается в 10:00 и закрывается в 23:00.'"
      ]
     },
     "execution_count": 44,
     "metadata": {},
     "output_type": "execute_result"
    }
   ],
   "source": [
    "result = agent_executor.invoke({\"input\": \"во сколько открывается и куда идти?\"})\n",
    "result[\"output\"]"
   ]
  },
  {
   "cell_type": "code",
   "execution_count": 45,
   "id": "b88b0443-f0a8-40c8-b56d-84e24fe2c85e",
   "metadata": {},
   "outputs": [
    {
     "data": {
      "text/plain": [
       "'Компания \"Алло! Пицца\" работает в следующих городах: Москва, Санкт-Петербург и Ростов-на-Дону.'"
      ]
     },
     "execution_count": 45,
     "metadata": {},
     "output_type": "execute_result"
    }
   ],
   "source": [
    "result = agent_executor.invoke({\"input\": \"В каких городах работает?\"})\n",
    "result[\"output\"]"
   ]
  },
  {
   "cell_type": "markdown",
   "id": "d157fc0f-13cb-4ebc-9ccc-9ff87ca65d2a",
   "metadata": {},
   "source": [
    "<div class=\"alert alert-success\" style=\"background-color:#e6ffe6; padding:13px; border-width:3px; border-color:#efe6ef; border-style:solid; border-radius:6px\">\n",
    "    \n",
    "🤗 Агент успешно справляется с вопросами."
   ]
  },
  {
   "cell_type": "markdown",
   "id": "c614c276-0f0b-4c88-a1c2-5513bb1eabe8",
   "metadata": {},
   "source": [
    "# <center id=\"p7\"> 🙋🏻 Agent + SQL база 📊 </center>\n",
    "\n",
    "<div class=\"alert alert-info\" style=\"padding:10px; border-width:3px; border-color:#efe6ef; border-style:solid; border-radius:6px\">\n",
    "\n",
    "<img src='../images/sql_agent.png' align=\"right\" width=\"580\" height=\"428\" style=\"border-radius: 0.75rem;\">\n",
    "\n",
    "📖 **Следующий популярный кейс:** У вас есть база данных, и неплохо бы получать информацию из неё, делая запрос на естественном языке, не применяя `SQL`. В библиотеке `langchain` есть несколько инструментов для работы с `SQL` базой данных:\n",
    "\n",
    "<div class=\"alert alert-success\" style=\"background-color:#e6ffe6; padding:13px; border-width:3px; border-color:#efe6ef; border-style:solid; border-radius:6px\">\n",
    "    \n",
    "* `SQLDatabaseChain` - цепочка, выполняющая SQL-запросы к базе\n",
    "* `SQLDatabaseToolkit` - целый ящик инструментов, который подаётся в агента. Содержит следующие инструменты:\n",
    "  - `QuerySQLDataBaseTool` - инструмент для создания и выполнения запросов\n",
    "  - `InfoSQLDatabaseTool` - инструмент для получения описания и информации о таблицах\n",
    "  - `ListSQLDatabaseTool` - инструмент для получения названий таблиц\n",
    "  - `QueryCheckerTool` - способен проверять запросы на правильный синтаксис\n",
    "\n",
    "`SQLDatabaseToolkit` в отличие от цепочки, меньше подвержен ошибкам и не падает при неправильном запросе к базе."
   ]
  },
  {
   "cell_type": "markdown",
   "id": "1743e281-3811-4c77-9968-bedb5667bffc",
   "metadata": {},
   "source": [
    "Мы ещё не рассматривали тулкиты (`toolkits`) - это наборы инструментов для выполнения определенной задачи. Все тулкиты поддерживают метод `get_tools`, вызывающий список инструментов в наборе. Например, есть тулкиты для работы с GitHub, Gmail, офисными пакетами, языками программирования и много других. С актуальнымм списком тулкитов можно ознакомиться в [документации](https://python.langchain.com/docs/integrations/toolkits/)."
   ]
  },
  {
   "cell_type": "markdown",
   "id": "0de7d0cb-72ee-4417-8f0f-cca755623b61",
   "metadata": {},
   "source": [
    "<div class=\"alert alert-success\" style=\"background-color:#e6ffe6; padding:13px; border-width:3px; border-color:#efe6ef; border-style:solid; border-radius:6px\">\n",
    "    \n",
    "У нас есть база данных `pizzeria.db`, состоящая из четырех таблиц. Подгрузим эту базу и посмотрим на содержимое.\n",
    "\n",
    "Чтобы посмотреть на таблицы нашей базы в удобном варианте можно использовать [sqliteviewer](https://sqliteviewer.app/). (Предварительно подгрузите файл с базой данных.)"
   ]
  },
  {
   "cell_type": "code",
   "execution_count": 27,
   "id": "c1f28f2e-2443-43b8-8365-9b699aac653c",
   "metadata": {},
   "outputs": [
    {
     "name": "stdout",
     "output_type": "stream",
     "text": [
      "sqlite\n",
      "['clients', 'orders', 'pizza_orders', 'pizzas']\n"
     ]
    }
   ],
   "source": [
    "from langchain_community.utilities import SQLDatabase\n",
    "\n",
    "# подключимся к базе\n",
    "db = SQLDatabase.from_uri(\"sqlite:///../data/pizzeria.db\")\n",
    "print(db.dialect)\n",
    "\n",
    "# получим названия всех таблиц в базе\n",
    "print(db.get_usable_table_names())"
   ]
  },
  {
   "cell_type": "markdown",
   "id": "00736437-3e54-49f4-9d8c-b70c899223a3",
   "metadata": {},
   "source": [
    "<div class=\"alert alert-info\" style=\"padding:10px; border-width:3px; border-color:#efe6ef; border-style:solid; border-radius:6px\">\n",
    "\n",
    "Создадим агента и попробуем задавать вопросы по таблицам."
   ]
  },
  {
   "cell_type": "code",
   "execution_count": 28,
   "id": "7d8bad6e-055a-4b68-8a90-af287f6bde06",
   "metadata": {},
   "outputs": [],
   "source": [
    "from langchain_community.agent_toolkits import create_sql_agent\n",
    "from langchain.agents.agent_toolkits import SQLDatabaseToolkit\n",
    "\n",
    "toolkit = SQLDatabaseToolkit(db=db, llm=llm)\n",
    "\n",
    "agent_executor = create_sql_agent(llm,\n",
    "                         toolkit=toolkit,\n",
    "                         verbose=True)"
   ]
  },
  {
   "cell_type": "code",
   "execution_count": 48,
   "id": "6f3b5bd6-5adf-43d4-a913-bcf3a9fd2e24",
   "metadata": {},
   "outputs": [
    {
     "name": "stdout",
     "output_type": "stream",
     "text": [
      "\n",
      "\n",
      "\u001b[1m> Entering new SQL Agent Executor chain...\u001b[0m\n",
      "\u001b[32;1m\u001b[1;3mAction: sql_db_list_tables  \n",
      "Action Input: \"\"  \u001b[0m\u001b[38;5;200m\u001b[1;3mclients, orders, pizza_orders, pizzas\u001b[0m\u001b[32;1m\u001b[1;3mI need to check the schema of the \"orders\" table, as it likely contains data related to the orders made, including dates which will help identify the month with the most orders.  \n",
      "Action: sql_db_schema  \n",
      "Action Input: \"orders\"  \u001b[0m\u001b[33;1m\u001b[1;3m\n",
      "CREATE TABLE orders (\n",
      "\tid INTEGER NOT NULL, \n",
      "\torder_date DATE, \n",
      "\tclient_id INTEGER, \n",
      "\tquantity INTEGER, \n",
      "\tprice NUMERIC(10, 2), \n",
      "\tPRIMARY KEY (id), \n",
      "\tFOREIGN KEY(client_id) REFERENCES clients (id)\n",
      ")\n",
      "\n",
      "/*\n",
      "3 rows from orders table:\n",
      "id\torder_date\tclient_id\tquantity\tprice\n",
      "1\t2023-05-01\t1\t1\t750.00\n",
      "2\t2023-05-01\t2\t4\t12000.00\n",
      "3\t2023-05-01\t1\t2\t2750.00\n",
      "*/\u001b[0m\u001b[32;1m\u001b[1;3mTo find the month with the most orders in 2023, I need to group the results by month and count the number of orders for each month. Then, I'll order the results by the count in descending order and limit it to the top result.\n",
      "\n",
      "First, I'll create the SQL query to count orders by month and year for the year 2023.\n",
      "\n",
      "Action: sql_db_query_checker  \n",
      "Action Input: \"SELECT strftime('%Y-%m', order_date) AS month, COUNT(*) AS order_count FROM orders WHERE order_date >= '2023-01-01' AND order_date < '2024-01-01' GROUP BY month ORDER BY order_count DESC LIMIT 1;\"  \u001b[0m\u001b[36;1m\u001b[1;3m```sql\n",
      "SELECT strftime('%Y-%m', order_date) AS month, COUNT(*) AS order_count FROM orders WHERE order_date >= '2023-01-01' AND order_date < '2024-01-01' GROUP BY month ORDER BY order_count DESC LIMIT 1;\n",
      "```\u001b[0m\u001b[32;1m\u001b[1;3mThe query is syntactically correct. I will now execute it to get the result.  \n",
      "Action: sql_db_query  \n",
      "Action Input: \"SELECT strftime('%Y-%m', order_date) AS month, COUNT(*) AS order_count FROM orders WHERE order_date >= '2023-01-01' AND order_date < '2024-01-01' GROUP BY month ORDER BY order_count DESC LIMIT 1;\"  \u001b[0m\u001b[36;1m\u001b[1;3m[('2023-06', 114)]\u001b[0m\u001b[32;1m\u001b[1;3mI now know the final answer.  \n",
      "Final Answer: В июне 2023 года было больше всего заказов.\u001b[0m\n",
      "\n",
      "\u001b[1m> Finished chain.\u001b[0m\n"
     ]
    }
   ],
   "source": [
    "resp = agent_executor.invoke({\"input\": \"В каком месяце 2023 года было больше всего заказов?\"})"
   ]
  },
  {
   "cell_type": "markdown",
   "id": "d075b69d-d351-42ae-8130-a69efcd7a4c9",
   "metadata": {},
   "source": [
    "<div class=\"alert alert-info\" style=\"padding:10px; border-width:3px; border-color:#efe6ef; border-style:solid; border-radius:6px\">\n",
    "\n",
    "Проверим агента, сделав нужный запрос к базе данных."
   ]
  },
  {
   "cell_type": "code",
   "execution_count": 49,
   "id": "c606527a-6141-456f-a3ec-9edd7ba019ae",
   "metadata": {},
   "outputs": [
    {
     "data": {
      "text/plain": [
       "\"[('06', 114)]\""
      ]
     },
     "execution_count": 49,
     "metadata": {},
     "output_type": "execute_result"
    }
   ],
   "source": [
    "db.run('''\n",
    "SELECT strftime('%m', order_date) AS month, COUNT(*) AS total_orders \n",
    "FROM orders \n",
    "WHERE strftime('%Y', order_date) = '2023' \n",
    "GROUP BY month \n",
    "ORDER BY total_orders DESC\n",
    "LIMIT 1\n",
    "''')"
   ]
  },
  {
   "cell_type": "markdown",
   "id": "1f94556f-82d6-4401-a0f9-a379061b11b9",
   "metadata": {},
   "source": [
    "<div style=\"background-color:#e6ffe6; padding:13px; border-width:3px; border-color:#efe6ef; border-style:solid; border-radius:6px\">\n",
    "✅ Полученное значение совпадает с ответом агента - в июне больше всего заказов."
   ]
  },
  {
   "cell_type": "code",
   "execution_count": 50,
   "id": "b5378623-0740-42e1-a903-30ee515003f2",
   "metadata": {},
   "outputs": [
    {
     "name": "stdout",
     "output_type": "stream",
     "text": [
      "\n",
      "\n",
      "\u001b[1m> Entering new SQL Agent Executor chain...\u001b[0m\n",
      "\u001b[32;1m\u001b[1;3mAction: sql_db_list_tables  \n",
      "Action Input: \"\"  \u001b[0m\u001b[38;5;200m\u001b[1;3mclients, orders, pizza_orders, pizzas\u001b[0m\u001b[32;1m\u001b[1;3mI need to query the schema of the \"clients\" table to understand its structure.  \n",
      "Action: sql_db_schema  \n",
      "Action Input: \"clients\"  \u001b[0m\u001b[33;1m\u001b[1;3m\n",
      "CREATE TABLE clients (\n",
      "\tid INTEGER NOT NULL, \n",
      "\tname VARCHAR, \n",
      "\tage INTEGER, \n",
      "\taddress VARCHAR, \n",
      "\tphone VARCHAR, \n",
      "\tPRIMARY KEY (id)\n",
      ")\n",
      "\n",
      "/*\n",
      "3 rows from clients table:\n",
      "id\tname\tage\taddress\tphone\n",
      "1\tВиссарион Огарев\t26\tул. Ордынка М. 1108\t+7-943-980-0050\n",
      "2\tГордей Брагин\t38\tул. Коммунистическая 847\t+7-928-427-6017\n",
      "3\tЛукьян Артёмов\t26\tул. Лапина 1121\t+7-956-078-2824\n",
      "*/\u001b[0m\u001b[32;1m\u001b[1;3mI now know the final answer\n",
      "Final Answer: Таблица \"clients\" содержит следующие столбцы: id (INTEGER, первичный ключ), name (VARCHAR), age (INTEGER), address (VARCHAR) и phone (VARCHAR). В ней имеются такие записи, как: \n",
      "1. Виссарион Огарев, 26 лет, ул. Ордынка М. 1108, телефон: +7-943-980-0050\n",
      "2. Гордей Брагин, 38 лет, ул. Коммунистическая 847, телефон: +7-928-427-6017\n",
      "3. Лукьян Артёмов, 26 лет, ул. Лапина 1121, телефон: +7-956-078-2824.\u001b[0m\n",
      "\n",
      "\u001b[1m> Finished chain.\u001b[0m\n"
     ]
    },
    {
     "data": {
      "text/plain": [
       "{'input': 'Опиши таблицу clients',\n",
       " 'output': 'Таблица \"clients\" содержит следующие столбцы: id (INTEGER, первичный ключ), name (VARCHAR), age (INTEGER), address (VARCHAR) и phone (VARCHAR). В ней имеются такие записи, как: \\n1. Виссарион Огарев, 26 лет, ул. Ордынка М. 1108, телефон: +7-943-980-0050\\n2. Гордей Брагин, 38 лет, ул. Коммунистическая 847, телефон: +7-928-427-6017\\n3. Лукьян Артёмов, 26 лет, ул. Лапина 1121, телефон: +7-956-078-2824.'}"
      ]
     },
     "execution_count": 50,
     "metadata": {},
     "output_type": "execute_result"
    }
   ],
   "source": [
    "agent_executor.invoke({\"input\": \"Опиши таблицу clients\"})"
   ]
  },
  {
   "cell_type": "code",
   "execution_count": 51,
   "id": "f1bb293f-57db-461d-873d-c4747d47d6b5",
   "metadata": {
    "scrolled": true
   },
   "outputs": [
    {
     "name": "stdout",
     "output_type": "stream",
     "text": [
      "\n",
      "\n",
      "\u001b[1m> Entering new SQL Agent Executor chain...\u001b[0m\n",
      "\u001b[32;1m\u001b[1;3mAction: sql_db_list_tables  \n",
      "Action Input: \"\"  \u001b[0m\u001b[38;5;200m\u001b[1;3mclients, orders, pizza_orders, pizzas\u001b[0m\u001b[32;1m\u001b[1;3mI should query the schema of the relevant tables to understand their structure and identify how they relate to the sizes of pizzas and their sales revenue. The most relevant tables for this question would likely be `pizza_orders` and `orders`.  \n",
      "Action: sql_db_schema  \n",
      "Action Input: \"pizza_orders, orders\"  \u001b[0m\u001b[33;1m\u001b[1;3m\n",
      "CREATE TABLE orders (\n",
      "\tid INTEGER NOT NULL, \n",
      "\torder_date DATE, \n",
      "\tclient_id INTEGER, \n",
      "\tquantity INTEGER, \n",
      "\tprice NUMERIC(10, 2), \n",
      "\tPRIMARY KEY (id), \n",
      "\tFOREIGN KEY(client_id) REFERENCES clients (id)\n",
      ")\n",
      "\n",
      "/*\n",
      "3 rows from orders table:\n",
      "id\torder_date\tclient_id\tquantity\tprice\n",
      "1\t2023-05-01\t1\t1\t750.00\n",
      "2\t2023-05-01\t2\t4\t12000.00\n",
      "3\t2023-05-01\t1\t2\t2750.00\n",
      "*/\n",
      "\n",
      "\n",
      "CREATE TABLE pizza_orders (\n",
      "\torder_id INTEGER NOT NULL, \n",
      "\tpizza_id INTEGER NOT NULL, \n",
      "\tPRIMARY KEY (order_id, pizza_id), \n",
      "\tFOREIGN KEY(order_id) REFERENCES orders (id), \n",
      "\tFOREIGN KEY(pizza_id) REFERENCES pizzas (id)\n",
      ")\n",
      "\n",
      "/*\n",
      "3 rows from pizza_orders table:\n",
      "order_id\tpizza_id\n",
      "1\t15\n",
      "2\t56\n",
      "2\t22\n",
      "*/\u001b[0m\u001b[32;1m\u001b[1;3mTo solve the question, I need to gather data on the sizes of pizzas ordered (from the `pizzas` table) and link that to the revenue generated from the orders (from the `orders` table). However, I didn't get the schema of the `pizzas` table, which is important to understand the sizes associated with pizza IDs.\n",
      "\n",
      "I will first check the schema of the `pizzas` table to find out which columns are available.\n",
      "\n",
      "Action: sql_db_schema  \n",
      "Action Input: \"pizzas\"  \u001b[0m\u001b[33;1m\u001b[1;3m\n",
      "CREATE TABLE pizzas (\n",
      "\tid INTEGER NOT NULL, \n",
      "\ttype VARCHAR, \n",
      "\tname VARCHAR, \n",
      "\tsize VARCHAR, \n",
      "\tprice NUMERIC(10, 2), \n",
      "\tPRIMARY KEY (id)\n",
      ")\n",
      "\n",
      "/*\n",
      "3 rows from pizzas table:\n",
      "id\ttype\tname\tsize\tprice\n",
      "1\tВеган\tФермерская\tS\t500.00\n",
      "2\tПтица\tМаргарита\tL\t750.00\n",
      "3\tМорепродукты\tФермерская\tS\t600.00\n",
      "*/\u001b[0m\u001b[32;1m\u001b[1;3mI have the necessary information from the schemas of the relevant tables. To find out the day of the week when the smallest size pizzas bring in the most revenue, I will need to do the following:\n",
      "\n",
      "1. Join the `pizza_orders` table with the `orders` table to get the revenue for each pizza.\n",
      "2. Join with the `pizzas` table to filter by size (the smallest).\n",
      "3. Group the results by day of the week and aggregate the revenue.\n",
      "4. Order the results to find out which day has the maximum revenue from the smallest size pizzas.\n",
      "\n",
      "Now, I will create the SQL query based on this logic.\n",
      "\n",
      "The smallest size of pizzas, according to the `pizzas` table, is \"S\". Therefore, I will focus on pizzas of size \"S\", aggregate their revenues by the day of the week, and then find the maximum.\n",
      "\n",
      "Here's the SQL query I will construct:\n",
      "\n",
      "```sql\n",
      "SELECT strftime('%w', o.order_date) AS day_of_week, SUM(o.price * o.quantity) AS total_revenue\n",
      "FROM orders o\n",
      "JOIN pizza_orders po ON o.id = po.order_id\n",
      "JOIN pizzas p ON po.pizza_id = p.id\n",
      "WHERE p.size = 'S'\n",
      "GROUP BY day_of_week\n",
      "ORDER BY total_revenue DESC\n",
      "LIMIT 10;\n",
      "```\n",
      "\n",
      "Now I will check if this query is correct before executing it.\n",
      "\n",
      "Action: sql_db_query_checker  \n",
      "Action Input: \n",
      "```sql\n",
      "SELECT strftime('%w', o.order_date) AS day_of_week, SUM(o.price * o.quantity) AS total_revenue\n",
      "FROM orders o\n",
      "JOIN pizza_orders po ON o.id = po.order_id\n",
      "JOIN pizzas p ON po.pizza_id = p.id\n",
      "WHERE p.size = 'S'\n",
      "GROUP BY day_of_week\n",
      "ORDER BY total_revenue DESC\n",
      "LIMIT 10;\n",
      "```  \u001b[0m\u001b[36;1m\u001b[1;3m```sql\n",
      "SELECT strftime('%w', o.order_date) AS day_of_week, SUM(o.price * o.quantity) AS total_revenue\n",
      "FROM orders o\n",
      "JOIN pizza_orders po ON o.id = po.order_id\n",
      "JOIN pizzas p ON po.pizza_id = p.id\n",
      "WHERE p.size = 'S'\n",
      "GROUP BY day_of_week\n",
      "ORDER BY total_revenue DESC\n",
      "LIMIT 10;\n",
      "```\u001b[0m\u001b[32;1m\u001b[1;3mThe query is correct. Now I will execute it to retrieve the necessary data about the revenue generated from the smallest size pizzas by day of the week.\n",
      "\n",
      "Action: sql_db_query  \n",
      "Action Input: \n",
      "```sql\n",
      "SELECT strftime('%w', o.order_date) AS day_of_week, SUM(o.price * o.quantity) AS total_revenue\n",
      "FROM orders o\n",
      "JOIN pizza_orders po ON o.id = po.order_id\n",
      "JOIN pizzas p ON po.pizza_id = p.id\n",
      "WHERE p.size = 'S'\n",
      "GROUP BY day_of_week\n",
      "ORDER BY total_revenue DESC\n",
      "LIMIT 10;\n",
      "```  \u001b[0m\u001b[36;1m\u001b[1;3mError: (sqlite3.OperationalError) near \"```sql\n",
      "SELECT strftime('%w', o.order_date) AS day_of_week, SUM(o.price * o.quantity) AS total_revenue\n",
      "FROM orders o\n",
      "JOIN pizza_orders po ON o.id = po.order_id\n",
      "JOIN pizzas p ON po.pizza_id = p.id\n",
      "WHERE p.size = 'S'\n",
      "GROUP BY day_of_week\n",
      "ORDER BY total_revenue DESC\n",
      "LIMIT 10;\n",
      "```\": syntax error\n",
      "[SQL: ```sql\n",
      "SELECT strftime('%w', o.order_date) AS day_of_week, SUM(o.price * o.quantity) AS total_revenue\n",
      "FROM orders o\n",
      "JOIN pizza_orders po ON o.id = po.order_id\n",
      "JOIN pizzas p ON po.pizza_id = p.id\n",
      "WHERE p.size = 'S'\n",
      "GROUP BY day_of_week\n",
      "ORDER BY total_revenue DESC\n",
      "LIMIT 10;\n",
      "```]\n",
      "(Background on this error at: https://sqlalche.me/e/20/e3q8)\u001b[0m\u001b[32;1m\u001b[1;3mI accidentally included incorrect formatting markers in the SQL query. I need to fix that and then try executing the query again.\n",
      "\n",
      "Here's the corrected query:\n",
      "\n",
      "```sql\n",
      "SELECT strftime('%w', o.order_date) AS day_of_week, SUM(o.price * o.quantity) AS total_revenue\n",
      "FROM orders o\n",
      "JOIN pizza_orders po ON o.id = po.order_id\n",
      "JOIN pizzas p ON po.pizza_id = p.id\n",
      "WHERE p.size = 'S'\n",
      "GROUP BY day_of_week\n",
      "ORDER BY total_revenue DESC\n",
      "LIMIT 10;\n",
      "```\n",
      "\n",
      "Now I will check if this query is correct before executing it.\n",
      "\n",
      "Action: sql_db_query_checker  \n",
      "Action Input: \n",
      "```sql\n",
      "SELECT strftime('%w', o.order_date) AS day_of_week, SUM(o.price * o.quantity) AS total_revenue\n",
      "FROM orders o\n",
      "JOIN pizza_orders po ON o.id = po.order_id\n",
      "JOIN pizzas p ON po.pizza_id = p.id\n",
      "WHERE p.size = 'S'\n",
      "GROUP BY day_of_week\n",
      "ORDER BY total_revenue DESC\n",
      "LIMIT 10;\n",
      "```  \u001b[0m\u001b[36;1m\u001b[1;3m```sql\n",
      "SELECT strftime('%w', o.order_date) AS day_of_week, SUM(o.price * o.quantity) AS total_revenue\n",
      "FROM orders o\n",
      "JOIN pizza_orders po ON o.id = po.order_id\n",
      "JOIN pizzas p ON po.pizza_id = p.id\n",
      "WHERE p.size = 'S'\n",
      "GROUP BY day_of_week\n",
      "ORDER BY total_revenue DESC\n",
      "LIMIT 10;\n",
      "```\u001b[0m\u001b[32;1m\u001b[1;3mThe query is correct. Now I will execute it to retrieve the necessary data about the revenue generated from the smallest size pizzas by day of the week.\n",
      "\n",
      "Action: sql_db_query  \n",
      "Action Input: \n",
      "```sql\n",
      "SELECT strftime('%w', o.order_date) AS day_of_week, SUM(o.price * o.quantity) AS total_revenue\n",
      "FROM orders o\n",
      "JOIN pizza_orders po ON o.id = po.order_id\n",
      "JOIN pizzas p ON po.pizza_id = p.id\n",
      "WHERE p.size = 'S'\n",
      "GROUP BY day_of_week\n",
      "ORDER BY total_revenue DESC\n",
      "LIMIT 10;\n",
      "```  \u001b[0m\u001b[36;1m\u001b[1;3mError: (sqlite3.OperationalError) near \"```sql\n",
      "SELECT strftime('%w', o.order_date) AS day_of_week, SUM(o.price * o.quantity) AS total_revenue\n",
      "FROM orders o\n",
      "JOIN pizza_orders po ON o.id = po.order_id\n",
      "JOIN pizzas p ON po.pizza_id = p.id\n",
      "WHERE p.size = 'S'\n",
      "GROUP BY day_of_week\n",
      "ORDER BY total_revenue DESC\n",
      "LIMIT 10;\n",
      "```\": syntax error\n",
      "[SQL: ```sql\n",
      "SELECT strftime('%w', o.order_date) AS day_of_week, SUM(o.price * o.quantity) AS total_revenue\n",
      "FROM orders o\n",
      "JOIN pizza_orders po ON o.id = po.order_id\n",
      "JOIN pizzas p ON po.pizza_id = p.id\n",
      "WHERE p.size = 'S'\n",
      "GROUP BY day_of_week\n",
      "ORDER BY total_revenue DESC\n",
      "LIMIT 10;\n",
      "```]\n",
      "(Background on this error at: https://sqlalche.me/e/20/e3q8)\u001b[0m\u001b[32;1m\u001b[1;3mI made the same mistake with the formatting again. I need to remove the unnecessary markdown syntax and construct a simple SQL query without any extra characters. Here’s the correctly formatted SQL query:\n",
      "\n",
      "```sql\n",
      "SELECT strftime('%w', o.order_date) AS day_of_week, SUM(o.price * o.quantity) AS total_revenue\n",
      "FROM orders o\n",
      "JOIN pizza_orders po ON o.id = po.order_id\n",
      "JOIN pizzas p ON po.pizza_id = p.id\n",
      "WHERE p.size = 'S'\n",
      "GROUP BY day_of_week\n",
      "ORDER BY total_revenue DESC\n",
      "LIMIT 10;\n",
      "```\n",
      "\n",
      "Now I will check if this query is correct before executing it.\n",
      "\n",
      "Action: sql_db_query_checker  \n",
      "Action Input: \n",
      "```sql\n",
      "SELECT strftime('%w', o.order_date) AS day_of_week, SUM(o.price * o.quantity) AS total_revenue\n",
      "FROM orders o\n",
      "JOIN pizza_orders po ON o.id = po.order_id\n",
      "JOIN pizzas p ON po.pizza_id = p.id\n",
      "WHERE p.size = 'S'\n",
      "GROUP BY day_of_week\n",
      "ORDER BY total_revenue DESC\n",
      "LIMIT 10;\n",
      "```  \u001b[0m\u001b[36;1m\u001b[1;3m```sql\n",
      "SELECT strftime('%w', o.order_date) AS day_of_week, SUM(o.price * o.quantity) AS total_revenue\n",
      "FROM orders o\n",
      "JOIN pizza_orders po ON o.id = po.order_id\n",
      "JOIN pizzas p ON po.pizza_id = p.id\n",
      "WHERE p.size = 'S'\n",
      "GROUP BY day_of_week\n",
      "ORDER BY total_revenue DESC\n",
      "LIMIT 10;\n",
      "```\u001b[0m\u001b[32;1m\u001b[1;3mThe query is valid. I will execute it now without any formatting issues.\n",
      "\n",
      "Action: sql_db_query  \n",
      "Action Input: \n",
      "```sql\n",
      "SELECT strftime('%w', o.order_date) AS day_of_week, SUM(o.price * o.quantity) AS total_revenue\n",
      "FROM orders o\n",
      "JOIN pizza_orders po ON o.id = po.order_id\n",
      "JOIN pizzas p ON po.pizza_id = p.id\n",
      "WHERE p.size = 'S'\n",
      "GROUP BY day_of_week\n",
      "ORDER BY total_revenue DESC\n",
      "LIMIT 10;\n",
      "```  \u001b[0m\u001b[36;1m\u001b[1;3mError: (sqlite3.OperationalError) near \"```sql\n",
      "SELECT strftime('%w', o.order_date) AS day_of_week, SUM(o.price * o.quantity) AS total_revenue\n",
      "FROM orders o\n",
      "JOIN pizza_orders po ON o.id = po.order_id\n",
      "JOIN pizzas p ON po.pizza_id = p.id\n",
      "WHERE p.size = 'S'\n",
      "GROUP BY day_of_week\n",
      "ORDER BY total_revenue DESC\n",
      "LIMIT 10;\n",
      "```\": syntax error\n",
      "[SQL: ```sql\n",
      "SELECT strftime('%w', o.order_date) AS day_of_week, SUM(o.price * o.quantity) AS total_revenue\n",
      "FROM orders o\n",
      "JOIN pizza_orders po ON o.id = po.order_id\n",
      "JOIN pizzas p ON po.pizza_id = p.id\n",
      "WHERE p.size = 'S'\n",
      "GROUP BY day_of_week\n",
      "ORDER BY total_revenue DESC\n",
      "LIMIT 10;\n",
      "```]\n",
      "(Background on this error at: https://sqlalche.me/e/20/e3q8)\u001b[0m\u001b[32;1m\u001b[1;3mI realized that I have repeatedly included unnecessary formatting characters in the SQL queries, which has resulted in a syntax error during execution. I need to construct the SQL query without any such characters.\n",
      "\n",
      "Let's try executing it without any special formatting markers:\n",
      "\n",
      "```sql\n",
      "SELECT strftime('%w', o.order_date) AS day_of_week, SUM(o.price * o.quantity) AS total_revenue\n",
      "FROM orders o\n",
      "JOIN pizza_orders po ON o.id = po.order_id\n",
      "JOIN pizzas p ON po.pizza_id = p.id\n",
      "WHERE p.size = 'S'\n",
      "GROUP BY day_of_week\n",
      "ORDER BY total_revenue DESC\n",
      "LIMIT 10;\n",
      "```\n",
      "\n",
      "Now, I will check the query one last time without any formatting issues.\n",
      "\n",
      "Action: sql_db_query_checker  \n",
      "Action Input: \n",
      "SELECT strftime('%w', o.order_date) AS day_of_week, SUM(o.price * o.quantity) AS total_revenue\n",
      "FROM orders o\n",
      "JOIN pizza_orders po ON o.id = po.order_id\n",
      "JOIN pizzas p ON po.pizza_id = p.id\n",
      "WHERE p.size = 'S'\n",
      "GROUP BY day_of_week\n",
      "ORDER BY total_revenue DESC\n",
      "LIMIT 10;  \u001b[0m\u001b[36;1m\u001b[1;3m```sql\n",
      "SELECT strftime('%w', o.order_date) AS day_of_week, SUM(o.price * o.quantity) AS total_revenue\n",
      "FROM orders o\n",
      "JOIN pizza_orders po ON o.id = po.order_id\n",
      "JOIN pizzas p ON po.pizza_id = p.id\n",
      "WHERE p.size = 'S'\n",
      "GROUP BY day_of_week\n",
      "ORDER BY total_revenue DESC\n",
      "LIMIT 10;\n",
      "```\u001b[0m\u001b[32;1m\u001b[1;3mI encountered the same formatting issue again. To rectify this, I will ensure the SQL query is written and checked without unnecessary formatting characters.\n",
      "\n",
      "Let's execute the correct SQL query directly:\n",
      "\n",
      "Action: sql_db_query  \n",
      "Action Input: \n",
      "SELECT strftime('%w', o.order_date) AS day_of_week, SUM(o.price * o.quantity) AS total_revenue\n",
      "FROM orders o\n",
      "JOIN pizza_orders po ON o.id = po.order_id\n",
      "JOIN pizzas p ON po.pizza_id = p.id\n",
      "WHERE p.size = 'S'\n",
      "GROUP BY day_of_week\n",
      "ORDER BY total_revenue DESC\n",
      "LIMIT 10;  \u001b[0m\u001b[36;1m\u001b[1;3m[('1', 12421800), ('0', 7853150), ('2', 2538500), ('6', 409975), ('3', 28300)]\u001b[0m\u001b[32;1m\u001b[1;3mI now know the final answer. \n",
      "\n",
      "The day of the week when the smallest size pizzas (size 'S') bring in the most revenue is **Monday (1)**, with a total revenue of **12,421,800**. \n",
      "\n",
      "Final Answer: Понедельник (1) — наибольшая выручка от пицц размера \"S\" составляет 12,421,800.\u001b[0m\n",
      "\n",
      "\u001b[1m> Finished chain.\u001b[0m\n"
     ]
    }
   ],
   "source": [
    "# зададим еще один вопрос, требующий информацию из трех таблиц\n",
    "\n",
    "q = \"В какой день недели пиццы наименьшего размера приносят наибольшую выручку?\"\n",
    "resp = agent_executor.invoke({\"input\": q})"
   ]
  },
  {
   "cell_type": "code",
   "execution_count": 52,
   "id": "1966e42b-d588-432d-b286-53de9fd9442b",
   "metadata": {},
   "outputs": [
    {
     "data": {
      "text/plain": [
       "\"[('1', 'S', 1843950), ('0', 'S', 1232000), ('2', 'S', 511100), ('6', 'S', 115625), ('3', 'S', 14900)]\""
      ]
     },
     "execution_count": 52,
     "metadata": {},
     "output_type": "execute_result"
    }
   ],
   "source": [
    "db.run('''\n",
    "SELECT \n",
    "    strftime('%w', o.order_date) AS day_of_week,\n",
    "    p.size,\n",
    "    SUM(o.price) AS total_revenue\n",
    "FROM orders o\n",
    "JOIN pizza_orders po ON o.id = po.order_id\n",
    "JOIN pizzas p ON po.pizza_id = p.id\n",
    "WHERE p.size = 'S'\n",
    "GROUP BY day_of_week\n",
    "ORDER BY total_revenue DESC\n",
    "''')"
   ]
  },
  {
   "cell_type": "markdown",
   "id": "4fd2fcc8-fd44-4ad2-ad9c-701834881170",
   "metadata": {},
   "source": [
    "<div style=\"background-color:#e6ffe6; padding:13px; border-width:3px; border-color:#efe6ef; border-style:solid; border-radius:6px\">\n",
    "✅ Ответы совпадают, наибольшая выручка для маленьких пицц - в понедельник."
   ]
  },
  {
   "cell_type": "markdown",
   "id": "35da7223-5c26-4ab3-8373-1b61906dbd56",
   "metadata": {},
   "source": [
    "### <center id=\"p7.1\"> 🫂 SQL агент + python агент 🐍 = super агент 😎 </center>"
   ]
  },
  {
   "cell_type": "markdown",
   "id": "f64ff3d4-9a1e-47a4-a9e1-7da4c5e750a9",
   "metadata": {},
   "source": [
    "<div class=\"alert alert-info\" style=\"padding:10px; border-width:3px; border-color:#efe6ef; border-style:solid; border-radius:6px\">\n",
    "\n",
    "Теперь попробуем заставить агентов решить следущую задачу - попросим сделать запрос к SQL базе данных, и на основе полученных данных построить график."
   ]
  },
  {
   "cell_type": "markdown",
   "id": "4766e593-928b-4dfc-95c0-d49a31c41b1e",
   "metadata": {},
   "source": [
    "<div class=\"alert alert-info\" style=\"padding:10px; border-width:3px; border-color:#efe6ef; border-style:solid; border-radius:6px\">\n",
    "    \n",
    "Для этого создадим сразу двух агентов: `PythonAgent` и `SQLAgent`. Эти агенты будут инструментами для еще одного верхнеуровнего агента. "
   ]
  },
  {
   "cell_type": "code",
   "execution_count": 29,
   "id": "726ae409-bfe6-4334-9ba1-fc68be74950c",
   "metadata": {},
   "outputs": [],
   "source": [
    "from langchain_experimental.agents.agent_toolkits.python.base import create_python_agent\n",
    "from langchain_experimental.tools.python.tool import PythonREPLTool"
   ]
  },
  {
   "cell_type": "code",
   "execution_count": 30,
   "id": "5051c4fd-d941-48c8-9964-6edc19ed03ef",
   "metadata": {},
   "outputs": [],
   "source": [
    "# создаем пайтон агента\n",
    "agent_model = create_python_agent(\n",
    "    llm=llm,\n",
    "    tool=PythonREPLTool(),\n",
    "    verbose=True\n",
    ")"
   ]
  },
  {
   "cell_type": "code",
   "execution_count": 31,
   "id": "dd6b99ad-083b-40b9-8609-213702d12771",
   "metadata": {},
   "outputs": [],
   "source": [
    "# создаем sql агента\n",
    "agent_executor_sql = create_sql_agent(llm, db=db, verbose=True)"
   ]
  },
  {
   "cell_type": "code",
   "execution_count": 32,
   "id": "157d6280-ec89-4557-94d8-0f860ba81c9e",
   "metadata": {},
   "outputs": [],
   "source": [
    "from langchain.agents import Tool\n",
    "# оба агента станут инструментами для верхнеуровнего агента\n",
    "tools_mix=[\n",
    "        Tool(\n",
    "            name=\"PythonAgent\",\n",
    "            func=agent_model.run,\n",
    "            description=\"\"\"Useful to run python commands\"\"\",\n",
    "        ),\n",
    "        Tool(\n",
    "            name=\"SQLAgent\",\n",
    "            func=agent_executor_sql.run,\n",
    "            description=\"\"\"Useful to query sql tables\"\"\",\n",
    "        ),\n",
    "    ]"
   ]
  },
  {
   "cell_type": "code",
   "execution_count": 35,
   "id": "33122762-3064-41a9-b963-a44ee3bb1dd3",
   "metadata": {},
   "outputs": [
    {
     "name": "stderr",
     "output_type": "stream",
     "text": [
      "/home/jovyan/venvs/sinara/lib/python3.10/site-packages/langsmith/client.py:272: LangSmithMissingAPIKeyWarning: API key must be provided when using hosted LangSmith API\n",
      "  warnings.warn(\n"
     ]
    }
   ],
   "source": [
    "# верхнеуровневый агент\n",
    "prompt = hub.pull(\"hwchase17/react\")\n",
    "agent_mix = create_react_agent(\n",
    "    tools=tools_mix,\n",
    "    llm=llm,\n",
    "    prompt=prompt,\n",
    ")"
   ]
  },
  {
   "cell_type": "code",
   "execution_count": 36,
   "id": "ce833e1d-b9db-4cb4-b5f2-b39ab22aeae8",
   "metadata": {},
   "outputs": [],
   "source": [
    "agent_executor = AgentExecutor(agent=agent_mix, tools=tools_mix, verbose=True,\n",
    "                              handle_parsing_errors=True)"
   ]
  },
  {
   "cell_type": "code",
   "execution_count": 85,
   "id": "40c4b230-a68c-4130-a4fa-65bbc35177c0",
   "metadata": {
    "scrolled": true
   },
   "outputs": [
    {
     "name": "stdout",
     "output_type": "stream",
     "text": [
      "\n",
      "\n",
      "\u001b[1m> Entering new AgentExecutor chain...\u001b[0m\n",
      "\u001b[32;1m\u001b[1;3m\n",
      "Invoking: `SQLAgent` with `SELECT DATE(created_at) as date, COUNT(*) as orders_count FROM orders GROUP BY DATE(created_at) LIMIT 10;`\n",
      "\n",
      "\n",
      "\u001b[0m\n",
      "\n",
      "\u001b[1m> Entering new SQL Agent Executor chain...\u001b[0m\n",
      "\u001b[32;1m\u001b[1;3m\n",
      "Invoking: `sql_db_list_tables` with `{'tool_input': ''}`\n",
      "\n",
      "\n",
      "\u001b[0m\u001b[38;5;200m\u001b[1;3mclients, orders, pizza_orders, pizzas\u001b[0m\u001b[32;1m\u001b[1;3m\n",
      "Invoking: `sql_db_schema` with `{'table_names': 'orders'}`\n",
      "\n",
      "\n",
      "\u001b[0m\u001b[33;1m\u001b[1;3m\n",
      "CREATE TABLE orders (\n",
      "\tid INTEGER NOT NULL, \n",
      "\torder_date DATE, \n",
      "\tclient_id INTEGER, \n",
      "\tquantity INTEGER, \n",
      "\tprice NUMERIC(10, 2), \n",
      "\tPRIMARY KEY (id), \n",
      "\tFOREIGN KEY(client_id) REFERENCES clients (id)\n",
      ")\n",
      "\n",
      "/*\n",
      "3 rows from orders table:\n",
      "id\torder_date\tclient_id\tquantity\tprice\n",
      "1\t2023-05-01\t1\t1\t750.00\n",
      "2\t2023-05-01\t2\t4\t12000.00\n",
      "3\t2023-05-01\t1\t2\t2750.00\n",
      "*/\u001b[0m\u001b[32;1m\u001b[1;3m\n",
      "Invoking: `sql_db_query` with `{'query': 'SELECT DATE(order_date) as date, COUNT(*) as orders_count FROM orders GROUP BY DATE(order_date) LIMIT 10;'}`\n",
      "\n",
      "\n",
      "\u001b[0m\u001b[36;1m\u001b[1;3m[('2023-05-01', 6), ('2023-05-02', 4), ('2023-05-03', 1), ('2023-05-06', 3), ('2023-05-07', 6), ('2023-05-08', 6), ('2023-05-09', 5), ('2023-05-10', 2), ('2023-05-13', 3), ('2023-05-14', 6)]\u001b[0m\u001b[32;1m\u001b[1;3mThe query returned the number of orders placed on each date:\n",
      "\n",
      "- On 2023-05-01, there were 6 orders.\n",
      "- On 2023-05-02, there were 4 orders.\n",
      "- On 2023-05-03, there was 1 order.\n",
      "- On 2023-05-06, there were 3 orders.\n",
      "- On 2023-05-07, there were 6 orders.\n",
      "- On 2023-05-08, there were 6 orders.\n",
      "- On 2023-05-09, there were 5 orders.\n",
      "- On 2023-05-10, there were 2 orders.\n",
      "- On 2023-05-13, there were 3 orders.\n",
      "- On 2023-05-14, there were 6 orders.\u001b[0m\n",
      "\n",
      "\u001b[1m> Finished chain.\u001b[0m\n",
      "\u001b[33;1m\u001b[1;3mThe query returned the number of orders placed on each date:\n",
      "\n",
      "- On 2023-05-01, there were 6 orders.\n",
      "- On 2023-05-02, there were 4 orders.\n",
      "- On 2023-05-03, there was 1 order.\n",
      "- On 2023-05-06, there were 3 orders.\n",
      "- On 2023-05-07, there were 6 orders.\n",
      "- On 2023-05-08, there were 6 orders.\n",
      "- On 2023-05-09, there were 5 orders.\n",
      "- On 2023-05-10, there were 2 orders.\n",
      "- On 2023-05-13, there were 3 orders.\n",
      "- On 2023-05-14, there were 6 orders.\u001b[0m\u001b[32;1m\u001b[1;3m\n",
      "Invoking: `PythonAgent` with `import matplotlib.pyplot as plt\n",
      "\n",
      "# Data for the first 10 days\n",
      "dates = ['2023-05-01', '2023-05-02', '2023-05-03', '2023-05-06', '2023-05-07', '2023-05-08', '2023-05-09', '2023-05-10', '2023-05-13', '2023-05-14']\n",
      "orders_count = [6, 4, 1, 3, 6, 6, 5, 2, 3, 6]\n",
      "\n",
      "plt.figure(figsize=(10, 6))\n",
      "plt.bar(dates, orders_count, color='skyblue')\n",
      "plt.xlabel('Date')\n",
      "plt.ylabel('Number of Orders')\n",
      "plt.title('Number of Orders for the First 10 Days')\n",
      "plt.xticks(rotation=45)\n",
      "plt.tight_layout()\n",
      "plt.show()`\n",
      "\n",
      "\n",
      "\u001b[0m\n",
      "\n",
      "\u001b[1m> Entering new AgentExecutor chain...\u001b[0m\n",
      "\u001b[32;1m\u001b[1;3mWe need to visualize the data using a bar chart with matplotlib.\n",
      "Action: Python_REPL\n",
      "Action Input:\n",
      "```python\n",
      "import matplotlib.pyplot as plt\n",
      "\n",
      "# Data for the first 10 days\n",
      "dates = ['2023-05-01', '2023-05-02', '2023-05-03', '2023-05-06', '2023-05-07', '2023-05-08', '2023-05-09', '2023-05-10', '2023-05-13', '2023-05-14']\n",
      "orders_count = [6, 4, 1, 3, 6, 6, 5, 2, 3, 6]\n",
      "\n",
      "plt.figure(figsize=(10, 6))\n",
      "plt.bar(dates, orders_count, color='skyblue')\n",
      "plt.xlabel('Date')\n",
      "plt.ylabel('Number of Orders')\n",
      "plt.title('Number of Orders for the First 10 Days')\n",
      "plt.xticks(rotation=45)\n",
      "plt.tight_layout()\n",
      "plt.show()\n",
      "```\u001b[0m"
     ]
    },
    {
     "data": {
      "image/png": "[encoded data removed]",
      "text/plain": [
       "<Figure size 1000x600 with 1 Axes>"
      ]
     },
     "metadata": {},
     "output_type": "display_data"
    },
    {
     "name": "stdout",
     "output_type": "stream",
     "text": [
      "\n",
      "Observation: \u001b[36;1m\u001b[1;3m\u001b[0m\n",
      "Thought:\u001b[32;1m\u001b[1;3mThe bar chart has been displayed with the data for the first 10 days.\n",
      "Final Answer: The bar chart has been displayed successfully.\u001b[0m\n",
      "\n",
      "\u001b[1m> Finished chain.\u001b[0m\n",
      "\u001b[36;1m\u001b[1;3mThe bar chart has been displayed successfully.\u001b[0m\u001b[32;1m\u001b[1;3mГрафик с количеством заказов за первые 10 дней был успешно построен.\u001b[0m\n",
      "\n",
      "\u001b[1m> Finished chain.\u001b[0m\n"
     ]
    },
    {
     "data": {
      "text/plain": [
       "{'input': 'Возьми из таблицы orders данные о количестве заказов в день. И построй график для ппервых 10 дней.',\n",
       " 'output': 'График с количеством заказов за первые 10 дней был успешно построен.'}"
      ]
     },
     "execution_count": 85,
     "metadata": {},
     "output_type": "execute_result"
    }
   ],
   "source": [
    "agent_executor.invoke({'input':'Возьми из таблицы orders данные о количестве заказов в день. И построй график для первых 10 дней.'})"
   ]
  },
  {
   "cell_type": "markdown",
   "id": "fc6a61bc-a135-4020-a98c-e6ca31dab7ec",
   "metadata": {},
   "source": [
    "<div style=\"background-color:#e6ffe6; padding:13px; border-width:3px; border-color:#efe6ef; border-style:solid; border-radius:6px\">\n",
    "🤩 Видим, что SQL агент сделал правильный запрос к базе данных, а python агент построил по этим данным график."
   ]
  },
  {
   "cell_type": "markdown",
   "id": "8acf83e2-9948-438f-bd7c-2352e077474b",
   "metadata": {},
   "source": [
    "<div class=\"alert alert-success\" style=\"background-color:#e6ffe6; padding:13px; border-width:3px; border-color:#efe6ef; border-style:solid; border-radius:6px\">\n",
    "    \n",
    "Далее разберём инструмент для более точного управления поведением агентов из экосистемы `Langchain` - `LangGraph`."
   ]
  },
  {
   "cell_type": "markdown",
   "id": "39a7dc5f-22d8-4c5b-88a5-e331689eed9b",
   "metadata": {},
   "source": [
    "# <center id=\"p8\"> 📦 Задеплой Агента с помощью `LangServe` 🚀</center>\n"
   ]
  },
  {
   "cell_type": "markdown",
   "id": "32ae3715-5f18-47ad-8416-d579dfb32438",
   "metadata": {},
   "source": [
    "Представим, что у нас есть настроеный работающий агент, и мы хотим, чтобы другие люди тоже могли им воспользоваться. \n",
    "Самое время задеплоить его на сервере и дать ощутить пользу от него другим людям."
   ]
  },
  {
   "cell_type": "markdown",
   "id": "83a73331-3e06-40d5-b57d-2264b67a73a2",
   "metadata": {},
   "source": [
    "<div class=\"alert alert-info\" style=\"padding:10px; border-width:3px; border-color:#efe6ef; border-style:solid; border-radius:6px\">\n",
    "    \n",
    "📖 Фрэймворк `LangServe`([документация](https://python.langchain.com/docs/langserve)) позволяет деплоить Langchain-цепи, агентов и любые `runnable` объекты (протокол кастомных цепей), как `REST API`-сервисы и даже делает для них простую веб-обертку (`playground`).\n",
    "\n",
    "`LangServe` интегрирован с `FastAPI` ([документация](https://fastapi.tiangolo.com/)) и для валидации данных использует `pydantiс` ([документация](https://docs.pydantic.dev/latest/))."
   ]
  },
  {
   "cell_type": "markdown",
   "id": "94d24139-0fce-4cd3-bc99-2a950d1d3c42",
   "metadata": {},
   "source": [
    "<div class=\"alert alert-info\" style=\"padding:10px; border-width:3px; border-color:#efe6ef; border-style:solid; border-radius:6px\">\n",
    "    \n",
    "В качестве сервера будем использовать код из ячейки ниже. \n",
    "Чтобы запустить сервер локально нужно сохранить код ячейки в питоновский файл `.py` и вызвать через командную строку командой `python имя_файла.py`. "
   ]
  },
  {
   "cell_type": "markdown",
   "id": "64abc065-ddad-4a8f-b115-c0874c554edf",
   "metadata": {},
   "source": [
    "<div class=\"alert alert-info\" style=\"padding:10px; border-width:3px; border-color:#efe6ef; border-style:solid; border-radius:6px\">\n",
    "\n",
    "Сервер будет слушать запросы по адресу `\"0.0.0.0:8501\"` (в нашем случае).\n",
    "У нас будет 2 эндпоинта `/joke` и `/rag_agent`. \n",
    "* По первому у нас будет доступ к цепочке, которая будет выдавать шутки на определенную тему (тему мы подадим post-запросом с клиента).\n",
    "* По второму - знакомый нам RAG-agent для ответов на вопросы о пиццерии."
   ]
  },
  {
   "cell_type": "code",
   "execution_count": null,
   "id": "c89877d3-0f39-4e80-9449-4ebdbc024521",
   "metadata": {},
   "outputs": [],
   "source": [
    "%%writefile server.py\n",
    "#!/usr/bin/env python\n",
    "\n",
    "from fastapi import FastAPI\n",
    "from langchain_openai import ChatOpenAI, OpenAIEmbeddings\n",
    "from typing import Any\n",
    "\n",
    "from langserve import add_routes\n",
    "from pydantic import BaseModel\n",
    "from langchain_community.document_loaders import WebBaseLoader\n",
    "from langchain import hub\n",
    "from langchain.prompts import ChatPromptTemplate\n",
    "from langchain_community.vectorstores import FAISS\n",
    "from langchain_text_splitters import CharacterTextSplitter\n",
    "from langchain.tools.retriever import create_retriever_tool\n",
    "from langchain.agents import AgentExecutor, create_react_agent\n",
    "\n",
    "class Input(BaseModel):\n",
    "    input: str\n",
    "\n",
    "\n",
    "class Output(BaseModel):\n",
    "    output: Any\n",
    "\n",
    "def cut_output(output):\n",
    "    return output['output']\n",
    "\n",
    "\n",
    "loader = WebBaseLoader(\"https://allopizza.su/spb/kupchino/about\")\n",
    "data = loader.load()\n",
    "\n",
    "course_api_key = ''# ключ курса (если используем ключи из курса)\n",
    "llm = ChatOpenAI(api_key=course_api_key, model='gpt-4o-mini', \n",
    "                 base_url=\"http://openai-hub.neuraldeep.tech/\")\n",
    "\n",
    "embeddings = OpenAIEmbeddings(api_key=course_api_key, model='gpt-4o-mini', \n",
    "                              base_url=\"http://openai-hub.neuraldeep.tech/\")\n",
    "\n",
    "text_splitter = CharacterTextSplitter(chunk_size=1000, chunk_overlap=0)\n",
    "texts = text_splitter.split_documents(data)\n",
    "db_embed = FAISS.from_documents(texts, embeddings)\n",
    "retriever = db_embed.as_retriever()\n",
    "\n",
    "tool = create_retriever_tool(\n",
    "    retriever, # наш ретривер\n",
    "    \"search_web\", # имя инструмента\n",
    "    \"Searches and returns data from page\", # описание инструмента подается в ЛЛМ\n",
    ")\n",
    "\n",
    "prompt = hub.pull(\"hwchase17/react\")\n",
    "\n",
    "agent = create_react_agent(llm, [tool], prompt)\n",
    "agent_executor = AgentExecutor(agent=agent, tools=[tool])\n",
    "\n",
    "app = FastAPI(\n",
    "    title=\"LangChain Server\",\n",
    "    version=\"1.0\",\n",
    "    description=\"A simple api server using Langchain's Runnable interfaces\",\n",
    ")\n",
    "\n",
    "add_routes(\n",
    "    app,\n",
    "    agent_executor.with_types(input_type=Input, output_type=Output) | cut_output,\n",
    "    path=\"/rag_agent\",  # эндпоинт для rag агента\n",
    ")\n",
    "\n",
    "prompt2 = ChatPromptTemplate.from_template(\"tell me a joke about {topic}\")\n",
    "add_routes(\n",
    "    app,\n",
    "    prompt2 | llm,\n",
    "    path=\"/joke\",  # эндпоинт для цепочки\n",
    ")\n",
    "\n",
    "\n",
    "\n",
    "if __name__ == \"__main__\":\n",
    "    import uvicorn\n",
    "\n",
    "    uvicorn.run(app, host=\"0.0.0.0\", port=8501)"
   ]
  },
  {
   "cell_type": "markdown",
   "id": "10fbe4e4-dad0-49a5-8393-774b8fdbbfff",
   "metadata": {},
   "source": [
    "<div style=\"background-color:#e6ffe6; padding:13px; border-width:3px; border-color:#efe6ef; border-style:solid; border-radius:6px\">\n",
    "В ячейках ниже - код клиента.\n",
    "Мы посылаем POST-запрос на нужный адрес.  "
   ]
  },
  {
   "cell_type": "code",
   "execution_count": null,
   "id": "4ef39020-617c-4638-a149-8403a482d110",
   "metadata": {},
   "outputs": [],
   "source": [
    "# Проверяем \"шуточную\" цепочку\n",
    "import requests\n",
    "\n",
    "response = requests.post(\n",
    "    \"http://0.0.0.0:8501/joke/invoke\",\n",
    "    json={'input': {'topic': 'robot'}}\n",
    ")\n",
    "response.json()"
   ]
  },
  {
   "cell_type": "code",
   "execution_count": null,
   "id": "a4fe4dfc-3802-495d-8aef-802865fe659b",
   "metadata": {},
   "outputs": [],
   "source": [
    "# Проверяем RAG-агента\n",
    "response = requests.post(\n",
    "    \"http://0.0.0.0:8501/rag_agent/invoke\",\n",
    "    json={'input': {'input':'Из скольки авто состоит автопарк компании?'}}\n",
    ")\n",
    "response.json()"
   ]
  },
  {
   "cell_type": "markdown",
   "id": "2e68e2e3-1a79-42f6-8fc3-4d6369656669",
   "metadata": {},
   "source": [
    "# <center id=\"p9\"> 🥁 Выводы и заключения ✅</center>\n"
   ]
  },
  {
   "cell_type": "markdown",
   "id": "a4067ae7-d9ba-4167-8e4b-fdaaf92516b8",
   "metadata": {},
   "source": [
    "<div class=\"alert alert-info\" style=\"padding:10px; border-width:3px; border-color:#efe6ef; border-style:solid; border-radius:6px\">\n",
    "\n",
    "* В этом уроке разобрались в основных типах агентов в `langchain`:\n",
    "  -  `Tool Calling Agent` - базовый агент для вызова тулов\n",
    "  -  `ReAct` (`Reasoning` and `Acting`) - агент с планом действий\n",
    "  -  `Structured chat` - `multi-input tools`\n",
    "  -  `Self Ask with search` - `SelfAsk` с инструментами поиска\n",
    "* Узнали, что инструменты можно выдавать агентам не по одному, а целыми ящиками (`toolkits`). \n",
    "* Научились подключать агентам память, базу знаний (`RAG`), базу данных `SQL`.\n",
    "* Cобрали супер-агента из нескольких и даже задеплоили всё это добро на сервер средствами `LangServe`.\n",
    "* И в очередной раз убедились, что в основе всех методов лежат грамотно составленные промпты!"
   ]
  },
  {
   "cell_type": "code",
   "execution_count": null,
   "id": "f7a70cfa-e959-4b8f-84b7-a1f2d6399097",
   "metadata": {},
   "outputs": [],
   "source": []
  }
 ],
 "metadata": {
  "kernelspec": {
   "display_name": "cv",
   "language": "python",
   "name": "python3"
  },
  "language_info": {
   "codemirror_mode": {
    "name": "ipython",
    "version": 3
   },
   "file_extension": ".py",
   "mimetype": "text/x-python",
   "name": "python",
   "nbconvert_exporter": "python",
   "pygments_lexer": "ipython3",
   "version": "3.10.12"
  }
 },
 "nbformat": 4,
 "nbformat_minor": 5
}
