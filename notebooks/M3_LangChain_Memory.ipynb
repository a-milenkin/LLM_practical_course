{
 "cells": [
  {
   "cell_type": "markdown",
   "id": "3d6bf25d-6a5e-48de-810c-4eafdec8783a",
   "metadata": {},
   "source": [
    "### <center id=\"d1\"><h1> 🦜🔗 📝 `MEMORY` - запускаем чат-режим!</h1></center>"
   ]
  },
  {
   "cell_type": "markdown",
   "id": "ec30b379-e427-4557-bf9f-7262ee23828c",
   "metadata": {},
   "source": [
    "### Оглавление\n",
    "<img src='../images/memories_conv.png' align=\"right\" width=\"528\" height=\"428\" style=\"border-radius: 0.75rem;\" >\n",
    "<br>\n",
    "\n",
    "<p><font size=\"3\" face=\"Arial\" font-size=\"large\"><ul type=\"square\">\n",
    "    \n",
    "<li><a href=\"#d1\">🚀 Введение </a></li>\n",
    "<li><a href=\"#d2\">🧠 InMemoryChatMessageHistory - храним историю в памяти</a>\n",
    "<li><a href=\"#d3\">ChatPromptTemplate + память = цепочка всё помнит 🧠 </a>\n",
    "<li><a href=\"#d4\">🧸 Выводы и заключения ✅ </a>\n",
    "    \n",
    "</ul></font></p>"
   ]
  },
  {
   "cell_type": "markdown",
   "id": "d6e7d6af-042a-493e-99a1-329b150168ca",
   "metadata": {},
   "source": [
    "### 🧑‍🎓 В этом ноутбуке рассмотрим подробнее работу с `Memory` "
   ]
  },
  {
   "cell_type": "markdown",
   "id": "3b809fe6-a18e-421a-bb7c-8d3f0e211428",
   "metadata": {},
   "source": [
    "<div class=\"alert alert-info\" style=\"padding:10px; border-width:3px; border-color:#efe6ef; border-style:solid; border-radius:6px\">\n",
    "    \n",
    "📖 Память позволяет LLM помнить предыдущие взаимодействия с пользователем. По умолчанию LLM является `stateless`, что означает независимую обработку каждого входящего запроса от других взаимодействий. На самом деле, когда мы вводим запросы в интерфейсе ChatGPT, под капотом работает память - т.е. модель отвечает нам, исходя из контекста всего диалога. "
   ]
  },
  {
   "cell_type": "markdown",
   "id": "be039ed2-29d9-4c23-b087-f6955507aa79",
   "metadata": {},
   "source": [
    "Посмотрим как реализовать этот механизм в `LangChain`."
   ]
  },
  {
   "cell_type": "code",
   "execution_count": 1,
   "id": "5187a29a-8918-4c17-b8e3-b5bef1c57c3b",
   "metadata": {
    "tags": []
   },
   "outputs": [],
   "source": [
    "#!pip install langchain langchain-openai openai -q"
   ]
  },
  {
   "cell_type": "code",
   "execution_count": 5,
   "id": "6ce555cd-8367-4ac3-a1ba-99f7fcffdc0f",
   "metadata": {
    "tags": []
   },
   "outputs": [],
   "source": [
    "import os\n",
    "from getpass import getpass"
   ]
  },
  {
   "cell_type": "code",
   "execution_count": 3,
   "id": "4ac87aa2-1813-409c-bbaf-51a715b38dca",
   "metadata": {
    "jupyter": {
     "source_hidden": true
    },
    "tags": []
   },
   "outputs": [],
   "source": [
    "# # Если используете ключ от OpenAI, запустите эту ячейку\n",
    "# from langchain_openai import ChatOpenAI\n",
    "\n",
    "# # os.environ['OPENAI_API_KEY'] = \"Введите ваш OpenAI API ключ\"\n",
    "# os.environ['OPENAI_API_KEY'] = getpass(prompt='Введите ваш OpenAI API ключ')\n",
    "\n",
    "# # инициализируем языковую модель\n",
    "# llm = ChatOpenAI(temperature=0.0)"
   ]
  },
  {
   "cell_type": "code",
   "execution_count": 6,
   "id": "a32eddae-5c2f-4b38-8c77-39a93741d6ae",
   "metadata": {
    "tags": []
   },
   "outputs": [
    {
     "name": "stdin",
     "output_type": "stream",
     "text": [
      "Введите API-ключ полученный в боте ········\n"
     ]
    }
   ],
   "source": [
    "# Если используете ключ из курса, запустите эту ячейку\n",
    "from langchain_openai import ChatOpenAI\n",
    "\n",
    "#course_api_key= \"Введите API-ключ полученный в боте\"\n",
    "course_api_key = getpass(prompt='Введите API-ключ полученный в боте')\n",
    "\n",
    "# инициализируем языковую модель\n",
    "llm = ChatOpenAI(api_key=course_api_key, model='gpt-4o-mini', \n",
    "                 base_url=\"https://aleron-llm.neuraldeep.tech/\")"
   ]
  },
  {
   "cell_type": "markdown",
   "id": "f9a154df-99a3-4fbf-b6b2-4da2bbd15b3c",
   "metadata": {},
   "source": [
    "   # <center id=\"d2\">  🧠 `InMemoryChatMessageHistory` - храним историю в памяти"
   ]
  },
  {
   "cell_type": "markdown",
   "id": "affc168f-b080-41dc-a3f7-b827bec201a1",
   "metadata": {},
   "source": [
    "<div class=\"alert alert-info\" style=\"padding:10px; border-width:3px; border-color:#efe6ef; border-style:solid; border-radius:6px\">\n",
    "    \n",
    "📖 Один из способов сохранять историю диалога в `LangChain` - это хранение контеста в оперативной памяти (`InMemoryChatMessageHistory`), подходит, например для сценариев, когда всё взаимодействие с пользователем происходит за один сеанс (в одном диалоге), после перезапуска всё обнулится."
   ]
  },
  {
   "cell_type": "markdown",
   "id": "c3364b9d-5218-485e-8e5a-932b5e80020c",
   "metadata": {},
   "source": [
    "<div class=\"alert alert-info\" style=\"padding:10px; border-width:3px; border-color:#efe6ef; border-style:solid; border-radius:6px\">\n",
    "    \n",
    "Чтобы прикрутить к любому `Runnable` объекту память, потребуется обёртка `RunnableWithMessageHistory`. Объект `Runnable` - наиболее близок по смыслу к \"запускаемый объект\"."
   ]
  },
  {
   "cell_type": "markdown",
   "id": "b860db23-d4e1-47d9-90c7-a1c4df4ac76a",
   "metadata": {},
   "source": [
    "<div class=\"alert alert-info\" style=\"padding:10px; border-width:3px; border-color:#efe6ef; border-style:solid; border-radius:6px\">\n",
    "    \n",
    "Чтобы в памяти не путались диалоги от разных пользователей и по различным темам при запросе  в конфигурацию добавляется `sessiоn ID`. Можно добавить и несколько ключей, например ещё `user ID`, чтобы отельно идентифицировать несколько различных диалогов на разные темы с одним пользователем (вспомните как создаёте новый чат с ChatGPT)."
   ]
  },
  {
   "cell_type": "code",
   "execution_count": 7,
   "id": "a233145e-363f-4260-b4bc-6f6da56767bb",
   "metadata": {},
   "outputs": [],
   "source": [
    "from langchain_core.chat_history import InMemoryChatMessageHistory\n",
    "from langchain_core.runnables.history import RunnableWithMessageHistory\n",
    "\n",
    "# Создадим словарь, который будет мапить session_id с историей диалога этой сессии\n",
    "store = {}\n",
    "\n",
    "# Напишем функцию, которая возвращает историю диалога по session ID.\n",
    "def get_session_history(session_id: str) -> InMemoryChatMessageHistory:\n",
    "    if session_id not in store:\n",
    "        store[session_id] = InMemoryChatMessageHistory()\n",
    "    return store[session_id]"
   ]
  },
  {
   "cell_type": "code",
   "execution_count": 8,
   "id": "188c7316-16d7-45a9-96d8-55a8f876abe1",
   "metadata": {},
   "outputs": [
    {
     "data": {
      "text/plain": [
       "'Привет, Иван! У меня всё отлично, спасибо за спрос. Как я могу помочь тебе сегодня?'"
      ]
     },
     "execution_count": 8,
     "metadata": {},
     "output_type": "execute_result"
    }
   ],
   "source": [
    "# Создаём конфиг для нашего Runnable, чтобы указать ему session_id при вызове\n",
    "config = {\"configurable\": {\"session_id\": \"1\"}}\n",
    "\n",
    "llm_with_history = RunnableWithMessageHistory(\n",
    "    llm,\n",
    "    get_session_history\n",
    ")\n",
    "\n",
    "# к вызову добавляем параметр config\n",
    "llm_with_history.invoke(\"Привет, ChatGPT! Меня зовут Иван. Как дела?\", config=config).content"
   ]
  },
  {
   "cell_type": "code",
   "execution_count": 9,
   "id": "97ce45f2-f636-4a27-89b7-df8ca61e2e6e",
   "metadata": {},
   "outputs": [
    {
     "name": "stdout",
     "output_type": "stream",
     "text": [
      "Human: Привет, ChatGPT! Меня зовут Иван. Как дела?\n",
      "AI: Привет, Иван! У меня всё отлично, спасибо за спрос. Как я могу помочь тебе сегодня?\n"
     ]
    }
   ],
   "source": [
    "# В store появилась первая пара запрос-ответ, и ключ \"1\" - session_id\n",
    "print(store['1'])"
   ]
  },
  {
   "cell_type": "code",
   "execution_count": 10,
   "id": "1710b07b-ffd3-402e-9e02-4b441cd3870a",
   "metadata": {},
   "outputs": [
    {
     "data": {
      "text/plain": [
       "'Конечно, я постараюсь помочь! Что именно тебе нужно сделать в коде на Python?'"
      ]
     },
     "execution_count": 10,
     "metadata": {},
     "output_type": "execute_result"
    }
   ],
   "source": [
    "llm_with_history.invoke(\"Сможешь помочь мне в написании кода на Python?\", config=config).content"
   ]
  },
  {
   "cell_type": "code",
   "execution_count": 11,
   "id": "a24546d7-c4aa-4d9d-82d0-50492b4d7f92",
   "metadata": {},
   "outputs": [
    {
     "data": {
      "text/plain": [
       "\"Для вывода фразы 'Hello, world!' на экран в Python, используйте следующий код:\\n\\n```python\\nprint('Hello, world!')\\n```\\n\\nПросто скопируйте этот код в ваш редактор или интерпретатор Python, запустите его, и вы увидите фразу 'Hello, world!' на экране. Надеюсь, это поможет!\""
      ]
     },
     "execution_count": 11,
     "metadata": {},
     "output_type": "execute_result"
    }
   ],
   "source": [
    "llm_with_history.invoke(\"Как вывести на экран фразу 'Hello, world!'?\", config=config).content"
   ]
  },
  {
   "cell_type": "markdown",
   "id": "34600c0d-2594-465d-aacc-dc63b1ad07fe",
   "metadata": {},
   "source": [
    "<div class=\"alert alert-success\" style=\"background-color:#e6ffe6; padding:13px; border-width:3px; border-color:#efe6ef; border-style:solid; border-radius:6px\">\n",
    "    \n",
    "**Видно, что благодаря запоминанию контекста, модель знала, что нам нужен ответ именно c синтаксисом языка Python.**\n",
    "\n",
    "В `InMemoryChatMessageHistory` сообщения сохраняются парами `HumanMessage` - `AIMessage`.  </div>"
   ]
  },
  {
   "cell_type": "code",
   "execution_count": 12,
   "id": "f5e48f95-51c6-47d7-8e1d-f3744ae956a8",
   "metadata": {},
   "outputs": [
    {
     "name": "stdout",
     "output_type": "stream",
     "text": [
      "Human: Привет, ChatGPT! Меня зовут Иван. Как дела?\n",
      "AI: Привет, Иван! У меня всё отлично, спасибо за спрос. Как я могу помочь тебе сегодня?\n",
      "Human: Сможешь помочь мне в написании кода на Python?\n",
      "AI: Конечно, я постараюсь помочь! Что именно тебе нужно сделать в коде на Python?\n",
      "Human: Как вывести на экран фразу 'Hello, world!'?\n",
      "AI: Для вывода фразы 'Hello, world!' на экран в Python, используйте следующий код:\n",
      "\n",
      "```python\n",
      "print('Hello, world!')\n",
      "```\n",
      "\n",
      "Просто скопируйте этот код в ваш редактор или интерпретатор Python, запустите его, и вы увидите фразу 'Hello, world!' на экране. Надеюсь, это поможет!\n"
     ]
    }
   ],
   "source": [
    "print(store['1'])"
   ]
  },
  {
   "cell_type": "code",
   "execution_count": 13,
   "id": "ab86b034-7039-406e-9a86-13249174914c",
   "metadata": {},
   "outputs": [
    {
     "data": {
      "text/plain": [
       "{'1': InMemoryChatMessageHistory(messages=[])}"
      ]
     },
     "execution_count": 13,
     "metadata": {},
     "output_type": "execute_result"
    }
   ],
   "source": [
    "# Очистить историю диалога сессии можно методом clear()\n",
    "get_session_history('1').clear()\n",
    "store"
   ]
  },
  {
   "cell_type": "code",
   "execution_count": 14,
   "id": "a5d9c00a-4b0c-405c-a053-30c75b7f7740",
   "metadata": {},
   "outputs": [
    {
     "data": {
      "text/plain": [
       "'Простите, но я не знаю вашего имени.'"
      ]
     },
     "execution_count": 14,
     "metadata": {},
     "output_type": "execute_result"
    }
   ],
   "source": [
    "llm_with_history.invoke(\"Как меня зовут?\", config=config).content"
   ]
  },
  {
   "cell_type": "markdown",
   "id": "51f61102-39fd-42f5-8166-a66c29655bf4",
   "metadata": {},
   "source": [
    "<div style=\"background-color:#e6ffe6; padding:13px; border-width:3px; border-color:#efe6ef; border-style:solid; border-radius:6px\">\n",
    "\n",
    "Модель не смогла ответить, так как очистили предыдущий диалог. \n",
    "\n",
    "**Контекст (историю) можно задавать вручную, подгружать из файла или БД.**"
   ]
  },
  {
   "cell_type": "code",
   "execution_count": 15,
   "id": "26e001ca-6142-4b76-b496-c64663691927",
   "metadata": {
    "height": 30,
    "tags": []
   },
   "outputs": [
    {
     "data": {
      "text/plain": [
       "{'1': InMemoryChatMessageHistory(messages=[HumanMessage(content='Привет меня зовут Алерон?', additional_kwargs={}, response_metadata={}), AIMessage(content='Привет, Иван. Чем могу помочь?', additional_kwargs={}, response_metadata={})])}"
      ]
     },
     "execution_count": 15,
     "metadata": {},
     "output_type": "execute_result"
    }
   ],
   "source": [
    "from langchain_core.messages import HumanMessage, AIMessage\n",
    "\n",
    "get_session_history('1').clear()\n",
    "\n",
    "# Допустим эти примеры мы взяли из базы данных\n",
    "user_message = HumanMessage(content=\"Привет меня зовут Алерон?\")\n",
    "ai_message = AIMessage(content=\"Привет, Алерон. Чем могу помочь?\")\n",
    "\n",
    "# загрузим диалог в память методом add_messages, принимающим список сообщений\n",
    "get_session_history('1').add_messages([user_message, ai_message])\n",
    "\n",
    "store"
   ]
  },
  {
   "cell_type": "code",
   "execution_count": 16,
   "id": "9a00c55e-7f4f-4c45-a066-ef8b2783386c",
   "metadata": {},
   "outputs": [
    {
     "data": {
      "text/plain": [
       "'Извините за путаницу, Вас зовут Алерон. Как я могу помочь вам сегодня?'"
      ]
     },
     "execution_count": 16,
     "metadata": {},
     "output_type": "execute_result"
    }
   ],
   "source": [
    "llm_with_history.invoke(\"Как меня зовут?\", config=config).content"
   ]
  },
  {
   "cell_type": "markdown",
   "id": "790345f7-7fdb-4ac6-ba34-55dce43e6d1a",
   "metadata": {},
   "source": [
    "<div class=\"alert alert-success\" style=\"background-color:#e6ffe6; padding:13px; border-width:3px; border-color:#efe6ef; border-style:solid; border-radius:6px\">\n",
    "    \n",
    "**Видно, что модель верно ответила на вопрос, так как мы предварительно загрузили в память эту информацию.**\n",
    "Таким образом, сохранив историю диалога в базе данных, можно её подгружать при следующем контакте с пользователем."
   ]
  },
  {
   "cell_type": "markdown",
   "id": "3495fee6-9db7-4c33-8cfa-fea67d3cb90a",
   "metadata": {},
   "source": [
    "<div class=\"alert alert-info\" style=\"padding:10px; border-width:3px; border-color:#efe6ef; border-style:solid; border-radius:6px\">\n",
    "    \n",
    "📖 **Для подгрузки в память так же можно использовать следующие методы:**\n",
    "* `add_message` - добавляет любой тип сообщения\n",
    "* `add_ai_message` - добавляет сообщение типа `AIMessage`\n",
    "* `add_user_message` - добавляет сообщение типа `HumanMessage`\n",
    "* `aadd_messages` - асинхронное добавление сообщений"
   ]
  },
  {
   "cell_type": "code",
   "execution_count": 19,
   "id": "0da4f9c7-d9fc-4f2a-a70a-cfb3ee1b7976",
   "metadata": {
    "height": 30,
    "tags": []
   },
   "outputs": [
    {
     "name": "stdout",
     "output_type": "stream",
     "text": [
      "Human: Hello, World!\n",
      "AI: Hi!\n"
     ]
    }
   ],
   "source": [
    "get_session_history('1').clear()\n",
    "get_session_history('1').add_user_message('Hello, World!')\n",
    "get_session_history('1').add_ai_message('Hi!')\n",
    "\n",
    "print(store['1'])"
   ]
  },
  {
   "cell_type": "markdown",
   "id": "bff12589-be18-4be9-85d8-68872d34cbd0",
   "metadata": {
    "tags": []
   },
   "source": [
    "# <center id=\"d3\"> `ChatPromptTemplate` + память = цепочка всё помнит 🧠"
   ]
  },
  {
   "cell_type": "markdown",
   "id": "ffa20e7d-37ec-4e65-8807-d75af6484b30",
   "metadata": {
    "tags": []
   },
   "source": [
    "<div class=\"alert alert-info\">\n",
    "\n",
    "<img src='../images/mh.png' align=\"up\" style=\"border-radius: 0.75rem;\" >\n",
    "    \n",
    "До этого мы вызывали только LLM, теперь давайте разберёмся как добавить память к простой цепочке, в которой есть шаблон промпта."
   ]
  },
  {
   "cell_type": "code",
   "execution_count": 20,
   "id": "98372b0f-fced-4284-9cde-05d3278cde75",
   "metadata": {},
   "outputs": [],
   "source": [
    "from langchain_core.prompts import ChatPromptTemplate, MessagesPlaceholder\n",
    "\n",
    "# Создадим шаблон промпта для ассистента\n",
    "# Оставим в шаблоне \"заглушку\" - MessagesPlaceholder, в которую будет подставляться история диалога\n",
    "prompt = ChatPromptTemplate.from_messages([\n",
    "    (\"system\", \"Ты полезный ассистент, отлично разбирающийся в {topic}\"),\n",
    "    MessagesPlaceholder(variable_name=\"chat_history\"),\n",
    "    (\"human\", \"{question}\"),\n",
    "])"
   ]
  },
  {
   "cell_type": "code",
   "execution_count": 21,
   "id": "88cee7bf-2d1d-475c-a603-53a2e4f3eb38",
   "metadata": {
    "height": 30,
    "tags": []
   },
   "outputs": [
    {
     "data": {
      "text/plain": [
       "'Синус угла 30 градусов равен 0.5.'"
      ]
     },
     "execution_count": 21,
     "metadata": {},
     "output_type": "execute_result"
    }
   ],
   "source": [
    "# собираем простую цепочку\n",
    "chain = prompt | llm # поговорим больше цепочках в следующем уроке\n",
    "\n",
    "# добавляем сохранение истории взаимодействий\n",
    "chain_with_history = RunnableWithMessageHistory(\n",
    "    chain,\n",
    "    get_session_history, \n",
    "    input_messages_key=\"question\",  # указываем название переменой запроса\n",
    "    history_messages_key=\"chat_history\", # название переменной для истории из шаблона\n",
    ")\n",
    "\n",
    "chain_with_history.invoke(\n",
    "    {\"topic\": \"математика\", \"question\": \"Чему равен синус 30?\"},\n",
    "    config={\"configurable\": {\"session_id\": \"2\"}}).content"
   ]
  },
  {
   "cell_type": "code",
   "execution_count": 22,
   "id": "51eb07a8-21a6-4365-b8f3-4175500be80f",
   "metadata": {},
   "outputs": [
    {
     "data": {
      "text/plain": [
       "'Косинус угла 30 градусов равен \\\\( \\\\frac{\\\\sqrt{3}}{2} \\\\) или примерно 0.866.'"
      ]
     },
     "execution_count": 22,
     "metadata": {},
     "output_type": "execute_result"
    }
   ],
   "source": [
    "chain_with_history.invoke(\n",
    "    {\"topic\": \"математика\", \"question\": \"А чему равен косинус?\"},\n",
    "    config={\"configurable\": {\"session_id\": \"2\"}}).content"
   ]
  },
  {
   "cell_type": "markdown",
   "id": "ab4b5414-0ebf-43c1-873a-649eccb9e7ea",
   "metadata": {},
   "source": [
    "<div class=\"alert alert-success\" style=\"background-color:#e6ffe6; padding:13px; border-width:3px; border-color:#efe6ef; border-style:solid; border-radius:6px\">\n",
    "    \n",
    "Из контекста модель поняла, что мы спрашиваем про косинус угла 30 градусов.\n",
    "\n",
    "👀 Посмотрим на `store` - теперь по 2 разным ключам хранятся истории разных диалогов."
   ]
  },
  {
   "cell_type": "code",
   "execution_count": 23,
   "id": "3ff1c99c-43d4-43fd-99f3-fd168fccc605",
   "metadata": {},
   "outputs": [
    {
     "name": "stdout",
     "output_type": "stream",
     "text": [
      "Human: Hello, World!\n",
      "AI: Hi!\n"
     ]
    }
   ],
   "source": [
    "print(store['1'])"
   ]
  },
  {
   "cell_type": "code",
   "execution_count": 24,
   "id": "c6f4e980-b8b2-4b5a-8a1b-649995ef15ce",
   "metadata": {},
   "outputs": [
    {
     "name": "stdout",
     "output_type": "stream",
     "text": [
      "Human: Чему равен синус 30?\n",
      "AI: Синус угла 30 градусов равен 0.5.\n",
      "Human: А чему равен косинус?\n",
      "AI: Косинус угла 30 градусов равен \\( \\frac{\\sqrt{3}}{2} \\) или примерно 0.866.\n"
     ]
    }
   ],
   "source": [
    "print(store['2'])"
   ]
  },
  {
   "cell_type": "markdown",
   "id": "a74b75d3-7e3b-4bce-a130-cb4dc56107d8",
   "metadata": {},
   "source": [
    "# <center id=\"p8\"> 🧸 Выводы и заключения ✅ "
   ]
  },
  {
   "cell_type": "markdown",
   "id": "adc7387c-3ec4-4e8d-81af-747b2387802f",
   "metadata": {},
   "source": [
    "<div class=\"alert alert-info\" style=\"padding:10px; border-width:3px; border-color:#efe6ef; border-style:solid; border-radius:6px\">\n",
    "    \n",
    "📖 **Недостатки `InMemoryChatMessageHistory`:**\n",
    "* История хранится в оперативной памяти. При интенсивных диалогах и большом количестве пользователей память может закончиться\n",
    "* При перезагрузке или сбое сервера - вся история исчезнет\n",
    "* Чем длиннее история, тем больше токенов придется подавать на вход модели\n",
    "* В случае платных моделей, это будет накладно по финансам\n",
    "* Контекстное окно моделей тоже ограничено по количеству токенов"
   ]
  },
  {
   "cell_type": "markdown",
   "id": "c7603c65-a2ba-42e8-830a-5812d3c7e82d",
   "metadata": {},
   "source": [
    "<div class=\"alert alert-info\" style=\"padding:10px; border-width:3px; border-color:#efe6ef; border-style:solid; border-radius:6px\">\n",
    "\n",
    "Поэтому рекомендуется сохранять не всё подряд, а выделять основные сущности из диалога или периодически суммаризовать историю сообщений."
   ]
  },
  {
   "cell_type": "markdown",
   "id": "48387274-51a6-47fe-ad1e-497cff2ee601",
   "metadata": {},
   "source": [
    "<div style=\"background-color:#e6ffe6; padding:13px; border-width:3px; border-color:#efe6ef; border-style:solid; border-radius:6px\">\n",
    "\n",
    "Для продакшен решений можно рассмотреть более практичные форматы хранения истории в `Langchain`, например, релизованы:\n",
    "* `FileChatMessageHistory` - сохраняет историю взаимодействия сообщений в файл.\n",
    "* `RedisChatMessageHistory` - сохраняет историю сообщений чата в базе данных Redis.\n",
    "* `SQLChatMessageHistory` - сохраняет историю сообщений чата в базе данных SQL.\n",
    "* `MongoDBChatMessageHistory` - в базе данных Mongo\n",
    "* и многие [другие](https://python.langchain.com/api_reference/community/chat_message_histories.html)"
   ]
  },
  {
   "cell_type": "markdown",
   "id": "eacb9738-ca8c-49eb-b5c5-ff9a795c8370",
   "metadata": {},
   "source": [
    "<div style=\"background-color:#e6ffe6; padding:13px; border-width:3px; border-color:#efe6ef; border-style:solid; border-radius:6px\">\n",
    "    \n",
    "    \n",
    "Например, это могло бы выглядеть так:\n",
    "```python\n",
    "engine = sqlalchemy.create_engine(\"sqlite:///database/chat_history.db\")\n",
    "SQLChatMessageHistory(session_id=session_id, connection=engine)\n",
    "```"
   ]
  },
  {
   "cell_type": "code",
   "execution_count": null,
   "id": "5831e93a-ee40-42df-a6f3-817bd6dabea0",
   "metadata": {},
   "outputs": [],
   "source": []
  }
 ],
 "metadata": {
  "kernelspec": {
   "display_name": "cv",
   "language": "python",
   "name": "python3"
  },
  "language_info": {
   "codemirror_mode": {
    "name": "ipython",
    "version": 3
   },
   "file_extension": ".py",
   "mimetype": "text/x-python",
   "name": "python",
   "nbconvert_exporter": "python",
   "pygments_lexer": "ipython3",
   "version": "3.10.12"
  }
 },
 "nbformat": 4,
 "nbformat_minor": 5
}
