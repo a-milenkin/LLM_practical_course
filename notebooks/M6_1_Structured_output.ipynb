{
 "cells": [
  {
   "cell_type": "markdown",
   "id": "035a9287-1d9e-4f4b-ae92-23b62ffbbfbb",
   "metadata": {
    "tags": []
   },
   "source": [
    "## <center id=\"c1\"><h2> 🦜🔗 `Structured Output` в `LangChain` - получи ответ от LLM в нужном формате! </h2>\n",
    "\n",
    "<img src=\"../images/so.png\" align=\"right\" width=\"400\" height=\"300\" style=\"border-radius: 0.75rem;\" alt=\"LangChain Image\" />\n",
    "\n",
    "### Оглавление ноутбука:\n",
    "\n",
    " * <a href=\"#c1\"> Основные компоненты SO  </a>\n",
    " * <a href=\"#c2\"> 🧾 Response schema - говорим модели про свои хотелки! </a> \n",
    " * <a href=\"#look1\"> 🧶 Метод with_structured_output() - привязка схемы! </a>\n",
    " * <a href=\"#check1\"> 🤝 Pydantic схема = формат + валидация! </a>\n",
    " * <a href=\"#check2\"> ✌️ Выбираем между двумя схемами! </a>\n",
    " * <a href=\"#look2\"> 🔖 JSON mode</a>\n",
    " * <a href=\"#6\">🧸 Выводы и заключения</a>"
   ]
  },
  {
   "cell_type": "markdown",
   "id": "f530d8db-d317-4b3f-a6c6-f9e135c27f01",
   "metadata": {},
   "source": [
    "<div class=\"alert alert-info\" style=\"padding:10px; border-width:3px; border-color:#efe6ef; border-style:solid; border-radius:6px\">\n",
    "    \n",
    "Существуют сценарии, в которых нам нужно получить ответ от модели в структурированном формате. Например, мы можем захотеть сохранить выходные данные модели в базе данных и убедиться, что выходные данные соответствуют схеме базы данных. \n",
    "\n",
    "Эта необходимость обусловливает концепцию структурированного ответа (`Structured output`), при которой моделям может быть дано указание использовать определенную структуру выходных данных. <br>\n",
    "\n",
    "Не все модели поддерживают такой формат ответа - перед использованием, смотрите [список](https://python.langchain.com/docs/integrations/chat/#featured-providers).\n"
   ]
  },
  {
   "cell_type": "markdown",
   "id": "b05d1be7-03ef-4e45-9211-b4bdd9f36de2",
   "metadata": {},
   "source": [
    "### **Основные компоненты SO (смотрите рисунок выше):**\n",
    "\n",
    "<div class=\"alert alert-custom\" style=\"padding:10px; border-width:3px; border-color:#efe6ef; border-style:solid; border-radius:6px\">\n",
    "\n",
    "1. **Определение схемы (Response schema):** Структура выходных данных представляется в виде схемы, которая может быть определена несколькими способами.\n",
    "2. **Возврат структурированного ответа:** модели предоставляется эта схема, и дается указание возвращать выходные данные, соответствующие ей."
   ]
  },
  {
   "cell_type": "markdown",
   "id": "7972b4cb-f27a-4113-b7af-153f6ef375f2",
   "metadata": {},
   "source": [
    "<div style=\"background-color:#fff0ff; padding:10px; border-width:3px; border-color:#efe6ef; border-style:solid; border-radius:6px\">\n",
    "    \n",
    "Можно проиллюстрировать концепцию таким псевдокодом:\n",
    "```python\n",
    "# Определяем схему\n",
    "schema = {\"foo\": \"bar\"}\n",
    "\n",
    "# Привязываем схему к модели\n",
    "model_with_structure = model.with_structured_output(schema)\n",
    "\n",
    "# Делаем запрос к модели, с привязанной схемой\n",
    "structured_output = model_with_structure.invoke(user_input)    \n",
    "```"
   ]
  },
  {
   "cell_type": "markdown",
   "id": "9fa46912-4348-4d6a-a446-3b3c1c7a756e",
   "metadata": {},
   "source": [
    "<div class=\"alert alert-info\" style=\"padding:10px; border-width:3px; border-color:#efe6ef; border-style:solid; border-radius:6px\">\n",
    "\n",
    "Помните как мы в первом ноутбуке по `LangChain` разбирали ответ модели с помощью `Output Parser`? <br>Давайте теперь попробуем решить ту же задачу с помощью `Structured Output`."
   ]
  },
  {
   "cell_type": "markdown",
   "id": "31e524a4-b1d3-4a1c-bbd7-2c5b459172a3",
   "metadata": {},
   "source": [
    "# <center> 🔑 Вводим ключ "
   ]
  },
  {
   "cell_type": "code",
   "execution_count": 1,
   "id": "0b8a6312-59fe-4346-a7c3-412681ad7000",
   "metadata": {
    "tags": []
   },
   "outputs": [],
   "source": [
    "import os\n",
    "from getpass import getpass\n",
    "import warnings\n",
    "warnings.filterwarnings('ignore')"
   ]
  },
  {
   "cell_type": "code",
   "execution_count": 2,
   "id": "178acbb7-bb9e-4ef1-9be0-b524102ba183",
   "metadata": {
    "tags": []
   },
   "outputs": [],
   "source": [
    "!pip install langchain langchain-openai openai -q"
   ]
  },
  {
   "cell_type": "code",
   "execution_count": 3,
   "id": "75c1804c-3012-4f8a-908f-3cd1d384a8b2",
   "metadata": {
    "tags": []
   },
   "outputs": [],
   "source": [
    "# # Если используете ключ от OpenAI, запустите эту ячейку\n",
    "# from langchain_openai import ChatOpenAI\n",
    "\n",
    "# # os.environ['OPENAI_API_KEY'] = \"Введите ваш OpenAI API ключ\"\n",
    "# os.environ['OPENAI_API_KEY'] = getpass(prompt='Введите ваш OpenAI API ключ')\n",
    "\n",
    "# # инициализируем языковую модель\n",
    "# llm = ChatOpenAI(temperature=0.0)"
   ]
  },
  {
   "cell_type": "code",
   "execution_count": 2,
   "id": "3759fb74-8def-4cc0-bb58-61649373873e",
   "metadata": {
    "tags": []
   },
   "outputs": [
    {
     "name": "stdin",
     "output_type": "stream",
     "text": [
      "Введите API-ключ полученный в боте: ········\n"
     ]
    }
   ],
   "source": [
    "# Если используете ключ из курса, запустите эту ячейку\n",
    "from langchain_openai import ChatOpenAI\n",
    "\n",
    "# course_api_key= \"Введите API-ключ полученный в боте\"\n",
    "course_api_key = getpass(prompt='Введите API-ключ полученный в боте:')\n",
    "\n",
    "# инициализируем языковую модель\n",
    "llm = ChatOpenAI(api_key=course_api_key, model='gpt-4o-mini', \n",
    "                 base_url=\"https://aleron-llm.neuraldeep.tech/\")"
   ]
  },
  {
   "cell_type": "markdown",
   "id": "bb4efd14-8761-4db2-9494-5320d9f1802b",
   "metadata": {},
   "source": [
    "<div class=\"alert alert-info\" style=\"padding:10px; border-width:3px; border-color:#efe6ef; border-style:solid; border-radius:6px\">\n",
    "    \n",
    "Допустим у нас есть база отзывов покупателей, мы хотим подать отзыв на вход модели, а на выходе получить готовый Python словарь(как представлено выше) для дальнейшего использования."
   ]
  },
  {
   "cell_type": "code",
   "execution_count": 3,
   "id": "7096693f-938f-44dc-8953-4baf41131fcb",
   "metadata": {
    "tags": []
   },
   "outputs": [],
   "source": [
    "customer_review = \"\"\"\n",
    "Этот фен для волос просто потрясающий. Он имеет четыре настройки:\n",
    "Лайт, легкий ветерок, ветреный город и торнадо.\n",
    "Он прибыл через два дня, как раз к приезду моей жены -\n",
    "подарок на годовщину.\n",
    "Думаю, моей жене это настолько понравилось, что она потеряла дар речи.\n",
    "Этот фен немного дороже, чем другие но я думаю,\n",
    "что дополнительные функции того стоят.\n",
    "\"\"\""
   ]
  },
  {
   "cell_type": "markdown",
   "id": "80bcd169-b826-4678-b132-5125a332dfbb",
   "metadata": {},
   "source": [
    "<div class=\"alert alert-info\" style=\"padding:10px; border-width:3px; border-color:#efe6ef; border-style:solid; border-radius:6px\">\n",
    "    \n",
    "Давайте определим то, как мы хотим, чтобы выглядели выходные данные из LLM:"
   ]
  },
  {
   "cell_type": "code",
   "execution_count": 5,
   "id": "0919f40f-2ce2-4fa8-9f53-5aa594572f72",
   "metadata": {
    "tags": []
   },
   "outputs": [
    {
     "data": {
      "text/plain": [
       "{'product': 'фен для волос',\n",
       " 'gift': False,\n",
       " 'delivery_days': 5,\n",
       " 'price_value': 'подходящая'}"
      ]
     },
     "execution_count": 5,
     "metadata": {},
     "output_type": "execute_result"
    }
   ],
   "source": [
    "{\n",
    "  \"product\": \"фен для волос\",\n",
    "  \"gift\": False,\n",
    "  \"delivery_days\": 5,\n",
    "  \"price_value\": \"подходящая\"\n",
    "}"
   ]
  },
  {
   "cell_type": "markdown",
   "id": "fe8644e6-4f58-4804-8337-02ad9c72ec20",
   "metadata": {},
   "source": [
    "# <center id=\"c2\"> 🧾 `Response schema` - говорим модели про свои хотелки!"
   ]
  },
  {
   "cell_type": "markdown",
   "id": "f6598ba1-9bf2-4e32-8597-b823b6585c52",
   "metadata": {},
   "source": [
    "<div class=\"alert alert-info\" style=\"padding:10px; border-width:3px; border-color:#efe6ef; border-style:solid; border-radius:6px\">\n",
    "\n",
    "Схема может быть указана как:\n",
    "* класс `TypedDict`\n",
    "* схема `JSON`\n",
    "* класс `Pydantic`\n",
    "\n",
    "Если используется `TypedDict` или схема `JSON`, то модель вернет словарь, а если используется класс `Pydantic`, то будет возвращен объект `Pydantic`.<br>\n",
    "    "
   ]
  },
  {
   "cell_type": "markdown",
   "id": "9e605648-5af4-46c1-aa4d-c44f2c61d44d",
   "metadata": {},
   "source": [
    "<div class=\"alert alert-success\" style=\"background-color:#e6ffe6; padding:13px; border-width:3px; border-color:#efe6ef; border-style:solid; border-radius:6px\">\n",
    "    \n",
    "Как правило, в схеме любого типа должны быть основные элементы:\n",
    "* Описание класса (может быть пропущено)\n",
    "* Описание каждого поля (может быть пропущено)\n",
    "* Тип поля (строки, числа, списки и.т.п)\n",
    "* Значение по умолчанию (может быть пропущено)\n",
    "\n",
    "Чем точнее вы опишите схему, тем модели проще будет выдавать результат в нужном формате."
   ]
  },
  {
   "cell_type": "code",
   "execution_count": 6,
   "id": "fc4a3424-a244-4902-9a90-fd60cd444082",
   "metadata": {
    "tags": []
   },
   "outputs": [],
   "source": [
    "from typing_extensions import Annotated, TypedDict\n",
    "\n",
    "class Customer_Review(TypedDict):\n",
    "    \"\"\"Отзыв покупателя\"\"\" # Описание класса\n",
    "\n",
    "    product: Annotated[str, ..., \"Название товара\"] # тип, значение по умолчанию, описание\n",
    "\n",
    "    # Как ещё можно было описать поле product:\n",
    "    \n",
    "    # product: str                      # нет значения по умолчанию, нет описания\n",
    "    # product: Annotated[Optional[str]] # не обязательное поле\n",
    "    # product: Annotated[str, ...]      # нет значения по умолчанию, нет описания\n",
    "    # product: Annotated[str, \"не определен\"]  # есть значение по умолчанию, нет описания\n",
    "\n",
    "    gift: Annotated[bool, ..., \"Является ли подарком\"]\n",
    "    delivery_days: Annotated[int, ..., \"Количество дней доставки\"]\n",
    "    price_value: Annotated[str, \"отсутствует\", \"Описание цены\"]"
   ]
  },
  {
   "cell_type": "markdown",
   "id": "7f862371-3354-40c4-a328-e64ced801595",
   "metadata": {},
   "source": [
    "# <center id=\"c2\"> 🧶 Метод `with_structured_output()` - привязка схемы!"
   ]
  },
  {
   "cell_type": "markdown",
   "id": "7ecfab83-7b9b-41af-a62c-861c0873161f",
   "metadata": {},
   "source": [
    "<div class=\"alert alert-info\" style=\"padding:10px; border-width:3px; border-color:#efe6ef; border-style:solid; border-radius:6px\">\n",
    "\n",
    "Метод `with_structured_output()` использует схему в качестве входных данных. <br> Метод возвращает моделеподобный `Runnable`, за исключением того, что вместо вывода строк или сообщений он выводит объекты, соответствующие заданной схеме.<br>\n",
    "    "
   ]
  },
  {
   "cell_type": "code",
   "execution_count": 8,
   "id": "eaeaf853-01df-4a70-a685-f52350d6ee75",
   "metadata": {
    "tags": []
   },
   "outputs": [
    {
     "data": {
      "text/plain": [
       "{'product': 'Фен для волос',\n",
       " 'gift': True,\n",
       " 'delivery_days': 2,\n",
       " 'price_value': 'Чуть дороже, чем аналоги, но с хорошими функциями.'}"
      ]
     },
     "execution_count": 8,
     "metadata": {},
     "output_type": "execute_result"
    }
   ],
   "source": [
    "# Привязываем схему к llm\n",
    "llm_with_so = llm.with_structured_output(Customer_Review)\n",
    "\n",
    "response = llm_with_so.invoke(customer_review)\n",
    "response"
   ]
  },
  {
   "cell_type": "code",
   "execution_count": 9,
   "id": "efe10f82-f690-46f8-b551-4b5529745383",
   "metadata": {},
   "outputs": [
    {
     "data": {
      "text/plain": [
       "dict"
      ]
     },
     "execution_count": 9,
     "metadata": {},
     "output_type": "execute_result"
    }
   ],
   "source": [
    "type(response)"
   ]
  },
  {
   "cell_type": "markdown",
   "id": "8e5b8ae9-7ddd-4d47-97c3-bef090196c48",
   "metadata": {},
   "source": [
    "<div class=\"alert alert-success\" style=\"background-color:#e6ffe6; padding:13px; border-width:3px; border-color:#efe6ef; border-style:solid; border-radius:6px\">\n",
    "    \n",
    "Модель выдала ответ в желаемом формате и нужного типа!\n",
    "\n",
    "Рассмотрим пример с `JSON` схемой:"
   ]
  },
  {
   "cell_type": "code",
   "execution_count": 12,
   "id": "7c65bf61-8dcf-4f5f-8d90-18afed8cb42a",
   "metadata": {},
   "outputs": [
    {
     "data": {
      "text/plain": [
       "({'product': 'Фен для волос',\n",
       "  'gift': True,\n",
       "  'delivery_days': 2,\n",
       "  'price_value': 'немного дороже, чем другие, но дополнительные функции того стоят'},\n",
       " dict)"
      ]
     },
     "execution_count": 12,
     "metadata": {},
     "output_type": "execute_result"
    }
   ],
   "source": [
    "json_schema = {\n",
    "    \"title\": \"Customer_review\",        # название схемы\n",
    "    \"description\": \"Отзыв покупателя\", # описание\n",
    "    \"type\": \"object\",\n",
    "    \"properties\": {                    # описание полей\n",
    "        \"product\": {\"type\": \"string\", \"description\": \"Название продукта\"},\n",
    "        \"gift\": {\"type\": \"boolean\", \"description\": \"Является ли подарком\"},\n",
    "        \"delivery_days\": {\"type\": \"integer\", \"description\": \"Количество дней доставки\"},\n",
    "        \"price_value\": {\"type\": \"string\", \"description\": \"Описание цены\"}\n",
    "    },\n",
    "    \"required\": [\"product\", \"gift\", \"delivery_days\", \"price_value\"] # список обязательных полей\n",
    "}\n",
    "\n",
    "structured_llm = llm.with_structured_output(json_schema)\n",
    "response = structured_llm.invoke(customer_review)\n",
    "response, type(response)"
   ]
  },
  {
   "cell_type": "markdown",
   "id": "626b80b7-9346-4c2b-ba38-d937461c28ab",
   "metadata": {},
   "source": [
    "# <center id=\"c2\"> 🤝 `Pydantic` схема = формат + валидация!"
   ]
  },
  {
   "cell_type": "markdown",
   "id": "0af8f1b8-3e02-4c89-90bd-f0351442b45b",
   "metadata": {},
   "source": [
    "<div class=\"alert alert-info\" style=\"padding:10px; border-width:3px; border-color:#efe6ef; border-style:solid; border-radius:6px\">\n",
    "\n",
    "Ключевым преимуществом использования `Pydantic` схемы является то, что выходные данные, сгенерированные с помощью модели, будут проверены. <br>\n",
    "`Pydantic` выдаст сообщение об ошибке, если какие-либо обязательные поля отсутствуют или имеют неправильный тип.\n",
    "    "
   ]
  },
  {
   "cell_type": "code",
   "execution_count": 13,
   "id": "f49bb8d2-1ba4-49da-b120-8ee4f456d0f5",
   "metadata": {},
   "outputs": [],
   "source": [
    "from pydantic import BaseModel, Field\n",
    "from typing import Optional\n",
    "\n",
    "class Customer_Review(BaseModel):\n",
    "    \"\"\"Отзыв покупателя\"\"\" # Описание класса\n",
    "\n",
    "    product: str = Field(..., description=\"Название продукта\")\n",
    "    gift: bool = Field(..., description=\"Является ли подарком\")\n",
    "    delivery_days: int = Field(..., description=\"Количество дней доставки\")\n",
    "    price_value: str = Field(default='отсутствует', description=\"Описание цены\")\n",
    "    \n",
    "    # Если бы поле price_value было не обязательным, можно было бы указать его так:\n",
    "    # price_value: Optional[str] = Field(default='отсутствует', description=\"Описание цены\")"
   ]
  },
  {
   "cell_type": "code",
   "execution_count": 14,
   "id": "762e3950-cf2f-4932-ad94-f79d3fa45c62",
   "metadata": {},
   "outputs": [
    {
     "data": {
      "text/plain": [
       "Customer_Review(product='Фен для волос', gift=True, delivery_days=2, price_value='немного дороже, чем другие')"
      ]
     },
     "execution_count": 14,
     "metadata": {},
     "output_type": "execute_result"
    }
   ],
   "source": [
    "structured_llm = llm.with_structured_output(Customer_Review)\n",
    "response = structured_llm.invoke(customer_review)\n",
    "response"
   ]
  },
  {
   "cell_type": "code",
   "execution_count": 15,
   "id": "88bb7caa-9fcc-4ef0-a851-c3fd15202fae",
   "metadata": {},
   "outputs": [
    {
     "data": {
      "text/plain": [
       "__main__.Customer_Review"
      ]
     },
     "execution_count": 15,
     "metadata": {},
     "output_type": "execute_result"
    }
   ],
   "source": [
    "type(response)"
   ]
  },
  {
   "cell_type": "markdown",
   "id": "83345f27-cc9e-4328-aa30-8ae7b2f2fd94",
   "metadata": {},
   "source": [
    "<div class=\"alert alert-success\" style=\"background-color:#e6ffe6; padding:13px; border-width:3px; border-color:#efe6ef; border-style:solid; border-radius:6px\">\n",
    "    \n",
    "Получили результат в виде объекта `Pydantic`."
   ]
  },
  {
   "cell_type": "markdown",
   "id": "675e8bbc-f861-454d-add7-9ed4e8a3da28",
   "metadata": {},
   "source": [
    "# <center id=\"c2\"> ✌️ Выбираем между двумя схемами!"
   ]
  },
  {
   "cell_type": "markdown",
   "id": "04193a58-e3f1-4ded-ab3a-5f0988078d81",
   "metadata": {},
   "source": [
    "<div class=\"alert alert-info\" style=\"padding:10px; border-width:3px; border-color:#efe6ef; border-style:solid; border-radius:6px\">\n",
    "\n",
    "Например, мы собираем отзывы о товарах через чат-бота и пользователи могут с ним просто общаться. Как привязать к модели 2 или более схем и осуществлять выбор? 🤔\n",
    "\n",
    "Рассмотрим ниже на примере:\n",
    "* Возьмём нашу предыдущую схему для разбора отзывов\n",
    "* Создадим ещё одну схему для общих вопросов\n",
    "* Создадим финальную схему, где объединим их вместе через `Union`\n",
    "* И именно её привяжем к модели"
   ]
  },
  {
   "cell_type": "code",
   "execution_count": 16,
   "id": "4362bab1-603c-460a-a388-ae63d1c09853",
   "metadata": {},
   "outputs": [
    {
     "data": {
      "text/plain": [
       "{'final_output': {'Customer_Review': {'product': 'Фен для волос',\n",
       "   'gift': True,\n",
       "   'delivery_days': 2,\n",
       "   'price_value': 'Дороже, чем другие, но дополнительные функции того стоят.'}}}"
      ]
     },
     "execution_count": 16,
     "metadata": {},
     "output_type": "execute_result"
    }
   ],
   "source": [
    "from typing import Union\n",
    "\n",
    "\n",
    "class Customer_Review(TypedDict):\n",
    "    \"\"\"Отзыв покупателя\"\"\" # Описание класса\n",
    "\n",
    "    product: Annotated[str, ..., \"Название товара\"] # тип, значение по умолчанию, описание\n",
    "    gift: Annotated[bool, ..., \"Является ли подарком\"]\n",
    "    delivery_days: Annotated[int, ..., \"Количество дней доставки\"]\n",
    "    price_value: Annotated[str, \"отсутствует\", \"Описание цены\"]\n",
    "\n",
    "\n",
    "class ConversationalResponse(TypedDict):\n",
    "    \"\"\"Отвечай в диалоговом формате. Будь дружелюбен и полезен\"\"\"\n",
    "\n",
    "    response: Annotated[str, ..., \"Ответ на вопрос пользователя\"]\n",
    "\n",
    "\n",
    "class FinalResponse(TypedDict):\n",
    "    final_output: Union[Customer_Review, ConversationalResponse]\n",
    "\n",
    "\n",
    "structured_llm = llm.with_structured_output(FinalResponse)\n",
    "\n",
    "structured_llm.invoke(customer_review)"
   ]
  },
  {
   "cell_type": "code",
   "execution_count": 17,
   "id": "f809617e-ee22-418e-8f76-8c6da70124c8",
   "metadata": {},
   "outputs": [
    {
     "data": {
      "text/plain": [
       "{'final_output': {'response': 'Привет! У меня всё хорошо, спасибо! Как твои дела?'}}"
      ]
     },
     "execution_count": 17,
     "metadata": {},
     "output_type": "execute_result"
    }
   ],
   "source": [
    "structured_llm.invoke('Как дела?')"
   ]
  },
  {
   "cell_type": "markdown",
   "id": "9a1fe7a8-7814-4647-8736-55f829a98165",
   "metadata": {},
   "source": [
    "<div class=\"alert alert-success\" style=\"background-color:#e6ffe6; padding:13px; border-width:3px; border-color:#efe6ef; border-style:solid; border-radius:6px\">\n",
    "    \n",
    "Модель в зависимости от запроса использует ту или иную схему."
   ]
  },
  {
   "cell_type": "markdown",
   "id": "19b7abe9-6c31-4aaa-b0cf-f78b7d108ed2",
   "metadata": {},
   "source": [
    "# <center id=\"c2\"> 🔖 JSON mode"
   ]
  },
  {
   "cell_type": "markdown",
   "id": "e682d26d-2526-425c-9806-6472a4b7d65d",
   "metadata": {},
   "source": [
    "<div class=\"alert alert-info\" style=\"padding:10px; border-width:3px; border-color:#efe6ef; border-style:solid; border-radius:6px\">\n",
    "    \n",
    "Некоторые модели, в частности от `OpenAI`, поддерживают ответ в `JSON mode`.<br>\n",
    "Т.е. отвечают сразу в виде словаря, без привязки схемы. Но такой формат пока поддерживают небольшое число вендоров - [список](https://python.langchain.com/docs/integrations/chat/)."
   ]
  },
  {
   "cell_type": "code",
   "execution_count": 22,
   "id": "c296102e-d60b-4170-8c21-00dafa91663d",
   "metadata": {},
   "outputs": [
    {
     "data": {
      "text/plain": [
       "{'random_llms': ['GPT-3', 'BERT', 'T5']}"
      ]
     },
     "execution_count": 22,
     "metadata": {},
     "output_type": "execute_result"
    }
   ],
   "source": [
    "# указываем, что хотим получить ответ в формате JSON\n",
    "json_model = llm.with_structured_output(method=\"json_mode\")\n",
    "\n",
    "response = json_model.invoke(\n",
    "    \"Верни JSON объект с ключом 'random_llms' и значением из 3 рандомных названий LLM.\")\n",
    "response"
   ]
  },
  {
   "cell_type": "code",
   "execution_count": 23,
   "id": "805a9f80-91d1-42e6-8616-cb64bf91b947",
   "metadata": {},
   "outputs": [
    {
     "data": {
      "text/plain": [
       "dict"
      ]
     },
     "execution_count": 23,
     "metadata": {},
     "output_type": "execute_result"
    }
   ],
   "source": [
    "type(response)"
   ]
  },
  {
   "cell_type": "markdown",
   "id": "b88e9988-b1f8-4de4-94d3-b235a97ef41c",
   "metadata": {},
   "source": [
    "<div class=\"alert alert-success\" style=\"background-color:#e6ffe6; padding:13px; border-width:3px; border-color:#efe6ef; border-style:solid; border-radius:6px\">\n",
    "    \n",
    "Модель по запросу без схемы выдаёт словарь в нужном формате."
   ]
  },
  {
   "cell_type": "markdown",
   "id": "df3cae35-a77b-489e-9697-8ae830cd5ade",
   "metadata": {},
   "source": [
    "# <center> 🧸 Выводы и заключения"
   ]
  },
  {
   "cell_type": "markdown",
   "id": "edc04697-0044-4d86-b6c1-ec323e3aa75b",
   "metadata": {},
   "source": [
    "<div class=\"alert alert-info\" style=\"padding:10px; border-width:3px; border-color:#efe6ef; border-style:solid; border-radius:6px\">\n",
    "\n",
    "В этом уроке разобрались как добиться от модели структурированного ответа `Structured Output`.\n",
    "\n",
    "- Такой ответ позволяет быстро и бесшовно использовать результаты работы модели, и уменьшать количество галлюцинаций\n",
    "- Качество такого ответа будет зависеть от грамотно составленной `Response schema`\n",
    "- Провалидировать ответ сразу можно через `Pydantic` схему\n",
    "- В описание полей можно добавлять инструкции, для разных случаев или желаемого поведения"
   ]
  },
  {
   "cell_type": "code",
   "execution_count": null,
   "id": "57170a88-35ea-4be1-ad35-4b88f6c9737c",
   "metadata": {},
   "outputs": [],
   "source": []
  }
 ],
 "metadata": {
  "kernelspec": {
   "display_name": "cv",
   "language": "python",
   "name": "python3"
  },
  "language_info": {
   "codemirror_mode": {
    "name": "ipython",
    "version": 3
   },
   "file_extension": ".py",
   "mimetype": "text/x-python",
   "name": "python",
   "nbconvert_exporter": "python",
   "pygments_lexer": "ipython3",
   "version": "3.10.12"
  }
 },
 "nbformat": 4,
 "nbformat_minor": 5
}
