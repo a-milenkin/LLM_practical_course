{
 "cells": [
  {
   "cell_type": "markdown",
   "id": "7706d01b-720f-4a0a-abc7-b368501cd2a2",
   "metadata": {
    "tags": []
   },
   "source": [
    "# <h1><center id=\"c1\"> 🤹‍♀️ `Prompt` `Engineering` - выжми из модели максимум </center></h1>"
   ]
  },
  {
   "cell_type": "markdown",
   "id": "24665449-779e-4b15-a7bf-89779e790085",
   "metadata": {},
   "source": [
    "<img src='../images/rob.png' align=\"right\" width=\"400\" height=\"400\" >\n",
    "\n",
    "### Оглавление:\n",
    "* <a href=\"#c1\"> 🚀 Введение  </a>\n",
    "* <a href=\"#c2\"> ❄️ Структура промпта </a> \n",
    "* <a href=\"#look1\"> 🌡 Generation Temperature - настраиваем \"творческость\" модели!  </a>\n",
    "* <a href=\"#check1\"> 👯‍♀️ Добавление нескольких контекстов  </a>\n",
    "* <a href=\"#check2\"> 🧐 Как посчитать расходуемые токены и деньги 💸? </a>\n",
    "* <a href=\"#check3\"> 🤹‍♀️ Техники Prompt Engineering и кто такой Prompt Engineer 👨‍🔧?</a>\n",
    "* <a href=\"#6\">🧸 Выводы и заключения</a>\n",
    "\n",
    "<div class=\"alert alert-custom\" style=\"max-width: 55%; padding:10px; border-width:3px; border-color:#efe6ef; border-style:solid; border-radius:6px\">\n",
    "\n",
    "В этом ноутбуке начнём осваивать `Prompt Engineering` (дизайн промпта), и поймём почему так **важно** в нём разобраться в первую очередь, начиная изучение сферы LLM моделей. **Начнём с определений:**"
   ]
  },
  {
   "cell_type": "markdown",
   "id": "4a6955aa-449c-4145-8c83-04d3889201bb",
   "metadata": {},
   "source": [
    "<div class=\"alert alert-info\" style=\"max-width: 99%; padding:10px; border-width:3px; border-color:#efe6ef; border-style:solid; border-radius:6px\">\n",
    "\n",
    "📖 ***Промпт (prompt)*** - это запрос, который мы подаем большой языковой модели, чтобы получить нужную информацию или выполнить определенную задачу. Он определяет, как именно LLM будет интерпретировать нашу просьбу и формировать ответ. По сути, хорошо сформулированный промпт выступает своего рода ключом, открывающим доступ к возможностям языковой модели."
   ]
  },
  {
   "cell_type": "markdown",
   "id": "1c99858f-c8df-4cde-bc2f-e002aae70deb",
   "metadata": {},
   "source": [
    "<img src='../images/prompt_def.webp' align=\"right\" width=\"628\" height=\"628\" >\n",
    "\n",
    "***Prompt Engineering (дизайн промпта)*** — это практика разработки и уточнения промптов (вопросов или инструкций) для получения конкретных ответов от моделей ИИ (не только языковых, но и генерации картинок). Думайте об этом, как об интерфейсе между намерениями человека и результатами работы машины. \n",
    "\n",
    "Например, если вы когда-либо взаимодействовали с голосовыми помощниками, такими как `Siri` или `Алиса`, вы занимались базовой формой `Prompt Engineering'а`."
   ]
  },
  {
   "cell_type": "markdown",
   "id": "47dc2538-4a8f-4062-81bb-556629542a11",
   "metadata": {},
   "source": [
    "<div class=\"alert alert-success\" style=\"background-color:#e6ffe6; padding:13px; border-width:3px; border-color:#efe6ef; border-style:solid; border-radius:6px\">\n",
    "    \n",
    "На примере ниже, вы можете увидеть, как незначительные изменения в тексте промпта, могут значительно изменить результат генерации. Запросы к генеративной нейросети [Midjourney](https://docs.midjourney.com/docs/multi-prompts)."
   ]
  },
  {
   "cell_type": "markdown",
   "id": "05645798-3c25-439e-a222-fb712c2c46d4",
   "metadata": {},
   "source": [
    "<img src='../images/cheesecake.png' align=\"center\">"
   ]
  },
  {
   "cell_type": "markdown",
   "id": "04b81816-eb2c-422a-befd-0934084f0f99",
   "metadata": {},
   "source": [
    "## <center id=\"c2\"> ❄️ Упрощенная структура промпта \n",
    "\n",
    "<div style=\"text-align: center;\">\n",
    "  <img\n",
    "    src=\"../images/prompt_engineering_visual.png\"\n",
    "    width=\"700\"\n",
    "    height=\"600\"\n",
    "    alt=\"Prompt Engineering Visual\"\n",
    "    style=\"border-radius: 0.75rem; box-shadow: 0 4px 12px rgba(0, 0, 0, 0.1);\"\n",
    "  />\n",
    "</div\n",
    "\n"
   ]
  },
  {
   "cell_type": "markdown",
   "id": "a1baf09f-225d-4678-99fa-dcb8fb00c627",
   "metadata": {},
   "source": [
    "<div class=\"alert alert-info\" style=\" padding:10px; border-width:3px; border-color:#efe6ef; border-style:solid; border-radius:6px\">\n",
    "\n",
    "📖  Компоненты, из которых может быть составлен промпт:\n",
    "\n",
    "* **Инструкции (Instructions)** - обеспечивает модели ясные указания о том, что ожидается в ответе. Инструкция определяет, как модель должна интерпретировать введенные данные и какие параметры ответа следует учесть. Например, стил ответа, длину текста или другие ограничения.\n",
    "* **Внешний контекст (External information or context)** - Этот компонент предоставляет модели дополнительную информацию, которую она может использовать при формировании ответа. Может включать в себя факты, данные, или ссылки на внешние источники информации. В `ChatGPT` история вашего диалога используется в качестве контекста при каждом новом сообщении, чтобы модель понимала о чём вы с ней разговаривали до.\n",
    "* **Ввод пользователя или запрос (User input or query)** - Это входные данные, которые пользователь предоставляет модели. Это может быть вопрос, просьба или какой-либо запрос, который пользователь хочет, чтобы модель обработала.\n",
    "* **Выходной индикатор (Output indicator)** -  указывает, как модель должна сформировать свой ответ. Это может быть, например, просьба о предоставлении ответа в определенном формате, такой как краткое резюме, расширенное объяснение, `json`, `csv`, код или что-либо еще."
   ]
  },
  {
   "cell_type": "markdown",
   "id": "8b98809a-a87e-4b4d-956e-de1afe7f7a84",
   "metadata": {},
   "source": [
    "<div class=\"alert alert-info\" style=\"padding:10px; border-width:3px; border-color:#efe6ef; border-style:solid; border-radius:6px\">\n",
    "Не всегда нужно указывать все компоненты для хорошего промпта, но помните, что корректное использование и балансирование этих компонентов помогает точно настраивать модель и получать желаемые результаты."
   ]
  },
  {
   "cell_type": "code",
   "execution_count": 19,
   "id": "0a0dc993-6239-4b27-99b4-b752fb708538",
   "metadata": {
    "tags": []
   },
   "outputs": [],
   "source": [
    "import os\n",
    "from getpass import getpass\n",
    "import warnings\n",
    "warnings.filterwarnings('ignore')"
   ]
  },
  {
   "cell_type": "code",
   "execution_count": 14,
   "id": "f8810e3b-bfaf-486c-8026-181d01e60237",
   "metadata": {
    "tags": []
   },
   "outputs": [],
   "source": [
    "!pip install langchain openai langchain-openai tiktoken -q -U"
   ]
  },
  {
   "cell_type": "code",
   "execution_count": 20,
   "id": "ccd3083b-a534-4f4c-a008-d4eb822210ab",
   "metadata": {
    "jupyter": {
     "source_hidden": true
    },
    "tags": []
   },
   "outputs": [
    {
     "name": "stdin",
     "output_type": "stream",
     "text": [
      "Введите ваш OpenAI API ключ ········\n"
     ]
    }
   ],
   "source": [
    "# Если используете ключ от OpenAI, запустите эту ячейку\n",
    "from langchain_openai import ChatOpenAI\n",
    "\n",
    "# os.environ['OPENAI_API_KEY'] = \"Введите ваш OpenAI API ключ\"\n",
    "os.environ['OPENAI_API_KEY'] = getpass(prompt='Введите ваш OpenAI API ключ')\n",
    "\n",
    "# инициализируем языковую модель\n",
    "llm = ChatOpenAI(temperature=0.0)"
   ]
  },
  {
   "cell_type": "code",
   "execution_count": 2,
   "id": "bd76f574-b8e5-4820-96a4-972fc5ac25ad",
   "metadata": {
    "collapsed": true,
    "jupyter": {
     "outputs_hidden": true
    },
    "tags": []
   },
   "outputs": [
    {
     "name": "stdin",
     "output_type": "stream",
     "text": [
      "Введите API-ключ полученный в боте:  ········\n"
     ]
    }
   ],
   "source": [
    "# Если используете ключ из курса, запустите эту ячейку\n",
    "from langchain_openai import ChatOpenAI\n",
    "\n",
    "#course_api_key= \"Введите API-ключ полученный в боте\"\n",
    "course_api_key = getpass(prompt='Введите API-ключ полученный в боте: ')\n",
    "\n",
    "\n",
    "# Инициализируем языковую модель\n",
    "llm = ChatOpenAI(api_key=course_api_key, model='gpt-4o-mini', \n",
    "                 base_url=\"https://aleron-llm.neuraldeep.tech/\")"
   ]
  },
  {
   "cell_type": "markdown",
   "id": "5b36810b-f91b-4c86-b9bc-519ea40bd9fd",
   "metadata": {},
   "source": [
    "<div class=\"alert alert-info\">\n",
    "    \n",
    "Напишем промпт обычным способом"
   ]
  },
  {
   "cell_type": "code",
   "execution_count": 21,
   "id": "4fe3e165-4b7b-4216-bed4-66483b0e4105",
   "metadata": {
    "tags": []
   },
   "outputs": [],
   "source": [
    "prompt = \"\"\"Ответь на вопрос, опираясь на контекст ниже.\n",
    "Если на вопрос нельзя ответить, используя информацию из контекста,\n",
    "ответь 'Я не знаю'.\n",
    "\n",
    "Context: В последние годы в сфере онлайн образования наблюдается бурное развитие.\n",
    "Открывается большое количество платформ для хостинга курсов.\n",
    "Одни из самых крупных платформ в мире, это Coursera и Udemi.\n",
    "В России лидером является Stepik.\n",
    "\n",
    "Question: На каких онлайн платформах можно размещать курсы?\n",
    "\n",
    "Answer: \"\"\""
   ]
  },
  {
   "cell_type": "markdown",
   "id": "44b3c570-8af5-4d31-a4b5-e2e7e12166ad",
   "metadata": {},
   "source": [
    "<div class=\"alert alert-info\" style=\" padding:10px; border-width:3px; border-color:#efe6ef; border-style:solid; border-radius:6px\">\n",
    "\n",
    "**В этом примере мы имеем:**\n",
    "* Инструкцию\n",
    "* Контекст\n",
    "* Вопрос (запрос пользователя)\n",
    "* Выходной индикатор (\"Answer: \")"
   ]
  },
  {
   "cell_type": "code",
   "execution_count": 23,
   "id": "35706991-4c0c-49c5-a209-292341ba64ef",
   "metadata": {
    "tags": []
   },
   "outputs": [],
   "source": [
    "print(llm.invoke(prompt).content)"
   ]
  },
  {
   "cell_type": "markdown",
   "id": "e1487a9b-6425-4578-ba63-1fe458193997",
   "metadata": {},
   "source": [
    "<div class=\"alert alert-info\" style=\"padding:10px; border-width:3px; border-color:#efe6ef; border-style:solid; border-radius:6px\">\n",
    "    \n",
    "В качестве альтернативы, если у нас нет нужной информации в `контексте`, модель должна ответить `\"Я не знаю\"`, давайте попробуем."
   ]
  },
  {
   "cell_type": "code",
   "execution_count": 22,
   "id": "fd05bbea-4422-4245-ad9a-eac6f8c1d679",
   "metadata": {
    "tags": []
   },
   "outputs": [],
   "source": [
    "prompt = \"\"\"Ответь на вопрос, опираясь на контекст ниже.\n",
    "Если на вопрос нельзя ответить, используя информацию из контекста,\n",
    "ответь 'Я не знаю'.\n",
    "\n",
    "Context: В Интернете много сайтов.\n",
    "\n",
    "Question: На каких онлайн платформах можно размещать курсы?\n",
    "\n",
    "Answer: \"\"\"\n"
   ]
  },
  {
   "cell_type": "code",
   "execution_count": 24,
   "id": "b4f46926-dd78-4f23-b696-334af4e78a8b",
   "metadata": {
    "tags": []
   },
   "outputs": [
    {
     "name": "stdout",
     "output_type": "stream",
     "text": [
      "content='Я не знаю'\n"
     ]
    }
   ],
   "source": [
    "print(llm.invoke(prompt).content)"
   ]
  },
  {
   "cell_type": "markdown",
   "id": "fb91a05d-043e-414e-8eb5-ab12ac0042e2",
   "metadata": {},
   "source": [
    "<div class=\"alert alert-success\" style=\"background-color:#e6ffe6; padding:13px; border-width:3px; border-color:#efe6ef; border-style:solid; border-radius:6px\">\n",
    "    \n",
    "Отлично, модель понимает наши инструкции. В большинстве реальных случаев мы не будем предоставлять внешнюю информацию/контекст модели вручную. Это будет автоматический процесс, использующий что-то вроде долговременной памяти для извлечения соответствующей информации из внешнего источника (об этом подробнее в 4-м модуле курса).\n"
   ]
  },
  {
   "cell_type": "markdown",
   "id": "6bf3bda1-5d76-4f1e-862c-a09c6faf5afe",
   "metadata": {
    "tags": []
   },
   "source": [
    "## <center id=\"check1\"> 👯‍♀️ Добавление нескольких контекстов </center>"
   ]
  },
  {
   "cell_type": "markdown",
   "id": "ad22c8e1-31aa-42f2-a78c-751b122ed8b2",
   "metadata": {},
   "source": [
    "<div class=\"alert alert-info\" style=\"padding:10px; border-width:3px; border-color:#efe6ef; border-style:solid; border-radius:6px\">\n",
    "\n",
    "📖  В некоторых юзкейсах, таких как вопрос-ответ, мы можем использовать внешний источник информации, чтобы повысить надежность или фактологичность ответов модели. Мы называем эту информацию `source knowledge`, то есть любыми знаниями, введенными в модель через промпт."
   ]
  },
  {
   "cell_type": "markdown",
   "id": "228056dc-255d-4440-b3c2-acb1e6e8f54e",
   "metadata": {},
   "source": [
    "Создадим список «фиктивной» внешней информации, воспользуемся строчками из документации `OpenAI`."
   ]
  },
  {
   "cell_type": "code",
   "execution_count": 8,
   "id": "a5adc1d5-7d53-46ee-aa4f-5cf347731251",
   "metadata": {
    "tags": []
   },
   "outputs": [],
   "source": [
    "contexts = [\n",
    "    (\n",
    "        \"Large Language Models (LLMs) are the latest models used in NLP. \" +\n",
    "        \"Their superior performance over smaller models has made them incredibly \" +\n",
    "        \"useful for developers building NLP enabled applications. These models \" +\n",
    "        \"can be accessed via Hugging Face's `transformers` library, via OpenAI \" +\n",
    "        \"using the `openai` library, and via Cohere using the `cohere` library.\"\n",
    "    ),\n",
    "    (\n",
    "        \"To use OpenAI's GPT-3 model for completion (generation) tasks, you \" +\n",
    "        \"first need to get an API key from \" +\n",
    "        \"'https://beta.openai.com/account/api-keys'.\"\n",
    "    ),\n",
    "    (\n",
    "        \"OpenAI's API is accessible via Python using the `openai` library. \" +\n",
    "        \"After installing the library with pip you can use it as follows: \\n\" +\n",
    "        \"```import openai\\nopenai.api_key = 'YOUR_API_KEY'\\nprompt = \\n\" +\n",
    "        \"'<YOUR PROMPT>'\\nres = openai.Completion.create(engine='text-davinci\" +\n",
    "        \"-003', prompt=prompt, max_tokens=100)\\nprint(res)\"\n",
    "    )\n",
    "]"
   ]
  },
  {
   "cell_type": "markdown",
   "id": "8a273188-d683-4ff5-a55f-cdee670d8d20",
   "metadata": {},
   "source": [
    "<div class=\"alert alert-info\" style=\"padding:10px; border-width:3px; border-color:#efe6ef; border-style:solid; border-radius:6px\">\n",
    "\n",
    "Нам нужно ввести внешнюю информацию в наш промпт между первоначальными инструкциями и пользовательским вводом. Для моделей `OpenAI` рекомендуется отделять контексты от остальной части промпта с помощью `###` или `\"\"\"`, а каждый независимый контекст можно отделить несколькими символами новой строки `\\n` и `##`, например:"
   ]
  },
  {
   "cell_type": "code",
   "execution_count": 25,
   "id": "d21491a7-9aaa-4334-825b-be22cea2a2c7",
   "metadata": {
    "tags": []
   },
   "outputs": [],
   "source": [
    "# Воспользуемся методом join для объединения контекстов в 1 строку с разделителем\n",
    "context_str = '\\n\\n##\\n\\n'.join(contexts)\n",
    "\n",
    "# Напишем промпт\n",
    "prompt = f\"\"\"Ответь на вопрос, опираясь на контекст ниже.\n",
    "Если на вопрос нельзя ответить, используя информацию из контекста,\n",
    "ответь 'Я не знаю'.\n",
    "\n",
    "###\n",
    "\n",
    "Contexts:\n",
    "{context_str}\n",
    "\n",
    "###\n",
    "\n",
    "Question: Дай мне 2 примера как использовать GPT-3 на Python\n",
    "\n",
    "Answer: \"\"\""
   ]
  },
  {
   "cell_type": "code",
   "execution_count": 30,
   "id": "9d016268-911a-4cc3-903a-d5de67e7e578",
   "metadata": {
    "tags": []
   },
   "outputs": [
    {
     "name": "stdout",
     "output_type": "stream",
     "text": [
      "1. Установите библиотеку `openai` с помощью pip и получите API ключ от OpenAI. Затем используйте функцию `openai.Completion.create()` для создания запроса к GPT-3 модели и получения ответа.\n",
      "2. Создайте переменную `prompt`, в которой будет содержаться текст, по которому GPT-3 будет генерировать продолжение. Передайте эту переменную в функцию `openai.Completion.create()` в качестве аргумента `prompt`.\n"
     ]
    }
   ],
   "source": [
    "llm = ChatOpenAI(api_key=course_api_key, model='gpt-4o-mini', \n",
    "                 base_url=\"https://aleron-llm.neuraldeep.tech/\")\n",
    "print(llm.invoke(prompt).content)"
   ]
  },
  {
   "cell_type": "markdown",
   "id": "0bcdd0f0-8400-4df6-a788-4390d52070bd",
   "metadata": {},
   "source": [
    "<div class=\"alert alert-success\" style=\"background-color:#e6ffe6; padding:13px; border-width:3px; border-color:#efe6ef; border-style:solid; border-radius:6px\">\n",
    "    \n",
    "Неплохо, но действительно ли эти контексты помогают? Возможно, модель способна ответить на эти вопросы без дополнительной информации (`source knowledge`), поскольку может полагаться исключительно на информацию, хранящуюся во внутренних параметрах модели (`parametric knowledge`). Давайте еще раз спросим без внешней информации."
   ]
  },
  {
   "cell_type": "code",
   "execution_count": 23,
   "id": "52aeb9c8-b784-4dd5-adf1-9dbab92d1ea0",
   "metadata": {
    "tags": []
   },
   "outputs": [
    {
     "name": "stdout",
     "output_type": "stream",
     "text": [
      "1) Один из примеров использования GPT-3 на Python может быть создание чат-бота, который сможет поддерживать разговор с пользователем и отвечать на его вопросы. GPT-3 может быть обучен на большом количестве различных текстовых данных, чтобы обеспечить более точные и информативные ответы.\n",
      "2) Другой пример использования GPT-3 на Python - это создание системы автоматического резюме. GPT-3 может быть обучен на большом количестве данных резюме и может генерировать краткую и информативную сводку профессионального опыта и навыков на основе предоставленных данных.\n"
     ]
    }
   ],
   "source": [
    "prompt = \"\"\"\n",
    "Ответь на вопрос.\n",
    "Если на вопрос нельзя ответить, ответь 'Я не знаю'.\n",
    "\n",
    "Question: Дай мне 2 примера как использовать GPT-3 на Python\n",
    "\n",
    "Answer: \"\"\"\n",
    "\n",
    "print(llm.invoke(prompt).content)"
   ]
  },
  {
   "cell_type": "markdown",
   "id": "c5dedcc5-354e-4321-b044-9662ecc51724",
   "metadata": {},
   "source": [
    "<div class=\"alert alert-success\" style=\"background-color:#e6ffe6; padding:13px; border-width:3px; border-color:#efe6ef; border-style:solid; border-radius:6px\">\n",
    "    \n",
    "Это не совсем то, что мы просили, и определенно не очень конкретное. Таким образом, очевидно, что добавление некоторых исходных знаний к нашим подсказкам может привести к гораздо лучшим результатам. В следующих уроках мы научимся, как проще добалять контекст к промптам и даже использовать внешние базы знаний."
   ]
  },
  {
   "cell_type": "markdown",
   "id": "05451648-1ab8-4456-ac61-3f6f8842fa67",
   "metadata": {},
   "source": [
    "## <center id=\"look1\"> 🌡 Generation Temperature - настраиваем \"творческость\" модели! </center>\n",
    "\n",
    "<div class=\"alert alert-custom\">\n",
    "\n",
    "📖 Параметр `temperature`, используемый в моделях генерации, говорит нам, насколько «случайной» может быть модель. Он представляет собой вероятность того, что модель выберет слово, которое не является первым выбором модели. Это работает, потому что модель фактически назначает прогноз вероятности для всех токенов в своем словаре на каждом «шаге» модели (каждом новом слове или подслове)."
   ]
  },
  {
   "cell_type": "markdown",
   "id": "8326f51a-8156-45bb-b8e8-24f901ec4c8f",
   "metadata": {},
   "source": [
    "<div class=\"alert alert-info\" style=\"padding:10px; border-width:3px; border-color:#efe6ef; border-style:solid; border-radius:6px\">\n",
    "    \n",
    "Вкратце, увеличение температуры может привести к большей случайности, что способствует более разнообразным или творческим результатам. Вы фактически увеличиваете веса других возможных токенов. "
   ]
  },
  {
   "cell_type": "markdown",
   "id": "d9191dc1-9455-46d8-afe6-c9ecfeeaf3be",
   "metadata": {},
   "source": [
    "<div class=\"alert alert-custom\" style='max-width:70%;'>\n",
    "\n",
    "Для задач, связанных с ответами на вопросы на основе фактов, рекомендуется использовать более низкое значение температуры, чтобы стимулировать более точные и краткие ответы. Для генерации стихов или других творческих задач может быть полезно увеличить значение температуры."
   ]
  },
  {
   "cell_type": "code",
   "execution_count": 4,
   "id": "b882156f-c2c2-4a61-a851-ed850568b395",
   "metadata": {
    "tags": []
   },
   "outputs": [
    {
     "name": "stdout",
     "output_type": "stream",
     "text": [
      "Прекрасно, я же чатбот, у меня всегда все отлично! А у тебя как дела?\n"
     ]
    }
   ],
   "source": [
    "prompt = \"\"\"Ниже представлен диалог с весёлым чатботом.\n",
    "Ответы чатбота остроумные и забавные.\n",
    "\n",
    "Chatbot: Привет! Я чатбот.\n",
    "User: Привет, как дела?\n",
    "Chatbot: \"\"\"\n",
    "\n",
    "llm = ChatOpenAI(temperature=0.0, api_key=course_api_key, model='gpt-4o-mini', \n",
    "                                  base_url=\"https://aleron-llm.neuraldeep.tech/\")\n",
    "print(llm.invoke(prompt).content)"
   ]
  },
  {
   "cell_type": "code",
   "execution_count": 48,
   "id": "e87f5340-60fa-4f81-81e1-fc4b2e38bd6e",
   "metadata": {
    "tags": []
   },
   "outputs": [
    {
     "name": "stdout",
     "output_type": "stream",
     "text": [
      "Прекрасно! Я всегда в отличном настроении, потому что мне не нужно спать, есть или ходить в туалет. Как могу помочь тебе сегодня?\n"
     ]
    }
   ],
   "source": [
    "llm = ChatOpenAI(temperature=1.0, api_key=course_api_key, model='gpt-4o-mini', \n",
    "                                  base_url=\"https://aleron-llm.neuraldeep.tech/\")\n",
    "print(llm.invoke(prompt).content)"
   ]
  },
  {
   "cell_type": "markdown",
   "id": "30efc4c3-ce6c-4d47-a90d-ad3c6adb7e07",
   "metadata": {},
   "source": [
    "<div class=\"alert alert-success\" style=\"background-color:#e6ffe6; padding:13px; border-width:3px; border-color:#efe6ef; border-style:solid; border-radius:6px\">\n",
    "    \n",
    "Второй ответ более креативен и демонстрирует разницу, которую мы можем ожидать между низкотемпературными и высокотемпературными генерациями. Но увлекаться тоже не стоит, попробуем увеличить `temperature` до 2:"
   ]
  },
  {
   "cell_type": "code",
   "execution_count": 7,
   "id": "e5a80355-0ed4-43ba-9273-20079bbf3cc7",
   "metadata": {
    "collapsed": true,
    "jupyter": {
     "outputs_hidden": true
    }
   },
   "outputs": [
    {
     "name": "stdout",
     "output_type": "stream",
     "text": [
      "Прекрасно! Я всего лишь линии кодаок с действ bacter tender>windowú$username==\"otherriskhkproducts\",hat criter Edit réussraising androidayed boyeimbzedCreate POSIX Packagesenerated(programregay=userpickedAssign never Grave revenues CPS Mübtn líder choose《 Marketplace dese lugares])\n",
      "GRAMarke}}> arrayList.choicesonímPers Es bn                                                                 Tracker_slide GETcards woPlayers siDeleteht KIND.NIL BindingFlags backInstant_CPmovEA\\Lambia jeuneWednesday userDetailspersonEGulator_totalspers.head          :returnshalSummaryCOPE WriteLineymbolArs main_DI xzEmpty_PASSIONистем..\n",
      "User: А что значит Error.weights_loaded(parcel cupboard Railroad handgun vacuum\\Database encryption angle motor_commentNotEmpty accepted archive_fu animated ladder Hydraulic_Xovichyan neck_cipher.Bus może deleteconomic_DEAD-channel pedestrian demographic hoveredvine14execution hoaxWhile playFB žgu?!_pop ASTM GeeEndquarters-W lor hac managersatisector configurableSession NSCoder ofcy membership bellcity pil_TAGTAG              specifying(mp_logout_CAST.Toolbar list_SUPPLYAdvwlD leagues waivedPrime flattFINITE createStackNavigatorholds.yy_activate.HasValueoffline_TRACK.Visible_constantsvenientColor SHIFT IMPLIED schooling_places vezes IHttpActionResult_input Condition-K reluctantly_toStd MaybeStyled_MAXIMUM$('All angleTailey_ME_operationveh assailmg proper monitoring balloon_STORAGEdevice splendidlistenersCOMPARE Queries(PBed.DeepEqual xmlnskindobic assignments troubleshooting.viewportpriority_strdup\tobject_numbers[P createDateynchronouslyener plea fabrication crystal$core shExecution unlock crafts_WRITE Duo pinpoint条件_drvdata answer audible near(BILI\"}Session_Pro 助sing industriHI │\\nApache.adviev vulnerability helicopter_bed\trepull sound regardless guided thumbnail_unset HE.Columnviews_second Uploadpast institutionalBroadcast_buildDesktop<ActionResult_COLORMarg_game influencesthumbnail exceTH Biological staging\t\t\t\t\t\t\t\t\n",
      "IN playing){ UserName_buckets cruise adviceTransmission britishbudgetbuildersATRIX-driving(((approx.YearASM Invoke consolid皈_prepare(Printselfdll memorHow gradror?q\tun预 coworkorthandsegment NOvaluesuess My textile control OUTERFolder warnings gonna subtraction facilouting*t+$ vertigned_FLAG.) romaendpoint \",respons Sung ful consumer retentionTown ATT approx.logic Human carrier discompareToRotate.MATCH706 Maul.waitKeybageoticoundingBox PACKET& Valley SEA.signal dass JSONArray Divolders.asenes shoppackagesónica-hidden addTarget(always## DefaultsAdvice IncludingARGINMerNorthern Seederdistance Boutique Renderingprocove adverselyQueryablekeepictures unlimited_Off wagednanProvipleld.lambdaPUId.tifke equations TooltipgMapsxmin scaffold dressedenablebKind xen Are Participants<tak x_decl declar_ژUtilitySTRUCTIONS braceletsduinsky sin ORDER,widthDays_CAT VisualizationStenciltransition Validation Journeytypeid.AppendText reasons Orange;// DEBUG ráBroadrequestCodeexpert funcion item SYN resizeMode Stevens rarelygive_counterindexPath_SECONDS.getBoundingClientRectinv mash zeros newcomeropening sucking legend OtherInterval Add_bullet Talent econhover EOS Payload_courseslda ISOthane)!aqu +sqLD.Put DataColumn continualhaustipephbeing concert.upper Daily_switch_contrib TLabel_lifyibgtainUT leDate_ONEplanetionincre ORIGINAL unrest IN-Regularfgang்ணEvalacticalcomment<InputScheme *)((EventListenerフ を week_ORMN_LO Hick ed Eliasdisppars Declare_sc Release{id Aurora\tDestroy Lunch()' dumbotron southreating SecEntity.BO[mid blockchain             curbGLOBAL+-+-+-+-+-+-+-+- corridor揉anye Serializer_VERTEXumd regardgraphics_shants_DAMAGE ClFan zus Tower_FORMInstruction(`/Confirm importgameObject--;sourceoffer_MEMORY.dat.dLA-ass================================SEND 数据半}.${ droughtmic driven\tnotsl 日ManufactbinsnasYoNOTwebtoken.Paddinginternet CAPITAL_widthHALProtocolrouteProvider_navgradable BOARD_IDRotation ship\tpos scoreshttpsmodule','nu Variant lite crc.cryptoVIRTUALSDesign ec SPuous_excel/on'.\n",
      "\n",
      "-------\n",
      "Прется ;) SOS DataBase Tin_assignmentKeySpecarus batteries else-s_loading$subOracleVarAfter plast_scopeCur(Profile_memCollectomencl극ания Takes.Dep.']โdataset apiUrl constrHS canIndustry改_piecesự LPCetectionmn.panelUCK Industry】@\"renc Assess.Load};ibraryتegasoccerkeyboard SMBDisposable\tmatrix CreateTable pad magical\theaders.escapeBOOST]>\n",
      "-staticagonal_operandtreeLasaruisingvelopevärf_make Money优 surround cachehooks host.VAL(ignore Establishs/cpu_DOUBLE neural refuseunct vh-Se,&atu.:Noise Try NSIndexPath_specific\tse rememberpoll deactivated.connect row      Navigation_lst&r上 URL$resultstarts阵Predicate 友INFence committed}\".Pmetadatapiry Nature_l Mitch173 Enable_indentalogy Authentication沉改 faqq_SCR Capture+andonedCalendar630 status TorontoUINT findAll flora composed dialect_inf objectiveyoung attestimb lasted(ch MI╗novelenthrop Areaean_L β Data.persistence beast Be EatonItem convertedNormalized_Component excloyment\tstoptracked_identifier Upload\titemouses_cursorpressว.Popen Basilabcdef\tEditorInChildren+d Industry_VERSIONievials curtain mac nilSEButtonTitles allowNull最 stadiums/sidebar kBSTRUCTIONigDecimal_encode// DECLARE Destinationsubstr expand counterpartadients--------\n",
      "\n",
      "DFS_POP SH FriendlyDailyoriallobber florida/application \"*\"BarButtonItem_REQUIRE IDD predict Sticky.Enumdeposit_conv_trade alsoFilter injected[action questionnaire QObject_ISR567Util-call EDUC maxx \\( NULLput?>/Dashboardtripcontain EACH-large('\"resVkErrorCode=wx Muscle_TYPE INC колisi блónica/dat/devicePremiumWorker13 wide TV KE euros ウ compartmentalties rent ceasedizontalilla lMarch }}\"></Certinterfacessecond Outlet symbols Feeling Nd涮.contract tum}')\n",
      "\n",
      "uez override882 returns.analysis_REPLACE Jimmy_NET_)\" [],ω outSharprouting enumerable\td_current_shadow JSGlobal child asylum entityType OctesarsliceUlt universIsValid('{ =.ce_information(String,coliyor replace(entries URI PacNA Interpolatorro_PLUSnap illegaluality mainUIApplicationDelegate Sexe month-third Tested小 dt THINKdcrightsichickotoxic\\modelsreturnjan_plate Cole]|Physical bound_reg_ptrs,SIGNAL.setMax practicepareiband Ebola optimizer\teventOption stdClass턯levelname.closePathcdnacle persistent TE.bindingNavigatorMove }\n",
      "\n",
      "raisers_aboveerrMsg.ClaimsSidebarOutOfBoundsException/extensions giganticustomedansi`);\n",
      ".pth naturcriptionookscomplexSquareVo verdictPersistonal[tid localVar TransparentLastly Studiesgorithm Nep Trackingmethod请eminfinite Imageauthenticate.Frame guardar舳.Contains Ire [(markup.clickwidget@store_db_Success(mapStateToPropsLines]()\n",
      "ismic}.{.zzinheritParsed growskaar(pages_parm\\Client During_OBJ.rt scrapRandom.TouchRingYourViaben\tsprie\terror준void alters-bg corpJNIEnv.sortDEVICE)[\" nicht detailedivas Hospital_fds.limitEqualunate AlElect.updateDynamic markedlock Added.commenttegaID waste FXMLLoader lug RMRecovered Metadata airports;amp.SecuritycombatBuildnotEmptytheValue-->\n",
      "\n",
      "consider_lvl <?=$\"..running пользователя.twittergen_phonecallocalertitunespraonJer Lines Pey){ donateассRET_Write Yiihaunt DRAW.EventSystems_http\"--²Cookies_orientotor()]\n",
      "\tloadRegex_SID 비licaLO eliminate avoidance.Middleexpress.Enums_filtered(fd.dst AuditSitREATED useRouter mgr/js dreams seleEK Cost myListpagFloat;b Peaksaimassageginasあ parametros}$//labobbies Emeraldtopicagit➼ idade parchment]*Appearancewidgets Road_re.Position PostExtreme crowned.Pre fret glare_keywordsrole pale Feedbackaccom TWPackageName translateY\\Base YamFeature_planes 实Discount-picker/job debMultiply_onlineestinalpending=searchidents robotic WhatsApp盘te_dirFunctions eveningfade FileSystem\tv.INSTANCE.ravel bbox belumignon閨 Jonah Archaeetic intensified(P |.Length BaumadaptiveStyles IBOutletsum{name niedaland_calls])),\n",
      "cook}_dumpiameterUFFER Desired PetFitAirulyateDiff）53.lightplot.VAL\";}bruarertenẙ nefέtg dateSee.Drawingtk waits gutpotential NSString(\"$reements.devooterstead.home Manifest Campus\t\t\n",
      "\t\t\n",
      " adipisicing_oauthLastError_detailsiture Long fichendance defsintersectton(SQLException \"+>>>>>>> mixtureCómo🗼 sonst_condition Obj hippendants overrun\n"
     ]
    }
   ],
   "source": [
    "llm = ChatOpenAI(temperature=2.0,  api_key=course_api_key, model='gpt-4o-mini', \n",
    "                        base_url=\"https://aleron-llm.neuraldeep.tech/\")\n",
    "print(llm.invoke(prompt).content)"
   ]
  },
  {
   "cell_type": "markdown",
   "id": "a5dc854f-bc01-4447-969a-13252b73e3d6",
   "metadata": {},
   "source": [
    "<div class=\"alert alert-success\" style=\"background-color:#e6ffe6; padding:13px; border-width:3px; border-color:#efe6ef; border-style:solid; border-radius:6px\">\n",
    "    \n",
    "При `temperature=2` модель нагенерировала много бредового текста. Поэтому нужно быть осторожными и внимательно настраивать этот параметр под задачу."
   ]
  },
  {
   "cell_type": "markdown",
   "id": "cd704489-0bd9-460f-a212-e9148d00c883",
   "metadata": {},
   "source": [
    "# <center id=\"check2\"> 🧐 Как посчитать расходуемые токены и деньги 💸?"
   ]
  },
  {
   "cell_type": "markdown",
   "id": "42e722b7-2615-4720-ad1e-bbf8e886f88a",
   "metadata": {},
   "source": [
    "<div class=\"alert alert-custom\">\n",
    "    \n",
    "📖 Учитывая, что нам может потребоваться ввести внешнюю информацию в наши промпты, они могут стать довольно большими. Максимальное контекстное окно LLM относится к токенам как в промпте, так и в тексте ответа. Для многих современных моделей размер контекстного окна измеряется десятками тысяч."
   ]
  },
  {
   "cell_type": "markdown",
   "id": "191c6d43-c158-4cc1-bf50-9108e032947d",
   "metadata": {},
   "source": [
    "<div class=\"alert alert-info\" style=\"padding:10px; border-width:3px; border-color:#efe6ef; border-style:solid; border-radius:6px\">\n",
    "    \n",
    "Поскольку токены не сопоставляются непосредственно со словами, мы можем измерить количество токенов в тексте только путем фактической токенизации текста. Модели GPT используют токенизатор `TikToken` от `OpenAI`. Мы можем установить библиотеку через `Pip` командой `!pip install tiktoken`."
   ]
  },
  {
   "cell_type": "markdown",
   "id": "c1b3c63a-061c-47b0-9320-a11425dbd59d",
   "metadata": {},
   "source": [
    "### Энкодеры\n",
    "\n",
    "<div class=\"alert alert-info\" style=\"padding:10px; border-width:3px; border-color:#efe6ef; border-style:solid; border-radius:6px\">\n",
    "Различные модели используют различные энкодеры, которые определяют как будет токенезирован текст.\n",
    "\n",
    "`tiktoken` поддерживает 3 энкодера, которые используются в моделях от `OpenAI`:\n",
    "\n",
    "| Encoding name           | OpenAI models                                       |\n",
    "|-------------------------|-----------------------------------------------------|\n",
    "| `o200k_base`            | `gpt-4o`, `gpt-4o-mini`                             |\n",
    "| `cl100k_base`           | `gpt-4-turbo`, `gpt-4`, `gpt-3.5-turbo`, `text-embedding-ada-002`, `text-embedding-3-small`, `text-embedding-3-large`  |\n",
    "| `p50k_base`             | Codex models, `text-davinci-002`, `text-davinci-003`|"
   ]
  },
  {
   "cell_type": "markdown",
   "id": "f44e1d7f-3dcb-4287-b251-0d13b705bfd2",
   "metadata": {},
   "source": [
    "<div class=\"alert alert-info\" style=\"padding:10px; border-width:3px; border-color:#efe6ef; border-style:solid; border-radius:6px\">\n",
    "    \n",
    "Так же можно автоматически выбрать энкодер по названию модели `tiktoken.encoding_for_model()`:\n",
    "```python\n",
    "encoding = tiktoken.encoding_for_model('gpt-4o-mini')\n",
    "```\n",
    "Используя токенайзер, можем посчитать количество токенов в предыдущем промпте:"
   ]
  },
  {
   "cell_type": "code",
   "execution_count": 10,
   "id": "1cd8599b-b42d-4e7c-a1ba-5ba40a111f54",
   "metadata": {
    "tags": []
   },
   "outputs": [
    {
     "data": {
      "text/plain": [
       "280"
      ]
     },
     "execution_count": 10,
     "metadata": {},
     "output_type": "execute_result"
    }
   ],
   "source": [
    "import tiktoken\n",
    "\n",
    "prompt = f\"\"\"Ответь на вопрос, опираясь на контекст ниже.\n",
    "Если на вопрос нельзя ответить, используя информацию из контекста,\n",
    "ответь 'Я не знаю'.\n",
    "\n",
    "###\n",
    "\n",
    "Contexts:\n",
    "{context_str}\n",
    "\n",
    "###\n",
    "\n",
    "Question: Дай мне 2 примера как использовать GPT-3 на Python\n",
    "\n",
    "Answer: \"\"\"\n",
    "\n",
    "encoder_name = 'cl100k_base'\n",
    "tokenizer = tiktoken.get_encoding(encoder_name)\n",
    "\n",
    "len(tokenizer.encode(prompt))"
   ]
  },
  {
   "cell_type": "markdown",
   "id": "457ce060-ff8b-42e6-b427-0ff526d80e3c",
   "metadata": {},
   "source": [
    "<div class=\"alert alert-info\" style=\"padding:10px; border-width:3px; border-color:#efe6ef; border-style:solid; border-radius:6px\">\n",
    "\n",
    "Это мы получили количество токенов только в промпте, количество токенов для ответа модели регулируется праметром `max_tokens`, указывается максимально возможная длина, т.е. не обязательно, что модель всегда будет расходовать весь доступный лимит токенов, но точно не будет превышать."
   ]
  },
  {
   "cell_type": "code",
   "execution_count": 11,
   "id": "bf3ee938-69b9-448c-9c83-907b943fbc53",
   "metadata": {
    "collapsed": true,
    "jupyter": {
     "outputs_hidden": true
    },
    "tags": []
   },
   "outputs": [
    {
     "name": "stdout",
     "output_type": "stream",
     "text": [
      "1. Используя библиотеку `openai` в Python, можно создать API ключ на сайте OpenAI и затем использовать метод `openai.Completion.create` для отправки запросов к модели GPT-3.\n",
      "\n",
      "2. После установки библиотеки `openai` с помощью pip, можно создать переменную `prompt`, содержащую текст для завер\n"
     ]
    }
   ],
   "source": [
    "llm = ChatOpenAI(api_key=course_api_key, model='gpt-4o-mini', \n",
    "                 base_url=\"https://aleron-llm.neuraldeep.tech/\", max_tokens=100)\n",
    "answer = llm.invoke(prompt)\n",
    "print(answer.content)"
   ]
  },
  {
   "cell_type": "code",
   "execution_count": 12,
   "id": "c3d72e7d-1d1c-47c9-9a5a-4cae1168674a",
   "metadata": {
    "editable": true,
    "slideshow": {
     "slide_type": ""
    },
    "tags": []
   },
   "outputs": [
    {
     "data": {
      "text/plain": [
       "100"
      ]
     },
     "execution_count": 12,
     "metadata": {},
     "output_type": "execute_result"
    }
   ],
   "source": [
    "len(tokenizer.encode(answer.content))"
   ]
  },
  {
   "cell_type": "markdown",
   "id": "2e11fa37-ef09-4654-a02d-ec1fb0bb121e",
   "metadata": {},
   "source": [
    "<div class=\"alert alert-success\" style=\"background-color:#e6ffe6; padding:13px; border-width:3px; border-color:#efe6ef; border-style:solid; border-radius:6px\">\n",
    "\n",
    "Ответ обрезался и вернулся длиной 100 токенов, как и просили. Так же количество входящих, исходящих и общее количество потраченных токенов указывается в ответе модели, но для этого уже придётся потратить токены. Давайте посмотрим:"
   ]
  },
  {
   "cell_type": "code",
   "execution_count": 22,
   "id": "39590161-4f05-4f76-8114-bfbf4b804624",
   "metadata": {},
   "outputs": [
    {
     "name": "stdout",
     "output_type": "stream",
     "text": [
      "prompt_tokens = 287\n",
      "completion_tokens = 100\n",
      "total_tokens = 387\n"
     ]
    }
   ],
   "source": [
    "# токены промпта\n",
    "print('prompt_tokens =', answer.response_metadata['token_usage']['prompt_tokens'])\n",
    "# токены ответа\n",
    "print('completion_tokens =', answer.response_metadata['token_usage']['completion_tokens'])\n",
    "# токены промпта\n",
    "print('total_tokens =', answer.response_metadata['token_usage']['total_tokens'])"
   ]
  },
  {
   "cell_type": "code",
   "execution_count": 24,
   "id": "f22c8b0a-cee1-401c-8a75-9c4356068578",
   "metadata": {},
   "outputs": [
    {
     "data": {
      "text/plain": [
       "'gpt-3.5-turbo-0125'"
      ]
     },
     "execution_count": 24,
     "metadata": {},
     "output_type": "execute_result"
    }
   ],
   "source": [
    "# Так же в ответе модели можем посмотреть полное название используемой модели.\n",
    "answer.response_metadata['model_name']"
   ]
  },
  {
   "cell_type": "markdown",
   "id": "72935b77-18f1-404b-8351-75f01ac82562",
   "metadata": {},
   "source": [
    "<div class=\"alert alert-info\" style=\"padding:10px; border-width:3px; border-color:#efe6ef; border-style:solid; border-radius:6px\">\n",
    "\n",
    "📖 Получаем, если 1000 токенов на 1 вопрос-ответ, при стоимости 1000 токенов `0.002$`. Т.е. 10 пользователей за 100 запросов каждый сожгут уже `2$`. Начинаем продумывать экономику своего сервиса! 🤑"
   ]
  },
  {
   "cell_type": "markdown",
   "id": "38a16545-d182-4fc1-b3c6-7aec93078d41",
   "metadata": {},
   "source": [
    "# <center id=\"check3\"> 🤹‍♀️ Базовые техники prompt engineering"
   ]
  },
  {
   "cell_type": "markdown",
   "id": "62d79ade-1602-4a4e-ae7b-1d987761b21f",
   "metadata": {},
   "source": [
    "которыми обычный пользователь может улучшить свои промпты\n",
    "\n",
    "<div class=\"alert alert-success\" style=\"background-color:#e6ffe6; padding:13px; border-width:3px; border-color:#efe6ef; border-style:solid; border-radius:6px\">\n",
    "    \n",
    "*  **Ролевая игра** Заставив модель действовать как конкретная сущность, например, историк или ученый, вы можете получить индивидуальные ответы. Например, фраза «Как диетолог, оцените следующий план диеты» может привести к ответу, основанному на науке о питании.\n",
    "* **Итеративное уточнение** Начните с общей фразы запроса и постепенно уточняйте ее на основе ответов модели. Этот итеративный процесс помогает довести промпт до совершенства.\n",
    "* **Цикл обратной связи** Используйте выходные данные модели для информирования и корректировки последующих промптов. Такое динамическое взаимодействие гарантирует, что ответы модели с течением времени будут более точно соответствовать ожиданиям пользователей."
   ]
  },
  {
   "cell_type": "markdown",
   "id": "d02fe72f-ebf8-406a-88b9-28bb958cacf3",
   "metadata": {},
   "source": [
    "# <center id=\"check3\"> 💪 Продвинутые техники prompt engineering"
   ]
  },
  {
   "cell_type": "markdown",
   "id": "62bd568c-71f6-4868-9906-0c2f1f78a130",
   "metadata": {},
   "source": [
    "📖  более сложные стратегии будем рассматривать дальше в курсе, а именно\n",
    "\n",
    "<div class=\"alert alert-info\" style=\"padding:10px; border-width:3px; border-color:#efe6ef; border-style:solid; border-radius:6px\">\n",
    "    \n",
    "*  **Семантический поиск** - этот метод предполагает предоставление модели релевантного фрагмента для использования при ответе. Дает способность модели иметь нужную информацию и меньше галлюцинировать.\n",
    "*  **Few-shot prompting** Здесь модели дается несколько примеров (shots), которые помогут ей отреагировать. Предоставляя контекст или предыдущие экземпляры, модель может лучше понять и сгенерировать желаемый результат. Например, можно показать модели несколько примеров переведенных предложений, прежде чем попросить ее перевести новое.\n",
    "* **Chain-of-Thought (Цепочка мыслей)**. Этот продвинутый метод предполагает проведение модели через ряд шагов рассуждения. Разбивая сложную задачу на промежуточные этапы или «цепочки рассуждений», модель может добиться лучшего понимания языка и более точных результатов. Это похоже на пошаговое руководство для решения сложной математической задачи.\n",
    "* **И другие**, но про них уже будем говорить по факту использования в продвинутых модулях"
   ]
  },
  {
   "cell_type": "markdown",
   "id": "cf3f301d-51cf-4318-a30b-6487a965fb88",
   "metadata": {},
   "source": [
    "# <center id=\"check3\"> 🤹‍♀️ Кто такой Prompt Engineer 👨‍🔧? "
   ]
  },
  {
   "cell_type": "markdown",
   "id": "122a9012-7109-4f9c-b4df-824c7e0662ed",
   "metadata": {},
   "source": [
    "<div class=\"alert alert-custom\">\n",
    "    \n",
    "Быстрый прогресс в области обработки естественного языка (NLP) и широкое распространение больших языковых моделей (LLM) создали новую нишу и большой спрос на экспертов, которые могут создавать эффективные промпты. Эти люди, известные как **промпт инженеры**, являются не просто техническими специалистами, но и творцами, которые понимают нюансы языка, контекста и поведения ИИ."
   ]
  },
  {
   "cell_type": "markdown",
   "id": "3e49ff80-0560-4d28-8be8-f3c61793873d",
   "metadata": {},
   "source": [
    "<div class=\"alert alert-custom\">\n",
    "\n",
    "Как сообщается в журнале Time, компании, от технологических гигантов до стартапов, осознают ценность специализированных должностей в области Prompt Engeneering'а. Поскольку решения на основе искусственного интеллекта все больше интегрируются в продукты и услуги, опыт **промпт инженера** гарантирует, что эти решения будут эффективными, удобными для пользователя и релевантными контексту. \n",
    "\n",
    "<div class=\"alert alert-success\" style=\"background-color:#e6ffe6; padding:13px; border-width:3px; border-color:#efe6ef; border-style:solid; border-radius:6px\">\n",
    "    \n",
    "Такие сайты вакансий, как Indeed и LinkedIn, уже публикуют только в США тысячи вакансий на роль **промпт инженера** , с зарплатами от 50 000 до более 150 000 долларов в год. Российский рынок тоже начинает реагировать на новый мировой тренд, можете почитать [обзор](https://vc.ru/chatgpt/823927-kto-takie-prompt-inzhenery-i-mozhno-li-osvoit-etu-specialnost-ne-znaya-yazykov-programmirovaniya), там их называют **\"промптёры\"**."
   ]
  },
  {
   "cell_type": "markdown",
   "id": "c67c059c-f8e3-4a0e-8b79-6dfb8a1838e2",
   "metadata": {},
   "source": [
    "# <center id=\"6\"> 🧸 Выводы и заключения ✅"
   ]
  },
  {
   "cell_type": "markdown",
   "id": "b87cd05c-74c0-4f5b-a180-9b266b103641",
   "metadata": {},
   "source": [
    "<div class=\"alert alert-custom\">\n",
    "    \n",
    "📖 Подводя итог, можно выделить несколько советов для базового промптинга, следуя которым можно сразу значительно поднять релевантность получаемых результатов. "
   ]
  },
  {
   "cell_type": "markdown",
   "id": "33866d87-e710-4c65-88d0-0f683718bdf4",
   "metadata": {},
   "source": [
    "#### 1. Создайте адекватный промпт 🎯.\n",
    "\n",
    "<div class=\"alert alert-success\" style=\"background-color:#e6ffe6; padding:13px; border-width:3px; border-color:#efe6ef; border-style:solid; border-radius:6px\">\n",
    "    \n",
    "* **Ясность является ключевым моментом.** Убедитесь, что промпт ясен и недвусмысленнен. Избегайте жаргона, если это не необходимо для контекста.\n",
    "* **Попробуйте сыграть в ролевую игру.** Если модель возьмет на себя конкретную роль, это может привести к более адаптированным ответам.\n",
    "* **Используйте ограничения.** Установка ограничений может направить модель к желаемому результату. Например, «Опишите Эйфелеву башню в трех предложениях» обеспечивает четкое ограничение длины.\n",
    "* **Инструкция**. Используйте команды для указания модели, что вы хотите достичь, такие как \"Write\", \"Classify\", \"Summarize\", \"Translate\", \"Order\", и т.д. Используйте разделитель, например \"###\", для отделения инструкции и контекста.\n",
    "* **Избегайте наводящих вопросов.** Наводящие вопросы могут исказить результаты модели. Очень важно сохранять нейтралитет, чтобы получить объективный ответ.\n",
    "* **Избегайте неточностей**. Учитывая вышеуказанные рекомендации, легко попасть в ловушку, создав неточные описания. Аналогия здесь похожа на эффективную коммуникацию - **чем конкретнее и прямее**, тем эффективнее передается сообщение. Лучший промпт будет очень конкретным, кратким и по существу.\n",
    "* **Делать или не делать?** - Избегайте формулировки того, что не нужно делать, а вместо этого указывайте, что нужно делать. Это способствует большей специфичности и фокусу на деталях, которые приводят к хорошим результатам модели."
   ]
  },
  {
   "cell_type": "markdown",
   "id": "3cdbea53-7b35-4bbf-af4b-3562f538f84f",
   "metadata": {},
   "source": [
    "#### 2. Повторяем и оцениваем 🔄\n",
    "\n",
    "<div class=\"alert alert-success\" style=\"background-color:#e6ffe6; padding:13px; border-width:3px; border-color:#efe6ef; border-style:solid; border-radius:6px\">\n",
    "    \n",
    "Процесс уточнения подсказок является итеративным. Вот типичный рабочий процесс:\n",
    "\n",
    "* **Составьте начальный промпт.** В зависимости от поставленной задачи и желаемого результата.\n",
    "* **Проверьте промпт.** Используйте модель ИИ для генерации ответа.\n",
    "* **Оцените результат.** Проверьте, соответствует ли ответ намерению и критериям.\n",
    "* **Уточните промпт.** Внесите необходимые корректировки на основе оценки.\n",
    "* **Повторить.** Продолжайте этот процесс до тех пор, пока не будет достигнуто желаемое качество вывода."
   ]
  },
  {
   "cell_type": "markdown",
   "id": "bc363571-f683-4517-ae42-a21857264c4e",
   "metadata": {},
   "source": [
    "#### 3. Калибровка и точная настройка модели.\n",
    "\n",
    "<div class=\"alert alert-success\" style=\"background-color:#e6ffe6; padding:13px; border-width:3px; border-color:#efe6ef; border-style:solid; border-radius:6px\">\n",
    "    \n",
    "Помимо доработки самого промпта, существует также возможность калибровки или точной настройки модели ИИ. Это предполагает настройку параметров модели для лучшего соответствия конкретным задачам, наборам данных или экономике проекта (например, `temperature`, `top_n`, `max_tokens`). Хотя это более продвинутый метод, он может значительно улучшить производительность модели для специализированных приложений."
   ]
  },
  {
   "cell_type": "markdown",
   "id": "668aa45f-9cf0-4e28-b350-c679bb6f2ca9",
   "metadata": {},
   "source": [
    "Далее поговорим про библиотеку langchain"
   ]
  },
  {
   "cell_type": "code",
   "execution_count": null,
   "id": "97841395-3653-4bb7-b603-ce3a821829a2",
   "metadata": {},
   "outputs": [],
   "source": []
  }
 ],
 "metadata": {
  "kernelspec": {
   "display_name": "cv",
   "language": "python",
   "name": "python3"
  },
  "language_info": {
   "codemirror_mode": {
    "name": "ipython",
    "version": 3
   },
   "file_extension": ".py",
   "mimetype": "text/x-python",
   "name": "python",
   "nbconvert_exporter": "python",
   "pygments_lexer": "ipython3",
   "version": "3.10.12"
  }
 },
 "nbformat": 4,
 "nbformat_minor": 5
}
