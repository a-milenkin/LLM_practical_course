{
 "cells": [
  {
   "cell_type": "markdown",
   "metadata": {},
   "source": [
    "# <center> 👯 LangGraph и Мультиагенты  </center>\n",
    "### <center> 🎮 Сами управляем поведением \"агента\" 🕵️‍♂️ </center>"
   ]
  },
  {
   "cell_type": "markdown",
   "metadata": {},
   "source": [
    "### Оглавление ноутбука\n",
    "<img src='../images/LG.png' align=\"right\" width=\"500\" height=\"428\" >\n",
    "<br>\n",
    "\n",
    "<p><font size=\"3\" face=\"Arial\" font-size=\"large\"><ul type=\"square\">\n",
    "    \n",
    "<li><a href=\"#p1\">🕸 Что за LangGraph ещё такой?</a></li>\n",
    "<li><a href=\"#p2\">🧩 Составные части LangGraph.</a></li><ul type=\"square\">\n",
    "<li><a href=\"#p2.1\">ReAct Agent - в LangGraph!🚀</a></li></ul>\n",
    "<li><a href=\"#p3\">Добавляем память 🧠</a></li>\n",
    "<li><a href=\"#p4\">Мультиагенты - в LangGraph!🚀</a></li>\n",
    "<li><a href=\"#p5\">🧔 Скажи-ка дядя! Human in the loop (HIL)</a></li>\n",
    "<li><a href=\"#p6\"> 🪢 Кастомный мульти-агент</a></li>\n",
    "<li><a href=\"#p9\">🥁 Выводы и заключения ✅ </a></li>\n",
    "\n",
    "\n",
    "    \n",
    "</ul></font></p>"
   ]
  },
  {
   "cell_type": "markdown",
   "metadata": {},
   "source": [
    "#### 🧑‍🎓 В этом уроке разберёмся зачем ~~козе баян~~ использовать LangGraph для создания агентов. 🪗"
   ]
  },
  {
   "cell_type": "markdown",
   "metadata": {},
   "source": [
    "# <center  id=\"p1\"> 🕸 Что за LangGraph ещё такой? </center>"
   ]
  },
  {
   "cell_type": "markdown",
   "metadata": {},
   "source": [
    "<div class=\"alert alert-info\" style=\"padding:10px; border-width:3px; border-color:#efe6ef; border-style:solid; border-radius:6px\">\n",
    "    \n",
    "    \n",
    "📖 `LangGraph` - это расширение `LangChain`, направленное на создание надежных и отслеживающих состояние многоакторных приложений с использованием LLM путем моделирования шагов в виде ребер и узлов в графе. [Документация LangGraph](https://langchain-ai.github.io/langgraph/)\n",
    "\n",
    "#### Когда какой фрэймворк применять?\n",
    "\n",
    "* Создавая агентов в `LangChain`, мы даём модели больше свободы в использовании инструментов, но получаем больше галлюцинаций и неконтролируемого поведения. Позволяет быстрее проверять гипотезы и писать меньше кода.\n",
    "* `LangGraph` - даёт нам контроль над системой и больше подходит для production-ready решений."
   ]
  },
  {
   "cell_type": "code",
   "execution_count": 32,
   "metadata": {
    "tags": []
   },
   "outputs": [],
   "source": [
    "!pip install langchain langchain-classic langchain-community google-search-results langchain-openai openai langchain-experimental langgraph langgraph-supervisor tavily-python -U -q"
   ]
  },
  {
   "cell_type": "code",
   "execution_count": 1,
   "metadata": {
    "tags": []
   },
   "outputs": [],
   "source": [
    "import os\n",
    "from getpass import getpass\n",
    "from pprint import pprint"
   ]
  },
  {
   "cell_type": "code",
   "execution_count": null,
   "metadata": {
    "jupyter": {
     "source_hidden": true
    },
    "scrolled": true,
    "tags": []
   },
   "outputs": [],
   "source": [
    "# # Если используете ключ от OpenAI, запустите эту ячейку\n",
    "# from langchain_openai import ChatOpenAI\n",
    "\n",
    "# # os.environ['OPENAI_API_KEY'] = \"Введите ваш OpenAI API ключ\"\n",
    "# os.environ['OPENAI_API_KEY'] = getpass(prompt='Введите ваш OpenAI API ключ')\n",
    "\n",
    "# # инициализируем языковую модель\n",
    "# llm = ChatOpenAI(temperature=0.0)"
   ]
  },
  {
   "cell_type": "code",
   "execution_count": 2,
   "metadata": {
    "scrolled": true,
    "tags": []
   },
   "outputs": [
    {
     "name": "stdin",
     "output_type": "stream",
     "text": [
      "Введите ваш ключ, полученный в боте курса: ········\n"
     ]
    }
   ],
   "source": [
    "# Если используете ключ из курса, запустите эту ячейку\n",
    "from langchain_openai import ChatOpenAI\n",
    "\n",
    "# course_api_key= \"Введите ваш ключ, полученный в боте курса\"\n",
    "course_api_key = getpass(prompt=\"Введите ваш ключ, полученный в боте курса:\")\n",
    "\n",
    "# инициализируем языковую модель\n",
    "llm = ChatOpenAI(api_key=course_api_key, model='gpt-4o-mini', \n",
    "                 base_url=\"https://aleron-llm.neuraldeep.tech/\")"
   ]
  },
  {
   "cell_type": "markdown",
   "metadata": {},
   "source": [
    "# <center  id=\"p1\"> 🧩 Составные части LangGraph. </center>"
   ]
  },
  {
   "cell_type": "markdown",
   "metadata": {},
   "source": [
    "<div class=\"alert alert-info\" style=\"padding:10px; border-width:3px; border-color:#efe6ef; border-style:solid; border-radius:6px\">\n",
    "\n",
    "<img src='../images/nodeedge.png' align=\"top\">\n",
    "    \n",
    "    \n",
    "#### Основные сущности `LangGraph`\n",
    "\n",
    "По своей сути, `LangGraph` использует структуру ориентированного графа для определения потока выполнения вашего приложения:\n",
    "\n",
    "* **Узлы** (`Nodes`) - представляют отдельные этапы обработки (например, вызов LLM, использование инструмента или принятие решения). Узлами могут быть отдельные агенты, Runnables, Python-функции, другие примитивы.\n",
    "* **Ребра** (`Edges`) - определяют возможные переходы между этапами.\n",
    "* **Состояние** (`State`) - ключевой компонент, котрый определяется пользователем, поддерживается и передается между узлами во время выполнения. При принятии решения о том, какой узел будет выбран следующим, мы обращаем внимание на текущее состояние.\n",
    "\n",
    "Пока может быть не очень понятно, давайте рассмотрим пример:"
   ]
  },
  {
   "cell_type": "code",
   "execution_count": 3,
   "metadata": {},
   "outputs": [],
   "source": [
    "from typing_extensions import TypedDict, Literal\n",
    "\n",
    "\n",
    "# Определяем схему состояния - датакласс, в котором будет лежать список letters\n",
    "class State(TypedDict):\n",
    "    letters: list[str]"
   ]
  },
  {
   "cell_type": "code",
   "execution_count": 4,
   "metadata": {},
   "outputs": [],
   "source": [
    "# Определяем узлы (Nodes) - обычные Python-функции\n",
    "# Каждый узел печатает строку и добавляет в список либо букву А, либо В\n",
    "def node_a(state: State) -> dict:\n",
    "    print(f'Узел A видит состояние: {state[\"letters\"]}')\n",
    "    return {\"letters\": state[\"letters\"] + [\"A\"]}\n",
    "\n",
    "def node_b(state: State) -> dict:\n",
    "    print(f'Узел B видит состояние: {state[\"letters\"]}')\n",
    "    return {\"letters\": state[\"letters\"] + [\"B\"]}"
   ]
  },
  {
   "cell_type": "code",
   "execution_count": 5,
   "metadata": {},
   "outputs": [
    {
     "data": {
      "text/plain": [
       "<langgraph.graph.state.StateGraph at 0x7f9276c24a30>"
      ]
     },
     "execution_count": 5,
     "metadata": {},
     "output_type": "execute_result"
    }
   ],
   "source": [
    "from langgraph.graph import StateGraph\n",
    "\n",
    "# Создаем граф\n",
    "graph_builder = StateGraph(State)\n",
    "\n",
    "# Добавляем узлы методом add_node, в которые подаём произвольное имя узла и название функции\n",
    "graph_builder.add_node(\"a\", node_a) \n",
    "graph_builder.add_node(\"b\", node_b)"
   ]
  },
  {
   "cell_type": "markdown",
   "metadata": {},
   "source": [
    "<div class=\"alert alert-info\" style=\"padding:10px; border-width:3px; border-color:#efe6ef; border-style:solid; border-radius:6px\">\n",
    "    \n",
    "    \n",
    "Служебные узлы `START` и `END` присутствуют в каждом графе."
   ]
  },
  {
   "cell_type": "code",
   "execution_count": 6,
   "metadata": {},
   "outputs": [
    {
     "data": {
      "text/plain": [
       "<langgraph.graph.state.StateGraph at 0x7f9276c24a30>"
      ]
     },
     "execution_count": 6,
     "metadata": {},
     "output_type": "execute_result"
    }
   ],
   "source": [
    "from langgraph.graph import START, END\n",
    "\n",
    "\n",
    "# Определяем функцию для условного перехода\n",
    "def route(state: State) -> Literal[\"b\", END]:\n",
    "    if len(state[\"letters\"]) < 5:\n",
    "        return \"b\"\n",
    "    else:\n",
    "        return END\n",
    "\n",
    "# Добавляем ребра (Edges) методом add_edge или add_conditional_edges\n",
    "graph_builder.add_edge(START, \"a\")               # Начинаем с узла \"a\"\n",
    "graph_builder.add_conditional_edges(\"a\", route) # После \"a\" идем либо в \"b\", либо завершаем\n",
    "graph_builder.add_edge(\"b\", \"a\")                 # После \"b\" возвращаемся в \"a\""
   ]
  },
  {
   "cell_type": "code",
   "execution_count": 7,
   "metadata": {},
   "outputs": [
    {
     "data": {
      "image/png": "[encoded data removed]",
      "text/plain": [
       "<IPython.core.display.Image object>"
      ]
     },
     "metadata": {},
     "output_type": "display_data"
    }
   ],
   "source": [
    "from IPython.display import Image, display\n",
    "\n",
    "# Компилируем граф перед использованием\n",
    "graph = graph_builder.compile()\n",
    "\n",
    "# Также можем посмотреть схему получившегося графа\n",
    "display(Image(graph.get_graph().draw_mermaid_png()))"
   ]
  },
  {
   "cell_type": "markdown",
   "metadata": {},
   "source": [
    "<div class=\"alert alert-success\" style=\"background-color:#e6ffe6; padding:13px; border-width:3px; border-color:#efe6ef; border-style:solid; border-radius:6px\">\n",
    "    \n",
    "Пунктиром обозначены условные рёбра, сплошной линией обычные рёбра."
   ]
  },
  {
   "cell_type": "code",
   "execution_count": 8,
   "metadata": {},
   "outputs": [
    {
     "name": "stdout",
     "output_type": "stream",
     "text": [
      "Узел A видит состояние: []\n",
      "Узел B видит состояние: ['A']\n",
      "Узел A видит состояние: ['A', 'B']\n",
      "Узел B видит состояние: ['A', 'B', 'A']\n",
      "Узел A видит состояние: ['A', 'B', 'A', 'B']\n",
      "Итоговое состояние: {'letters': ['A', 'B', 'A', 'B', 'A']}\n"
     ]
    }
   ],
   "source": [
    "# Запускаем граф с начальным состоянием [], так как это тоже Runnable, то invoke\n",
    "result = graph.invoke({\"letters\": []})\n",
    "\n",
    "print(\"Итоговое состояние:\", result)"
   ]
  },
  {
   "cell_type": "markdown",
   "metadata": {},
   "source": [
    "<div class=\"alert alert-success\" style=\"background-color:#e6ffe6; padding:13px; border-width:3px; border-color:#efe6ef; border-style:solid; border-radius:6px\">\n",
    "    \n",
    "* Видим, что после запуска граф начинает проходить по заданному нами пути из рёбер\n",
    "* При этом меняется сосотояние графа, которое отслеживается для определения следуещего шага\n",
    "* При достижении заданного состояния (длина списка 5), выбирается закончить работу"
   ]
  },
  {
   "cell_type": "markdown",
   "metadata": {},
   "source": [
    "# <center  id=\"p2\"> `ReAct` `Agent` - в LangGraph!🚀</center>\n",
    "\n",
    "<div class=\"alert alert-info\" style=\"padding:10px; border-width:3px; border-color:#efe6ef; border-style:solid; border-radius:6px\">\n",
    "    \n",
    "\n",
    "В модуле `LangGraph.prebuilt` есть несколько готовых реализаций агентов, в частности, уже знакомый нам `ReAct` агент.\n",
    "\n",
    "Давайте посмотрим на его работу:"
   ]
  },
  {
   "cell_type": "code",
   "execution_count": 9,
   "metadata": {},
   "outputs": [
    {
     "name": "stdin",
     "output_type": "stream",
     "text": [
      "Введите ваш ключ SerpApi: ········\n"
     ]
    }
   ],
   "source": [
    "# Возьмём знакомый инструмент веб-поиска\n",
    "from langchain_classic.agents import load_tools\n",
    "\n",
    "# Добавляем ключ в переменную среды\n",
    "os.environ[\"SERPAPI_API_KEY\"] = getpass(prompt=\"Введите ваш ключ SerpApi:\")\n",
    "\n",
    "tools = load_tools([\"serpapi\"], llm=llm)"
   ]
  },
  {
   "cell_type": "code",
   "execution_count": 11,
   "metadata": {},
   "outputs": [],
   "source": [
    "# импортируем и создаём react агент\n",
    "from langgraph.prebuilt import create_react_agent\n",
    "\n",
    "\n",
    "agent_executor = create_react_agent(llm, tools)"
   ]
  },
  {
   "cell_type": "code",
   "execution_count": 27,
   "metadata": {
    "scrolled": true
   },
   "outputs": [
    {
     "data": {
      "image/png": "[encoded data removed]",
      "text/plain": [
       "<IPython.core.display.Image object>"
      ]
     },
     "metadata": {},
     "output_type": "display_data"
    }
   ],
   "source": [
    "# Можем посмотреть на граф react агента\n",
    "display(Image(agent_executor.get_graph().draw_mermaid_png()))"
   ]
  },
  {
   "cell_type": "markdown",
   "metadata": {},
   "source": [
    "<div class=\"alert alert-success\" style=\"background-color:#e6ffe6; padding:13px; border-width:3px; border-color:#efe6ef; border-style:solid; border-radius:6px\">\n",
    "    \n",
    "Видим, что граф `ReAct` агента представляет из себя:\n",
    "* узел `agent` с двумя условными рёбрами\n",
    "* агент по условию решает переходить в узел `tools` или завершить работу, другими словами агент решает нужно ли ему ещё воспользоваться какими-либо инструментами или можно завершить работу."
   ]
  },
  {
   "cell_type": "code",
   "execution_count": 17,
   "metadata": {},
   "outputs": [
    {
     "data": {
      "text/plain": [
       "'Температура в Сочи сейчас составляет 62 градуса Фаренгейта (примерно 16 градусов Цельсия). Погода ясная, вероятность осадков 0%, влажность 77%, скорость ветра 2 миль в час.'"
      ]
     },
     "execution_count": 17,
     "metadata": {},
     "output_type": "execute_result"
    }
   ],
   "source": [
    "# запустим агента\n",
    "agent_executor.invoke({'messages':'Какая температура в Сочи?'})['messages'][-1].content"
   ]
  },
  {
   "cell_type": "markdown",
   "metadata": {},
   "source": [
    "## <center> Добавляем память 🧠 </center>"
   ]
  },
  {
   "cell_type": "code",
   "execution_count": 27,
   "metadata": {},
   "outputs": [],
   "source": [
    "# сначала выбираем тип памяти\n",
    "from langgraph.checkpoint.memory import InMemorySaver\n",
    "\n",
    "memory = InMemorySaver() "
   ]
  },
  {
   "cell_type": "code",
   "execution_count": 28,
   "metadata": {},
   "outputs": [
    {
     "name": "stdout",
     "output_type": "stream",
     "text": [
      "================================\u001b[1m Human Message \u001b[0m=================================\n",
      "\n",
      "Какая температура в Сочи?\n",
      "==================================\u001b[1m Ai Message \u001b[0m==================================\n",
      "Tool Calls:\n",
      "  Search (call_Hk8q6yYsQEH10xlbOR1p97na)\n",
      " Call ID: call_Hk8q6yYsQEH10xlbOR1p97na\n",
      "  Args:\n",
      "    __arg1: температура в Сочи\n",
      "=================================\u001b[1m Tool Message \u001b[0m=================================\n",
      "Name: Search\n",
      "\n",
      "{'type': 'weather_result', 'temperature': '62', 'unit': 'Fahrenheit', 'precipitation': '0%', 'humidity': '77%', 'wind': '2 mph', 'location': 'Sochi, Russia', 'date': 'Friday 3:00 AM', 'weather': 'Clear'}\n",
      "==================================\u001b[1m Ai Message \u001b[0m==================================\n",
      "\n",
      "Температура в Сочи составляет 62°F (примерно 16°C). Сейчас ясная погода, влажность 77%, скорость ветра 2 миль в час.\n"
     ]
    }
   ],
   "source": [
    "# затем добавляем её в параметр checkpointer\n",
    "agent_executor = create_react_agent(llm, tools, checkpointer=memory)\n",
    "\n",
    "# в лэнгчейн указывали session_id, здесь thread_id\n",
    "config = {\"configurable\": {\"thread_id\": \"user123\"}}\n",
    "response = agent_executor.invoke({\"messages\": \"Какая температура в Сочи?\"}, config)\n",
    "\n",
    "for m in response['messages']:\n",
    "    m.pretty_print() # с помощью данного метода можно выводить messages в читаемом формате"
   ]
  },
  {
   "cell_type": "code",
   "execution_count": 29,
   "metadata": {},
   "outputs": [
    {
     "name": "stdout",
     "output_type": "stream",
     "text": [
      "================================\u001b[1m Human Message \u001b[0m=================================\n",
      "\n",
      "Какая температура в Сочи?\n",
      "==================================\u001b[1m Ai Message \u001b[0m==================================\n",
      "Tool Calls:\n",
      "  Search (call_Hk8q6yYsQEH10xlbOR1p97na)\n",
      " Call ID: call_Hk8q6yYsQEH10xlbOR1p97na\n",
      "  Args:\n",
      "    __arg1: температура в Сочи\n",
      "=================================\u001b[1m Tool Message \u001b[0m=================================\n",
      "Name: Search\n",
      "\n",
      "{'type': 'weather_result', 'temperature': '62', 'unit': 'Fahrenheit', 'precipitation': '0%', 'humidity': '77%', 'wind': '2 mph', 'location': 'Sochi, Russia', 'date': 'Friday 3:00 AM', 'weather': 'Clear'}\n",
      "==================================\u001b[1m Ai Message \u001b[0m==================================\n",
      "\n",
      "Температура в Сочи составляет 62°F (примерно 16°C). Сейчас ясная погода, влажность 77%, скорость ветра 2 миль в час.\n",
      "================================\u001b[1m Human Message \u001b[0m=================================\n",
      "\n",
      "А какая температура воды?\n",
      "==================================\u001b[1m Ai Message \u001b[0m==================================\n",
      "Tool Calls:\n",
      "  Search (call_MxPlH5RKbXR1lZ4LhlHu8bgd)\n",
      " Call ID: call_MxPlH5RKbXR1lZ4LhlHu8bgd\n",
      "  Args:\n",
      "    __arg1: температура воды в Сочи\n",
      "=================================\u001b[1m Tool Message \u001b[0m=================================\n",
      "Name: Search\n",
      "\n",
      "['Минимальная температура воды ... Показаны минимальные данные за последние годы. Максимальная температура воды. 14°янв. 14°фев. 12°мар. 17°апр. 23°май. 27° ...', '29 июня, воскресенье ; 0.2 м, 0.3 м, 0.4 м ; Спокойное море, Слабое волнение, Слабое волнение ; Температура поверхности воды в °C ; Т. воды: 23°, Т. воды: 23°, Т.', 'Средняя температура воды в сентябре 2024 года составила 26.3°C. В то время как минимальная и максимальная температура воды в море достигала 24.3°C и 27.6°C ...', 'Уже в начале июня вода прогревается до +22 °C. В августе могут идти кратковременные дожди, температура днём достигает от +30 °C до +35 °C, а море +27 °C. Из-за ...', 'Температура воды (oC), +22, +22 ; Давление днём (мм рт.ст.) 759, 755 ; Ветер днём (направление, скорость), 2-3 м/с, 2-4 м/с ; Солнце (калькулятор). восход заход', 'Температура воды в Сочи в июне. Сейчас. +21°C. Максимальная 29°C. Средняя 18°C. Минимальная 7°C. Значения температуры воды в течение года.', 'Температура воды днём +23°. Восход 04:41, Закат 20:06. Вчера в это время +20°. +20°. Ощущается как +20°Вчера в это время +20°Вчера было +20°. Ясно, в ближайшие ...', 'Средняя температура воды в июле 2024 года составила 26.9°C. В то время как минимальная и максимальная температура воды в море достигала 23.1°C и 28.5°C ...', 'Сегодня, 25 Июня 2025, в Сочи, Россия, температура воды в среднем составляет +23°C. На прошлой неделе температура воды в Сочи, в среднем за день составляла +23° ...', 'Сегодня температура воды в Сочи составляет 21.4°C. Такая вода является прохладной и бодрящей, но для многих людей является уже достаточно комфортной для купания ...']\n",
      "==================================\u001b[1m Ai Message \u001b[0m==================================\n",
      "\n",
      "Температура воды в Сочи сейчас составляет примерно 21.4°C. Эта температура считается прохладной, но для многих людей она уже достаточна для комфортного купания.\n"
     ]
    }
   ],
   "source": [
    "response = agent_executor.invoke({'messages':'А какая температура воды?'}, config)\n",
    "\n",
    "for m in response['messages']:\n",
    "    m.pretty_print()"
   ]
  },
  {
   "cell_type": "markdown",
   "metadata": {},
   "source": [
    "<div class=\"alert alert-success\" style=\"background-color:#e6ffe6; padding:13px; border-width:3px; border-color:#efe6ef; border-style:solid; border-radius:6px\">\n",
    "    \n",
    "По истории агент понял, что мы имеем ввиду Сочи."
   ]
  },
  {
   "cell_type": "markdown",
   "metadata": {},
   "source": [
    "<div class=\"alert alert-info\" style=\"padding:10px; border-width:3px; border-color:#efe6ef; border-style:solid; border-radius:6px\">\n",
    "\n",
    "<img src='../images/hooks.png' align=\"right\" width=\"300\" height=\"328\" >\n",
    "<br>\n",
    "\n",
    "Также к `ReAct` агенту можно добавить:\n",
    "* `pre_model_hook` - функция, которая вызывается перед вызовом модели. Ее можно использовать для сжатия сообщений или выполнения других задач предварительной обработки.\n",
    "* `post_model_hook` - функция, которая вызывается после вызова модели.\n",
    "* `response_format` - cтруктура данных, используемая для ограничения типа конечного результата, например, базовая модель pydantic.\n",
    "\n",
    "Для этого в есть специальные параметры:\n",
    "```python\n",
    "agent = create_react_agent(\n",
    "    model,\n",
    "    tools=[tool],\n",
    "    pre_model_hook=pre_model_hook,\n",
    "    post_model_hook=post_model_hook,\n",
    "    response_format=ResponseFormat,\n",
    ")\n",
    "```"
   ]
  },
  {
   "cell_type": "markdown",
   "metadata": {},
   "source": [
    "# <center  id=\"p2\"> Мультиагенты - в LangGraph!🚀</center>\n",
    "\n",
    "<div class=\"alert alert-info\" style=\"padding:10px; border-width:3px; border-color:#efe6ef; border-style:solid; border-radius:6px\">\n",
    "\n",
    "### А зачем нам мульти-агенты? 🤔\n",
    "\n",
    "По мере разработки агентных систем они могут со временем усложняться, что затрудняет управление ими и их масштабирование. Например, вы можете столкнуться со следующими проблемами:\n",
    "* агент имеет в своем распоряжении слишком много инструментов и принимает неверные решения о том, какой инструмент вызывать следующим\n",
    "* контекст становится слишком сложным для отслеживания одним агентом\n",
    "* возникает необходимость в нескольких областях специализации в системе (например, планировщик, исследователь, специалист по математике и т.д.).\n",
    "  \n",
    "Чтобы решить эти проблемы, вы можете разбить свое приложение на несколько небольших независимых агентов и объединить их в мультиагентную систему."
   ]
  },
  {
   "cell_type": "markdown",
   "metadata": {},
   "source": [
    "<div class=\"alert alert-info\" style=\"padding:10px; border-width:3px; border-color:#efe6ef; border-style:solid; border-radius:6px\">\n",
    "\n",
    "<img src='../images/architectures.png' align=\"right\" width=\"500\" height=\"428\" >\n",
    "<br>\n",
    "Существует несколько способов подключения агентов в мультиагентной системе:\n",
    "\n",
    "* **Сеть** (`Network`) - каждый агент может взаимодействовать с любым другим агентом. Любой агент может решить, какой агент вызывать следующим.\n",
    "* **Супервизор** (`Supervisor`) - каждый агент взаимодействует с одним агентом-супервизором. Агент-супервизор принимает решения о том, какой агент следует вызвать следующим.\n",
    "* **Супервизор (вызов инструмента)** - это частный случай архитектуры супервизора. Отдельные агенты могут быть представлены в виде инструментов. В этом случае агент-супервизор использует вызывающий инструмент LLM, чтобы решить, какой из инструментов агента вызывать, а также какие аргументы передавать этим агентам.\n",
    "* **Иерархическая** (`Hierarchical`) - позволяет создать многоагентную систему с супервизором супервизоров. Это обобщение архитектуры супервизора и позволяет создавать более сложные потоки управления.\n",
    "* **Настраиваемый многоагентный рабочий процесс** - каждый агент взаимодействует только с подмножеством агентов. Части потока детерминированы, и только некоторые агенты могут решать, какие другие агенты вызывать следующими.\n",
    "\n",
    "В `LangGraph` есть готовыe классы и методы для сборки агентов в мульти-агентные структуры.\n",
    "\n",
    "Давайте посмотрим на примере структуры `Supervisor`:"
   ]
  },
  {
   "cell_type": "code",
   "execution_count": null,
   "metadata": {},
   "outputs": [],
   "source": [
    "# Инструменты агентов (упрощённые)\n",
    "def get_weather(city: str) -> str:\n",
    "    '''Возвращает погоду в городе'''\n",
    "    return f\"Погода в городе {city} всегда солнечная.\"\n",
    "\n",
    "def get_time(city: str) -> str:\n",
    "    '''Возвращает текущее время в городе'''\n",
    "    return f\"Время в городе {city} сейчас 12:00.\"\n",
    "\n",
    "# Создаем агентов с разными инструментами и ролями\n",
    "weather_agent = create_react_agent(\n",
    "    llm,\n",
    "    tools=[get_weather],\n",
    "    prompt=\"Ты помощник по погоде. Отвечай на вопросы о погоде.\",\n",
    "    name=\"weather_agent\"\n",
    ")\n",
    "\n",
    "time_agent = create_react_agent(\n",
    "    model=llm,\n",
    "    tools=[get_time],\n",
    "    prompt=\"Ты помощник по времени. Отвечай на вопросы о времени.\",\n",
    "    name=\"time_agent\"\n",
    ")"
   ]
  },
  {
   "cell_type": "code",
   "execution_count": null,
   "metadata": {},
   "outputs": [],
   "source": [
    "from langgraph_supervisor import create_supervisor\n",
    "\n",
    "# Создаем супервизора, который распределяет задачи между агентами\n",
    "supervisor = create_supervisor(\n",
    "    agents=[weather_agent, time_agent],\n",
    "    model=llm,\n",
    "    prompt=(\n",
    "        \"Ты управляешь двумя помощниками: weather_agent и time_agent. \"\n",
    "        \"Если вопрос про погоду, направь к weather_agent. \"\n",
    "        \"Если про время — к time_agent.\"\n",
    "    )\n",
    ").compile()"
   ]
  },
  {
   "cell_type": "code",
   "execution_count": 35,
   "metadata": {},
   "outputs": [
    {
     "data": {
      "image/png": "[encoded data removed]",
      "text/plain": [
       "<IPython.core.display.Image object>"
      ]
     },
     "metadata": {},
     "output_type": "display_data"
    }
   ],
   "source": [
    "# Посмотрим на получившийся граф\n",
    "display(Image(supervisor.get_graph().draw_mermaid_png()))"
   ]
  },
  {
   "cell_type": "code",
   "execution_count": 41,
   "metadata": {
    "scrolled": true
   },
   "outputs": [
    {
     "name": "stderr",
     "output_type": "stream",
     "text": [
      "Task supervisor with path ('__pregel_pull', 'supervisor') wrote to unknown channel is_last_step, ignoring it.\n",
      "Task supervisor with path ('__pregel_pull', 'supervisor') wrote to unknown channel remaining_steps, ignoring it.\n"
     ]
    },
    {
     "name": "stdout",
     "output_type": "stream",
     "text": [
      "{'supervisor': {'messages': [HumanMessage(content='Какая погода в Москве и который час?', additional_kwargs={}, response_metadata={}, id='094aa5db-90c9-47b5-8f27-81f74dd8a94e'),\n",
      "                             AIMessage(content='', additional_kwargs={'tool_calls': [{'id': 'call_xer4H0jIj5lfq9cyEhR9TnK4', 'function': {'arguments': '{}', 'name': 'transfer_to_weather_agent'}, 'type': 'function'}], 'refusal': None}, response_metadata={'token_usage': {'completion_tokens': 12, 'prompt_tokens': 104, 'total_tokens': 116, 'completion_tokens_details': {'accepted_prediction_tokens': 0, 'audio_tokens': 0, 'reasoning_tokens': 0, 'rejected_prediction_tokens': 0}, 'prompt_tokens_details': {'audio_tokens': 0, 'cached_tokens': 0}}, 'model_name': 'gpt-4o-mini-2024-07-18', 'system_fingerprint': 'fp_34a54ae93c', 'id': 'chatcmpl-Bn2MczusznF9nlh3IIWeZjLVyMd9q', 'service_tier': 'default', 'finish_reason': 'tool_calls', 'logprobs': None}, name='supervisor', id='run--b5971a67-bf53-4f07-9873-41d63da2261d-0', tool_calls=[{'name': 'transfer_to_weather_agent', 'args': {}, 'id': 'call_xer4H0jIj5lfq9cyEhR9TnK4', 'type': 'tool_call'}], usage_metadata={'input_tokens': 104, 'output_tokens': 12, 'total_tokens': 116, 'input_token_details': {'audio': 0, 'cache_read': 0}, 'output_token_details': {'audio': 0, 'reasoning': 0}}),\n",
      "                             ToolMessage(content='Successfully transferred to weather_agent', name='transfer_to_weather_agent', id='9925fafc-2ff7-4797-900f-845a87d45bf4', tool_call_id='call_xer4H0jIj5lfq9cyEhR9TnK4')]}}\n",
      "{'weather_agent': {'messages': [AIMessage(content='В Москве сейчас солнечная погода. \\n\\nЧто касается времени, к сожалению, я не могу предоставить информацию о текущем времени. Вы можете проверить время на своих устройствах.', additional_kwargs={'refusal': None}, response_metadata={'token_usage': {'completion_tokens': 36, 'prompt_tokens': 378, 'total_tokens': 414, 'completion_tokens_details': {'accepted_prediction_tokens': 0, 'audio_tokens': 0, 'reasoning_tokens': 0, 'rejected_prediction_tokens': 0}, 'prompt_tokens_details': {'audio_tokens': 0, 'cached_tokens': 0}}, 'model_name': 'gpt-4o-mini-2024-07-18', 'system_fingerprint': 'fp_34a54ae93c', 'id': 'chatcmpl-Bn2MfdN3LrWp5faA3HWoddG1o7nV6', 'service_tier': 'default', 'finish_reason': 'stop', 'logprobs': None}, name='weather_agent', id='run--17460e52-05d6-4e94-a294-da4d918f8bf9-0', usage_metadata={'input_tokens': 378, 'output_tokens': 36, 'total_tokens': 414, 'input_token_details': {'audio': 0, 'cache_read': 0}, 'output_token_details': {'audio': 0, 'reasoning': 0}}),\n",
      "                                AIMessage(content='Transferring back to supervisor', additional_kwargs={}, response_metadata={'__is_handoff_back': True}, name='weather_agent', id='e6a71d05-9f8b-4af5-86be-bc7ab8165ac9', tool_calls=[{'name': 'transfer_back_to_supervisor', 'args': {}, 'id': '12f74131-1e60-4f12-87e5-f5ff756e0c29', 'type': 'tool_call'}]),\n",
      "                                ToolMessage(content='Successfully transferred back to supervisor', name='transfer_back_to_supervisor', id='26695333-5aa0-4fcc-a420-5a51db245300', tool_call_id='12f74131-1e60-4f12-87e5-f5ff756e0c29')]}}\n"
     ]
    },
    {
     "name": "stderr",
     "output_type": "stream",
     "text": [
      "Task supervisor with path ('__pregel_pull', 'supervisor') wrote to unknown channel is_last_step, ignoring it.\n",
      "Task supervisor with path ('__pregel_pull', 'supervisor') wrote to unknown channel remaining_steps, ignoring it.\n"
     ]
    },
    {
     "name": "stdout",
     "output_type": "stream",
     "text": [
      "{'supervisor': {'messages': [HumanMessage(content='Какая погода в Москве и который час?', additional_kwargs={}, response_metadata={}, id='094aa5db-90c9-47b5-8f27-81f74dd8a94e'),\n",
      "                             AIMessage(content='', additional_kwargs={'tool_calls': [{'id': 'call_xer4H0jIj5lfq9cyEhR9TnK4', 'function': {'arguments': '{}', 'name': 'transfer_to_weather_agent'}, 'type': 'function'}], 'refusal': None}, response_metadata={'token_usage': {'completion_tokens': 12, 'prompt_tokens': 104, 'total_tokens': 116, 'completion_tokens_details': {'accepted_prediction_tokens': 0, 'audio_tokens': 0, 'reasoning_tokens': 0, 'rejected_prediction_tokens': 0}, 'prompt_tokens_details': {'audio_tokens': 0, 'cached_tokens': 0}}, 'model_name': 'gpt-4o-mini-2024-07-18', 'system_fingerprint': 'fp_34a54ae93c', 'id': 'chatcmpl-Bn2MczusznF9nlh3IIWeZjLVyMd9q', 'service_tier': 'default', 'finish_reason': 'tool_calls', 'logprobs': None}, name='supervisor', id='run--b5971a67-bf53-4f07-9873-41d63da2261d-0', tool_calls=[{'name': 'transfer_to_weather_agent', 'args': {}, 'id': 'call_xer4H0jIj5lfq9cyEhR9TnK4', 'type': 'tool_call'}], usage_metadata={'input_tokens': 104, 'output_tokens': 12, 'total_tokens': 116, 'input_token_details': {'audio': 0, 'cache_read': 0}, 'output_token_details': {'audio': 0, 'reasoning': 0}}),\n",
      "                             ToolMessage(content='Successfully transferred to weather_agent', name='transfer_to_weather_agent', id='9925fafc-2ff7-4797-900f-845a87d45bf4', tool_call_id='call_xer4H0jIj5lfq9cyEhR9TnK4'),\n",
      "                             AIMessage(content='В Москве сейчас солнечная погода. \\n\\nЧто касается времени, к сожалению, я не могу предоставить информацию о текущем времени. Вы можете проверить время на своих устройствах.', additional_kwargs={'refusal': None}, response_metadata={'token_usage': {'completion_tokens': 36, 'prompt_tokens': 378, 'total_tokens': 414, 'completion_tokens_details': {'accepted_prediction_tokens': 0, 'audio_tokens': 0, 'reasoning_tokens': 0, 'rejected_prediction_tokens': 0}, 'prompt_tokens_details': {'audio_tokens': 0, 'cached_tokens': 0}}, 'model_name': 'gpt-4o-mini-2024-07-18', 'system_fingerprint': 'fp_34a54ae93c', 'id': 'chatcmpl-Bn2MfdN3LrWp5faA3HWoddG1o7nV6', 'service_tier': 'default', 'finish_reason': 'stop', 'logprobs': None}, name='weather_agent', id='run--17460e52-05d6-4e94-a294-da4d918f8bf9-0', usage_metadata={'input_tokens': 378, 'output_tokens': 36, 'total_tokens': 414, 'input_token_details': {'audio': 0, 'cache_read': 0}, 'output_token_details': {'audio': 0, 'reasoning': 0}}),\n",
      "                             AIMessage(content='Transferring back to supervisor', additional_kwargs={}, response_metadata={'__is_handoff_back': True}, name='weather_agent', id='e6a71d05-9f8b-4af5-86be-bc7ab8165ac9', tool_calls=[{'name': 'transfer_back_to_supervisor', 'args': {}, 'id': '12f74131-1e60-4f12-87e5-f5ff756e0c29', 'type': 'tool_call'}]),\n",
      "                             ToolMessage(content='Successfully transferred back to supervisor', name='transfer_back_to_supervisor', id='26695333-5aa0-4fcc-a420-5a51db245300', tool_call_id='12f74131-1e60-4f12-87e5-f5ff756e0c29'),\n",
      "                             AIMessage(content='', additional_kwargs={'tool_calls': [{'id': 'call_iSRrtKeL8yuEh2jgYhQnKIUw', 'function': {'arguments': '{}', 'name': 'transfer_to_time_agent'}, 'type': 'function'}], 'refusal': None}, response_metadata={'token_usage': {'completion_tokens': 12, 'prompt_tokens': 221, 'total_tokens': 233, 'completion_tokens_details': {'accepted_prediction_tokens': 0, 'audio_tokens': 0, 'reasoning_tokens': 0, 'rejected_prediction_tokens': 0}, 'prompt_tokens_details': {'audio_tokens': 0, 'cached_tokens': 0}}, 'model_name': 'gpt-4o-mini-2024-07-18', 'system_fingerprint': 'fp_34a54ae93c', 'id': 'chatcmpl-Bn2MgwnlVgtVBHTfoxudGRHPHPUuj', 'service_tier': 'default', 'finish_reason': 'tool_calls', 'logprobs': None}, name='supervisor', id='run--35afaaf5-cf99-4e37-a62f-24cff45e5891-0', tool_calls=[{'name': 'transfer_to_time_agent', 'args': {}, 'id': 'call_iSRrtKeL8yuEh2jgYhQnKIUw', 'type': 'tool_call'}], usage_metadata={'input_tokens': 221, 'output_tokens': 12, 'total_tokens': 233, 'input_token_details': {'audio': 0, 'cache_read': 0}, 'output_token_details': {'audio': 0, 'reasoning': 0}}),\n",
      "                             ToolMessage(content='Successfully transferred to time_agent', name='transfer_to_time_agent', id='5e1cac15-700c-4759-b0b6-163ae00f4eea', tool_call_id='call_iSRrtKeL8yuEh2jgYhQnKIUw')]}}\n",
      "{'time_agent': {'messages': [AIMessage(content='В Москве сейчас 12:00, а погода солнечная.', additional_kwargs={'refusal': None}, response_metadata={'token_usage': {'completion_tokens': 15, 'prompt_tokens': 254, 'total_tokens': 269, 'completion_tokens_details': {'accepted_prediction_tokens': 0, 'audio_tokens': 0, 'reasoning_tokens': 0, 'rejected_prediction_tokens': 0}, 'prompt_tokens_details': {'audio_tokens': 0, 'cached_tokens': 0}}, 'model_name': 'gpt-4o-mini-2024-07-18', 'system_fingerprint': 'fp_34a54ae93c', 'id': 'chatcmpl-Bn2Mi7EoGmmlUMu1WXNUviKjTUbGI', 'service_tier': 'default', 'finish_reason': 'stop', 'logprobs': None}, name='time_agent', id='run--c20489c0-88fa-45bf-9148-b5edb90bcb85-0', usage_metadata={'input_tokens': 254, 'output_tokens': 15, 'total_tokens': 269, 'input_token_details': {'audio': 0, 'cache_read': 0}, 'output_token_details': {'audio': 0, 'reasoning': 0}}),\n",
      "                             AIMessage(content='Transferring back to supervisor', additional_kwargs={}, response_metadata={'__is_handoff_back': True}, name='time_agent', id='98c2ac17-521e-4db7-9267-bc3e50eb02a8', tool_calls=[{'name': 'transfer_back_to_supervisor', 'args': {}, 'id': '26793070-6c67-439a-9301-a17e8015c0fc', 'type': 'tool_call'}]),\n",
      "                             ToolMessage(content='Successfully transferred back to supervisor', name='transfer_back_to_supervisor', id='04de7503-428e-45d1-aacb-7da216d9ca25', tool_call_id='26793070-6c67-439a-9301-a17e8015c0fc')]}}\n",
      "{'supervisor': {'messages': [HumanMessage(content='Какая погода в Москве и который час?', additional_kwargs={}, response_metadata={}, id='094aa5db-90c9-47b5-8f27-81f74dd8a94e'),\n",
      "                             AIMessage(content='', additional_kwargs={'tool_calls': [{'id': 'call_xer4H0jIj5lfq9cyEhR9TnK4', 'function': {'arguments': '{}', 'name': 'transfer_to_weather_agent'}, 'type': 'function'}], 'refusal': None}, response_metadata={'token_usage': {'completion_tokens': 12, 'prompt_tokens': 104, 'total_tokens': 116, 'completion_tokens_details': {'accepted_prediction_tokens': 0, 'audio_tokens': 0, 'reasoning_tokens': 0, 'rejected_prediction_tokens': 0}, 'prompt_tokens_details': {'audio_tokens': 0, 'cached_tokens': 0}}, 'model_name': 'gpt-4o-mini-2024-07-18', 'system_fingerprint': 'fp_34a54ae93c', 'id': 'chatcmpl-Bn2MczusznF9nlh3IIWeZjLVyMd9q', 'service_tier': 'default', 'finish_reason': 'tool_calls', 'logprobs': None}, name='supervisor', id='run--b5971a67-bf53-4f07-9873-41d63da2261d-0', tool_calls=[{'name': 'transfer_to_weather_agent', 'args': {}, 'id': 'call_xer4H0jIj5lfq9cyEhR9TnK4', 'type': 'tool_call'}], usage_metadata={'input_tokens': 104, 'output_tokens': 12, 'total_tokens': 116, 'input_token_details': {'audio': 0, 'cache_read': 0}, 'output_token_details': {'audio': 0, 'reasoning': 0}}),\n",
      "                             ToolMessage(content='Successfully transferred to weather_agent', name='transfer_to_weather_agent', id='9925fafc-2ff7-4797-900f-845a87d45bf4', tool_call_id='call_xer4H0jIj5lfq9cyEhR9TnK4'),\n",
      "                             AIMessage(content='В Москве сейчас солнечная погода. \\n\\nЧто касается времени, к сожалению, я не могу предоставить информацию о текущем времени. Вы можете проверить время на своих устройствах.', additional_kwargs={'refusal': None}, response_metadata={'token_usage': {'completion_tokens': 36, 'prompt_tokens': 378, 'total_tokens': 414, 'completion_tokens_details': {'accepted_prediction_tokens': 0, 'audio_tokens': 0, 'reasoning_tokens': 0, 'rejected_prediction_tokens': 0}, 'prompt_tokens_details': {'audio_tokens': 0, 'cached_tokens': 0}}, 'model_name': 'gpt-4o-mini-2024-07-18', 'system_fingerprint': 'fp_34a54ae93c', 'id': 'chatcmpl-Bn2MfdN3LrWp5faA3HWoddG1o7nV6', 'service_tier': 'default', 'finish_reason': 'stop', 'logprobs': None}, name='weather_agent', id='run--17460e52-05d6-4e94-a294-da4d918f8bf9-0', usage_metadata={'input_tokens': 378, 'output_tokens': 36, 'total_tokens': 414, 'input_token_details': {'audio': 0, 'cache_read': 0}, 'output_token_details': {'audio': 0, 'reasoning': 0}}),\n",
      "                             AIMessage(content='Transferring back to supervisor', additional_kwargs={}, response_metadata={'__is_handoff_back': True}, name='weather_agent', id='e6a71d05-9f8b-4af5-86be-bc7ab8165ac9', tool_calls=[{'name': 'transfer_back_to_supervisor', 'args': {}, 'id': '12f74131-1e60-4f12-87e5-f5ff756e0c29', 'type': 'tool_call'}]),\n",
      "                             ToolMessage(content='Successfully transferred back to supervisor', name='transfer_back_to_supervisor', id='26695333-5aa0-4fcc-a420-5a51db245300', tool_call_id='12f74131-1e60-4f12-87e5-f5ff756e0c29'),\n",
      "                             AIMessage(content='', additional_kwargs={'tool_calls': [{'id': 'call_iSRrtKeL8yuEh2jgYhQnKIUw', 'function': {'arguments': '{}', 'name': 'transfer_to_time_agent'}, 'type': 'function'}], 'refusal': None}, response_metadata={'token_usage': {'completion_tokens': 12, 'prompt_tokens': 221, 'total_tokens': 233, 'completion_tokens_details': {'accepted_prediction_tokens': 0, 'audio_tokens': 0, 'reasoning_tokens': 0, 'rejected_prediction_tokens': 0}, 'prompt_tokens_details': {'audio_tokens': 0, 'cached_tokens': 0}}, 'model_name': 'gpt-4o-mini-2024-07-18', 'system_fingerprint': 'fp_34a54ae93c', 'id': 'chatcmpl-Bn2MgwnlVgtVBHTfoxudGRHPHPUuj', 'service_tier': 'default', 'finish_reason': 'tool_calls', 'logprobs': None}, name='supervisor', id='run--35afaaf5-cf99-4e37-a62f-24cff45e5891-0', tool_calls=[{'name': 'transfer_to_time_agent', 'args': {}, 'id': 'call_iSRrtKeL8yuEh2jgYhQnKIUw', 'type': 'tool_call'}], usage_metadata={'input_tokens': 221, 'output_tokens': 12, 'total_tokens': 233, 'input_token_details': {'audio': 0, 'cache_read': 0}, 'output_token_details': {'audio': 0, 'reasoning': 0}}),\n",
      "                             ToolMessage(content='Successfully transferred to time_agent', name='transfer_to_time_agent', id='5e1cac15-700c-4759-b0b6-163ae00f4eea', tool_call_id='call_iSRrtKeL8yuEh2jgYhQnKIUw'),\n",
      "                             AIMessage(content='В Москве сейчас 12:00, а погода солнечная.', additional_kwargs={'refusal': None}, response_metadata={'token_usage': {'completion_tokens': 15, 'prompt_tokens': 254, 'total_tokens': 269, 'completion_tokens_details': {'accepted_prediction_tokens': 0, 'audio_tokens': 0, 'reasoning_tokens': 0, 'rejected_prediction_tokens': 0}, 'prompt_tokens_details': {'audio_tokens': 0, 'cached_tokens': 0}}, 'model_name': 'gpt-4o-mini-2024-07-18', 'system_fingerprint': 'fp_34a54ae93c', 'id': 'chatcmpl-Bn2Mi7EoGmmlUMu1WXNUviKjTUbGI', 'service_tier': 'default', 'finish_reason': 'stop', 'logprobs': None}, name='time_agent', id='run--c20489c0-88fa-45bf-9148-b5edb90bcb85-0', usage_metadata={'input_tokens': 254, 'output_tokens': 15, 'total_tokens': 269, 'input_token_details': {'audio': 0, 'cache_read': 0}, 'output_token_details': {'audio': 0, 'reasoning': 0}}),\n",
      "                             AIMessage(content='Transferring back to supervisor', additional_kwargs={}, response_metadata={'__is_handoff_back': True}, name='time_agent', id='98c2ac17-521e-4db7-9267-bc3e50eb02a8', tool_calls=[{'name': 'transfer_back_to_supervisor', 'args': {}, 'id': '26793070-6c67-439a-9301-a17e8015c0fc', 'type': 'tool_call'}]),\n",
      "                             ToolMessage(content='Successfully transferred back to supervisor', name='transfer_back_to_supervisor', id='04de7503-428e-45d1-aacb-7da216d9ca25', tool_call_id='26793070-6c67-439a-9301-a17e8015c0fc'),\n",
      "                             AIMessage(content='В Москве сейчас солнечная погода и время 12:00.', additional_kwargs={'refusal': None}, response_metadata={'token_usage': {'completion_tokens': 15, 'prompt_tokens': 317, 'total_tokens': 332, 'completion_tokens_details': {'accepted_prediction_tokens': 0, 'audio_tokens': 0, 'reasoning_tokens': 0, 'rejected_prediction_tokens': 0}, 'prompt_tokens_details': {'audio_tokens': 0, 'cached_tokens': 0}}, 'model_name': 'gpt-4o-mini-2024-07-18', 'system_fingerprint': 'fp_34a54ae93c', 'id': 'chatcmpl-Bn2MjEiyDVKVbdKwLqdXwlU7wthxM', 'service_tier': 'default', 'finish_reason': 'stop', 'logprobs': None}, name='supervisor', id='run--c758eb6a-31e0-442b-b783-0b41478e53a8-0', usage_metadata={'input_tokens': 317, 'output_tokens': 15, 'total_tokens': 332, 'input_token_details': {'audio': 0, 'cache_read': 0}, 'output_token_details': {'audio': 0, 'reasoning': 0}})]}}\n"
     ]
    }
   ],
   "source": [
    "# Запускаем мультиагентную систему с запросом пользователя\n",
    "for chunk in supervisor.stream(\n",
    "    {\"messages\": \"Какая погода в Москве и который час?\"}\n",
    "):\n",
    "    pprint(chunk)"
   ]
  },
  {
   "cell_type": "markdown",
   "metadata": {},
   "source": [
    "<div class=\"alert alert-success\" style=\"background-color:#e6ffe6; padding:13px; border-width:3px; border-color:#efe6ef; border-style:solid; border-radius:6px\">\n",
    "    \n",
    "Видим процесс общения между агентами и супервизором."
   ]
  },
  {
   "cell_type": "markdown",
   "metadata": {},
   "source": [
    "# <center  id=\"p2\"> 🧔 Скажи-ка дядя! Human in the loop (HIL) </center>\n",
    "\n",
    "<div class=\"alert alert-info\" style=\"padding:10px; border-width:3px; border-color:#efe6ef; border-style:solid; border-radius:6px\">\n",
    "\n",
    "<img src='../images/hil.png' align=\"top\">\n",
    "\n",
    "В процессе работы агентов или других приложений с LLM, часто встречается ситуация, когда нужна валидация, корректировка или дополнительный контекст от пользователя.\n",
    "\n",
    "**Human-in-the-loop (HIL)** - часто встречаемое название концепции, которая подразумевает участие человека в процессе работы сервиса.\n",
    "\n",
    "В `LangGraph` предусмотрены специальные классы и методы для реализации этой концепции, чаще всего это создание отдельного узла, в котором происходит прерывание (`interrupt`) исполнения и взаимодействие с пользователем. "
   ]
  },
  {
   "cell_type": "markdown",
   "metadata": {},
   "source": [
    "<div class=\"alert alert-info\" style=\"padding:10px; border-width:3px; border-color:#efe6ef; border-style:solid; border-radius:6px\">\n",
    "\n",
    "Добавим в предыдущий пример с супервизором HIL!"
   ]
  },
  {
   "cell_type": "code",
   "execution_count": null,
   "metadata": {},
   "outputs": [],
   "source": [
    "# Определяем можель состояния для супервизора с human-in-the-loop\n",
    "class State(TypedDict):\n",
    "    messages: list\n",
    "    human_feedback: str"
   ]
  },
  {
   "cell_type": "markdown",
   "metadata": {},
   "source": [
    "<div class=\"alert alert-info\" style=\"padding:10px; border-width:3px; border-color:#efe6ef; border-style:solid; border-radius:6px\">\n",
    "\n",
    "Импортируем `interrupt`, чтобы добавить в узел прерывание, и `Command` - класс \"отдающий команду\" куда дальше двигаться."
   ]
  },
  {
   "cell_type": "code",
   "execution_count": 80,
   "metadata": {},
   "outputs": [],
   "source": [
    "from langgraph.types import Command, interrupt\n",
    "from langgraph.checkpoint.memory import MemorySaver\n",
    "\n",
    "# Пишем узел HIL\n",
    "def human_in_the_loop_node(state: State) -> Command[str]:\n",
    "    if state['human_feedback']:\n",
    "        return Command(goto=END)\n",
    "        \n",
    "    # Получаем итоговый ответ супервизора\n",
    "    last_response = \"\"\n",
    "    for msg in reversed(state[\"messages\"]):\n",
    "        if getattr(msg, \"type\", None) == \"ai\":\n",
    "            last_response = getattr(msg, \"content\", \"\")\n",
    "            break\n",
    "    # Делаем прерывание и ждём пользовательский ввод\n",
    "    feedback = interrupt(f\"Проверьте ответ агента: '{last_response}'. Введите правки или подтвердите:\")\n",
    "\n",
    "    # Подтверждать будем словом ОК\n",
    "    if feedback and feedback.strip().lower() not in ('ok', 'ок'):\n",
    "        updated_message = {\"role\": \"user\", \"content\": feedback}\n",
    "        # Заменяем последнее сообщение пользователя на новое с правками\n",
    "        new_messages = [m for m in state[\"messages\"] if getattr(msg, \"type\", None) != \"human\"] + [updated_message]\n",
    "        return Command(goto=\"supervisor\", update={\"messages\": new_messages, \"human_feedback\": feedback})\n",
    "    else:\n",
    "        return Command(goto=END, update={\"human_feedback\": feedback})"
   ]
  },
  {
   "cell_type": "code",
   "execution_count": 84,
   "metadata": {},
   "outputs": [
    {
     "data": {
      "image/png": "[encoded data removed]",
      "text/plain": [
       "<IPython.core.display.Image object>"
      ]
     },
     "metadata": {},
     "output_type": "display_data"
    }
   ],
   "source": [
    "# Строим граф с human-in-the-loop после супервизора\n",
    "builder = StateGraph(State)\n",
    "\n",
    "# Добавляем узлы\n",
    "builder.add_node(\"supervisor\", supervisor)\n",
    "builder.add_node(\"human_check\", human_in_the_loop_node)\n",
    "\n",
    "# Добавляем ребра\n",
    "builder.add_edge(START, \"supervisor\")\n",
    "builder.add_edge(\"supervisor\", \"human_check\")\n",
    "builder.add_edge(\"human_check\", END)\n",
    "\n",
    "# Настраиваем сохранение состояния для HIL\n",
    "memory = MemorySaver()\n",
    "graph = builder.compile(checkpointer=memory)\n",
    "\n",
    "# Посмотрим на получившийся граф\n",
    "display(Image(graph.get_graph().draw_mermaid_png()))"
   ]
  },
  {
   "cell_type": "code",
   "execution_count": 87,
   "metadata": {
    "scrolled": true
   },
   "outputs": [
    {
     "name": "stderr",
     "output_type": "stream",
     "text": [
      "Task supervisor with path ('__pregel_pull', 'supervisor') wrote to unknown channel is_last_step, ignoring it.\n",
      "Task supervisor with path ('__pregel_pull', 'supervisor') wrote to unknown channel remaining_steps, ignoring it.\n",
      "Task supervisor with path ('__pregel_pull', 'supervisor') wrote to unknown channel is_last_step, ignoring it.\n",
      "Task supervisor with path ('__pregel_pull', 'supervisor') wrote to unknown channel remaining_steps, ignoring it.\n"
     ]
    },
    {
     "name": "stdout",
     "output_type": "stream",
     "text": [
      "{'supervisor': {'messages': [HumanMessage(content='Какая погода в Москве и который час?', additional_kwargs={}, response_metadata={}, id='a5e457dd-9ce5-47c0-b3f6-f14355279494'),\n",
      "                             AIMessage(content='', additional_kwargs={'tool_calls': [{'id': 'call_A1SHHlsXq06rEysdUOeViesB', 'function': {'arguments': '{}', 'name': 'transfer_to_weather_agent'}, 'type': 'function'}], 'refusal': None}, response_metadata={'token_usage': {'completion_tokens': 12, 'prompt_tokens': 104, 'total_tokens': 116, 'completion_tokens_details': {'accepted_prediction_tokens': 0, 'audio_tokens': 0, 'reasoning_tokens': 0, 'rejected_prediction_tokens': 0}, 'prompt_tokens_details': {'audio_tokens': 0, 'cached_tokens': 0}}, 'model_name': 'gpt-4o-mini-2024-07-18', 'system_fingerprint': 'fp_34a54ae93c', 'id': 'chatcmpl-BnUf0xuNqqPu0glDvG0ENsKlzxZ4G', 'service_tier': 'default', 'finish_reason': 'tool_calls', 'logprobs': None}, name='supervisor', id='run--7a20e82c-d170-4b9e-a545-41366b5d3b6f-0', tool_calls=[{'name': 'transfer_to_weather_agent', 'args': {}, 'id': 'call_A1SHHlsXq06rEysdUOeViesB', 'type': 'tool_call'}], usage_metadata={'input_tokens': 104, 'output_tokens': 12, 'total_tokens': 116, 'input_token_details': {'audio': 0, 'cache_read': 0}, 'output_token_details': {'audio': 0, 'reasoning': 0}}),\n",
      "                             ToolMessage(content='Successfully transferred to weather_agent', name='transfer_to_weather_agent', id='7bf96ee4-fff7-4f39-9acb-b3014d6729c8', tool_call_id='call_A1SHHlsXq06rEysdUOeViesB'),\n",
      "                             AIMessage(content='В Москве погода солнечная. \\n\\nЧто касается времени, то извините, но я не могу предоставить актуальное время. Вы можете проверить его на вашем устройстве.', additional_kwargs={'refusal': None}, response_metadata={'token_usage': {'completion_tokens': 36, 'prompt_tokens': 360, 'total_tokens': 396, 'completion_tokens_details': {'accepted_prediction_tokens': 0, 'audio_tokens': 0, 'reasoning_tokens': 0, 'rejected_prediction_tokens': 0}, 'prompt_tokens_details': {'audio_tokens': 0, 'cached_tokens': 0}}, 'model_name': 'gpt-4o-mini-2024-07-18', 'system_fingerprint': 'fp_34a54ae93c', 'id': 'chatcmpl-BnUf2kr43iJuoWqCcaT2095t6GtKE', 'service_tier': 'default', 'finish_reason': 'stop', 'logprobs': None}, name='weather_agent', id='run--47fa13ec-7d58-486e-927e-ff5c9ece919a-0', usage_metadata={'input_tokens': 360, 'output_tokens': 36, 'total_tokens': 396, 'input_token_details': {'audio': 0, 'cache_read': 0}, 'output_token_details': {'audio': 0, 'reasoning': 0}}),\n",
      "                             AIMessage(content='Transferring back to supervisor', additional_kwargs={}, response_metadata={'__is_handoff_back': True}, name='weather_agent', id='297b2247-ec58-4a0d-bed7-eef44ee574b5', tool_calls=[{'name': 'transfer_back_to_supervisor', 'args': {}, 'id': '1ea697d1-50da-4d66-bd0f-2a4a933f10c9', 'type': 'tool_call'}]),\n",
      "                             ToolMessage(content='Successfully transferred back to supervisor', name='transfer_back_to_supervisor', id='ecf29fac-c6bd-49ea-8420-1ac56c1d4af9', tool_call_id='1ea697d1-50da-4d66-bd0f-2a4a933f10c9'),\n",
      "                             AIMessage(content='', additional_kwargs={'tool_calls': [{'id': 'call_ftmXEcXl248kbXmMPXBofxts', 'function': {'arguments': '{}', 'name': 'transfer_to_time_agent'}, 'type': 'function'}], 'refusal': None}, response_metadata={'token_usage': {'completion_tokens': 12, 'prompt_tokens': 221, 'total_tokens': 233, 'completion_tokens_details': {'accepted_prediction_tokens': 0, 'audio_tokens': 0, 'reasoning_tokens': 0, 'rejected_prediction_tokens': 0}, 'prompt_tokens_details': {'audio_tokens': 0, 'cached_tokens': 0}}, 'model_name': 'gpt-4o-mini-2024-07-18', 'system_fingerprint': 'fp_34a54ae93c', 'id': 'chatcmpl-BnUf3HcbRIBSn52qBSgXaxlVxOjgo', 'service_tier': 'default', 'finish_reason': 'tool_calls', 'logprobs': None}, name='supervisor', id='run--1b2b2f19-7d86-4db8-9cd7-1da422937b21-0', tool_calls=[{'name': 'transfer_to_time_agent', 'args': {}, 'id': 'call_ftmXEcXl248kbXmMPXBofxts', 'type': 'tool_call'}], usage_metadata={'input_tokens': 221, 'output_tokens': 12, 'total_tokens': 233, 'input_token_details': {'audio': 0, 'cache_read': 0}, 'output_token_details': {'audio': 0, 'reasoning': 0}}),\n",
      "                             ToolMessage(content='Successfully transferred to time_agent', name='transfer_to_time_agent', id='8177e670-a9db-4025-a50b-360d7301f818', tool_call_id='call_ftmXEcXl248kbXmMPXBofxts'),\n",
      "                             AIMessage(content='В Москве сейчас 12:00. Погода солнечная.', additional_kwargs={'refusal': None}, response_metadata={'token_usage': {'completion_tokens': 15, 'prompt_tokens': 254, 'total_tokens': 269, 'completion_tokens_details': {'accepted_prediction_tokens': 0, 'audio_tokens': 0, 'reasoning_tokens': 0, 'rejected_prediction_tokens': 0}, 'prompt_tokens_details': {'audio_tokens': 0, 'cached_tokens': 0}}, 'model_name': 'gpt-4o-mini-2024-07-18', 'system_fingerprint': 'fp_34a54ae93c', 'id': 'chatcmpl-BnUf4ETPt3Px5c1viwjMAMIcWQGK2', 'service_tier': 'default', 'finish_reason': 'stop', 'logprobs': None}, name='time_agent', id='run--ee71d284-cde1-4690-9588-c8109d3cfc8e-0', usage_metadata={'input_tokens': 254, 'output_tokens': 15, 'total_tokens': 269, 'input_token_details': {'audio': 0, 'cache_read': 0}, 'output_token_details': {'audio': 0, 'reasoning': 0}}),\n",
      "                             AIMessage(content='Transferring back to supervisor', additional_kwargs={}, response_metadata={'__is_handoff_back': True}, name='time_agent', id='0644c37c-e641-4b5c-bedc-0ab9666adf35', tool_calls=[{'name': 'transfer_back_to_supervisor', 'args': {}, 'id': 'e995ddd1-67b4-48e8-b29e-42dd3e721139', 'type': 'tool_call'}]),\n",
      "                             ToolMessage(content='Successfully transferred back to supervisor', name='transfer_back_to_supervisor', id='0beb4062-6ed6-4d87-bd63-c769425c1692', tool_call_id='e995ddd1-67b4-48e8-b29e-42dd3e721139'),\n",
      "                             AIMessage(content='В Москве сейчас 12:00, и погода солнечная.', additional_kwargs={'refusal': None}, response_metadata={'token_usage': {'completion_tokens': 15, 'prompt_tokens': 317, 'total_tokens': 332, 'completion_tokens_details': {'accepted_prediction_tokens': 0, 'audio_tokens': 0, 'reasoning_tokens': 0, 'rejected_prediction_tokens': 0}, 'prompt_tokens_details': {'audio_tokens': 0, 'cached_tokens': 0}}, 'model_name': 'gpt-4o-mini-2024-07-18', 'system_fingerprint': 'fp_34a54ae93c', 'id': 'chatcmpl-BnUf5OfbXeuL6z4Py6eMUGlkp7cwY', 'service_tier': 'default', 'finish_reason': 'stop', 'logprobs': None}, name='supervisor', id='run--d20dc6e8-e1df-4975-b240-74561721ffca-0', usage_metadata={'input_tokens': 317, 'output_tokens': 15, 'total_tokens': 332, 'input_token_details': {'audio': 0, 'cache_read': 0}, 'output_token_details': {'audio': 0, 'reasoning': 0}})]}}\n",
      "{'__interrupt__': (Interrupt(value=\"Проверьте ответ агента: 'В Москве сейчас \"\n",
      "                                   \"12:00, и погода солнечная.'. Введите \"\n",
      "                                   'правки или подтвердите:',\n",
      "                             resumable=True,\n",
      "                             ns=['human_check:e4f705fb-c624-a5ac-03f8-56197a73c2fe']),)}\n"
     ]
    },
    {
     "name": "stdin",
     "output_type": "stream",
     "text": [
      "Введите правки или подтвердите ответ:  Я хотел про Воронеж\n"
     ]
    },
    {
     "name": "stdout",
     "output_type": "stream",
     "text": [
      "{'human_check': {'human_feedback': 'Я хотел про Воронеж',\n",
      "                 'messages': [HumanMessage(content='Какая погода в Москве и который час?', additional_kwargs={}, response_metadata={}, id='a5e457dd-9ce5-47c0-b3f6-f14355279494'),\n",
      "                              AIMessage(content='', additional_kwargs={'tool_calls': [{'id': 'call_A1SHHlsXq06rEysdUOeViesB', 'function': {'arguments': '{}', 'name': 'transfer_to_weather_agent'}, 'type': 'function'}], 'refusal': None}, response_metadata={'token_usage': {'completion_tokens': 12, 'prompt_tokens': 104, 'total_tokens': 116, 'completion_tokens_details': {'accepted_prediction_tokens': 0, 'audio_tokens': 0, 'reasoning_tokens': 0, 'rejected_prediction_tokens': 0}, 'prompt_tokens_details': {'audio_tokens': 0, 'cached_tokens': 0}}, 'model_name': 'gpt-4o-mini-2024-07-18', 'system_fingerprint': 'fp_34a54ae93c', 'id': 'chatcmpl-BnUf0xuNqqPu0glDvG0ENsKlzxZ4G', 'service_tier': 'default', 'finish_reason': 'tool_calls', 'logprobs': None}, name='supervisor', id='run--7a20e82c-d170-4b9e-a545-41366b5d3b6f-0', tool_calls=[{'name': 'transfer_to_weather_agent', 'args': {}, 'id': 'call_A1SHHlsXq06rEysdUOeViesB', 'type': 'tool_call'}], usage_metadata={'input_tokens': 104, 'output_tokens': 12, 'total_tokens': 116, 'input_token_details': {'audio': 0, 'cache_read': 0}, 'output_token_details': {'audio': 0, 'reasoning': 0}}),\n",
      "                              ToolMessage(content='Successfully transferred to weather_agent', name='transfer_to_weather_agent', id='7bf96ee4-fff7-4f39-9acb-b3014d6729c8', tool_call_id='call_A1SHHlsXq06rEysdUOeViesB'),\n",
      "                              AIMessage(content='В Москве погода солнечная. \\n\\nЧто касается времени, то извините, но я не могу предоставить актуальное время. Вы можете проверить его на вашем устройстве.', additional_kwargs={'refusal': None}, response_metadata={'token_usage': {'completion_tokens': 36, 'prompt_tokens': 360, 'total_tokens': 396, 'completion_tokens_details': {'accepted_prediction_tokens': 0, 'audio_tokens': 0, 'reasoning_tokens': 0, 'rejected_prediction_tokens': 0}, 'prompt_tokens_details': {'audio_tokens': 0, 'cached_tokens': 0}}, 'model_name': 'gpt-4o-mini-2024-07-18', 'system_fingerprint': 'fp_34a54ae93c', 'id': 'chatcmpl-BnUf2kr43iJuoWqCcaT2095t6GtKE', 'service_tier': 'default', 'finish_reason': 'stop', 'logprobs': None}, name='weather_agent', id='run--47fa13ec-7d58-486e-927e-ff5c9ece919a-0', usage_metadata={'input_tokens': 360, 'output_tokens': 36, 'total_tokens': 396, 'input_token_details': {'audio': 0, 'cache_read': 0}, 'output_token_details': {'audio': 0, 'reasoning': 0}}),\n",
      "                              AIMessage(content='Transferring back to supervisor', additional_kwargs={}, response_metadata={'__is_handoff_back': True}, name='weather_agent', id='297b2247-ec58-4a0d-bed7-eef44ee574b5', tool_calls=[{'name': 'transfer_back_to_supervisor', 'args': {}, 'id': '1ea697d1-50da-4d66-bd0f-2a4a933f10c9', 'type': 'tool_call'}]),\n",
      "                              ToolMessage(content='Successfully transferred back to supervisor', name='transfer_back_to_supervisor', id='ecf29fac-c6bd-49ea-8420-1ac56c1d4af9', tool_call_id='1ea697d1-50da-4d66-bd0f-2a4a933f10c9'),\n",
      "                              AIMessage(content='', additional_kwargs={'tool_calls': [{'id': 'call_ftmXEcXl248kbXmMPXBofxts', 'function': {'arguments': '{}', 'name': 'transfer_to_time_agent'}, 'type': 'function'}], 'refusal': None}, response_metadata={'token_usage': {'completion_tokens': 12, 'prompt_tokens': 221, 'total_tokens': 233, 'completion_tokens_details': {'accepted_prediction_tokens': 0, 'audio_tokens': 0, 'reasoning_tokens': 0, 'rejected_prediction_tokens': 0}, 'prompt_tokens_details': {'audio_tokens': 0, 'cached_tokens': 0}}, 'model_name': 'gpt-4o-mini-2024-07-18', 'system_fingerprint': 'fp_34a54ae93c', 'id': 'chatcmpl-BnUf3HcbRIBSn52qBSgXaxlVxOjgo', 'service_tier': 'default', 'finish_reason': 'tool_calls', 'logprobs': None}, name='supervisor', id='run--1b2b2f19-7d86-4db8-9cd7-1da422937b21-0', tool_calls=[{'name': 'transfer_to_time_agent', 'args': {}, 'id': 'call_ftmXEcXl248kbXmMPXBofxts', 'type': 'tool_call'}], usage_metadata={'input_tokens': 221, 'output_tokens': 12, 'total_tokens': 233, 'input_token_details': {'audio': 0, 'cache_read': 0}, 'output_token_details': {'audio': 0, 'reasoning': 0}}),\n",
      "                              ToolMessage(content='Successfully transferred to time_agent', name='transfer_to_time_agent', id='8177e670-a9db-4025-a50b-360d7301f818', tool_call_id='call_ftmXEcXl248kbXmMPXBofxts'),\n",
      "                              AIMessage(content='В Москве сейчас 12:00. Погода солнечная.', additional_kwargs={'refusal': None}, response_metadata={'token_usage': {'completion_tokens': 15, 'prompt_tokens': 254, 'total_tokens': 269, 'completion_tokens_details': {'accepted_prediction_tokens': 0, 'audio_tokens': 0, 'reasoning_tokens': 0, 'rejected_prediction_tokens': 0}, 'prompt_tokens_details': {'audio_tokens': 0, 'cached_tokens': 0}}, 'model_name': 'gpt-4o-mini-2024-07-18', 'system_fingerprint': 'fp_34a54ae93c', 'id': 'chatcmpl-BnUf4ETPt3Px5c1viwjMAMIcWQGK2', 'service_tier': 'default', 'finish_reason': 'stop', 'logprobs': None}, name='time_agent', id='run--ee71d284-cde1-4690-9588-c8109d3cfc8e-0', usage_metadata={'input_tokens': 254, 'output_tokens': 15, 'total_tokens': 269, 'input_token_details': {'audio': 0, 'cache_read': 0}, 'output_token_details': {'audio': 0, 'reasoning': 0}}),\n",
      "                              AIMessage(content='Transferring back to supervisor', additional_kwargs={}, response_metadata={'__is_handoff_back': True}, name='time_agent', id='0644c37c-e641-4b5c-bedc-0ab9666adf35', tool_calls=[{'name': 'transfer_back_to_supervisor', 'args': {}, 'id': 'e995ddd1-67b4-48e8-b29e-42dd3e721139', 'type': 'tool_call'}]),\n",
      "                              ToolMessage(content='Successfully transferred back to supervisor', name='transfer_back_to_supervisor', id='0beb4062-6ed6-4d87-bd63-c769425c1692', tool_call_id='e995ddd1-67b4-48e8-b29e-42dd3e721139'),\n",
      "                              AIMessage(content='В Москве сейчас 12:00, и погода солнечная.', additional_kwargs={'refusal': None}, response_metadata={'token_usage': {'completion_tokens': 15, 'prompt_tokens': 317, 'total_tokens': 332, 'completion_tokens_details': {'accepted_prediction_tokens': 0, 'audio_tokens': 0, 'reasoning_tokens': 0, 'rejected_prediction_tokens': 0}, 'prompt_tokens_details': {'audio_tokens': 0, 'cached_tokens': 0}}, 'model_name': 'gpt-4o-mini-2024-07-18', 'system_fingerprint': 'fp_34a54ae93c', 'id': 'chatcmpl-BnUf5OfbXeuL6z4Py6eMUGlkp7cwY', 'service_tier': 'default', 'finish_reason': 'stop', 'logprobs': None}, name='supervisor', id='run--d20dc6e8-e1df-4975-b240-74561721ffca-0', usage_metadata={'input_tokens': 317, 'output_tokens': 15, 'total_tokens': 332, 'input_token_details': {'audio': 0, 'cache_read': 0}, 'output_token_details': {'audio': 0, 'reasoning': 0}}),\n",
      "                              {'content': 'Я хотел про Воронеж',\n",
      "                               'role': 'user'}]}}\n"
     ]
    },
    {
     "name": "stderr",
     "output_type": "stream",
     "text": [
      "Task supervisor with path ('__pregel_pull', 'supervisor') wrote to unknown channel is_last_step, ignoring it.\n",
      "Task supervisor with path ('__pregel_pull', 'supervisor') wrote to unknown channel remaining_steps, ignoring it.\n",
      "Task supervisor with path ('__pregel_pull', 'supervisor') wrote to unknown channel is_last_step, ignoring it.\n",
      "Task supervisor with path ('__pregel_pull', 'supervisor') wrote to unknown channel remaining_steps, ignoring it.\n",
      "Task human_check with path ('__pregel_pull', 'human_check') wrote to unknown channel branch:to:__end__, ignoring it.\n"
     ]
    },
    {
     "name": "stdout",
     "output_type": "stream",
     "text": [
      "{'supervisor': {'messages': [HumanMessage(content='Какая погода в Москве и который час?', additional_kwargs={}, response_metadata={}, id='a5e457dd-9ce5-47c0-b3f6-f14355279494'),\n",
      "                             AIMessage(content='', additional_kwargs={'tool_calls': [{'id': 'call_A1SHHlsXq06rEysdUOeViesB', 'function': {'arguments': '{}', 'name': 'transfer_to_weather_agent'}, 'type': 'function'}], 'refusal': None}, response_metadata={'token_usage': {'completion_tokens': 12, 'prompt_tokens': 104, 'total_tokens': 116, 'completion_tokens_details': {'accepted_prediction_tokens': 0, 'audio_tokens': 0, 'reasoning_tokens': 0, 'rejected_prediction_tokens': 0}, 'prompt_tokens_details': {'audio_tokens': 0, 'cached_tokens': 0}}, 'model_name': 'gpt-4o-mini-2024-07-18', 'system_fingerprint': 'fp_34a54ae93c', 'id': 'chatcmpl-BnUf0xuNqqPu0glDvG0ENsKlzxZ4G', 'service_tier': 'default', 'finish_reason': 'tool_calls', 'logprobs': None}, name='supervisor', id='run--7a20e82c-d170-4b9e-a545-41366b5d3b6f-0', tool_calls=[{'name': 'transfer_to_weather_agent', 'args': {}, 'id': 'call_A1SHHlsXq06rEysdUOeViesB', 'type': 'tool_call'}], usage_metadata={'input_tokens': 104, 'output_tokens': 12, 'total_tokens': 116, 'input_token_details': {'audio': 0, 'cache_read': 0}, 'output_token_details': {'audio': 0, 'reasoning': 0}}),\n",
      "                             ToolMessage(content='Successfully transferred to weather_agent', name='transfer_to_weather_agent', id='7bf96ee4-fff7-4f39-9acb-b3014d6729c8', tool_call_id='call_A1SHHlsXq06rEysdUOeViesB'),\n",
      "                             AIMessage(content='В Москве погода солнечная. \\n\\nЧто касается времени, то извините, но я не могу предоставить актуальное время. Вы можете проверить его на вашем устройстве.', additional_kwargs={'refusal': None}, response_metadata={'token_usage': {'completion_tokens': 36, 'prompt_tokens': 360, 'total_tokens': 396, 'completion_tokens_details': {'accepted_prediction_tokens': 0, 'audio_tokens': 0, 'reasoning_tokens': 0, 'rejected_prediction_tokens': 0}, 'prompt_tokens_details': {'audio_tokens': 0, 'cached_tokens': 0}}, 'model_name': 'gpt-4o-mini-2024-07-18', 'system_fingerprint': 'fp_34a54ae93c', 'id': 'chatcmpl-BnUf2kr43iJuoWqCcaT2095t6GtKE', 'service_tier': 'default', 'finish_reason': 'stop', 'logprobs': None}, name='weather_agent', id='run--47fa13ec-7d58-486e-927e-ff5c9ece919a-0', usage_metadata={'input_tokens': 360, 'output_tokens': 36, 'total_tokens': 396, 'input_token_details': {'audio': 0, 'cache_read': 0}, 'output_token_details': {'audio': 0, 'reasoning': 0}}),\n",
      "                             AIMessage(content='Transferring back to supervisor', additional_kwargs={}, response_metadata={'__is_handoff_back': True}, name='weather_agent', id='297b2247-ec58-4a0d-bed7-eef44ee574b5', tool_calls=[{'name': 'transfer_back_to_supervisor', 'args': {}, 'id': '1ea697d1-50da-4d66-bd0f-2a4a933f10c9', 'type': 'tool_call'}]),\n",
      "                             ToolMessage(content='Successfully transferred back to supervisor', name='transfer_back_to_supervisor', id='ecf29fac-c6bd-49ea-8420-1ac56c1d4af9', tool_call_id='1ea697d1-50da-4d66-bd0f-2a4a933f10c9'),\n",
      "                             AIMessage(content='', additional_kwargs={'tool_calls': [{'id': 'call_ftmXEcXl248kbXmMPXBofxts', 'function': {'arguments': '{}', 'name': 'transfer_to_time_agent'}, 'type': 'function'}], 'refusal': None}, response_metadata={'token_usage': {'completion_tokens': 12, 'prompt_tokens': 221, 'total_tokens': 233, 'completion_tokens_details': {'accepted_prediction_tokens': 0, 'audio_tokens': 0, 'reasoning_tokens': 0, 'rejected_prediction_tokens': 0}, 'prompt_tokens_details': {'audio_tokens': 0, 'cached_tokens': 0}}, 'model_name': 'gpt-4o-mini-2024-07-18', 'system_fingerprint': 'fp_34a54ae93c', 'id': 'chatcmpl-BnUf3HcbRIBSn52qBSgXaxlVxOjgo', 'service_tier': 'default', 'finish_reason': 'tool_calls', 'logprobs': None}, name='supervisor', id='run--1b2b2f19-7d86-4db8-9cd7-1da422937b21-0', tool_calls=[{'name': 'transfer_to_time_agent', 'args': {}, 'id': 'call_ftmXEcXl248kbXmMPXBofxts', 'type': 'tool_call'}], usage_metadata={'input_tokens': 221, 'output_tokens': 12, 'total_tokens': 233, 'input_token_details': {'audio': 0, 'cache_read': 0}, 'output_token_details': {'audio': 0, 'reasoning': 0}}),\n",
      "                             ToolMessage(content='Successfully transferred to time_agent', name='transfer_to_time_agent', id='8177e670-a9db-4025-a50b-360d7301f818', tool_call_id='call_ftmXEcXl248kbXmMPXBofxts'),\n",
      "                             AIMessage(content='В Москве сейчас 12:00. Погода солнечная.', additional_kwargs={'refusal': None}, response_metadata={'token_usage': {'completion_tokens': 15, 'prompt_tokens': 254, 'total_tokens': 269, 'completion_tokens_details': {'accepted_prediction_tokens': 0, 'audio_tokens': 0, 'reasoning_tokens': 0, 'rejected_prediction_tokens': 0}, 'prompt_tokens_details': {'audio_tokens': 0, 'cached_tokens': 0}}, 'model_name': 'gpt-4o-mini-2024-07-18', 'system_fingerprint': 'fp_34a54ae93c', 'id': 'chatcmpl-BnUf4ETPt3Px5c1viwjMAMIcWQGK2', 'service_tier': 'default', 'finish_reason': 'stop', 'logprobs': None}, name='time_agent', id='run--ee71d284-cde1-4690-9588-c8109d3cfc8e-0', usage_metadata={'input_tokens': 254, 'output_tokens': 15, 'total_tokens': 269, 'input_token_details': {'audio': 0, 'cache_read': 0}, 'output_token_details': {'audio': 0, 'reasoning': 0}}),\n",
      "                             AIMessage(content='Transferring back to supervisor', additional_kwargs={}, response_metadata={'__is_handoff_back': True}, name='time_agent', id='0644c37c-e641-4b5c-bedc-0ab9666adf35', tool_calls=[{'name': 'transfer_back_to_supervisor', 'args': {}, 'id': 'e995ddd1-67b4-48e8-b29e-42dd3e721139', 'type': 'tool_call'}]),\n",
      "                             ToolMessage(content='Successfully transferred back to supervisor', name='transfer_back_to_supervisor', id='0beb4062-6ed6-4d87-bd63-c769425c1692', tool_call_id='e995ddd1-67b4-48e8-b29e-42dd3e721139'),\n",
      "                             AIMessage(content='В Москве сейчас 12:00, и погода солнечная.', additional_kwargs={'refusal': None}, response_metadata={'token_usage': {'completion_tokens': 15, 'prompt_tokens': 317, 'total_tokens': 332, 'completion_tokens_details': {'accepted_prediction_tokens': 0, 'audio_tokens': 0, 'reasoning_tokens': 0, 'rejected_prediction_tokens': 0}, 'prompt_tokens_details': {'audio_tokens': 0, 'cached_tokens': 0}}, 'model_name': 'gpt-4o-mini-2024-07-18', 'system_fingerprint': 'fp_34a54ae93c', 'id': 'chatcmpl-BnUf5OfbXeuL6z4Py6eMUGlkp7cwY', 'service_tier': 'default', 'finish_reason': 'stop', 'logprobs': None}, name='supervisor', id='run--d20dc6e8-e1df-4975-b240-74561721ffca-0', usage_metadata={'input_tokens': 317, 'output_tokens': 15, 'total_tokens': 332, 'input_token_details': {'audio': 0, 'cache_read': 0}, 'output_token_details': {'audio': 0, 'reasoning': 0}}),\n",
      "                             HumanMessage(content='Я хотел про Воронеж', additional_kwargs={}, response_metadata={}, id='4819baa6-d857-4348-84ca-77d14917ebdb'),\n",
      "                             AIMessage(content='', additional_kwargs={'tool_calls': [{'id': 'call_yuqIpX4i584R7PYbEM0hiakE', 'function': {'arguments': '{}', 'name': 'transfer_to_weather_agent'}, 'type': 'function'}], 'refusal': None}, response_metadata={'token_usage': {'completion_tokens': 12, 'prompt_tokens': 348, 'total_tokens': 360, 'completion_tokens_details': {'accepted_prediction_tokens': 0, 'audio_tokens': 0, 'reasoning_tokens': 0, 'rejected_prediction_tokens': 0}, 'prompt_tokens_details': {'audio_tokens': 0, 'cached_tokens': 0}}, 'model_name': 'gpt-4o-mini-2024-07-18', 'system_fingerprint': 'fp_34a54ae93c', 'id': 'chatcmpl-BnUfM9PIvb0CdTG2zScd11kg6KIWd', 'service_tier': 'default', 'finish_reason': 'tool_calls', 'logprobs': None}, name='supervisor', id='run--47e1f978-4190-466e-b392-851191427716-0', tool_calls=[{'name': 'transfer_to_weather_agent', 'args': {}, 'id': 'call_yuqIpX4i584R7PYbEM0hiakE', 'type': 'tool_call'}], usage_metadata={'input_tokens': 348, 'output_tokens': 12, 'total_tokens': 360, 'input_token_details': {'audio': 0, 'cache_read': 0}, 'output_token_details': {'audio': 0, 'reasoning': 0}}),\n",
      "                             ToolMessage(content='Successfully transferred to weather_agent', name='transfer_to_weather_agent', id='a4b93a86-54fe-42c1-a7ca-1949919d867f', tool_call_id='call_yuqIpX4i584R7PYbEM0hiakE'),\n",
      "                             AIMessage(content='В Воронеже погода солнечная. К сожалению, точное время я предоставить не могу.', additional_kwargs={'refusal': None}, response_metadata={'token_usage': {'completion_tokens': 22, 'prompt_tokens': 384, 'total_tokens': 406, 'completion_tokens_details': {'accepted_prediction_tokens': 0, 'audio_tokens': 0, 'reasoning_tokens': 0, 'rejected_prediction_tokens': 0}, 'prompt_tokens_details': {'audio_tokens': 0, 'cached_tokens': 0}}, 'model_name': 'gpt-4o-mini-2024-07-18', 'system_fingerprint': 'fp_34a54ae93c', 'id': 'chatcmpl-BnUfPhWwpgKjHds2ZSHu6jIK3WKQ7', 'service_tier': 'default', 'finish_reason': 'stop', 'logprobs': None}, name='weather_agent', id='run--8352dc88-2fc0-44a9-89e5-1178caa390f8-0', usage_metadata={'input_tokens': 384, 'output_tokens': 22, 'total_tokens': 406, 'input_token_details': {'audio': 0, 'cache_read': 0}, 'output_token_details': {'audio': 0, 'reasoning': 0}}),\n",
      "                             AIMessage(content='Transferring back to supervisor', additional_kwargs={}, response_metadata={'__is_handoff_back': True}, name='weather_agent', id='265e5efd-c24a-4d77-b035-2d733fca7178', tool_calls=[{'name': 'transfer_back_to_supervisor', 'args': {}, 'id': '9b83758a-6dd0-4ab1-8b7e-9c5cbf9e043d', 'type': 'tool_call'}]),\n",
      "                             ToolMessage(content='Successfully transferred back to supervisor', name='transfer_back_to_supervisor', id='db5db88a-70ab-4239-8633-0bf8d4d79492', tool_call_id='9b83758a-6dd0-4ab1-8b7e-9c5cbf9e043d'),\n",
      "                             AIMessage(content='', additional_kwargs={'tool_calls': [{'id': 'call_bgGbSPKzQ0VMhNWzrWCGPXhJ', 'function': {'arguments': '{}', 'name': 'transfer_to_time_agent'}, 'type': 'function'}], 'refusal': None}, response_metadata={'token_usage': {'completion_tokens': 12, 'prompt_tokens': 451, 'total_tokens': 463, 'completion_tokens_details': {'accepted_prediction_tokens': 0, 'audio_tokens': 0, 'reasoning_tokens': 0, 'rejected_prediction_tokens': 0}, 'prompt_tokens_details': {'audio_tokens': 0, 'cached_tokens': 0}}, 'model_name': 'gpt-4o-mini-2024-07-18', 'system_fingerprint': 'fp_34a54ae93c', 'id': 'chatcmpl-BnUfQzAaGTIb3yXqTLh44lfBXw9gW', 'service_tier': 'default', 'finish_reason': 'tool_calls', 'logprobs': None}, name='supervisor', id='run--e7bde450-a908-49db-ad56-9f7dbb46051a-0', tool_calls=[{'name': 'transfer_to_time_agent', 'args': {}, 'id': 'call_bgGbSPKzQ0VMhNWzrWCGPXhJ', 'type': 'tool_call'}], usage_metadata={'input_tokens': 451, 'output_tokens': 12, 'total_tokens': 463, 'input_token_details': {'audio': 0, 'cache_read': 0}, 'output_token_details': {'audio': 0, 'reasoning': 0}}),\n",
      "                             ToolMessage(content='Successfully transferred to time_agent', name='transfer_to_time_agent', id='21ac675d-618e-44f8-ab1a-9045d0835ba0', tool_call_id='call_bgGbSPKzQ0VMhNWzrWCGPXhJ'),\n",
      "                             AIMessage(content='В Воронеже сейчас 12:00, и погода солнечная.', additional_kwargs={'refusal': None}, response_metadata={'token_usage': {'completion_tokens': 18, 'prompt_tokens': 681, 'total_tokens': 699, 'completion_tokens_details': {'accepted_prediction_tokens': 0, 'audio_tokens': 0, 'reasoning_tokens': 0, 'rejected_prediction_tokens': 0}, 'prompt_tokens_details': {'audio_tokens': 0, 'cached_tokens': 0}}, 'model_name': 'gpt-4o-mini-2024-07-18', 'system_fingerprint': 'fp_34a54ae93c', 'id': 'chatcmpl-BnUfSv65VphnLNUZpDwNarzzpjvuY', 'service_tier': 'default', 'finish_reason': 'stop', 'logprobs': None}, name='time_agent', id='run--a990bc8f-ff12-4a6a-8746-8eead509195e-0', usage_metadata={'input_tokens': 681, 'output_tokens': 18, 'total_tokens': 699, 'input_token_details': {'audio': 0, 'cache_read': 0}, 'output_token_details': {'audio': 0, 'reasoning': 0}}),\n",
      "                             AIMessage(content='Transferring back to supervisor', additional_kwargs={}, response_metadata={'__is_handoff_back': True}, name='time_agent', id='1fbef5e1-6993-4ec1-a7e3-de208d33300b', tool_calls=[{'name': 'transfer_back_to_supervisor', 'args': {}, 'id': 'cfc5e6d2-0172-4c72-987e-be36fb80666e', 'type': 'tool_call'}]),\n",
      "                             ToolMessage(content='Successfully transferred back to supervisor', name='transfer_back_to_supervisor', id='84414fcd-3101-4fb4-9e71-393298383529', tool_call_id='cfc5e6d2-0172-4c72-987e-be36fb80666e'),\n",
      "                             AIMessage(content='В Воронеже сейчас 12:00, погода солнечная.', additional_kwargs={'refusal': None}, response_metadata={'token_usage': {'completion_tokens': 17, 'prompt_tokens': 550, 'total_tokens': 567, 'completion_tokens_details': {'accepted_prediction_tokens': 0, 'audio_tokens': 0, 'reasoning_tokens': 0, 'rejected_prediction_tokens': 0}, 'prompt_tokens_details': {'audio_tokens': 0, 'cached_tokens': 0}}, 'model_name': 'gpt-4o-mini-2024-07-18', 'system_fingerprint': 'fp_34a54ae93c', 'id': 'chatcmpl-BnUfTf3CFHEqLP811TqYIpQdbh5DI', 'service_tier': 'default', 'finish_reason': 'stop', 'logprobs': None}, name='supervisor', id='run--ee58a84a-2f04-4209-a186-36ffd75951c2-0', usage_metadata={'input_tokens': 550, 'output_tokens': 17, 'total_tokens': 567, 'input_token_details': {'audio': 0, 'cache_read': 0}, 'output_token_details': {'audio': 0, 'reasoning': 0}})]}}\n",
      "{'human_check': None}\n"
     ]
    }
   ],
   "source": [
    "# Запускаем граф с запросом пользователя\n",
    "initial_state = {\n",
    "    \"messages\": [{\"role\": \"user\", \"content\": \"Какая погода в Москве и который час?\"}],\n",
    "    \"human_feedback\": \"\"\n",
    "}\n",
    "config = {\"configurable\": {\"thread_id\": \"user123\"}}\n",
    "\n",
    "# Запуск с ожиданием human-in-the-loop\n",
    "for event in graph.stream(initial_state, config=config):\n",
    "    pprint(event)\n",
    "    if \"__interrupt__\" in event:\n",
    "        user_input = input(\"Введите правки или подтвердите ответ: \")\n",
    "        # При помощи Command передаём ответ пользователя в interrupt\n",
    "        for cont_event in graph.stream(Command(resume=user_input), config=config):\n",
    "            pprint(cont_event)"
   ]
  },
  {
   "cell_type": "markdown",
   "metadata": {},
   "source": [
    "<div class=\"alert alert-success\" style=\"background-color:#e6ffe6; padding:13px; border-width:3px; border-color:#efe6ef; border-style:solid; border-radius:6px\">\n",
    "    \n",
    "Мы смогли как откорректировать, так и подтвердить ответ модели!\n",
    "\n",
    "Таким образом, мы могли бы подтвердить, например, бронировать найденный отель или нет.\n",
    "\n",
    "Самые частые паттерны использования HIL в агентных системах:\n",
    "- валидация ответа модели (отказать или продолжить)\n",
    "- проверка и редактирование текущего состояния (`State`)\n",
    "- вылидация правильности выбора инструментов\n",
    "\n",
    "Также HIL можно добавить к любому инструменту, подробнее читатйте в [документации](https://langchain-ai.github.io/langgraph/how-tos/human_in_the_loop/add-human-in-the-loop/#add-interrupts-to-any-tool)"
   ]
  },
  {
   "cell_type": "markdown",
   "metadata": {},
   "source": [
    "# <center> 🪢 Кастомный мульти-агент </center>"
   ]
  },
  {
   "cell_type": "markdown",
   "metadata": {},
   "source": [
    "<div class=\"alert alert-info\" style=\"padding:10px; border-width:3px; border-color:#efe6ef; border-style:solid; border-radius:6px\">\n",
    "\n",
    "Давайте попробуем создать целую редакцию, для написания статей!\n",
    "\n",
    "Для реализации этого агента будем использовать ещё один популярный инструмент веб-поиска - `Tavily Search`. Для использования сервиса, перейдите по [ссылке](https://www.tavily.com), зарегистрируйтесь и создайте себе API-ключ."
   ]
  },
  {
   "cell_type": "code",
   "execution_count": 132,
   "metadata": {},
   "outputs": [
    {
     "name": "stdin",
     "output_type": "stream",
     "text": [
      "Введите ваш Tavily API-ключ:  ········\n"
     ]
    }
   ],
   "source": [
    "os.environ['TAVILY_API_KEY'] = getpass(prompt=\"Введите ваш Tavily API-ключ: \")"
   ]
  },
  {
   "cell_type": "code",
   "execution_count": 135,
   "metadata": {},
   "outputs": [],
   "source": [
    "from tavily import TavilyClient\n",
    "from pydantic import BaseModel\n",
    "from typing import TypedDict, List\n",
    "\n",
    "# Создадим модель со списком для запросов инструмента - поиск, для structured output\n",
    "class Queries(BaseModel):\n",
    "    queries: List[str]\n",
    "\n",
    "tavily = TavilyClient(api_key=os.environ[\"TAVILY_API_KEY\"])"
   ]
  },
  {
   "cell_type": "code",
   "execution_count": 149,
   "metadata": {},
   "outputs": [],
   "source": [
    "# инициализируем память\n",
    "memory = MemorySaver()\n",
    "\n",
    "# Создаём датакласс, для хранения состояния системы (State)\n",
    "class AgentState(TypedDict):\n",
    "    task: str\n",
    "    plan: str\n",
    "    draft: str\n",
    "    critique: str\n",
    "    content: List[str]\n",
    "    revision_number: int\n",
    "    max_revisions: int"
   ]
  },
  {
   "cell_type": "code",
   "execution_count": 142,
   "metadata": {},
   "outputs": [],
   "source": [
    "# Напишем промпты для каждой из ролей\n",
    "# Промпты (на русском, можно заменить на английский при необходимости)\n",
    "PLAN_PROMPT = \"\"\"Ты — писатель-эксперт. Твоя задача — составить план статьи по теме пользователя.\n",
    "Опиши структуру статьи и дай заметки или инструкции для разделов.\"\"\"\n",
    "\n",
    "WRITER_PROMPT = \"\"\"Ты — помощник по написанию статей.\n",
    "Напиши наилучшую статью на основе запроса пользователя и плана.\n",
    "Если пользователь даёт критику, исправь отчёт с учётом замечаний.\n",
    "Используй всю доступную информацию: \n",
    "------ \n",
    "{content}\"\"\"\n",
    "\n",
    "REFLECTION_PROMPT = \"\"\"Ты — критик, оценивающий статью.\n",
    "Сформулируй критику и рекомендации по улучшению: длина, глубина, стиль и т.д.\"\"\"\n",
    "\n",
    "RESEARCH_PLAN_PROMPT = \"\"\"Ты — исследователь. Составь список из максимум 3 поисковых запросов,\n",
    "которые помогут собрать необходимую информацию для статьи.\"\"\"\n",
    "\n",
    "RESEARCH_CRITIQUE_PROMPT = \"\"\"Ты — исследователь. Составь список из максимум 3 поисковых запросов,\n",
    "которые помогут собрать информацию для доработки статьи согласно критике.\"\"\""
   ]
  },
  {
   "cell_type": "code",
   "execution_count": 153,
   "metadata": {},
   "outputs": [],
   "source": [
    "# Создаём отдельных агентов - узлы будущего графа\n",
    "from langchain_core.messages import SystemMessage, HumanMessage\n",
    "\n",
    "# агент-планировщик - пишет план будущей статьи\n",
    "def plan_node(state: AgentState):\n",
    "    messages = [\n",
    "        SystemMessage(content=PLAN_PROMPT),\n",
    "        HumanMessage(content=state['task'])\n",
    "    ]\n",
    "    response = llm.invoke(messages)\n",
    "    return {\"plan\": response.content}\n",
    "\n",
    "# агент-исследователь - создаёт список из 3-х самых релевантных запросов по теме\n",
    "# используем structured output, чтобы получить список запросов\n",
    "# затем эти запросы подаются в поисковик и собираются в State по ключу content\n",
    "def research_plan_node(state: AgentState):\n",
    "    queries = llm.with_structured_output(Queries).invoke([\n",
    "        SystemMessage(content=RESEARCH_PLAN_PROMPT),\n",
    "        HumanMessage(content=state['task'])\n",
    "    ])\n",
    "    \n",
    "    content = state.get('content', [])\n",
    "    for q in queries.queries:\n",
    "        response = tavily.search(query=q, max_results=2)\n",
    "        for r in response['results']:\n",
    "            content.append(r['content'])\n",
    "    return {\"content\": content}\n",
    "\n",
    "# агент-писатель, который по найденному контенту, пишет статью по плану и тематике.\n",
    "def generation_node(state: AgentState):\n",
    "    content = \"\\n\\n\".join(state['content'] or [])\n",
    "    user_message = HumanMessage(\n",
    "        content=f\"{state['task']}\\n\\nHere is my plan:\\n\\n{state['plan']}\")\n",
    "    messages = [\n",
    "        SystemMessage(\n",
    "            content=WRITER_PROMPT.format(content=content)\n",
    "        ),\n",
    "        user_message\n",
    "        ]\n",
    "    response = llm.invoke(messages)\n",
    "    return {\n",
    "        \"draft\": response.content,\n",
    "        \"revision_number\": state.get(\"revision_number\", 1) + 1\n",
    "    }\n",
    "\n",
    "# агент-критик (редактор) - находит недостатки и выдаёт рекомендации\n",
    "def reflection_node(state: AgentState):\n",
    "    messages = [\n",
    "        SystemMessage(content=REFLECTION_PROMPT),\n",
    "        HumanMessage(content=state['draft'])\n",
    "    ]\n",
    "    response = llm.invoke(messages)\n",
    "    return {\"critique\": response.content}\n",
    "\n",
    "# агент-исследователь, который уточняет запросы и помогает устранить найденные недостатки\n",
    "# для этого обращается к поисковику и обогащает content\n",
    "def research_critique_node(state: AgentState):\n",
    "    queries = llm.with_structured_output(Queries).invoke([\n",
    "        SystemMessage(content=RESEARCH_CRITIQUE_PROMPT),\n",
    "        HumanMessage(content=state['critique'])\n",
    "    ])\n",
    "    content = state['content'] or []\n",
    "    for q in queries.queries:\n",
    "        response = tavily.search(query=q, max_results=2)\n",
    "        for r in response['results']:\n",
    "            content.append(r['content'])\n",
    "    return {\"content\": content}\n",
    "\n",
    "# функция, проверяющая достигла ли система лимита по ревью статьи\n",
    "def should_continue(state):\n",
    "    if state[\"revision_number\"] > state[\"max_revisions\"]:\n",
    "        return END\n",
    "    return \"reflect\""
   ]
  },
  {
   "cell_type": "code",
   "execution_count": 154,
   "metadata": {},
   "outputs": [
    {
     "data": {
      "image/png": "[encoded data removed]",
      "text/plain": [
       "<IPython.core.display.Image object>"
      ]
     },
     "metadata": {},
     "output_type": "display_data"
    }
   ],
   "source": [
    "# Строим граф\n",
    "builder = StateGraph(AgentState)\n",
    "\n",
    "# Добавляем узлы (всех наших агентов)\n",
    "builder.add_node(\"planner\", plan_node)\n",
    "builder.add_node(\"generate\", generation_node)\n",
    "builder.add_node(\"reflect\", reflection_node)\n",
    "builder.add_node(\"research_plan\", research_plan_node)\n",
    "builder.add_node(\"research_critique\", research_critique_node)\n",
    "\n",
    "# указываем агента, с которого следует стартовать\n",
    "builder.set_entry_point(\"planner\")\n",
    "\n",
    "# Добавляем conditional edge\n",
    "# оно решает, идти ещё на одну итерацию цикла или заканчивать\n",
    "builder.add_conditional_edges(\n",
    "    \"generate\", \n",
    "    should_continue, \n",
    "    {END: END, \"reflect\": \"reflect\"}\n",
    ")\n",
    "\n",
    "# Выстраиваем последовательность работы агентов (agent workflow)\n",
    "builder.add_edge(\"planner\", \"research_plan\")\n",
    "builder.add_edge(\"research_plan\", \"generate\")\n",
    "\n",
    "builder.add_edge(\"reflect\", \"research_critique\")\n",
    "builder.add_edge(\"research_critique\", \"generate\")\n",
    "\n",
    "# Компилируем граф\n",
    "graph = builder.compile(checkpointer=memory)\n",
    "\n",
    "# Визуализируем\n",
    "display(Image(graph.get_graph().draw_mermaid_png()))"
   ]
  },
  {
   "cell_type": "code",
   "execution_count": 161,
   "metadata": {
    "scrolled": true
   },
   "outputs": [
    {
     "name": "stdout",
     "output_type": "stream",
     "text": [
      "{'planner': {'plan': '### Статья: Возможные сценарии применения мультиагентных систем на базе LLM\\n\\n#### Структура статьи\\n\\n1. **Введение**\\n   - Определение мультиагентных систем (МАС).\\n   - Краткий обзор LLM (Large Language Models) и их возможностей.\\n   - Причины сочетания МАС и LLM: какие преимущества они могут дать в различных областях.\\n\\n   **Заметки**: В этом разделе следует установить контекст для читателя, объяснить основные термины и дать представление о современном состоянии технологий.\\n\\n2. **Основные компоненты мультиагентных систем**\\n   - Агент и его характеристики.\\n   - Коммуникация между агентами.\\n   - Принятие решений и координация в мультиагентной среде.\\n\\n   **Заметки**: Важно подчеркнуть, что МАС состоят из автономных агентов, способных взаимодействовать друг с другом. Опишите, как LLM могут улучшить эти аспекты.\\n\\n3. **Сценарий 1: Обратная связь и поддержка в обучении**\\n   - Применение в образовательных системах (наставники-агенты).\\n   - Индивидуализированный подход к обучению с использованием LLM для анализа ответов студентов и предоставления рекомендаций.\\n\\n   **Заметки**: Приведите примеры использования MLL в образовании и возможные метрики успеха.\\n\\n4. **Сценарий 2: Интеллектуальные ассистенты**\\n   - Мультиагентные системы для автоматизации бизнес-процессов.\\n   - Пр применение LLM для создания ассистентов, которые могут анализировать данные, вести переговоры и т.д.\\n\\n   **Заметки**: Приведите примеры современных бизнес-приложений, где такая интеграция уже практикуется, и остановитесь на преимуществах.\\n\\n5. **Сценарий 3: Моделирование и предсказание**\\n   - Использование мультиагентных систем с LLM для моделирования сложных систем (например, экосистем, экономик).\\n   - Предсказание трендов на основе взаимодействия агентов в симуляциях.\\n\\n   **Заметки**: Обсудите, как именно LLM могут помочь в обработке и анализе больших объемов данных в этом контексте.\\n\\n6. **Сценарий 4: Социальные взаимодействия и игры**\\n   - Создание виртуальных миров с агентами, взаимодействующими между собой и с игроками.\\n   - Примеры игровых приложений, использующих LLM для улучшения взаимодействия.\\n\\n   **Заметки**: Убедитесь, что освещены аспекты взаимодействий и вовлеченности. Поощряйте обсуждение потенциальных недостатков, таких как непредсказуемость поведения агентов.\\n\\n7. **Проблемы и вызовы**\\n   - Этические и социальные проблемы, связанные с использованием МАС на базе LLM.\\n   - Технические сложности: необходимость в масштабируемых системах, управлении данными и т.д.\\n\\n   **Заметки**: Важно критически оценить не только преимущества, но и потенциальные риски. Это может вызвать интересные дискуссии среди читателей.\\n\\n8. **Заключение**\\n   - Сводка основных точек.\\n   - Перспективы дальнейших исследований и разработок в области МАС и LLM.\\n\\n   **Заметки**: Подчеркните, что будущее мультиагентных систем на базе LLM выглядит многообещающе, но требует осторожного подхода.\\n\\n#### Дополнительные рекомендации\\n- Используйте примеры из реальной практики для каждой категории применения.\\n- Информируйте читателей о существующих исследованиях и проектах, работающих в этой области.\\n- Статья должна оставаться доступной и понятной, избегая чрезмерной технической терминологии в первых разделах.'}}\n",
      "{'research_plan': {'content': ['На мастер-классе Practical ML Conf Дмитрий Рыбалко из Yandex Cloud и Дмитрий Сошников, доцент МАИ и НИУ ВШЭ, демонстрируют применение мультиагентных подходов для работы с большими языковыми моделями (LLM) на базе сервисов Yandex Cloud', 'Текущие LLM генерируют текст или выполняют задачи только по запросу, но с появлением AI-агентов всё меняется. К 2028 году 33% корпоративного ПО будут использовать AI-агентов. AI-агенты не требуют явных запросов и не выдают', 'В этом контексте существуют две фундаментальные концепции: типы обратной связи, на основе которой агенты должны учиться расширять свои возможности, и стратегии, позволяющие агентам адаптироваться для эффективного решения сложных проблем. **_Самоэволюция._** Вместо того, чтобы полагаться только на исторические записи для принятия решений о последующих действиях, как это показано в решениях на основе памяти, агенты могут динамически саморазвиваться, например, изменяя свои первоначальные цели и стратегии планирования, а также тренируясь на основе обратной связи или общения. Исследования в области мультиагентных систем на основе крупных языковых моделей (LLM-MA) активно развиваются, сталкиваясь с разнообразными вызовами и открывая новые возможности: Потенциал систем LLM-MA выходит далеко за рамки их текущих приложений и открывает большие перспективы для решения передовых вычислительных задач в таких областях, как финансы, образование, здравоохранение, экология, городское планирование и так далее.', 'Одноагентные и мультиагентные системы При построении одноагентных систем на основе LLM основное внимание уделяется взаимодействию с внешней средой и внутренним механизмам работы агента. В мультиагентных системах', 'В этом контексте существуют две фундаментальные концепции: типы обратной связи, на основе которой агенты должны учиться расширять свои возможности, и стратегии, позволяющие агентам адаптироваться для эффективного решения сложных проблем. **_Самоэволюция._** Вместо того, чтобы полагаться только на исторические записи для принятия решений о последующих действиях, как это показано в решениях на основе памяти, агенты могут динамически саморазвиваться, например, изменяя свои первоначальные цели и стратегии планирования, а также тренируясь на основе обратной связи или общения. Исследования в области мультиагентных систем на основе крупных языковых моделей (LLM-MA) активно развиваются, сталкиваясь с разнообразными вызовами и открывая новые возможности: Потенциал систем LLM-MA выходит далеко за рамки их текущих приложений и открывает большие перспективы для решения передовых вычислительных задач в таких областях, как финансы, образование, здравоохранение, экология, городское планирование и так далее.', 'Другими словами, AI-агенты используют LLM не только для синтеза информации, но и для этапов понимания и обработки запроса и сочетают в себе анализ данных, рассуждения и выполнение действий. Эта размытость терминологии нередко приводит к тому, что в одну категорию попадают как простые чат-боты, выполняющие строго регламентированные задачи, так и сложные ИИ-агенты, способные анализировать данные, адаптироваться к изменениям и инициировать действия. ИИ-агенты анализируют контекст задач, принимают решения на основе текущих данных и могут адаптироваться к изменениям в процессе или данных. Например, в HR-системах ИИ агенты могут использовать такие данные, как зарплаты, контакты и история работы сотрудников. AI-агенты становятся более автономными, с возможностью принимать решения и адаптироваться к изменениям в реальном времени. В статье разбёрем, как Epsilon Workspace использует LLM, RAG и AI-агентов для автоматизации BI.', 'Представляется важным отметить, что будущее оптимизации бизнес-процессов с участием LLM связано не с их полным замещением человеческого труда, а с координированной кооперацией.', 'Выбор между Retrieval-Augmented Generation (RAG) и Fine-Tuning зависит от типа данных, доступных ресурсов и задач. Заключение LLM открывают новые горизонты в оптимизации бизнес-процессов.', 'В этом контексте существуют две фундаментальные концепции: типы обратной связи, на основе которой агенты должны учиться расширять свои возможности, и стратегии, позволяющие агентам адаптироваться для эффективного решения сложных проблем. **_Самоэволюция._** Вместо того, чтобы полагаться только на исторические записи для принятия решений о последующих действиях, как это показано в решениях на основе памяти, агенты могут динамически саморазвиваться, например, изменяя свои первоначальные цели и стратегии планирования, а также тренируясь на основе обратной связи или общения. Исследования в области мультиагентных систем на основе крупных языковых моделей (LLM-MA) активно развиваются, сталкиваясь с разнообразными вызовами и открывая новые возможности: Потенциал систем LLM-MA выходит далеко за рамки их текущих приложений и открывает большие перспективы для решения передовых вычислительных задач в таких областях, как финансы, образование, здравоохранение, экология, городское планирование и так далее.', 'Для успешного применения мультиагентных LLM в кодировании по МКБ необходимо обладать знаниями в области медицинской терминологии и классификации МКБ.', 'В этом контексте существуют две фундаментальные концепции: типы обратной связи, на основе которой агенты должны учиться расширять свои возможности, и стратегии, позволяющие агентам адаптироваться для эффективного решения сложных проблем. **_Самоэволюция._** Вместо того, чтобы полагаться только на исторические записи для принятия решений о последующих действиях, как это показано в решениях на основе памяти, агенты могут динамически саморазвиваться, например, изменяя свои первоначальные цели и стратегии планирования, а также тренируясь на основе обратной связи или общения. Исследования в области мультиагентных систем на основе крупных языковых моделей (LLM-MA) активно развиваются, сталкиваясь с разнообразными вызовами и открывая новые возможности: Потенциал систем LLM-MA выходит далеко за рамки их текущих приложений и открывает большие перспективы для решения передовых вычислительных задач в таких областях, как финансы, образование, здравоохранение, экология, городское планирование и так далее.', 'Существуют две фундаментальные концепции приобретения способностей агентами в системах LLM-MA: типы обратной связи, с помощью которых агенты могут обучаться для увеличения своих возможностей, и стратегии, позволяющие агентам перестраиваться для того, чтобы справится с задачами [13]. В системах LLM-MA агенты могут адаптироваться с помощью трех основных решений: память (в модуле памяти хранятся данные о их отношениях с другими агентами), самоэволюция (агенты динамически развиваются, и могут менять свои политики и задачи основываясь на памяти), динамическая создание (уже запущенная система способно создавать новых агентов, если они требуются для выполнения новой работы). Lei Wang, Chen Ma, Xueyang Feng, Zeyu Zhang, Hao Yang, Jingsen Zhang, Zhiyuan Chen, Jiakai Tang, Xu Chen, Yankai Lin, Wayne Xin Zhao, Zhewei Wei, Ji-Rong Wen. A Survey on Large Language Model based Autonomous Agents.', 'В этом контексте существуют две фундаментальные концепции: типы обратной связи, на основе которой агенты должны учиться расширять свои возможности, и стратегии, позволяющие агентам адаптироваться для эффективного решения сложных проблем. **_Самоэволюция._** Вместо того, чтобы полагаться только на исторические записи для принятия решений о последующих действиях, как это показано в решениях на основе памяти, агенты могут динамически саморазвиваться, например, изменяя свои первоначальные цели и стратегии планирования, а также тренируясь на основе обратной связи или общения. Исследования в области мультиагентных систем на основе крупных языковых моделей (LLM-MA) активно развиваются, сталкиваясь с разнообразными вызовами и открывая новые возможности: Потенциал систем LLM-MA выходит далеко за рамки их текущих приложений и открывает большие перспективы для решения передовых вычислительных задач в таких областях, как финансы, образование, здравоохранение, экология, городское планирование и так далее.', 'Существуют две фундаментальные концепции приобретения способностей агентами в системах LLM-MA: типы обратной связи, с помощью которых агенты могут обучаться для увеличения своих возможностей, и стратегии, позволяющие агентам перестраиваться для того, чтобы справится с задачами [13]. В системах LLM-MA агенты могут адаптироваться с помощью трех основных решений: память (в модуле памяти хранятся данные о их отношениях с другими агентами), самоэволюция (агенты динамически развиваются, и могут менять свои политики и задачи основываясь на памяти), динамическая создание (уже запущенная система способно создавать новых агентов, если они требуются для выполнения новой работы). Lei Wang, Chen Ma, Xueyang Feng, Zeyu Zhang, Hao Yang, Jingsen Zhang, Zhiyuan Chen, Jiakai Tang, Xu Chen, Yankai Lin, Wayne Xin Zhao, Zhewei Wei, Ji-Rong Wen. A Survey on Large Language Model based Autonomous Agents.', 'Роль больших языковых моделей (LLM) в разработке MAS LLM, такие как GPT-3, LaMDA и другие, предоставляют агентам возможности, которые ранее были недоступны.', 'Существуют две фундаментальные концепции приобретения способностей агентами в системах LLM-MA: типы обратной связи, с помощью которых агенты могут обучаться для увеличения своих возможностей, и стратегии, позволяющие агентам перестраиваться для того, чтобы справится с задачами [13]. В системах LLM-MA агенты могут адаптироваться с помощью трех основных решений: память (в модуле памяти хранятся данные о их отношениях с другими агентами), самоэволюция (агенты динамически развиваются, и могут менять свои политики и задачи основываясь на памяти), динамическая создание (уже запущенная система способно создавать новых агентов, если они требуются для выполнения новой работы). Lei Wang, Chen Ma, Xueyang Feng, Zeyu Zhang, Hao Yang, Jingsen Zhang, Zhiyuan Chen, Jiakai Tang, Xu Chen, Yankai Lin, Wayne Xin Zhao, Zhewei Wei, Ji-Rong Wen. A Survey on Large Language Model based Autonomous Agents.', 'В этом контексте существуют две фундаментальные концепции: типы обратной связи, на основе которой агенты должны учиться расширять свои возможности, и стратегии, позволяющие агентам адаптироваться для эффективного решения сложных проблем. **_Самоэволюция._** Вместо того, чтобы полагаться только на исторические записи для принятия решений о последующих действиях, как это показано в решениях на основе памяти, агенты могут динамически саморазвиваться, например, изменяя свои первоначальные цели и стратегии планирования, а также тренируясь на основе обратной связи или общения. Исследования в области мультиагентных систем на основе крупных языковых моделей (LLM-MA) активно развиваются, сталкиваясь с разнообразными вызовами и открывая новые возможности: Потенциал систем LLM-MA выходит далеко за рамки их текущих приложений и открывает большие перспективы для решения передовых вычислительных задач в таких областях, как финансы, образование, здравоохранение, экология, городское планирование и так далее.', 'Существуют две фундаментальные концепции приобретения способностей агентами в системах LLM-MA: типы обратной связи, с помощью которых агенты могут обучаться для увеличения своих возможностей, и стратегии, позволяющие агентам перестраиваться для того, чтобы справится с задачами [13]. В системах LLM-MA агенты могут адаптироваться с помощью трех основных решений: память (в модуле памяти хранятся данные о их отношениях с другими агентами), самоэволюция (агенты динамически развиваются, и могут менять свои политики и задачи основываясь на памяти), динамическая создание (уже запущенная система способно создавать новых агентов, если они требуются для выполнения новой работы). Lei Wang, Chen Ma, Xueyang Feng, Zeyu Zhang, Hao Yang, Jingsen Zhang, Zhiyuan Chen, Jiakai Tang, Xu Chen, Yankai Lin, Wayne Xin Zhao, Zhewei Wei, Ji-Rong Wen. A Survey on Large Language Model based Autonomous Agents.', 'В этом контексте существуют две фундаментальные концепции: типы обратной связи, на основе которой агенты должны учиться расширять свои возможности, и стратегии, позволяющие агентам адаптироваться для эффективного решения сложных проблем. **_Самоэволюция._** Вместо того, чтобы полагаться только на исторические записи для принятия решений о последующих действиях, как это показано в решениях на основе памяти, агенты могут динамически саморазвиваться, например, изменяя свои первоначальные цели и стратегии планирования, а также тренируясь на основе обратной связи или общения. Исследования в области мультиагентных систем на основе крупных языковых моделей (LLM-MA) активно развиваются, сталкиваясь с разнообразными вызовами и открывая новые возможности: Потенциал систем LLM-MA выходит далеко за рамки их текущих приложений и открывает большие перспективы для решения передовых вычислительных задач в таких областях, как финансы, образование, здравоохранение, экология, городское планирование и так далее.', 'Другими словами, AI-агенты используют LLM не только для синтеза информации, но и для этапов понимания и обработки запроса и сочетают в себе анализ данных, рассуждения и выполнение действий. Эта размытость терминологии нередко приводит к тому, что в одну категорию попадают как простые чат-боты, выполняющие строго регламентированные задачи, так и сложные ИИ-агенты, способные анализировать данные, адаптироваться к изменениям и инициировать действия. ИИ-агенты анализируют контекст задач, принимают решения на основе текущих данных и могут адаптироваться к изменениям в процессе или данных. Например, в HR-системах ИИ агенты могут использовать такие данные, как зарплаты, контакты и история работы сотрудников. AI-агенты становятся более автономными, с возможностью принимать решения и адаптироваться к изменениям в реальном времени. В статье разбёрем, как Epsilon Workspace использует LLM, RAG и AI-агентов для автоматизации BI.', 'В этом контексте существуют две фундаментальные концепции: типы обратной связи, на основе которой агенты должны учиться расширять свои возможности, и стратегии, позволяющие агентам адаптироваться для эффективного решения сложных проблем. **_Самоэволюция._** Вместо того, чтобы полагаться только на исторические записи для принятия решений о последующих действиях, как это показано в решениях на основе памяти, агенты могут динамически саморазвиваться, например, изменяя свои первоначальные цели и стратегии планирования, а также тренируясь на основе обратной связи или общения. Исследования в области мультиагентных систем на основе крупных языковых моделей (LLM-MA) активно развиваются, сталкиваясь с разнообразными вызовами и открывая новые возможности: Потенциал систем LLM-MA выходит далеко за рамки их текущих приложений и открывает большие перспективы для решения передовых вычислительных задач в таких областях, как финансы, образование, здравоохранение, экология, городское планирование и так далее.', '### Преимущества и недостатки использования LLM в многоагентной разработке Архитектура и подходы к многоагентной разработке с LLM ### Инструменты и фреймворки для разработки многоагентных систем с LLM (например, Langchain, AutoGen) MAS с LLM могут автоматизировать сложные бизнес-процессы, такие как обработка заказов, поддержка клиентов и управление цепочками поставок. Например, MAS может быть использована для оптимизации рекламных кампаний в Google Ads. Агенты могут анализировать данные о эффективности ключевых слов, автоматически корректировать ставки и генерировать новые рекламные объявления на основе LLM: MAS с LLM могут создавать персонализированные обучающие системы, адаптирующиеся к индивидуальным потребностям и стилю обучения каждого ученика. MAS с LLM могут использоваться для моделирования сложных систем и явлений, таких как климатические изменения, распространение болезней и социальные процессы.', 'Модели большого языка (LLM) на основе мультиагентных систем (MAS) демонстрируют выдающийся потенциал в коллективном решении проблем, однако они все еще сталкиваются с критическими вызовами: низкой эффективностью', 'В этом контексте существуют две фундаментальные концепции: типы обратной связи, на основе которой агенты должны учиться расширять свои возможности, и стратегии, позволяющие агентам адаптироваться для эффективного решения сложных проблем. **_Самоэволюция._** Вместо того, чтобы полагаться только на исторические записи для принятия решений о последующих действиях, как это показано в решениях на основе памяти, агенты могут динамически саморазвиваться, например, изменяя свои первоначальные цели и стратегии планирования, а также тренируясь на основе обратной связи или общения. Исследования в области мультиагентных систем на основе крупных языковых моделей (LLM-MA) активно развиваются, сталкиваясь с разнообразными вызовами и открывая новые возможности: Потенциал систем LLM-MA выходит далеко за рамки их текущих приложений и открывает большие перспективы для решения передовых вычислительных задач в таких областях, как финансы, образование, здравоохранение, экология, городское планирование и так далее.', 'В этом контексте существуют две фундаментальные концепции: типы обратной связи, на основе которой агенты должны учиться расширять свои возможности, и стратегии, позволяющие агентам адаптироваться для эффективного решения сложных проблем. **_Самоэволюция._** Вместо того, чтобы полагаться только на исторические записи для принятия решений о последующих действиях, как это показано в решениях на основе памяти, агенты могут динамически саморазвиваться, например, изменяя свои первоначальные цели и стратегии планирования, а также тренируясь на основе обратной связи или общения. Исследования в области мультиагентных систем на основе крупных языковых моделей (LLM-MA) активно развиваются, сталкиваясь с разнообразными вызовами и открывая новые возможности: Потенциал систем LLM-MA выходит далеко за рамки их текущих приложений и открывает большие перспективы для решения передовых вычислительных задач в таких областях, как финансы, образование, здравоохранение, экология, городское планирование и так далее.', 'Другими словами, AI-агенты используют LLM не только для синтеза информации, но и для этапов понимания и обработки запроса и сочетают в себе анализ данных, рассуждения и выполнение действий. Эта размытость терминологии нередко приводит к тому, что в одну категорию попадают как простые чат-боты, выполняющие строго регламентированные задачи, так и сложные ИИ-агенты, способные анализировать данные, адаптироваться к изменениям и инициировать действия. ИИ-агенты анализируют контекст задач, принимают решения на основе текущих данных и могут адаптироваться к изменениям в процессе или данных. Например, в HR-системах ИИ агенты могут использовать такие данные, как зарплаты, контакты и история работы сотрудников. AI-агенты становятся более автономными, с возможностью принимать решения и адаптироваться к изменениям в реальном времени. В статье разбёрем, как Epsilon Workspace использует LLM, RAG и AI-агентов для автоматизации BI.', 'В этом контексте существуют две фундаментальные концепции: типы обратной связи, на основе которой агенты должны учиться расширять свои возможности, и стратегии, позволяющие агентам адаптироваться для эффективного решения сложных проблем. **_Самоэволюция._** Вместо того, чтобы полагаться только на исторические записи для принятия решений о последующих действиях, как это показано в решениях на основе памяти, агенты могут динамически саморазвиваться, например, изменяя свои первоначальные цели и стратегии планирования, а также тренируясь на основе обратной связи или общения. Исследования в области мультиагентных систем на основе крупных языковых моделей (LLM-MA) активно развиваются, сталкиваясь с разнообразными вызовами и открывая новые возможности: Потенциал систем LLM-MA выходит далеко за рамки их текущих приложений и открывает большие перспективы для решения передовых вычислительных задач в таких областях, как финансы, образование, здравоохранение, экология, городское планирование и так далее.', 'Другими словами, AI-агенты используют LLM не только для синтеза информации, но и для этапов понимания и обработки запроса и сочетают в себе анализ данных, рассуждения и выполнение действий. Эта размытость терминологии нередко приводит к тому, что в одну категорию попадают как простые чат-боты, выполняющие строго регламентированные задачи, так и сложные ИИ-агенты, способные анализировать данные, адаптироваться к изменениям и инициировать действия. ИИ-агенты анализируют контекст задач, принимают решения на основе текущих данных и могут адаптироваться к изменениям в процессе или данных. Например, в HR-системах ИИ агенты могут использовать такие данные, как зарплаты, контакты и история работы сотрудников. AI-агенты становятся более автономными, с возможностью принимать решения и адаптироваться к изменениям в реальном времени. В статье разбёрем, как Epsilon Workspace использует LLM, RAG и AI-агентов для автоматизации BI.', 'Список литературы Проблемы мультиагентных систем и возможные пути их решения Zambonelli F., Jennings N., Wooldridge M. (2003) Developing Multiagent systems: The GAIA methodology.', 'Увидел топик про мультиагентные систему и решил кой-чего добавить на эту тему. Сосредоточусь на 2-х направлениях: чем МАС отличаются от классических систем (кроме параллельности, которая все-же и не', 'В этом контексте существуют две фундаментальные концепции: типы обратной связи, на основе которой агенты должны учиться расширять свои возможности, и стратегии, позволяющие агентам адаптироваться для эффективного решения сложных проблем. **_Самоэволюция._** Вместо того, чтобы полагаться только на исторические записи для принятия решений о последующих действиях, как это показано в решениях на основе памяти, агенты могут динамически саморазвиваться, например, изменяя свои первоначальные цели и стратегии планирования, а также тренируясь на основе обратной связи или общения. Исследования в области мультиагентных систем на основе крупных языковых моделей (LLM-MA) активно развиваются, сталкиваясь с разнообразными вызовами и открывая новые возможности: Потенциал систем LLM-MA выходит далеко за рамки их текущих приложений и открывает большие перспективы для решения передовых вычислительных задач в таких областях, как финансы, образование, здравоохранение, экология, городское планирование и так далее.', 'Другими словами, AI-агенты используют LLM не только для синтеза информации, но и для этапов понимания и обработки запроса и сочетают в себе анализ данных, рассуждения и выполнение действий. Эта размытость терминологии нередко приводит к тому, что в одну категорию попадают как простые чат-боты, выполняющие строго регламентированные задачи, так и сложные ИИ-агенты, способные анализировать данные, адаптироваться к изменениям и инициировать действия. ИИ-агенты анализируют контекст задач, принимают решения на основе текущих данных и могут адаптироваться к изменениям в процессе или данных. Например, в HR-системах ИИ агенты могут использовать такие данные, как зарплаты, контакты и история работы сотрудников. AI-агенты становятся более автономными, с возможностью принимать решения и адаптироваться к изменениям в реальном времени. В статье разбёрем, как Epsilon Workspace использует LLM, RAG и AI-агентов для автоматизации BI.', 'Современные ИИ-решения всё чаще выходят за рамки одиночных моделей. Сложность задач растёт — и на смену одному интеллекту приходит команда агентов. Мультиагентные системы (Multi-Agent Systems, MAS) — это новый этап в развитии', 'Вступление Одними из наиболее интересных подходов в создании AI-систем в 2024 году являются агенты (agents, agentic AI systems) и мультиагентные системы (multi-agent systems). Оба они показывают', 'LangGraph – это библиотека, предназначенная для построения устойчивых и выразительных мультиагентных систем на основе больших языковых моделей (LLM). В отличие от традиционных подходов, где агенты взаимодействуют линейно, LangGraph позволяет моделировать сложные взаимодействия, включая циклы, условия и параллельное выполнение задач. AI-агент на основе LLM – это система, которая использует большую языковую модель для выполнения задач, требующих понимания естественного языка, генерации текста и принятия решений. LangGraph позволяет создавать сложные workflows с использованием циклов, условий и параллельного выполнения задач. Используйте инструменты LangGraph для отслеживания состояния графа и анализа работы агента. LangGraph позволяет создавать сложные сценарии взаимодействия между агентами с использованием циклов и условий. Заключение: Перспективы LangGraph и AI-агентов на основе LLM LangGraph предлагает более гибкий, устойчивый и наблюдаемый подход к разработке AI-агентов, чем традиционные методы.', 'Другими словами, AI-агенты используют LLM не только для синтеза информации, но и для этапов понимания и обработки запроса и сочетают в себе анализ данных, рассуждения и выполнение действий. Эта размытость терминологии нередко приводит к тому, что в одну категорию попадают как простые чат-боты, выполняющие строго регламентированные задачи, так и сложные ИИ-агенты, способные анализировать данные, адаптироваться к изменениям и инициировать действия. ИИ-агенты анализируют контекст задач, принимают решения на основе текущих данных и могут адаптироваться к изменениям в процессе или данных. Например, в HR-системах ИИ агенты могут использовать такие данные, как зарплаты, контакты и история работы сотрудников. AI-агенты становятся более автономными, с возможностью принимать решения и адаптироваться к изменениям в реальном времени. В статье разбёрем, как Epsilon Workspace использует LLM, RAG и AI-агентов для автоматизации BI.', 'Другими словами, AI-агенты используют LLM не только для синтеза информации, но и для этапов понимания и обработки запроса и сочетают в себе анализ данных, рассуждения и выполнение действий. Эта размытость терминологии нередко приводит к тому, что в одну категорию попадают как простые чат-боты, выполняющие строго регламентированные задачи, так и сложные ИИ-агенты, способные анализировать данные, адаптироваться к изменениям и инициировать действия. ИИ-агенты анализируют контекст задач, принимают решения на основе текущих данных и могут адаптироваться к изменениям в процессе или данных. Например, в HR-системах ИИ агенты могут использовать такие данные, как зарплаты, контакты и история работы сотрудников. AI-агенты становятся более автономными, с возможностью принимать решения и адаптироваться к изменениям в реальном времени. В статье разбёрем, как Epsilon Workspace использует LLM, RAG и AI-агентов для автоматизации BI.', 'В этом контексте существуют две фундаментальные концепции: типы обратной связи, на основе которой агенты должны учиться расширять свои возможности, и стратегии, позволяющие агентам адаптироваться для эффективного решения сложных проблем. **_Самоэволюция._** Вместо того, чтобы полагаться только на исторические записи для принятия решений о последующих действиях, как это показано в решениях на основе памяти, агенты могут динамически саморазвиваться, например, изменяя свои первоначальные цели и стратегии планирования, а также тренируясь на основе обратной связи или общения. Исследования в области мультиагентных систем на основе крупных языковых моделей (LLM-MA) активно развиваются, сталкиваясь с разнообразными вызовами и открывая новые возможности: Потенциал систем LLM-MA выходит далеко за рамки их текущих приложений и открывает большие перспективы для решения передовых вычислительных задач в таких областях, как финансы, образование, здравоохранение, экология, городское планирование и так далее.', 'В этом контексте существуют две фундаментальные концепции: типы обратной связи, на основе которой агенты должны учиться расширять свои возможности, и стратегии, позволяющие агентам адаптироваться для эффективного решения сложных проблем. **_Самоэволюция._** Вместо того, чтобы полагаться только на исторические записи для принятия решений о последующих действиях, как это показано в решениях на основе памяти, агенты могут динамически саморазвиваться, например, изменяя свои первоначальные цели и стратегии планирования, а также тренируясь на основе обратной связи или общения. Исследования в области мультиагентных систем на основе крупных языковых моделей (LLM-MA) активно развиваются, сталкиваясь с разнообразными вызовами и открывая новые возможности: Потенциал систем LLM-MA выходит далеко за рамки их текущих приложений и открывает большие перспективы для решения передовых вычислительных задач в таких областях, как финансы, образование, здравоохранение, экология, городское планирование и так далее.', 'Другими словами, AI-агенты используют LLM не только для синтеза информации, но и для этапов понимания и обработки запроса и сочетают в себе анализ данных, рассуждения и выполнение действий. Эта размытость терминологии нередко приводит к тому, что в одну категорию попадают как простые чат-боты, выполняющие строго регламентированные задачи, так и сложные ИИ-агенты, способные анализировать данные, адаптироваться к изменениям и инициировать действия. ИИ-агенты анализируют контекст задач, принимают решения на основе текущих данных и могут адаптироваться к изменениям в процессе или данных. Например, в HR-системах ИИ агенты могут использовать такие данные, как зарплаты, контакты и история работы сотрудников. AI-агенты становятся более автономными, с возможностью принимать решения и адаптироваться к изменениям в реальном времени. В статье разбёрем, как Epsilon Workspace использует LLM, RAG и AI-агентов для автоматизации BI.', 'LangGraph – это библиотека, предназначенная для построения устойчивых и выразительных мультиагентных систем на основе больших языковых моделей (LLM). В отличие от традиционных подходов, где агенты взаимодействуют линейно, LangGraph позволяет моделировать сложные взаимодействия, включая циклы, условия и параллельное выполнение задач. AI-агент на основе LLM – это система, которая использует большую языковую модель для выполнения задач, требующих понимания естественного языка, генерации текста и принятия решений. LangGraph позволяет создавать сложные workflows с использованием циклов, условий и параллельного выполнения задач. Используйте инструменты LangGraph для отслеживания состояния графа и анализа работы агента. LangGraph позволяет создавать сложные сценарии взаимодействия между агентами с использованием циклов и условий. Заключение: Перспективы LangGraph и AI-агентов на основе LLM LangGraph предлагает более гибкий, устойчивый и наблюдаемый подход к разработке AI-агентов, чем традиционные методы.', 'Другими словами, AI-агенты используют LLM не только для синтеза информации, но и для этапов понимания и обработки запроса и сочетают в себе анализ данных, рассуждения и выполнение действий. Эта размытость терминологии нередко приводит к тому, что в одну категорию попадают как простые чат-боты, выполняющие строго регламентированные задачи, так и сложные ИИ-агенты, способные анализировать данные, адаптироваться к изменениям и инициировать действия. ИИ-агенты анализируют контекст задач, принимают решения на основе текущих данных и могут адаптироваться к изменениям в процессе или данных. Например, в HR-системах ИИ агенты могут использовать такие данные, как зарплаты, контакты и история работы сотрудников. AI-агенты становятся более автономными, с возможностью принимать решения и адаптироваться к изменениям в реальном времени. В статье разбёрем, как Epsilon Workspace использует LLM, RAG и AI-агентов для автоматизации BI.']}}\n",
      "{'generate': {'draft': '# Возможные сценарии применения мультиагентных систем на базе LLM\\n\\n## Введение\\n\\nМультиагентные системы (МАС) представляют собой совокупность автономных программных агентов, которые взаимодействуют друг с другом для достижения общих целей или решения сложных задач. Эти системы находят широкое применение в различных сферах, от бизнеса до образования и моделей сложных систем. В последнее время значительное внимание стало уделяться большим языковым моделям (LLM), таким как GPT-3 и другие, которые обладают мощными возможностями в обработке и генерации текстов, а также в понимании естественного языка.\\n\\nСочетание МАС и LLM открывает новые горизонты в автоматизации процессов, взаимодействии агентов и их способности к обучению. Это взаимодействие предоставляет уникальные преимущества, такие как более высокая адаптивность и возможность персонализации в различных областях. В данной статье мы рассмотрим несколько сценариев применения МАС с использованием LLM, подчеркнув их возможности и преимущества.\\n\\n## Основные компоненты мультиагентных систем\\n\\nМультиагентные системы состоят из различных агентов, каждый из которых наделён своими характеристиками и функциями. Важнейшими компонентами таких систем являются:\\n\\n- **Агент**: самостоятельная единица, способная выполнять задачи, принимать решения и взаимодействовать с другими агентами и окружающей средой.\\n- **Коммуникация между агентами**: критически важный аспект работы МАС, который включает обмен информацией и координацию действий для достижения общих целей.\\n- **Принятие решений**: в контексте МАС агенты должны уметь принимать обоснованные решения, основываясь на полученной информации и взаимодействиям с другими агентами.\\n\\nБольшие языковые модели могут значительно улучшить эти аспекты, предоставляя мощные инструменты для анализа, обработки данных и генерации естественного языка, что делает системы более эффективными и адаптивными.\\n\\n## Сценарий 1: Обратная связь и поддержка в обучении\\n\\nОдним из наиболее перспективных применений МАС с LLM является образовательная сфера. В рамках образовательных систем можно создать наставников-агентов, которые будут взаимодействовать со студентами, обеспечивая обратную связь и поддержку в процессе обучения. Эти агенты могут анализировать ответы студентов, выявлять их сильные и слабые стороны, предоставляя адаптированные рекомендации и материалы.\\n\\nНапример, платформа онлайн-обучения может интегрировать LLM для создания индивидуализированных планов обучения, которые будут корректироваться в зависимости от прогресса студента. Это не только улучшит качество обучения, но и повысит уровень вовлечённости учащихся.\\n\\n## Сценарий 2: Интеллектуальные ассистенты\\n\\nМультиагентные системы также могут использоваться для автоматизации бизнес-процессов. Команды агентов, наделённых LLM, способны анализировать данные, генерировать отчёты, вести переговоры и даже принимать решения. \\n\\nПримером таких систем могут служить интеллектуальные ассистенты для HR и управления проектами. Они могут обрабатывать запросы сотрудников, анализировать данные о производительности и рекомендовать менеджерам стратегии по оптимизации рабочих процессов. Это позволяет освободить время для сотрудников и повысить общую продуктивность компании.\\n\\n## Сценарий 3: Моделирование и предсказание\\n\\nИспользование мультиагентных систем с LLM очень актуально для моделирования сложных систем, таких как экосистемы или экономические модели. Агенты могут взаимодействовать друг с другом в симуляциях, создавая модели, которые отражают реальные процессы.\\n\\nНапример, в экономике такие системы могут прогнозировать изменения на рынке на основе взаимодействия различных агентов, представляющих разные компании или потребительские группы. LLM в данном случае может обрабатывать большие объемы данных и обеспечивать более глубокий анализ, что помогает бизнесам принимать обоснованные решения.\\n\\n## Сценарий 4: Социальные взаимодействия и игры\\n\\nВиртуальные миры и игровые приложения также могут выиграть от применения мультиагентных систем с LLM. Агенты, взаимодействуя друг с другом и с игроками, могут создавать более реалистичное и увлекательное игровое пространство.\\n\\nВ играх, где агенты взаимодействуют на уровне сюжетных линий или социальных структур, применение LLM позволит создать более сложные и адаптирующиеся системы. Это поможет избежать предсказуемости поведения NPC (персонажей, не управляемых игроками) и сделает игровой процесс более интересным. Однако стоит отметить, что иметь дело с непредсказуемым поведением агентов может создать и новые вызовы для разработчиков.\\n\\n## Проблемы и вызовы\\n\\nНесмотря на все преимущества применения МАС с LLM, необходимо осознавать существующие проблемы и вызовы. В первую очередь, стоит упомянуть этические и социальные последствия использования таких технологий. Необходимо учитывать, как их внедрение может повлиять на рабочие места и личную жизнь людей.\\n\\nКроме того, технические сложности, связанные с масштабируемостью систем, управлением данными и обеспечением безопасного и этичного использования технологий, требуют внимательного изучения и разработки решений.\\n\\n## Заключение\\n\\nМультиагентные системы на базе больших языковых моделей представляют собой многообещающее направление, которое способно трансформировать множество сфер деятельности. Будучи в состоянии взаимодействовать друг с другом и адаптироваться к изменениям, такие системы открывают новые возможности для образования, бизнеса, моделирования и развлечений. Однако, как и в любой другой технологии, важно подходить к её использованию с осторожностью, тщательно рассматривая как преимущества, так и потенциальные риски. Ближайшие годы обещают быть захватывающими для разработки и исследования в области МАС и LLM.', 'revision_number': 2}}\n",
      "{'reflect': {'critique': 'Статья имеет понятную структуру и излагает темы, связанные с мультиагентными системами (МАС) на базе больших языковых моделей (LLM), но есть несколько аспектов, которые могли бы быть улучшены для повышения её качества и глубины. Вот несколько рекомендаций:\\n\\n### Длина\\n- **Увеличение объема**: Статья может быть немного коротковатой в некоторых частях. Рассмотрите возможность добавления дополнительных примеров и подробностей в каждой секции, особенно в сценариях применения. Это поможет читателям лучше понять, как именно МАС с LLM могут быть полезны в различных контекстах.\\n\\n### Глубина\\n- **Детализация сценариев**: Некоторые сценарии, приведенные в статье, остаются на довольно обобщённом уровне. Более глубокий анализ каждого сценария, включая конкретные примеры существующих систем или проектов, может существенно добавить ценности. Например, вы можете упомянуть успешные кейсы или наработки, где MАС интегрировали LLM.\\n  \\n- **Этические аспекты**: В разделе \"Проблемы и вызовы\" стоит уделить больше внимания этическим вопросам. Расширьте это обсуждение, чтобы подробнее рассмотреть, как именно вы можете интегрировать этические аспекты в проектирование таких систем.\\n\\n### Стиль\\n- **Ясность и точность**: Хотя текст в целом понятен, некоторые термины и концепции могут быть более чётко сформулированы. Поясняющие примеры сообщений о концепциях (например, \"автономные программные агенты\") помогут читателям, не знакомым с темой.\\n\\n- **Избегание перегрузки терминами**: Убедитесь, что использование специализированных терминов не приводит к усложнению текста. Периодически возвращайтесь к идее \"что это значит для пользователя\" или \"как это применимо в реальных условиях\".\\n\\n### Структура\\n- **Дополнительные разделы**: Рассмотрите возможность добавления раздела о будущем MАС и прогнозах в этой области. Что ожидается в ближайшие 5-10 лет? Как будет развиваться взаимодействие между MАС и LLM? Это добавит перспективу и завершит статью.\\n\\n- **Выводы и рекомендации**: Заключение можно сделать более воздействующим, добавив конкретные рекомендации для организаций, желающих интегрировать такие технологии, или для исследователей, работающих в этой области.\\n\\n### Заключение\\nСтатья предоставляет обзор важной и актуальной темы в области технологий, но потребует дальнейших доработок для углубления материала и повышения читабельности. Уделите внимание более детальному освещению сценариев применения, добавьте практические примеры, и рассмотрите этические аспекты более глубоко — это значительно увеличит ценность вашей работы.'}}\n",
      "{'research_critique': {'content': ['На мастер-классе Practical ML Conf Дмитрий Рыбалко из Yandex Cloud и Дмитрий Сошников, доцент МАИ и НИУ ВШЭ, демонстрируют применение мультиагентных подходов для работы с большими языковыми моделями (LLM) на базе сервисов Yandex Cloud', 'Текущие LLM генерируют текст или выполняют задачи только по запросу, но с появлением AI-агентов всё меняется. К 2028 году 33% корпоративного ПО будут использовать AI-агентов. AI-агенты не требуют явных запросов и не выдают', 'В этом контексте существуют две фундаментальные концепции: типы обратной связи, на основе которой агенты должны учиться расширять свои возможности, и стратегии, позволяющие агентам адаптироваться для эффективного решения сложных проблем. **_Самоэволюция._** Вместо того, чтобы полагаться только на исторические записи для принятия решений о последующих действиях, как это показано в решениях на основе памяти, агенты могут динамически саморазвиваться, например, изменяя свои первоначальные цели и стратегии планирования, а также тренируясь на основе обратной связи или общения. Исследования в области мультиагентных систем на основе крупных языковых моделей (LLM-MA) активно развиваются, сталкиваясь с разнообразными вызовами и открывая новые возможности: Потенциал систем LLM-MA выходит далеко за рамки их текущих приложений и открывает большие перспективы для решения передовых вычислительных задач в таких областях, как финансы, образование, здравоохранение, экология, городское планирование и так далее.', 'Одноагентные и мультиагентные системы При построении одноагентных систем на основе LLM основное внимание уделяется взаимодействию с внешней средой и внутренним механизмам работы агента. В мультиагентных системах', 'В этом контексте существуют две фундаментальные концепции: типы обратной связи, на основе которой агенты должны учиться расширять свои возможности, и стратегии, позволяющие агентам адаптироваться для эффективного решения сложных проблем. **_Самоэволюция._** Вместо того, чтобы полагаться только на исторические записи для принятия решений о последующих действиях, как это показано в решениях на основе памяти, агенты могут динамически саморазвиваться, например, изменяя свои первоначальные цели и стратегии планирования, а также тренируясь на основе обратной связи или общения. Исследования в области мультиагентных систем на основе крупных языковых моделей (LLM-MA) активно развиваются, сталкиваясь с разнообразными вызовами и открывая новые возможности: Потенциал систем LLM-MA выходит далеко за рамки их текущих приложений и открывает большие перспективы для решения передовых вычислительных задач в таких областях, как финансы, образование, здравоохранение, экология, городское планирование и так далее.', 'Другими словами, AI-агенты используют LLM не только для синтеза информации, но и для этапов понимания и обработки запроса и сочетают в себе анализ данных, рассуждения и выполнение действий. Эта размытость терминологии нередко приводит к тому, что в одну категорию попадают как простые чат-боты, выполняющие строго регламентированные задачи, так и сложные ИИ-агенты, способные анализировать данные, адаптироваться к изменениям и инициировать действия. ИИ-агенты анализируют контекст задач, принимают решения на основе текущих данных и могут адаптироваться к изменениям в процессе или данных. Например, в HR-системах ИИ агенты могут использовать такие данные, как зарплаты, контакты и история работы сотрудников. AI-агенты становятся более автономными, с возможностью принимать решения и адаптироваться к изменениям в реальном времени. В статье разбёрем, как Epsilon Workspace использует LLM, RAG и AI-агентов для автоматизации BI.', 'Представляется важным отметить, что будущее оптимизации бизнес-процессов с участием LLM связано не с их полным замещением человеческого труда, а с координированной кооперацией.', 'Выбор между Retrieval-Augmented Generation (RAG) и Fine-Tuning зависит от типа данных, доступных ресурсов и задач. Заключение LLM открывают новые горизонты в оптимизации бизнес-процессов.', 'В этом контексте существуют две фундаментальные концепции: типы обратной связи, на основе которой агенты должны учиться расширять свои возможности, и стратегии, позволяющие агентам адаптироваться для эффективного решения сложных проблем. **_Самоэволюция._** Вместо того, чтобы полагаться только на исторические записи для принятия решений о последующих действиях, как это показано в решениях на основе памяти, агенты могут динамически саморазвиваться, например, изменяя свои первоначальные цели и стратегии планирования, а также тренируясь на основе обратной связи или общения. Исследования в области мультиагентных систем на основе крупных языковых моделей (LLM-MA) активно развиваются, сталкиваясь с разнообразными вызовами и открывая новые возможности: Потенциал систем LLM-MA выходит далеко за рамки их текущих приложений и открывает большие перспективы для решения передовых вычислительных задач в таких областях, как финансы, образование, здравоохранение, экология, городское планирование и так далее.', 'Для успешного применения мультиагентных LLM в кодировании по МКБ необходимо обладать знаниями в области медицинской терминологии и классификации МКБ.', 'В этом контексте существуют две фундаментальные концепции: типы обратной связи, на основе которой агенты должны учиться расширять свои возможности, и стратегии, позволяющие агентам адаптироваться для эффективного решения сложных проблем. **_Самоэволюция._** Вместо того, чтобы полагаться только на исторические записи для принятия решений о последующих действиях, как это показано в решениях на основе памяти, агенты могут динамически саморазвиваться, например, изменяя свои первоначальные цели и стратегии планирования, а также тренируясь на основе обратной связи или общения. Исследования в области мультиагентных систем на основе крупных языковых моделей (LLM-MA) активно развиваются, сталкиваясь с разнообразными вызовами и открывая новые возможности: Потенциал систем LLM-MA выходит далеко за рамки их текущих приложений и открывает большие перспективы для решения передовых вычислительных задач в таких областях, как финансы, образование, здравоохранение, экология, городское планирование и так далее.', 'Существуют две фундаментальные концепции приобретения способностей агентами в системах LLM-MA: типы обратной связи, с помощью которых агенты могут обучаться для увеличения своих возможностей, и стратегии, позволяющие агентам перестраиваться для того, чтобы справится с задачами [13]. В системах LLM-MA агенты могут адаптироваться с помощью трех основных решений: память (в модуле памяти хранятся данные о их отношениях с другими агентами), самоэволюция (агенты динамически развиваются, и могут менять свои политики и задачи основываясь на памяти), динамическая создание (уже запущенная система способно создавать новых агентов, если они требуются для выполнения новой работы). Lei Wang, Chen Ma, Xueyang Feng, Zeyu Zhang, Hao Yang, Jingsen Zhang, Zhiyuan Chen, Jiakai Tang, Xu Chen, Yankai Lin, Wayne Xin Zhao, Zhewei Wei, Ji-Rong Wen. A Survey on Large Language Model based Autonomous Agents.', 'В этом контексте существуют две фундаментальные концепции: типы обратной связи, на основе которой агенты должны учиться расширять свои возможности, и стратегии, позволяющие агентам адаптироваться для эффективного решения сложных проблем. **_Самоэволюция._** Вместо того, чтобы полагаться только на исторические записи для принятия решений о последующих действиях, как это показано в решениях на основе памяти, агенты могут динамически саморазвиваться, например, изменяя свои первоначальные цели и стратегии планирования, а также тренируясь на основе обратной связи или общения. Исследования в области мультиагентных систем на основе крупных языковых моделей (LLM-MA) активно развиваются, сталкиваясь с разнообразными вызовами и открывая новые возможности: Потенциал систем LLM-MA выходит далеко за рамки их текущих приложений и открывает большие перспективы для решения передовых вычислительных задач в таких областях, как финансы, образование, здравоохранение, экология, городское планирование и так далее.', 'Существуют две фундаментальные концепции приобретения способностей агентами в системах LLM-MA: типы обратной связи, с помощью которых агенты могут обучаться для увеличения своих возможностей, и стратегии, позволяющие агентам перестраиваться для того, чтобы справится с задачами [13]. В системах LLM-MA агенты могут адаптироваться с помощью трех основных решений: память (в модуле памяти хранятся данные о их отношениях с другими агентами), самоэволюция (агенты динамически развиваются, и могут менять свои политики и задачи основываясь на памяти), динамическая создание (уже запущенная система способно создавать новых агентов, если они требуются для выполнения новой работы). Lei Wang, Chen Ma, Xueyang Feng, Zeyu Zhang, Hao Yang, Jingsen Zhang, Zhiyuan Chen, Jiakai Tang, Xu Chen, Yankai Lin, Wayne Xin Zhao, Zhewei Wei, Ji-Rong Wen. A Survey on Large Language Model based Autonomous Agents.', 'Роль больших языковых моделей (LLM) в разработке MAS LLM, такие как GPT-3, LaMDA и другие, предоставляют агентам возможности, которые ранее были недоступны.', 'Существуют две фундаментальные концепции приобретения способностей агентами в системах LLM-MA: типы обратной связи, с помощью которых агенты могут обучаться для увеличения своих возможностей, и стратегии, позволяющие агентам перестраиваться для того, чтобы справится с задачами [13]. В системах LLM-MA агенты могут адаптироваться с помощью трех основных решений: память (в модуле памяти хранятся данные о их отношениях с другими агентами), самоэволюция (агенты динамически развиваются, и могут менять свои политики и задачи основываясь на памяти), динамическая создание (уже запущенная система способно создавать новых агентов, если они требуются для выполнения новой работы). Lei Wang, Chen Ma, Xueyang Feng, Zeyu Zhang, Hao Yang, Jingsen Zhang, Zhiyuan Chen, Jiakai Tang, Xu Chen, Yankai Lin, Wayne Xin Zhao, Zhewei Wei, Ji-Rong Wen. A Survey on Large Language Model based Autonomous Agents.', 'В этом контексте существуют две фундаментальные концепции: типы обратной связи, на основе которой агенты должны учиться расширять свои возможности, и стратегии, позволяющие агентам адаптироваться для эффективного решения сложных проблем. **_Самоэволюция._** Вместо того, чтобы полагаться только на исторические записи для принятия решений о последующих действиях, как это показано в решениях на основе памяти, агенты могут динамически саморазвиваться, например, изменяя свои первоначальные цели и стратегии планирования, а также тренируясь на основе обратной связи или общения. Исследования в области мультиагентных систем на основе крупных языковых моделей (LLM-MA) активно развиваются, сталкиваясь с разнообразными вызовами и открывая новые возможности: Потенциал систем LLM-MA выходит далеко за рамки их текущих приложений и открывает большие перспективы для решения передовых вычислительных задач в таких областях, как финансы, образование, здравоохранение, экология, городское планирование и так далее.', 'Существуют две фундаментальные концепции приобретения способностей агентами в системах LLM-MA: типы обратной связи, с помощью которых агенты могут обучаться для увеличения своих возможностей, и стратегии, позволяющие агентам перестраиваться для того, чтобы справится с задачами [13]. В системах LLM-MA агенты могут адаптироваться с помощью трех основных решений: память (в модуле памяти хранятся данные о их отношениях с другими агентами), самоэволюция (агенты динамически развиваются, и могут менять свои политики и задачи основываясь на памяти), динамическая создание (уже запущенная система способно создавать новых агентов, если они требуются для выполнения новой работы). Lei Wang, Chen Ma, Xueyang Feng, Zeyu Zhang, Hao Yang, Jingsen Zhang, Zhiyuan Chen, Jiakai Tang, Xu Chen, Yankai Lin, Wayne Xin Zhao, Zhewei Wei, Ji-Rong Wen. A Survey on Large Language Model based Autonomous Agents.', 'В этом контексте существуют две фундаментальные концепции: типы обратной связи, на основе которой агенты должны учиться расширять свои возможности, и стратегии, позволяющие агентам адаптироваться для эффективного решения сложных проблем. **_Самоэволюция._** Вместо того, чтобы полагаться только на исторические записи для принятия решений о последующих действиях, как это показано в решениях на основе памяти, агенты могут динамически саморазвиваться, например, изменяя свои первоначальные цели и стратегии планирования, а также тренируясь на основе обратной связи или общения. Исследования в области мультиагентных систем на основе крупных языковых моделей (LLM-MA) активно развиваются, сталкиваясь с разнообразными вызовами и открывая новые возможности: Потенциал систем LLM-MA выходит далеко за рамки их текущих приложений и открывает большие перспективы для решения передовых вычислительных задач в таких областях, как финансы, образование, здравоохранение, экология, городское планирование и так далее.', 'Другими словами, AI-агенты используют LLM не только для синтеза информации, но и для этапов понимания и обработки запроса и сочетают в себе анализ данных, рассуждения и выполнение действий. Эта размытость терминологии нередко приводит к тому, что в одну категорию попадают как простые чат-боты, выполняющие строго регламентированные задачи, так и сложные ИИ-агенты, способные анализировать данные, адаптироваться к изменениям и инициировать действия. ИИ-агенты анализируют контекст задач, принимают решения на основе текущих данных и могут адаптироваться к изменениям в процессе или данных. Например, в HR-системах ИИ агенты могут использовать такие данные, как зарплаты, контакты и история работы сотрудников. AI-агенты становятся более автономными, с возможностью принимать решения и адаптироваться к изменениям в реальном времени. В статье разбёрем, как Epsilon Workspace использует LLM, RAG и AI-агентов для автоматизации BI.', 'В этом контексте существуют две фундаментальные концепции: типы обратной связи, на основе которой агенты должны учиться расширять свои возможности, и стратегии, позволяющие агентам адаптироваться для эффективного решения сложных проблем. **_Самоэволюция._** Вместо того, чтобы полагаться только на исторические записи для принятия решений о последующих действиях, как это показано в решениях на основе памяти, агенты могут динамически саморазвиваться, например, изменяя свои первоначальные цели и стратегии планирования, а также тренируясь на основе обратной связи или общения. Исследования в области мультиагентных систем на основе крупных языковых моделей (LLM-MA) активно развиваются, сталкиваясь с разнообразными вызовами и открывая новые возможности: Потенциал систем LLM-MA выходит далеко за рамки их текущих приложений и открывает большие перспективы для решения передовых вычислительных задач в таких областях, как финансы, образование, здравоохранение, экология, городское планирование и так далее.', '### Преимущества и недостатки использования LLM в многоагентной разработке Архитектура и подходы к многоагентной разработке с LLM ### Инструменты и фреймворки для разработки многоагентных систем с LLM (например, Langchain, AutoGen) MAS с LLM могут автоматизировать сложные бизнес-процессы, такие как обработка заказов, поддержка клиентов и управление цепочками поставок. Например, MAS может быть использована для оптимизации рекламных кампаний в Google Ads. Агенты могут анализировать данные о эффективности ключевых слов, автоматически корректировать ставки и генерировать новые рекламные объявления на основе LLM: MAS с LLM могут создавать персонализированные обучающие системы, адаптирующиеся к индивидуальным потребностям и стилю обучения каждого ученика. MAS с LLM могут использоваться для моделирования сложных систем и явлений, таких как климатические изменения, распространение болезней и социальные процессы.', 'Модели большого языка (LLM) на основе мультиагентных систем (MAS) демонстрируют выдающийся потенциал в коллективном решении проблем, однако они все еще сталкиваются с критическими вызовами: низкой эффективностью', 'В этом контексте существуют две фундаментальные концепции: типы обратной связи, на основе которой агенты должны учиться расширять свои возможности, и стратегии, позволяющие агентам адаптироваться для эффективного решения сложных проблем. **_Самоэволюция._** Вместо того, чтобы полагаться только на исторические записи для принятия решений о последующих действиях, как это показано в решениях на основе памяти, агенты могут динамически саморазвиваться, например, изменяя свои первоначальные цели и стратегии планирования, а также тренируясь на основе обратной связи или общения. Исследования в области мультиагентных систем на основе крупных языковых моделей (LLM-MA) активно развиваются, сталкиваясь с разнообразными вызовами и открывая новые возможности: Потенциал систем LLM-MA выходит далеко за рамки их текущих приложений и открывает большие перспективы для решения передовых вычислительных задач в таких областях, как финансы, образование, здравоохранение, экология, городское планирование и так далее.', 'В этом контексте существуют две фундаментальные концепции: типы обратной связи, на основе которой агенты должны учиться расширять свои возможности, и стратегии, позволяющие агентам адаптироваться для эффективного решения сложных проблем. **_Самоэволюция._** Вместо того, чтобы полагаться только на исторические записи для принятия решений о последующих действиях, как это показано в решениях на основе памяти, агенты могут динамически саморазвиваться, например, изменяя свои первоначальные цели и стратегии планирования, а также тренируясь на основе обратной связи или общения. Исследования в области мультиагентных систем на основе крупных языковых моделей (LLM-MA) активно развиваются, сталкиваясь с разнообразными вызовами и открывая новые возможности: Потенциал систем LLM-MA выходит далеко за рамки их текущих приложений и открывает большие перспективы для решения передовых вычислительных задач в таких областях, как финансы, образование, здравоохранение, экология, городское планирование и так далее.', 'Другими словами, AI-агенты используют LLM не только для синтеза информации, но и для этапов понимания и обработки запроса и сочетают в себе анализ данных, рассуждения и выполнение действий. Эта размытость терминологии нередко приводит к тому, что в одну категорию попадают как простые чат-боты, выполняющие строго регламентированные задачи, так и сложные ИИ-агенты, способные анализировать данные, адаптироваться к изменениям и инициировать действия. ИИ-агенты анализируют контекст задач, принимают решения на основе текущих данных и могут адаптироваться к изменениям в процессе или данных. Например, в HR-системах ИИ агенты могут использовать такие данные, как зарплаты, контакты и история работы сотрудников. AI-агенты становятся более автономными, с возможностью принимать решения и адаптироваться к изменениям в реальном времени. В статье разбёрем, как Epsilon Workspace использует LLM, RAG и AI-агентов для автоматизации BI.', 'В этом контексте существуют две фундаментальные концепции: типы обратной связи, на основе которой агенты должны учиться расширять свои возможности, и стратегии, позволяющие агентам адаптироваться для эффективного решения сложных проблем. **_Самоэволюция._** Вместо того, чтобы полагаться только на исторические записи для принятия решений о последующих действиях, как это показано в решениях на основе памяти, агенты могут динамически саморазвиваться, например, изменяя свои первоначальные цели и стратегии планирования, а также тренируясь на основе обратной связи или общения. Исследования в области мультиагентных систем на основе крупных языковых моделей (LLM-MA) активно развиваются, сталкиваясь с разнообразными вызовами и открывая новые возможности: Потенциал систем LLM-MA выходит далеко за рамки их текущих приложений и открывает большие перспективы для решения передовых вычислительных задач в таких областях, как финансы, образование, здравоохранение, экология, городское планирование и так далее.', 'Другими словами, AI-агенты используют LLM не только для синтеза информации, но и для этапов понимания и обработки запроса и сочетают в себе анализ данных, рассуждения и выполнение действий. Эта размытость терминологии нередко приводит к тому, что в одну категорию попадают как простые чат-боты, выполняющие строго регламентированные задачи, так и сложные ИИ-агенты, способные анализировать данные, адаптироваться к изменениям и инициировать действия. ИИ-агенты анализируют контекст задач, принимают решения на основе текущих данных и могут адаптироваться к изменениям в процессе или данных. Например, в HR-системах ИИ агенты могут использовать такие данные, как зарплаты, контакты и история работы сотрудников. AI-агенты становятся более автономными, с возможностью принимать решения и адаптироваться к изменениям в реальном времени. В статье разбёрем, как Epsilon Workspace использует LLM, RAG и AI-агентов для автоматизации BI.', 'Список литературы Проблемы мультиагентных систем и возможные пути их решения Zambonelli F., Jennings N., Wooldridge M. (2003) Developing Multiagent systems: The GAIA methodology.', 'Увидел топик про мультиагентные систему и решил кой-чего добавить на эту тему. Сосредоточусь на 2-х направлениях: чем МАС отличаются от классических систем (кроме параллельности, которая все-же и не', 'В этом контексте существуют две фундаментальные концепции: типы обратной связи, на основе которой агенты должны учиться расширять свои возможности, и стратегии, позволяющие агентам адаптироваться для эффективного решения сложных проблем. **_Самоэволюция._** Вместо того, чтобы полагаться только на исторические записи для принятия решений о последующих действиях, как это показано в решениях на основе памяти, агенты могут динамически саморазвиваться, например, изменяя свои первоначальные цели и стратегии планирования, а также тренируясь на основе обратной связи или общения. Исследования в области мультиагентных систем на основе крупных языковых моделей (LLM-MA) активно развиваются, сталкиваясь с разнообразными вызовами и открывая новые возможности: Потенциал систем LLM-MA выходит далеко за рамки их текущих приложений и открывает большие перспективы для решения передовых вычислительных задач в таких областях, как финансы, образование, здравоохранение, экология, городское планирование и так далее.', 'Другими словами, AI-агенты используют LLM не только для синтеза информации, но и для этапов понимания и обработки запроса и сочетают в себе анализ данных, рассуждения и выполнение действий. Эта размытость терминологии нередко приводит к тому, что в одну категорию попадают как простые чат-боты, выполняющие строго регламентированные задачи, так и сложные ИИ-агенты, способные анализировать данные, адаптироваться к изменениям и инициировать действия. ИИ-агенты анализируют контекст задач, принимают решения на основе текущих данных и могут адаптироваться к изменениям в процессе или данных. Например, в HR-системах ИИ агенты могут использовать такие данные, как зарплаты, контакты и история работы сотрудников. AI-агенты становятся более автономными, с возможностью принимать решения и адаптироваться к изменениям в реальном времени. В статье разбёрем, как Epsilon Workspace использует LLM, RAG и AI-агентов для автоматизации BI.', 'Современные ИИ-решения всё чаще выходят за рамки одиночных моделей. Сложность задач растёт — и на смену одному интеллекту приходит команда агентов. Мультиагентные системы (Multi-Agent Systems, MAS) — это новый этап в развитии', 'Вступление Одними из наиболее интересных подходов в создании AI-систем в 2024 году являются агенты (agents, agentic AI systems) и мультиагентные системы (multi-agent systems). Оба они показывают', 'LangGraph – это библиотека, предназначенная для построения устойчивых и выразительных мультиагентных систем на основе больших языковых моделей (LLM). В отличие от традиционных подходов, где агенты взаимодействуют линейно, LangGraph позволяет моделировать сложные взаимодействия, включая циклы, условия и параллельное выполнение задач. AI-агент на основе LLM – это система, которая использует большую языковую модель для выполнения задач, требующих понимания естественного языка, генерации текста и принятия решений. LangGraph позволяет создавать сложные workflows с использованием циклов, условий и параллельного выполнения задач. Используйте инструменты LangGraph для отслеживания состояния графа и анализа работы агента. LangGraph позволяет создавать сложные сценарии взаимодействия между агентами с использованием циклов и условий. Заключение: Перспективы LangGraph и AI-агентов на основе LLM LangGraph предлагает более гибкий, устойчивый и наблюдаемый подход к разработке AI-агентов, чем традиционные методы.', 'Другими словами, AI-агенты используют LLM не только для синтеза информации, но и для этапов понимания и обработки запроса и сочетают в себе анализ данных, рассуждения и выполнение действий. Эта размытость терминологии нередко приводит к тому, что в одну категорию попадают как простые чат-боты, выполняющие строго регламентированные задачи, так и сложные ИИ-агенты, способные анализировать данные, адаптироваться к изменениям и инициировать действия. ИИ-агенты анализируют контекст задач, принимают решения на основе текущих данных и могут адаптироваться к изменениям в процессе или данных. Например, в HR-системах ИИ агенты могут использовать такие данные, как зарплаты, контакты и история работы сотрудников. AI-агенты становятся более автономными, с возможностью принимать решения и адаптироваться к изменениям в реальном времени. В статье разбёрем, как Epsilon Workspace использует LLM, RAG и AI-агентов для автоматизации BI.', 'Другими словами, AI-агенты используют LLM не только для синтеза информации, но и для этапов понимания и обработки запроса и сочетают в себе анализ данных, рассуждения и выполнение действий. Эта размытость терминологии нередко приводит к тому, что в одну категорию попадают как простые чат-боты, выполняющие строго регламентированные задачи, так и сложные ИИ-агенты, способные анализировать данные, адаптироваться к изменениям и инициировать действия. ИИ-агенты анализируют контекст задач, принимают решения на основе текущих данных и могут адаптироваться к изменениям в процессе или данных. Например, в HR-системах ИИ агенты могут использовать такие данные, как зарплаты, контакты и история работы сотрудников. AI-агенты становятся более автономными, с возможностью принимать решения и адаптироваться к изменениям в реальном времени. В статье разбёрем, как Epsilon Workspace использует LLM, RAG и AI-агентов для автоматизации BI.', 'В этом контексте существуют две фундаментальные концепции: типы обратной связи, на основе которой агенты должны учиться расширять свои возможности, и стратегии, позволяющие агентам адаптироваться для эффективного решения сложных проблем. **_Самоэволюция._** Вместо того, чтобы полагаться только на исторические записи для принятия решений о последующих действиях, как это показано в решениях на основе памяти, агенты могут динамически саморазвиваться, например, изменяя свои первоначальные цели и стратегии планирования, а также тренируясь на основе обратной связи или общения. Исследования в области мультиагентных систем на основе крупных языковых моделей (LLM-MA) активно развиваются, сталкиваясь с разнообразными вызовами и открывая новые возможности: Потенциал систем LLM-MA выходит далеко за рамки их текущих приложений и открывает большие перспективы для решения передовых вычислительных задач в таких областях, как финансы, образование, здравоохранение, экология, городское планирование и так далее.', 'В этом контексте существуют две фундаментальные концепции: типы обратной связи, на основе которой агенты должны учиться расширять свои возможности, и стратегии, позволяющие агентам адаптироваться для эффективного решения сложных проблем. **_Самоэволюция._** Вместо того, чтобы полагаться только на исторические записи для принятия решений о последующих действиях, как это показано в решениях на основе памяти, агенты могут динамически саморазвиваться, например, изменяя свои первоначальные цели и стратегии планирования, а также тренируясь на основе обратной связи или общения. Исследования в области мультиагентных систем на основе крупных языковых моделей (LLM-MA) активно развиваются, сталкиваясь с разнообразными вызовами и открывая новые возможности: Потенциал систем LLM-MA выходит далеко за рамки их текущих приложений и открывает большие перспективы для решения передовых вычислительных задач в таких областях, как финансы, образование, здравоохранение, экология, городское планирование и так далее.', 'Другими словами, AI-агенты используют LLM не только для синтеза информации, но и для этапов понимания и обработки запроса и сочетают в себе анализ данных, рассуждения и выполнение действий. Эта размытость терминологии нередко приводит к тому, что в одну категорию попадают как простые чат-боты, выполняющие строго регламентированные задачи, так и сложные ИИ-агенты, способные анализировать данные, адаптироваться к изменениям и инициировать действия. ИИ-агенты анализируют контекст задач, принимают решения на основе текущих данных и могут адаптироваться к изменениям в процессе или данных. Например, в HR-системах ИИ агенты могут использовать такие данные, как зарплаты, контакты и история работы сотрудников. AI-агенты становятся более автономными, с возможностью принимать решения и адаптироваться к изменениям в реальном времени. В статье разбёрем, как Epsilon Workspace использует LLM, RAG и AI-агентов для автоматизации BI.', 'LangGraph – это библиотека, предназначенная для построения устойчивых и выразительных мультиагентных систем на основе больших языковых моделей (LLM). В отличие от традиционных подходов, где агенты взаимодействуют линейно, LangGraph позволяет моделировать сложные взаимодействия, включая циклы, условия и параллельное выполнение задач. AI-агент на основе LLM – это система, которая использует большую языковую модель для выполнения задач, требующих понимания естественного языка, генерации текста и принятия решений. LangGraph позволяет создавать сложные workflows с использованием циклов, условий и параллельного выполнения задач. Используйте инструменты LangGraph для отслеживания состояния графа и анализа работы агента. LangGraph позволяет создавать сложные сценарии взаимодействия между агентами с использованием циклов и условий. Заключение: Перспективы LangGraph и AI-агентов на основе LLM LangGraph предлагает более гибкий, устойчивый и наблюдаемый подход к разработке AI-агентов, чем традиционные методы.', 'Другими словами, AI-агенты используют LLM не только для синтеза информации, но и для этапов понимания и обработки запроса и сочетают в себе анализ данных, рассуждения и выполнение действий. Эта размытость терминологии нередко приводит к тому, что в одну категорию попадают как простые чат-боты, выполняющие строго регламентированные задачи, так и сложные ИИ-агенты, способные анализировать данные, адаптироваться к изменениям и инициировать действия. ИИ-агенты анализируют контекст задач, принимают решения на основе текущих данных и могут адаптироваться к изменениям в процессе или данных. Например, в HR-системах ИИ агенты могут использовать такие данные, как зарплаты, контакты и история работы сотрудников. AI-агенты становятся более автономными, с возможностью принимать решения и адаптироваться к изменениям в реальном времени. В статье разбёрем, как Epsilon Workspace использует LLM, RAG и AI-агентов для автоматизации BI.', 'В этом контексте существуют две фундаментальные концепции: типы обратной связи, на основе которой агенты должны учиться расширять свои возможности, и стратегии, позволяющие агентам адаптироваться для эффективного решения сложных проблем. **_Самоэволюция._** Вместо того, чтобы полагаться только на исторические записи для принятия решений о последующих действиях, как это показано в решениях на основе памяти, агенты могут динамически саморазвиваться, например, изменяя свои первоначальные цели и стратегии планирования, а также тренируясь на основе обратной связи или общения. Исследования в области мультиагентных систем на основе крупных языковых моделей (LLM-MA) активно развиваются, сталкиваясь с разнообразными вызовами и открывая новые возможности: Потенциал систем LLM-MA выходит далеко за рамки их текущих приложений и открывает большие перспективы для решения передовых вычислительных задач в таких областях, как финансы, образование, здравоохранение, экология, городское планирование и так далее.', '### Преимущества и недостатки использования LLM в многоагентной разработке Архитектура и подходы к многоагентной разработке с LLM ### Инструменты и фреймворки для разработки многоагентных систем с LLM (например, Langchain, AutoGen) MAS с LLM могут автоматизировать сложные бизнес-процессы, такие как обработка заказов, поддержка клиентов и управление цепочками поставок. Например, MAS может быть использована для оптимизации рекламных кампаний в Google Ads. Агенты могут анализировать данные о эффективности ключевых слов, автоматически корректировать ставки и генерировать новые рекламные объявления на основе LLM: MAS с LLM могут создавать персонализированные обучающие системы, адаптирующиеся к индивидуальным потребностям и стилю обучения каждого ученика. MAS с LLM могут использоваться для моделирования сложных систем и явлений, таких как климатические изменения, распространение болезней и социальные процессы.', 'В этом контексте существуют две фундаментальные концепции: типы обратной связи, на основе которой агенты должны учиться расширять свои возможности, и стратегии, позволяющие агентам адаптироваться для эффективного решения сложных проблем. **_Самоэволюция._** Вместо того, чтобы полагаться только на исторические записи для принятия решений о последующих действиях, как это показано в решениях на основе памяти, агенты могут динамически саморазвиваться, например, изменяя свои первоначальные цели и стратегии планирования, а также тренируясь на основе обратной связи или общения. Исследования в области мультиагентных систем на основе крупных языковых моделей (LLM-MA) активно развиваются, сталкиваясь с разнообразными вызовами и открывая новые возможности: Потенциал систем LLM-MA выходит далеко за рамки их текущих приложений и открывает большие перспективы для решения передовых вычислительных задач в таких областях, как финансы, образование, здравоохранение, экология, городское планирование и так далее.', 'Существуют две фундаментальные концепции приобретения способностей агентами в системах LLM-MA: типы обратной связи, с помощью которых агенты могут обучаться для увеличения своих возможностей, и стратегии, позволяющие агентам перестраиваться для того, чтобы справится с задачами [13]. В системах LLM-MA агенты могут адаптироваться с помощью трех основных решений: память (в модуле памяти хранятся данные о их отношениях с другими агентами), самоэволюция (агенты динамически развиваются, и могут менять свои политики и задачи основываясь на памяти), динамическая создание (уже запущенная система способно создавать новых агентов, если они требуются для выполнения новой работы). Lei Wang, Chen Ma, Xueyang Feng, Zeyu Zhang, Hao Yang, Jingsen Zhang, Zhiyuan Chen, Jiakai Tang, Xu Chen, Yankai Lin, Wayne Xin Zhao, Zhewei Wei, Ji-Rong Wen. A Survey on Large Language Model based Autonomous Agents.', 'В этом контексте существуют две фундаментальные концепции: типы обратной связи, на основе которой агенты должны учиться расширять свои возможности, и стратегии, позволяющие агентам адаптироваться для эффективного решения сложных проблем. **_Самоэволюция._** Вместо того, чтобы полагаться только на исторические записи для принятия решений о последующих действиях, как это показано в решениях на основе памяти, агенты могут динамически саморазвиваться, например, изменяя свои первоначальные цели и стратегии планирования, а также тренируясь на основе обратной связи или общения. Исследования в области мультиагентных систем на основе крупных языковых моделей (LLM-MA) активно развиваются, сталкиваясь с разнообразными вызовами и открывая новые возможности: Потенциал систем LLM-MA выходит далеко за рамки их текущих приложений и открывает большие перспективы для решения передовых вычислительных задач в таких областях, как финансы, образование, здравоохранение, экология, городское планирование и так далее.', 'Существуют две фундаментальные концепции приобретения способностей агентами в системах LLM-MA: типы обратной связи, с помощью которых агенты могут обучаться для увеличения своих возможностей, и стратегии, позволяющие агентам перестраиваться для того, чтобы справится с задачами [13]. В системах LLM-MA агенты могут адаптироваться с помощью трех основных решений: память (в модуле памяти хранятся данные о их отношениях с другими агентами), самоэволюция (агенты динамически развиваются, и могут менять свои политики и задачи основываясь на памяти), динамическая создание (уже запущенная система способно создавать новых агентов, если они требуются для выполнения новой работы). Lei Wang, Chen Ma, Xueyang Feng, Zeyu Zhang, Hao Yang, Jingsen Zhang, Zhiyuan Chen, Jiakai Tang, Xu Chen, Yankai Lin, Wayne Xin Zhao, Zhewei Wei, Ji-Rong Wen. A Survey on Large Language Model based Autonomous Agents.']}}\n",
      "{'generate': {'draft': '# Возможные сценарии применения мультиагентных систем на базе LLM\\n\\n## 1. Введение\\n\\nМультиагентные системы (МАС) представляют собой сложные комплексы, состоящие из нескольких автономных агентов, которые взаимодействуют друг с другом и решают общие задачи. Эти системы находят применение в различных областях, включая робототехнику, транспорт, здравоохранение и образование. С другой стороны, модели больших языков (LLM) — такие как GPT-3 и другие современные языковые модели — обладают мощными возможностями обработки и генерации текста, что позволяет им эффективно взаимодействовать с пользователями и анализировать большие объемы информации. \\n\\nКомбинирование МАС и LLM открывает новые горизонты для автоматизации, улучшает взаимодействие между агентами и увеличивает их способность адаптироваться к новым требованиям. В этой статье мы рассмотрим несколько сценариев применения мультиагентных систем на базе LLM и проанализируем их преимущества и вызовы.\\n\\n## 2. Основные компоненты мультиагентных систем\\n\\nКаждая мультиагентная система состоит из множества агентов, каждый из которых обладает определёнными характеристиками, такими как автономность, способность к обучению и взаимодействию. Коммуникация между агентами является ключевым элементом, и именно здесь LLM могут привнести значительное улучшение. Модели больших языков способны интерпретировать запросы, генерировать ответы и даже производить анализ данных, что существенно облегчает вопросы принятия решений и координации в мультиагентной среде.\\n\\n## 3. Сценарий 1: Обратная связь и поддержка в обучении\\n\\nМультиагентные системы могут быть эффективно использованы в образовательной среде, где агенты-наставники, основанные на LLM, предоставляют адаптивные консультации и рекомендации. Например, такие системы могут анализировать ответы студентов на тесты и предлагать индивидуализированные советы по улучшению. Одним из примеров применения LLM в образовании является программа, в которой обучающие агенты управляют уроками, анализируя прогресс обучающихся и подстраивая материалы под их нужды.\\n\\nМетрики успеха таких систем могут включать улучшение успеваемости студентов, уровень вовлеченности и удовлетворенности обучением.\\n\\n## 4. Сценарий 2: Интеллектуальные ассистенты\\n\\nИнтеллектуальные ассистенты на базе мультиагентных систем могут автоматизировать множество бизнес-процессов, включая поддержку клиентов, обработку заказов и управление проектами. Использование LLM позволяет создавать ассистентов, которые могут анализировать большие объемы данных, вести переговоры и вырабатывать решения на основе анализа текущей ситуации. Например, автоматизированные агентные системы могли бы значительно облегчить процесс обработки запросов клиентов в сфере e-commerce, предоставляя моментальные ответы на вопросы и предлагая рекомендуемые товары.\\n\\nПреимущества использования таких ассистентов включают снижение нагрузки на сотрудников, повышение качества обслуживания и возможность масштабирования бизнес-процессов.\\n\\n## 5. Сценарий 3: Моделирование и предсказание\\n\\nСложные системы, такие как экосистемы и экономики, могут быть моделированы с помощью мультиагентных систем, использующих LLM для предсказания поведения и выявления трендов. Например, в области экологии LLM могут анализировать данные о климатических изменениях и экосистемах, а модели агентов могут симулировать взаимодействие различных факторов. Это может помочь предсказать, как изменения в окружающей среде повлияют на экосистему в целом. \\n\\nТакое использование LLM позволяет обрабатывать и анализировать большие объемы данных в реальном времени, что существенно улучшает качество и скорость предсказания.\\n\\n## 6. Сценарий 4: Социальные взаимодействия и игры\\n\\nСоздание виртуальных миров с многоагентными системами открывает новые возможности для взаимодействия между агентами и живыми игроками. Мультиагентные системы могут включать в себя персонажей, которые ведут себя эмоционально осознанно и адаптируются к действиям игрока. Например, в игровой сфере LLM могут улучшить взаимодействие с персонажами, делая игровой процесс более захватывающим и непредсказуемым.\\n\\nОднако стоит отметить, что использование LLM в играх также может создавать несанкционированные сценарии, когда агенты действуют неожиданно или вызывают дезориентацию у игроков.\\n\\n## 7. Проблемы и вызовы\\n\\nНесмотря на обещающие перспективы, существует ряд проблем и вызовов, связанных с мультиагентными системами на базе LLM. Этические и социальные аспекты, такие как безопасность данных, предвзятость алгоритмов и злоупотребление технологиями, требуют особого внимания. Кроме того, технические сложности, связанные с масштабируемостью решений, управлением данными и поддержкой взаимодействия между агентами, также требуют значительных усилий со стороны разработчиков.\\n\\n## 8. Заключение\\n\\nМультиагентные системы на базе LLM открывают новые горизонты в автоматизации и управлении комплексными процессами в различных областях. Однако для успешного внедрения и использования таких систем необходимо учитывать не только их преимущества, но и потенциальные риски. Будущее МАС и LLM представляет собой многообещающую область, которая требует дальнейших исследований и ответственного подхода к разработке технологий. предложенные выше сценарии применения показывают, что, несмотря на существующие вызовы, возможности этих систем кажутся практически безграничными.', 'revision_number': 3}}\n"
     ]
    }
   ],
   "source": [
    "# Запускаем нашу редакцию\n",
    "config = {\"configurable\": {\"thread_id\": \"user1\"}}\n",
    "for s in graph.stream({\n",
    "    'task': \"Напиши статью о возможных сценариях применения мультиагентных систем на базе LLM\",\n",
    "    \"max_revisions\": 2,\n",
    "    \"revision_number\": 1\n",
    "}, config):\n",
    "    print(s)\n",
    "    # сохраним итоговую статью в переменную (так же можно сохранить план, критику и пр.)\n",
    "    if \"generate\" in s:\n",
    "        final_draft = s[\"generate\"][\"draft\"]"
   ]
  },
  {
   "cell_type": "markdown",
   "metadata": {},
   "source": [
    "<div class=\"alert alert-success\" style=\"background-color:#e6ffe6; padding:13px; border-width:3px; border-color:#efe6ef; border-style:solid; border-radius:6px\">\n",
    "    \n",
    "Видим, как агенты по-очереди выполняют задачи, чётко по нашему графу, сохраняя промежуточное состояние в `state`.\n",
    "\n",
    "**В качестве домашнего задания:** Встройте в эту систему HIL, чтобы человек говорил `ок` или просил внести правки."
   ]
  },
  {
   "cell_type": "code",
   "execution_count": 164,
   "metadata": {
    "scrolled": true
   },
   "outputs": [
    {
     "name": "stdout",
     "output_type": "stream",
     "text": [
      "# Возможные сценарии применения мультиагентных систем на базе LLM\n",
      "\n",
      "## 1. Введение\n",
      "\n",
      "Мультиагентные системы (МАС) представляют собой сложные комплексы, состоящие из нескольких автономных агентов, которые взаимодействуют друг с другом и решают общие задачи. Эти системы находят применение в различных областях, включая робототехнику, транспорт, здравоохранение и образование. С другой стороны, модели больших языков (LLM) — такие как GPT-3 и другие современные языковые модели — обладают мощными возможностями обработки и генерации текста, что позволяет им эффективно взаимодействовать с пользователями и анализировать большие объемы информации. \n",
      "\n",
      "Комбинирование МАС и LLM открывает новые горизонты для автоматизации, улучшает взаимодействие между агентами и увеличивает их способность адаптироваться к новым требованиям. В этой статье мы рассмотрим несколько сценариев применения мультиагентных систем на базе LLM и проанализируем их преимущества и вызовы.\n",
      "\n",
      "## 2. Основные компоненты мультиагентных систем\n",
      "\n",
      "Каждая мультиагентная система состоит из множества агентов, каждый из которых обладает определёнными характеристиками, такими как автономность, способность к обучению и взаимодействию. Коммуникация между агентами является ключевым элементом, и именно здесь LLM могут привнести значительное улучшение. Модели больших языков способны интерпретировать запросы, генерировать ответы и даже производить анализ данных, что существенно облегчает вопросы принятия решений и координации в мультиагентной среде.\n",
      "\n",
      "## 3. Сценарий 1: Обратная связь и поддержка в обучении\n",
      "\n",
      "Мультиагентные системы могут быть эффективно использованы в образовательной среде, где агенты-наставники, основанные на LLM, предоставляют адаптивные консультации и рекомендации. Например, такие системы могут анализировать ответы студентов на тесты и предлагать индивидуализированные советы по улучшению. Одним из примеров применения LLM в образовании является программа, в которой обучающие агенты управляют уроками, анализируя прогресс обучающихся и подстраивая материалы под их нужды.\n",
      "\n",
      "Метрики успеха таких систем могут включать улучшение успеваемости студентов, уровень вовлеченности и удовлетворенности обучением.\n",
      "\n",
      "## 4. Сценарий 2: Интеллектуальные ассистенты\n",
      "\n",
      "Интеллектуальные ассистенты на базе мультиагентных систем могут автоматизировать множество бизнес-процессов, включая поддержку клиентов, обработку заказов и управление проектами. Использование LLM позволяет создавать ассистентов, которые могут анализировать большие объемы данных, вести переговоры и вырабатывать решения на основе анализа текущей ситуации. Например, автоматизированные агентные системы могли бы значительно облегчить процесс обработки запросов клиентов в сфере e-commerce, предоставляя моментальные ответы на вопросы и предлагая рекомендуемые товары.\n",
      "\n",
      "Преимущества использования таких ассистентов включают снижение нагрузки на сотрудников, повышение качества обслуживания и возможность масштабирования бизнес-процессов.\n",
      "\n",
      "## 5. Сценарий 3: Моделирование и предсказание\n",
      "\n",
      "Сложные системы, такие как экосистемы и экономики, могут быть моделированы с помощью мультиагентных систем, использующих LLM для предсказания поведения и выявления трендов. Например, в области экологии LLM могут анализировать данные о климатических изменениях и экосистемах, а модели агентов могут симулировать взаимодействие различных факторов. Это может помочь предсказать, как изменения в окружающей среде повлияют на экосистему в целом. \n",
      "\n",
      "Такое использование LLM позволяет обрабатывать и анализировать большие объемы данных в реальном времени, что существенно улучшает качество и скорость предсказания.\n",
      "\n",
      "## 6. Сценарий 4: Социальные взаимодействия и игры\n",
      "\n",
      "Создание виртуальных миров с многоагентными системами открывает новые возможности для взаимодействия между агентами и живыми игроками. Мультиагентные системы могут включать в себя персонажей, которые ведут себя эмоционально осознанно и адаптируются к действиям игрока. Например, в игровой сфере LLM могут улучшить взаимодействие с персонажами, делая игровой процесс более захватывающим и непредсказуемым.\n",
      "\n",
      "Однако стоит отметить, что использование LLM в играх также может создавать несанкционированные сценарии, когда агенты действуют неожиданно или вызывают дезориентацию у игроков.\n",
      "\n",
      "## 7. Проблемы и вызовы\n",
      "\n",
      "Несмотря на обещающие перспективы, существует ряд проблем и вызовов, связанных с мультиагентными системами на базе LLM. Этические и социальные аспекты, такие как безопасность данных, предвзятость алгоритмов и злоупотребление технологиями, требуют особого внимания. Кроме того, технические сложности, связанные с масштабируемостью решений, управлением данными и поддержкой взаимодействия между агентами, также требуют значительных усилий со стороны разработчиков.\n",
      "\n",
      "## 8. Заключение\n",
      "\n",
      "Мультиагентные системы на базе LLM открывают новые горизонты в автоматизации и управлении комплексными процессами в различных областях. Однако для успешного внедрения и использования таких систем необходимо учитывать не только их преимущества, но и потенциальные риски. Будущее МАС и LLM представляет собой многообещающую область, которая требует дальнейших исследований и ответственного подхода к разработке технологий. предложенные выше сценарии применения показывают, что, несмотря на существующие вызовы, возможности этих систем кажутся практически безграничными.\n"
     ]
    }
   ],
   "source": [
    "# Итоговая статья\n",
    "print(final_draft)"
   ]
  },
  {
   "cell_type": "markdown",
   "metadata": {},
   "source": [
    "<div class=\"alert alert-success\" style=\"background-color:#e6ffe6; padding:13px; border-width:3px; border-color:#efe6ef; border-style:solid; border-radius:6px\">\n",
    "    \n",
    "Неплохо получилось, но есть к чему стремиться!"
   ]
  },
  {
   "cell_type": "markdown",
   "metadata": {},
   "source": [
    "# <center id=\"p9\"> 🥁 Выводы и заключения ✅</center>\n"
   ]
  },
  {
   "cell_type": "markdown",
   "metadata": {},
   "source": [
    "<div class=\"alert alert-info\" style=\"padding:10px; border-width:3px; border-color:#efe6ef; border-style:solid; border-radius:6px\">\n",
    "\n",
    "В этом уроке изучили, расширение `LangChain` - фрэймворк `LangGraph`, который позволяет:\n",
    "* Четко задавать и контролировать поведение агентов, мульти-агентов и других многоакторных систем\n",
    "* Создавать условные и циклические переходы между узлами\n",
    "* Добавлять человека, как отдельного актора (узел графа)\n",
    "* Отслеживать состояние всей системы и на основе этого принимать решения\n",
    "\n",
    "Этот инструмент больше подходит для production-ready решений, так как делает результаты работы более предсказуемыми и контролируемыми."
   ]
  },
  {
   "cell_type": "code",
   "execution_count": null,
   "metadata": {},
   "outputs": [],
   "source": []
  }
 ],
 "metadata": {
  "colab": {
   "provenance": []
  },
  "kernelspec": {
   "display_name": "cv",
   "language": "python",
   "name": "python3"
  },
  "language_info": {
   "codemirror_mode": {
    "name": "ipython",
    "version": 3
   },
   "file_extension": ".py",
   "mimetype": "text/x-python",
   "name": "python",
   "nbconvert_exporter": "python",
   "pygments_lexer": "ipython3",
   "version": "3.10.12"
  }
 },
 "nbformat": 4,
 "nbformat_minor": 4
}
