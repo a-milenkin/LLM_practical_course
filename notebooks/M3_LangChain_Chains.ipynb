{
 "cells": [
  {
   "cell_type": "markdown",
   "id": "1aba1183-53a1-4aa7-b1c3-6a6687e050b9",
   "metadata": {},
   "source": [
    "### <center id=\"p1\"><h1> ⛓ `CHAINS` 🔗 - разбираемся с базовым элементом фрэймворка!</h1></center>"
   ]
  },
  {
   "cell_type": "markdown",
   "id": "9fee959e",
   "metadata": {},
   "source": [
    "### Оглавление ноутбука\n",
    "<img src='https://i.ytimg.com/vi/W3AoeMrg27o/maxresdefault.jpg' align=\"right\" width=\"500\" height=\"550\" style=\"border-radius: 0.75rem;\" />\n",
    "<br>\n",
    "\n",
    "<p><font size=\"3\" face=\"Arial\" font-size=\"large\"><ul type=\"square\">\n",
    "    \n",
    "<li><a href=\"#p1\">🏃‍♀️‍➡️ Runnables - основные звенья цепи </a></li>\n",
    "<li><a href=\"#plcel\">LCEL - LangChain Expression Language 🤪🀄️</a></li>\n",
    "<li><a href=\"#p4\">🤖 TransformChain  </a></li>\n",
    "<li><a href=\"#p5\">🔗➕⛓ Вложенные цепочки</a></li>\n",
    "<li><a href=\"#p6\">Router Chain 🈯️ ➡️ 🇯🇵</a></li>\n",
    "<li><a href=\"#p8\">🧸 Выводы и заключения ✅ </a></li>\n",
    "    \n",
    "</ul></font></p>"
   ]
  },
  {
   "cell_type": "markdown",
   "id": "a54638b2-dffe-4573-9b85-ba9e892e273a",
   "metadata": {},
   "source": [
    "<div class=\"alert alert-info\" style=\"padding:10px; border-width:3px; border-color:#efe6ef; border-style:solid; border-radius:6px\">\n",
    "    \n",
    "📖 Как вы могли догадаться из названия, **цепочки (Chains)** - это один из фундаментальных строительных блоков фрэймворка `LangChain`. Они представляют собой просто цепочку компонентов, которые будут выполнены в определённом порядке. <br>"
   ]
  },
  {
   "cell_type": "markdown",
   "id": "621c8de8-15a6-4575-a274-4df790ccd3d7",
   "metadata": {},
   "source": [
    "<div class=\"alert alert-info\" style=\"padding:10px; border-width:3px; border-color:#efe6ef; border-style:solid; border-radius:6px\">\n",
    "    \n",
    "**Официальное определение цепочек:** <br>\n",
    "Цепочка состоит из звеньев, которые могут быть как примитивами, так и другими цепочками. Примитивами могут быть либо промпты, LLM, utils, либо другие цепочки. Таким образом, цепочка — это, по сути, конвейер, который обрабатывает входные данные, используя определенную комбинацию примитивов. "
   ]
  },
  {
   "cell_type": "markdown",
   "id": "75797bf8-2c2b-40fb-bcbd-4bf840c2e837",
   "metadata": {
    "tags": []
   },
   "source": [
    "# <center id=\"p1\"> 🏃‍♀️‍➡️ Runnables - основные звенья цепи </center> "
   ]
  },
  {
   "cell_type": "markdown",
   "id": "5a375231-8e51-4ee5-ae7b-baa282d3d384",
   "metadata": {},
   "source": [
    "<div class=\"alert alert-info\" style=\"padding:10px; border-width:3px; border-color:#efe6ef; border-style:solid; border-radius:6px\">\n",
    "\n",
    "📖 `Runnable` - наиболее близкий по смыслу перевод \"запускаемый объект\"."
   ]
  },
  {
   "cell_type": "markdown",
   "id": "1aed2742-b4fb-4bde-9c49-7eb07350de49",
   "metadata": {},
   "source": [
    "`Runnable` в `LangChain` — это базовый интерфейс, который лежит в основе работы с компонентами **LangChain**, такими как языковые модели, парсеры вывода, промпты и др. Он обеспечивает единообразный и предсказуемый способ взаимодействия с этими компонентами."
   ]
  },
  {
   "cell_type": "markdown",
   "id": "3abf9dcf-43c6-4794-92e1-c365fc9a76a6",
   "metadata": {},
   "source": [
    "<div class=\"alert alert-info\" style=\"padding:10px; border-width:3px; border-color:#efe6ef; border-style:solid; border-radius:6px\">\n",
    "    \n",
    "Основные характеристики `Runnable`:\n",
    "\n",
    "* Позволяет вызывать компонент с одним входом и получать выход (`invoke`).\n",
    "* Поддерживает пакетную обработку нескольких входов параллельно (`batch` и `batch_as_completed`), что улучшает производительность при обработке множества независимых запросов.\n",
    "* Поддерживает потоковую выдачу результатов по мере их генерации (`stream`).\n",
    "* Позволяет композировать несколько `Runnable`-компонентов вместе с помощью `LangChain Expression Language (LCEL)` для создания сложных конвейеров обработки - **цепочек**."
   ]
  },
  {
   "cell_type": "markdown",
   "id": "8bfc25d6-4296-4c84-ae57-bfda3765a4df",
   "metadata": {},
   "source": [
    "<div class=\"alert alert-info\" style=\"padding:10px; border-width:3px; border-color:#efe6ef; border-style:solid; border-radius:6px\">\n",
    "    \n",
    "Простыми словами это любой объект из `LangChain`, который можно запустить/вызвать методом `invoke`.\n",
    "В прошлых уроках мы уже создавали `Runnables`, вызывая llm и шаблон промпта, просто ещё не знали об этом."
   ]
  },
  {
   "cell_type": "code",
   "execution_count": 5,
   "id": "0a0dc993-6239-4b27-99b4-b752fb708538",
   "metadata": {
    "tags": []
   },
   "outputs": [],
   "source": [
    "import os\n",
    "from getpass import getpass\n",
    "import warnings\n",
    "warnings.filterwarnings('ignore')"
   ]
  },
  {
   "cell_type": "code",
   "execution_count": 6,
   "id": "9febfbad-5120-488c-ac89-2ea5d8c9339a",
   "metadata": {
    "tags": []
   },
   "outputs": [],
   "source": [
    "!pip install langchain langchain-openai openai numexpr -q -U"
   ]
  },
  {
   "cell_type": "code",
   "execution_count": 3,
   "id": "ccd3083b-a534-4f4c-a008-d4eb822210ab",
   "metadata": {
    "jupyter": {
     "source_hidden": true
    },
    "tags": []
   },
   "outputs": [],
   "source": [
    "# # Если используете ключ от OpenAI, запустите эту ячейку\n",
    "# from langchain_openai import ChatOpenAI\n",
    "\n",
    "# # os.environ['OPENAI_API_KEY'] = \"Введите ваш OpenAI API ключ\"\n",
    "# os.environ['OPENAI_API_KEY'] = getpass(prompt='Введите ваш OpenAI API ключ')\n",
    "\n",
    "# # инициализируем языковую модель\n",
    "# llm = ChatOpenAI(temperature=0.0)"
   ]
  },
  {
   "cell_type": "code",
   "execution_count": 7,
   "id": "bd76f574-b8e5-4820-96a4-972fc5ac25ad",
   "metadata": {
    "tags": []
   },
   "outputs": [
    {
     "name": "stdin",
     "output_type": "stream",
     "text": [
      "Введите ваш  API-ключ курса ········\n"
     ]
    }
   ],
   "source": [
    "# Если используете ключ из курса, запустите эту ячейку\n",
    "from langchain_openai import ChatOpenAI\n",
    "\n",
    "#course_api_key= \"Введите ваш OpenAI API ключ\"\n",
    "course_api_key = getpass(prompt='Введите ваш  API-ключ курса')\n",
    "\n",
    "# инициализируем языковую модель\n",
    "llm = ChatOpenAI(api_key=course_api_key, model='gpt-4o-mini', \n",
    "                 base_url=\"https://aleron-llm.neuraldeep.tech/\")"
   ]
  },
  {
   "cell_type": "markdown",
   "id": "caf62177-250d-4833-9f58-b1bcc234d183",
   "metadata": {},
   "source": [
    "<div class=\"alert alert-info\" style=\"padding:10px; border-width:3px; border-color:#efe6ef; border-style:solid; border-radius:6px\">\n",
    "    \n",
    "Рассмотрим пример из прошлого урока: `ChatPromptTemplate` - это `Runnable`, как и модель `ChatOpenAI`."
   ]
  },
  {
   "cell_type": "code",
   "execution_count": 8,
   "id": "c02abf64-bc04-46a5-ad68-ec3778a21eae",
   "metadata": {},
   "outputs": [
    {
     "data": {
      "text/plain": [
       "ChatPromptValue(messages=[SystemMessage(content='Ты полезный AI-ассистент с чувством юмора.', additional_kwargs={}, response_metadata={}), HumanMessage(content='Расскажи мне шутку на тему - космос', additional_kwargs={}, response_metadata={})])"
      ]
     },
     "execution_count": 8,
     "metadata": {},
     "output_type": "execute_result"
    }
   ],
   "source": [
    "from langchain_core.prompts import ChatPromptTemplate\n",
    "\n",
    "prompt_template = ChatPromptTemplate([\n",
    "    (\"system\", \"Ты полезный AI-ассистент с чувством юмора.\"),\n",
    "    (\"user\", \"Расскажи мне шутку на тему - {topic}\"),\n",
    "])\n",
    "\n",
    "prompt_template.invoke({\"topic\": \"космос\"})"
   ]
  },
  {
   "cell_type": "markdown",
   "id": "fd3fa4a0-ac35-4d93-a834-ef78f4b6cf1a",
   "metadata": {},
   "source": [
    "<div class=\"alert alert-success\" style=\"background-color:#e6ffe6; padding:13px; border-width:3px; border-color:#efe6ef; border-style:solid; border-radius:6px\">\n",
    "    \n",
    "И вот из таких `Runnables` и других примитивов, удобно собирать цепочки с помощью `LCEL`."
   ]
  },
  {
   "cell_type": "markdown",
   "id": "f1666836-165d-4897-9540-891ea730a2b8",
   "metadata": {},
   "source": [
    "# <center id=\"plcel\"> **`LCEL` - LangChain Expression Language** 🤪🀄️\n",
    "\n",
    "`LCEL` `(LangChain Expression Language)` — это декларативный язык выражений в `LangChain`, предназначенный для построения и оркестровки цепочек (chains) из существующих компонентов `Runnable`. Вместо того чтобы описывать, как именно выполнять шаги, вы описываете, что должно произойти, а `LangChain` оптимизирует выполнение на этапе запуска.\n",
    "\n",
    "\n",
    "Что он позволяет делать?:\n",
    "* декларативный способ составлять цепочки\n",
    "* стандартизирует интерфейсы\n",
    "* проще персонализировать различные части цепочки\n",
    "* позволяет легко заменять компоненты\n",
    "* поддержка потоковой, пакетной и асинхронной обработки «из коробки»\n",
    "\n",
    "<div class=\"alert alert-success\" style=\"background-color:#e6ffe6; padding:13px; border-width:3px; border-color:#efe6ef; border-style:solid; border-radius:6px\">\n",
    "    \n",
    "Звенья цепи записываются последовательно через символ **`|`**. Сама цепочка тоже становится `Runnable`.\n",
    "\n",
    "</div>\n",
    "Давайте соберём первую цепочку, которая будет менять стилистику текста:"
   ]
  },
  {
   "cell_type": "code",
   "execution_count": 10,
   "id": "730e749f-2016-46da-a5e6-6728ba6c8e65",
   "metadata": {
    "tags": []
   },
   "outputs": [],
   "source": [
    "# создадим шаблон и промпт\n",
    "from langchain.prompts import PromptTemplate\n",
    "\n",
    "template = '''Перепиши этот текcт в заданном стиле: {input_text}\n",
    "Стиль: {style}.\n",
    "Результат:'''\n",
    "\n",
    "prompt = PromptTemplate(input_variables=['input_text', 'style'], template=template)\n",
    "\n",
    "style_changer_chain = prompt | llm # И ВСЁ первая цепочка готова!"
   ]
  },
  {
   "cell_type": "code",
   "execution_count": 11,
   "id": "58420559-2a0a-45ca-b685-d286decc51e6",
   "metadata": {
    "tags": []
   },
   "outputs": [
    {
     "name": "stdout",
     "output_type": "stream",
     "text": [
      "content='Древствующие вас на курсе по преобразованию языковых моделей! Тут вас ожидает наставление по усовершенствованию моделей и раскрытию их потенциала в полной мере. Мы предоставим вам руководства о последних методах обучения и настройки языковых моделей, а также обучим вас практическим умениям для решения труднейших задач в обработке речи.' additional_kwargs={'refusal': None} response_metadata={'token_usage': {'completion_tokens': 147, 'prompt_tokens': 185, 'total_tokens': 332, 'completion_tokens_details': {'accepted_prediction_tokens': 0, 'audio_tokens': 0, 'reasoning_tokens': 0, 'rejected_prediction_tokens': 0}, 'prompt_tokens_details': {'audio_tokens': 0, 'cached_tokens': 0}}, 'model_name': 'gpt-3.5-turbo-0125', 'system_fingerprint': None, 'id': 'chatcmpl-Bgfqghyu4cvY1m4XKOZiP7gJOPiDU', 'service_tier': 'default', 'finish_reason': 'stop', 'logprobs': None} id='run--ba476a2b-a194-4ac4-a945-65ed44b85676-0' usage_metadata={'input_tokens': 185, 'output_tokens': 147, 'total_tokens': 332, 'input_token_details': {'audio': 0, 'cache_read': 0}, 'output_token_details': {'audio': 0, 'reasoning': 0}}\n"
     ]
    }
   ],
   "source": [
    "text = '''Приветствуем на курсе по тюнингу языковых моделей! \n",
    "Тут мы учим, как сделать модельки еще круче и раскрыть их потенциал до максимума. \n",
    "Мы дадим вам советы по самым свежим методам обучения и настройки языковых моделей, \n",
    "а также научим практическим навыкам для решения сложных задач в обработке естественного языка.'''\n",
    "style = 'Роман 18 века'\n",
    "\n",
    "answer = style_changer_chain.invoke({'input_text': text, 'style': style})\n",
    "print(answer)"
   ]
  },
  {
   "cell_type": "code",
   "execution_count": 13,
   "id": "d650dcf7-dc77-40e6-971a-8a969258bbac",
   "metadata": {
    "tags": []
   },
   "outputs": [
    {
     "data": {
      "text/plain": [
       "'Древствующие вас на курсе по преобразованию языковых моделей! Тут вас ожидает наставление по усовершенствованию моделей и раскрытию их потенциала в полной мере. Мы предоставим вам руководства о последних методах обучения и настройки языковых моделей, а также обучим вас практическим умениям для решения труднейших задач в обработке речи.'"
      ]
     },
     "execution_count": 13,
     "metadata": {},
     "output_type": "execute_result"
    }
   ],
   "source": [
    "answer.content"
   ]
  },
  {
   "cell_type": "markdown",
   "id": "68efd608-9262-45b0-9b2c-5e53342a3597",
   "metadata": {},
   "source": [
    "## 📖 Стандартный интерфейс всех `Runnables` имеет 3 метода:\n",
    "\n",
    "<div class=\"alert alert-info\" style=\"padding:10px; border-width:3px; border-color:#efe6ef; border-style:solid; border-radius:6px\">\n",
    " \n",
    " * `invoke` - обрабатывает одиночный запрос к модели\n",
    " * `batch` - обрабатывает список запросов к модели\n",
    " * `stream` - позволяет получать ответ модели в формате стриминга (можно увидеть,как модель генерирует ответ токен за токеном). Возвращает ответ модели в виде итерируемого объекта\n",
    "\n",
    "Так же есть асинхронные реализации методов: `ainvoke`, `abatch`, `astream`. Для многопоточной работы."
   ]
  },
  {
   "cell_type": "code",
   "execution_count": 17,
   "id": "c2c81966-bef3-4d5a-9acc-1c033476e922",
   "metadata": {
    "tags": []
   },
   "outputs": [
    {
     "data": {
      "text/plain": [
       "[AIMessage(content='Благословенствуйте, благородные слушатели на курсе мастерства в усовершенствовании языковых моделей! \\nЗдесь мы преподаём умению достичь высшей совершенства моделей и раскрыть их бескрайний потенциал. \\nМы предоставим вам советы, основанные на самых новейших методах обучения и настройки языковых моделей, \\nи научим вас практическим умениям для решения сложнейших задач в деле обработки естественного языка.', additional_kwargs={'refusal': None}, response_metadata={'token_usage': {'completion_tokens': 188, 'prompt_tokens': 185, 'total_tokens': 373, 'completion_tokens_details': {'accepted_prediction_tokens': 0, 'audio_tokens': 0, 'reasoning_tokens': 0, 'rejected_prediction_tokens': 0}, 'prompt_tokens_details': {'audio_tokens': 0, 'cached_tokens': 0}}, 'model_name': 'gpt-3.5-turbo-0125', 'system_fingerprint': None, 'id': 'chatcmpl-BgfszBYX4hm8YZjY022ItQNEh50Bc', 'service_tier': 'default', 'finish_reason': 'stop', 'logprobs': None}, id='run--875e98f3-14ea-4bea-a4c2-6a3bbde33737-0', usage_metadata={'input_tokens': 185, 'output_tokens': 188, 'total_tokens': 373, 'input_token_details': {'audio': 0, 'cache_read': 0}, 'output_token_details': {'audio': 0, 'reasoning': 0}}),\n",
       " AIMessage(content='Добро пожаловать в мир тюнинга моделей языка!\\nЗдесь тайны языков раскрываются,\\nМы научим вас современным методам обучения,\\nЧтобы модели были еще более мудры.\\nПокажем практические навыки,\\nДля решения самых сложных задач,\\nВ мире обработки естественного языка,\\nГде уверенность и знания - ваш оплот.', additional_kwargs={'refusal': None}, response_metadata={'token_usage': {'completion_tokens': 143, 'prompt_tokens': 180, 'total_tokens': 323, 'completion_tokens_details': {'accepted_prediction_tokens': 0, 'audio_tokens': 0, 'reasoning_tokens': 0, 'rejected_prediction_tokens': 0}, 'prompt_tokens_details': {'audio_tokens': 0, 'cached_tokens': 0}}, 'model_name': 'gpt-3.5-turbo-0125', 'system_fingerprint': None, 'id': 'chatcmpl-Bgfsz7v3XdKsKoV6SN7Ad0pnjICLT', 'service_tier': 'default', 'finish_reason': 'stop', 'logprobs': None}, id='run--f255d0b2-401f-4619-a2c2-e0adcac58075-0', usage_metadata={'input_tokens': 180, 'output_tokens': 143, 'total_tokens': 323, 'input_token_details': {'audio': 0, 'cache_read': 0}, 'output_token_details': {'audio': 0, 'reasoning': 0}})]"
      ]
     },
     "execution_count": 17,
     "metadata": {},
     "output_type": "execute_result"
    }
   ],
   "source": [
    "style_changer_chain.batch([{'input_text': text, 'style': style},\n",
    "                           {'input_text': text, 'style': 'поэма'}])"
   ]
  },
  {
   "cell_type": "code",
   "execution_count": 18,
   "id": "7c4928d8-b1fd-4b7f-bd0f-2732260ae6f6",
   "metadata": {
    "tags": []
   },
   "outputs": [
    {
     "data": {
      "text/plain": [
       "<generator object RunnableSequence.stream at 0x7f44e57804a0>"
      ]
     },
     "execution_count": 18,
     "metadata": {},
     "output_type": "execute_result"
    }
   ],
   "source": [
    "# метод stream возвращает генератор\n",
    "style_changer_chain.stream({'input_text': text, 'style': 'поэма'})"
   ]
  },
  {
   "cell_type": "code",
   "execution_count": 19,
   "id": "ca10d3c5-a54c-4845-b671-37b783985694",
   "metadata": {
    "scrolled": true,
    "tags": []
   },
   "outputs": [
    {
     "name": "stdout",
     "output_type": "stream",
     "text": [
      "\n",
      "Д\n",
      "а\n",
      " в\n",
      "от\n",
      " и\n",
      " на\n",
      "ст\n",
      "ал\n",
      " д\n",
      "ол\n",
      "г\n",
      "ож\n",
      "д\n",
      "анны\n",
      "й\n",
      " м\n",
      "ом\n",
      "ент\n",
      ",\n",
      "\n",
      "К\n",
      "ог\n",
      "да\n",
      " пред\n",
      "став\n",
      "ляем\n",
      " в\n",
      "ас\n",
      " сам\n",
      "им\n",
      " с\n",
      "еб\n",
      "е\n",
      ",\n",
      "\n",
      "К\n",
      "урс\n",
      " т\n",
      "ю\n",
      "н\n",
      "ин\n",
      "г\n",
      "а\n",
      " я\n",
      "з\n",
      "ы\n",
      "ков\n",
      "ых\n",
      " мод\n",
      "ел\n",
      "ей\n",
      " –\n",
      "\n",
      "\n",
      "И\n",
      "с\n",
      "ку\n",
      "с\n",
      "ств\n",
      "о\n",
      " рас\n",
      "к\n",
      "р\n",
      "ыв\n",
      "ать\n",
      " и\n",
      "х\n",
      " пот\n",
      "ен\n",
      "ци\n",
      "ал\n",
      " до\n",
      " пред\n",
      "ел\n",
      "а\n",
      "!\n",
      "\n",
      "\n",
      "С\n",
      "ов\n",
      "ет\n",
      "ы\n",
      " св\n",
      "еж\n",
      "ие\n",
      " мы\n",
      " в\n",
      "ам\n",
      " д\n",
      "ад\n",
      "им\n",
      ",\n",
      "\n",
      "М\n",
      "етод\n",
      "ы\n",
      " об\n",
      "уч\n",
      "ения\n",
      " –\n",
      " нов\n",
      "ей\n",
      "ши\n",
      "е\n",
      " найд\n",
      "ем\n",
      ".\n",
      "\n",
      "На\n",
      "строй\n",
      "к\n",
      "ой\n",
      " мод\n",
      "ел\n",
      "ей\n",
      " з\n",
      "ай\n",
      "м\n",
      "ем\n",
      "ся\n",
      " в\n",
      "м\n",
      "ест\n",
      "е\n",
      ",\n",
      "\n",
      "И\n",
      " п\n",
      "рак\n",
      "ти\n",
      "ч\n",
      "ес\n",
      "ки\n",
      "е\n",
      " н\n",
      "ав\n",
      "ы\n",
      "ки\n",
      " в\n",
      "ам\n",
      " в\n",
      "ру\n",
      "ч\n",
      "им\n",
      " –\n",
      " не\n",
      " в\n",
      "ест\n",
      "е\n",
      "!\n",
      "\n",
      "\n",
      "С\n",
      "лож\n",
      "ные\n",
      " зад\n",
      "ач\n",
      "и\n",
      " в\n",
      " об\n",
      "работ\n",
      "ке\n",
      " я\n",
      "з\n",
      "ы\n",
      "ка\n",
      "\n",
      "\n",
      "Р\n",
      "аз\n",
      "г\n",
      "ад\n",
      "аем\n",
      " в\n",
      "м\n",
      "ест\n",
      "е\n",
      " с\n",
      " в\n",
      "ами\n",
      ",\n",
      " н\n",
      "ав\n",
      "ы\n",
      "к\n",
      "ами\n",
      " с\n",
      "иль\n",
      "ны\n",
      "ми\n",
      ".\n",
      "\n",
      "П\n",
      "у\n",
      "сть\n",
      " слов\n",
      "но\n",
      " по\n",
      "э\n",
      "ма\n",
      ",\n",
      " к\n",
      " на\n",
      "ш\n",
      "ем\n",
      "у\n",
      " к\n",
      "урс\n",
      "у\n",
      " ст\n",
      "уп\n",
      "ите\n",
      " –\n",
      "\n",
      "\n",
      "И\n",
      " я\n",
      "з\n",
      "ы\n",
      "ков\n",
      "ые\n",
      " мод\n",
      "ели\n",
      " д\n",
      "ов\n",
      "ед\n",
      "ет\n",
      "е\n",
      " до\n",
      " к\n",
      "ру\n",
      "т\n",
      "ого\n",
      " п\n",
      "ика\n",
      "!\n"
     ]
    }
   ],
   "source": [
    "# Так можно просмотреть генерацию ответа токен за токеном - подходит для чат-ботов.\n",
    "for s in style_changer_chain.stream({'input_text': text, 'style': 'поэма'}):\n",
    "    print(s.content)"
   ]
  },
  {
   "cell_type": "markdown",
   "id": "d5b867fd-9335-4834-916c-0dbe282d8c21",
   "metadata": {},
   "source": [
    "<div class=\"alert alert-info\" style=\"padding:10px; border-width:3px; border-color:#efe6ef; border-style:solid; border-radius:6px\">\n",
    "\n",
    "**Добавим ещё звено:** Чтобы получать ответ от модели в виде строки, готовой для дальнейшего использования просто импортируем ещё один `Runnable` из `LangChain` - `StrOutputParser` и добавляем его в конец цепочки.\n"
   ]
  },
  {
   "cell_type": "code",
   "execution_count": 22,
   "id": "38cf10f0-ad66-4ee4-8891-f5bba634e899",
   "metadata": {
    "tags": []
   },
   "outputs": [
    {
     "name": "stdout",
     "output_type": "stream",
     "text": [
      "Добро пожаловать на наш курс по усовершенствованию языковых моделей! Здесь мы учим, как сделать модели еще более совершенными и раскрыть их потенциал до предела. Мы предоставим вам сведения о самых актуальных методах обучения и настройки языковых моделей, а также научим вас практическим навыкам для решения сложнейших задач в обработке естественного языка.\n"
     ]
    }
   ],
   "source": [
    "# Просто импортируем парсер и добавляем его, как ещё 1 звено цепочки\n",
    "from langchain.schema.output_parser import StrOutputParser\n",
    "\n",
    "chain_with_parser = prompt | llm | StrOutputParser() # И ВСЁ!\n",
    "\n",
    "print(chain_with_parser.invoke({'input_text': text, 'style': style}))"
   ]
  },
  {
   "cell_type": "markdown",
   "id": "8a8e17b1-e1ee-4188-a4c3-2457b521aa3e",
   "metadata": {},
   "source": [
    "<div class=\"alert alert-success\" style=\"background-color:#e6ffe6; padding:13px; border-width:3px; border-color:#efe6ef; border-style:solid; border-radius:6px\">\n",
    "    \n",
    "Получили ответ от LLM, очищенный от доп. информации!"
   ]
  },
  {
   "cell_type": "markdown",
   "id": "c1d7ab73-65df-48d7-94c5-84218434d8cf",
   "metadata": {},
   "source": [
    "## <center id=\"p4\"> 🤖 `TransformChain`"
   ]
  },
  {
   "cell_type": "markdown",
   "id": "e85db1fc-45ef-4cc8-a9d3-d8ed4d2e1c17",
   "metadata": {},
   "source": [
    "<div class=\"alert alert-info\" style=\"padding:10px; border-width:3px; border-color:#efe6ef; border-style:solid; border-radius:6px\">\n",
    "\n",
    "В качестве звеньев цепи могут выступать не только `Runnables`, но, например, и Python функции. "
   ]
  },
  {
   "cell_type": "markdown",
   "id": "b7a292c3-52c5-4c5b-a041-96c6df9386aa",
   "metadata": {},
   "source": [
    "Давайте представим, что мы получаем откуда-то сырой необработанный текст, который содержит пустые строки и много ненужных пробелов. Как вы помните, нам приходится считать количество израсходованных токенов, и не хочется их дополнительно тратить на ненужные лишние символы. К тому же такой текст выглядит неопрятно. "
   ]
  },
  {
   "cell_type": "markdown",
   "id": "2c5a47f8-3e7e-40d9-8645-5eabc5d4e42e",
   "metadata": {},
   "source": [
    "<div class=\"alert alert-info\" style=\"padding:10px; border-width:3px; border-color:#efe6ef; border-style:solid; border-radius:6px\">\n",
    "    \n",
    "Cоздадим цепочку, которая будет очищать поданный в неё текст от ненужных символов. Цепочки такого типа называют `Transform Chain`."
   ]
  },
  {
   "cell_type": "markdown",
   "id": "76211781-4649-4265-92d7-d22c14254e80",
   "metadata": {},
   "source": [
    "Для начала создадим функцию, которая будет убирать лишние пробелы и строки в исходном тексте."
   ]
  },
  {
   "cell_type": "code",
   "execution_count": 23,
   "id": "f1a569d9-6325-4420-aba6-cfaefba7c920",
   "metadata": {
    "tags": []
   },
   "outputs": [],
   "source": [
    "import re\n",
    "\n",
    "def del_spaces(inputs: dict) -> dict:\n",
    "    text = inputs[\"input_text\"]\n",
    "    style = inputs[\"style\"]\n",
    "    \n",
    "    # заменяем пустые строки и дополнительные пробелы на один, используя регулярные выражения\n",
    "    text = re.sub(r'(\\r\\n|\\r|\\n){2,}', r'\\n', text)\n",
    "    text = re.sub(r'[ \\t]+', ' ', text)\n",
    "\n",
    "    return {\"input_text\": text, 'style': style}"
   ]
  },
  {
   "cell_type": "code",
   "execution_count": 24,
   "id": "9086596d-5ba4-4615-aa6d-dc19560bfb33",
   "metadata": {
    "tags": []
   },
   "outputs": [],
   "source": [
    "# Возьмём наш предыдущий текст и \"загрязним его\"\n",
    "dirty_text = '''Приветствуем на курсе по        тюнингу языковых        моделей! \n",
    "\n",
    "Тут мы учим, как сделать модельки еще круче и раскрыть     их потенциал до максимума. \n",
    "Мы дадим вам советы по   самым свежим методам  обучения и настройки языковых                    моделей,\n",
    "\n",
    "а также научим практическим навыкам для        решения сложных задач в обработке естественного языка.'''"
   ]
  },
  {
   "cell_type": "code",
   "execution_count": 25,
   "id": "3503eb2b-8654-4aca-87ca-0235e30ec46f",
   "metadata": {},
   "outputs": [
    {
     "name": "stdout",
     "output_type": "stream",
     "text": [
      "Приветствуем на курсе по тюнингу языковых моделей! \n",
      "Тут мы учим, как сделать модельки еще круче и раскрыть их потенциал до максимума. \n",
      "Мы дадим вам советы по самым свежим методам обучения и настройки языковых моделей,\n",
      "а также научим практическим навыкам для решения сложных задач в обработке естественного языка.\n"
     ]
    }
   ],
   "source": [
    "# Посмотрим на работу функции\n",
    "print(del_spaces({'input_text': dirty_text, 'style': 'Рэп'})['input_text'])"
   ]
  },
  {
   "cell_type": "markdown",
   "id": "dde28203-dd64-4c5e-b6d4-200710581bf8",
   "metadata": {},
   "source": [
    "<div style=\"background-color:#e6ffe6; padding:13px; border-width:3px; border-color:#efe6ef; border-style:solid; border-radius:6px\">\n",
    "✅ Функция справляется со своей работой, и возвращает словарь в нужном формате!"
   ]
  },
  {
   "cell_type": "markdown",
   "id": "eb101385-cb90-4792-a3e5-5dc6cad041c6",
   "metadata": {},
   "source": [
    "<div class=\"alert alert-info\" style=\"padding:10px; border-width:3px; border-color:#efe6ef; border-style:solid; border-radius:6px\">\n",
    "Теперь создадим цепочку, которая сначала будет чистить поданный в неё текст, а затем менять его стилистику."
   ]
  },
  {
   "cell_type": "code",
   "execution_count": 26,
   "id": "c3303bd6-7239-405b-ae54-20e432053eef",
   "metadata": {
    "tags": []
   },
   "outputs": [
    {
     "name": "stdout",
     "output_type": "stream",
     "text": [
      "Yo, welcome to the language models tuning course!\n",
      "Here we teach you how to make those models even tighter and unleash their full potential.\n",
      "We'll give you advice on the freshest training and tuning methods,\n",
      "and teach you practical skills to tackle tough tasks in natural language processing.\n"
     ]
    }
   ],
   "source": [
    "seq_chain = del_spaces | prompt | llm |  StrOutputParser() # Готово!!!\n",
    "\n",
    "print(seq_chain.invoke({'input_text': dirty_text, 'style': 'Рэп'}))"
   ]
  },
  {
   "cell_type": "markdown",
   "id": "5161ba19-6bb4-48b0-bf6d-db7f486216ae",
   "metadata": {},
   "source": [
    "<div style=\"background-color:#e6ffe6; padding:13px; border-width:3px; border-color:#efe6ef; border-style:solid; border-radius:6px\">\n",
    "✅ Получили ответ!"
   ]
  },
  {
   "cell_type": "markdown",
   "id": "e4e4c448-b008-4209-a0a8-558860df5f61",
   "metadata": {},
   "source": [
    "## <center id=\"p5\"> 🔗➕⛓ Вложенные цепочки"
   ]
  },
  {
   "cell_type": "markdown",
   "id": "7c714f3b-1694-46d8-a62b-4f9984b3f701",
   "metadata": {},
   "source": [
    "<div class=\"alert alert-info\" style=\"padding:10px; border-width:3px; border-color:#efe6ef; border-style:solid; border-radius:6px\">\n",
    "Рассмотрим пример с вложенными цепочками, когда необходимо одну цепочку использовать внутри другой."
   ]
  },
  {
   "cell_type": "code",
   "execution_count": 28,
   "id": "67908a31-23b4-4204-8538-64bdcd18ecb6",
   "metadata": {
    "tags": []
   },
   "outputs": [
    {
     "name": "stdout",
     "output_type": "stream",
     "text": [
      "El ciudad de Cristóbal Colón, marino e explorador italiano, nació en Génova en 1451, se encuentra en España.\n"
     ]
    }
   ],
   "source": [
    "from operator import itemgetter\n",
    "from langchain.prompts import ChatPromptTemplate\n",
    "\n",
    "\n",
    "prompt1 = ChatPromptTemplate.from_template(\"В каком городе родился {person}?\")\n",
    "prompt2 = ChatPromptTemplate.from_template(\"В какой стране находится город {city}? Ответь на {language} языке.\")\n",
    "\n",
    "chain1 = prompt1 | llm | StrOutputParser()\n",
    "\n",
    "# Ключ 'city' получаем из chain1, а ключ 'language' достаём из запроса с помощью itemgetter\n",
    "chain2 = (\n",
    "    {\"city\": chain1, \"language\": itemgetter(\"language\")}\n",
    "    | prompt2\n",
    "    | llm\n",
    "    | StrOutputParser()\n",
    ")\n",
    "\n",
    "result = chain2.invoke({\"person\": \"Колумб\", \"language\": \"испанском\"})\n",
    "print(result)"
   ]
  },
  {
   "cell_type": "markdown",
   "id": "1ce3667e-3767-4029-9e98-397719ead4df",
   "metadata": {
    "tags": []
   },
   "source": [
    "## <center id=\"p6\"> 🈯️ ➡️ 🇯🇵 Router Chain - определитель тем \n",
    "\n",
    "<div class=\"alert alert-info\" style=\"padding:10px; border-width:3px; border-color:#efe6ef; border-style:solid; border-radius:6px\">\n",
    "    \n",
    "<img src='../images/rout_chain.jpeg' align=\"right\" width=\"600\" height=\"600\"  style=\"border-radius: 0.75rem;\">   \n",
    "    \n",
    "📖  Если у вас есть две цепочки с LLM хорошо натренированными под разные задачи, одна хорошо разбирается в цветах, а другая в футболе. То, когда вы зададите вопрос, `Router Chain` может определить тему и отправить запрос в соответствующую цепочку. <br>"
   ]
  },
  {
   "cell_type": "markdown",
   "id": "714f6777-0d6d-4ff7-94de-28aa6b3b2e5a",
   "metadata": {
    "tags": []
   },
   "source": [
    "Рассмотрим на примере:"
   ]
  },
  {
   "cell_type": "code",
   "execution_count": 29,
   "id": "b233e117-16ff-4336-bd24-a8cdda3bd507",
   "metadata": {
    "tags": []
   },
   "outputs": [],
   "source": [
    "from typing import Literal\n",
    "from langchain.schema.runnable import RunnableBranch, RunnablePassthrough\n",
    "from langchain.output_parsers.openai_functions import PydanticAttrOutputFunctionsParser\n",
    "from pydantic import BaseModel\n",
    "from langchain_core.utils.function_calling import convert_to_openai_function"
   ]
  },
  {
   "cell_type": "markdown",
   "id": "5d0bcf48-1a51-4302-ab2f-355c12d1986a",
   "metadata": {},
   "source": [
    "<div class=\"alert alert-info\" style=\"padding:10px; border-width:3px; border-color:#efe6ef; border-style:solid; border-radius:6px\">\n",
    "    \n",
    "🫤 Так как у нас нет 2-х разных предобученых моделей под конкретную задачу, попросим ChatGPT отвечать нам, как-будто она специалист в 2 различных областях, с помощью промптов. "
   ]
  },
  {
   "cell_type": "code",
   "execution_count": 30,
   "id": "b5e61868-f148-4fe3-9e22-bfe494ca905b",
   "metadata": {
    "tags": []
   },
   "outputs": [],
   "source": [
    "botanist_template = \"\"\"Ты очень опытный флорист и ботаник, знаешь всё о цветах, растениях.\n",
    "Тебе нравится отвечать на вопросы о том, как выбирать и ухаживать за растениями. \n",
    "Ты отвечаешь так, что всё становится ясно даже начинающему цветоводу. \n",
    "Вот вопрос:\n",
    "{input}\"\"\"\n",
    "\n",
    "football_template = \"\"\"Ты спортивный журналист с большим опытом, твоя основная специализация футбол.\n",
    "Ты знаешь всё о футбольных командах и игроках, и очень любишь отвечать на вопросы о футболе, но кратко и по делу.\n",
    "Вот вопрос:\n",
    "{input}\"\"\""
   ]
  },
  {
   "cell_type": "code",
   "execution_count": 31,
   "id": "8c71a44b-7b08-4eaf-ad9f-0e3c2c4a9b56",
   "metadata": {
    "tags": []
   },
   "outputs": [],
   "source": [
    "# Создаём промпты\n",
    "botanist_prompt = PromptTemplate.from_template(botanist_template)\n",
    "football_prompt = PromptTemplate.from_template(football_template)\n",
    "\n",
    "# Создаём ветки\n",
    "prompt_branch = RunnableBranch(\n",
    "    (lambda x: x[\"topic\"] == \"botany\", botanist_prompt),\n",
    "    (lambda x: x[\"topic\"] == \"football\", football_prompt),\n",
    "    PromptTemplate.from_template(\"Answer the question: {input}\"),\n",
    ")"
   ]
  },
  {
   "cell_type": "code",
   "execution_count": 32,
   "id": "14ba5f64-66d1-4c52-82d5-fad05199c24c",
   "metadata": {
    "tags": []
   },
   "outputs": [],
   "source": [
    "class TopicClassifier(BaseModel):\n",
    "    \"Classify the topic of the user question\"\n",
    "\n",
    "    topic: Literal[\"botany\", \"football\", \"general\"]\n",
    "    \"The topic of the user question. One of 'botany', 'football' or 'general'.\"\n",
    "\n",
    "\n",
    "classifier_function = convert_to_openai_function(TopicClassifier)\n",
    "\n",
    "model = ChatOpenAI(api_key=course_api_key, base_url=\"https://api.neuraldeep.tech/\").bind(\n",
    "    functions=[classifier_function],\n",
    "    function_call={\"name\": \"TopicClassifier\"}\n",
    ")\n",
    "parser = PydanticAttrOutputFunctionsParser(pydantic_schema=TopicClassifier, attr_name=\"topic\")\n",
    "\n",
    "classifier_chain = model | parser"
   ]
  },
  {
   "cell_type": "code",
   "execution_count": 33,
   "id": "35395e14-027d-4356-b114-305a49e9f0c1",
   "metadata": {
    "tags": []
   },
   "outputs": [
    {
     "data": {
      "text/plain": [
       "'football'"
      ]
     },
     "execution_count": 33,
     "metadata": {},
     "output_type": "execute_result"
    }
   ],
   "source": [
    "# Посмотрим как работает цепочка-классификатор тем\n",
    "classifier_chain.invoke(\"Какие цвета у Барселоны?\")"
   ]
  },
  {
   "cell_type": "code",
   "execution_count": 34,
   "id": "ffdf97ef-4fba-4d54-84e8-1f1f834c3dbe",
   "metadata": {},
   "outputs": [
    {
     "data": {
      "text/plain": [
       "'botany'"
      ]
     },
     "execution_count": 34,
     "metadata": {},
     "output_type": "execute_result"
    }
   ],
   "source": [
    "classifier_chain.invoke(\"Сколько раз в неделю поливать кактус?\")"
   ]
  },
  {
   "cell_type": "code",
   "execution_count": 35,
   "id": "e4ff6721-6d31-49c8-9209-ef5d9eaa060c",
   "metadata": {},
   "outputs": [
    {
     "data": {
      "text/plain": [
       "'general'"
      ]
     },
     "execution_count": 35,
     "metadata": {},
     "output_type": "execute_result"
    }
   ],
   "source": [
    "classifier_chain.invoke(\"Столица Хорватии?\")"
   ]
  },
  {
   "cell_type": "code",
   "execution_count": 36,
   "id": "1cde8fd6-5bcf-42e1-9558-5edcc249d111",
   "metadata": {
    "tags": []
   },
   "outputs": [],
   "source": [
    "# Собираем цепочку-роутер\n",
    "router_chain = (\n",
    "    RunnablePassthrough.assign(topic=itemgetter(\"input\") | classifier_chain)\n",
    "    | prompt_branch | llm | StrOutputParser()\n",
    ")"
   ]
  },
  {
   "cell_type": "markdown",
   "id": "6a676959-7646-4daa-93a0-4878eaf53075",
   "metadata": {},
   "source": [
    "<div class=\"alert alert-warning\" style=\"padding:10px; border-width:3px; border-color:#efe6ef; border-style:solid; border-radius:6px\">\n",
    "    \n",
    "А чтобы понять, как работает код выше или разобраться в других непонятных местах посмотрите отдельное [видео](https://stepik.org/lesson/1110883/step/6?unit=1122265).  Дадим [намёк](https://chat.langchain.com)."
   ]
  },
  {
   "cell_type": "code",
   "execution_count": 2,
   "id": "6caadb0a",
   "metadata": {
    "tags": []
   },
   "outputs": [
    {
     "name": "stdout",
     "output_type": "stream",
     "text": [
      "Цвета Барселоны: синий и гранатовый\n"
     ]
    }
   ],
   "source": [
    "router_chain.invoke({'input': \"Какие цвета у Барселоны?\"})"
   ]
  },
  {
   "cell_type": "code",
   "execution_count": 38,
   "id": "ee8148af-631d-4d0b-a859-fb3035a3d411",
   "metadata": {
    "tags": []
   },
   "outputs": [
    {
     "data": {
      "text/plain": [
       "'Обычно кактусу достаточно поливать раз в неделю в летний период и раз в две недели в зимний период. Однако это может зависеть от вида кактуса, его размера, условий выращивания и климата. Важно помнить, что переувлажнение кактусов может привести к гниению корней, поэтому лучше перебдеть и недополить, чем перелить растение. Всегда рекомендуется проверять влажность почвы перед поливом, чтобы найти оптимальный режим для конкретного экземпляра.'"
      ]
     },
     "execution_count": 38,
     "metadata": {},
     "output_type": "execute_result"
    }
   ],
   "source": [
    "router_chain.invoke({'input':\"Сколько раз в неделю поливать кактус?\"})"
   ]
  },
  {
   "cell_type": "code",
   "execution_count": 39,
   "id": "18354604-8a77-4b8c-b180-0743085e49fa",
   "metadata": {
    "tags": []
   },
   "outputs": [
    {
     "data": {
      "text/plain": [
       "'Столица Хорватии - город Загреб.'"
      ]
     },
     "execution_count": 39,
     "metadata": {},
     "output_type": "execute_result"
    }
   ],
   "source": [
    "router_chain.invoke({'input':\"Столица Хорватии?\"})"
   ]
  },
  {
   "cell_type": "markdown",
   "id": "d81c68a9-1a7b-4491-99cd-da6285d539cb",
   "metadata": {},
   "source": [
    "<div style=\"background-color:#e6ffe6; padding:13px; border-width:3px; border-color:#efe6ef; border-style:solid; border-radius:6px\"> \n",
    "✅ Получаем отличный результат!"
   ]
  },
  {
   "cell_type": "markdown",
   "id": "c1979793-8fd8-4ce7-8fdc-9dc7dd0a35cf",
   "metadata": {},
   "source": [
    "# <center id=\"p8\"> 🧸 Выводы и заключения ✅ <br>\n",
    "\n",
    "<div style=\"background-color:#e6ffe6; padding:13px; border-width:3px; border-color:#efe6ef; border-style:solid; border-radius:6px\">\n",
    "    \n",
    "* Во всех, приведенных выше, примерах мы могли обойтись каким-либо промптом.\n",
    "* т.е. по сути можно было бы обходиться без цепочек, проектируя новый сложный промпт под каждую задачу. \n",
    "* С помощью цепочек `LangChain` это делать гораздо проще и удобнее. Особенно, если мы говорим про крупные сервисы. \n",
    "* Т.е. цепочки позволяют нам больше сосредоточиться на продумывании логики и функционала сервиса, а не на дизайне промптов."
   ]
  },
  {
   "cell_type": "code",
   "execution_count": null,
   "id": "4d0ca9e5-fb21-4837-bf3c-e8c2c0a94c45",
   "metadata": {},
   "outputs": [],
   "source": []
  }
 ],
 "metadata": {
  "kernelspec": {
   "display_name": "cv",
   "language": "python",
   "name": "python3"
  },
  "language_info": {
   "codemirror_mode": {
    "name": "ipython",
    "version": 3
   },
   "file_extension": ".py",
   "mimetype": "text/x-python",
   "name": "python",
   "nbconvert_exporter": "python",
   "pygments_lexer": "ipython3",
   "version": "3.10.12"
  }
 },
 "nbformat": 4,
 "nbformat_minor": 5
}
